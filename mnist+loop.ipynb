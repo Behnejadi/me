{
  "nbformat": 4,
  "nbformat_minor": 0,
  "metadata": {
    "colab": {
      "name": "mnist+loop.ipynb",
      "provenance": [],
      "collapsed_sections": []
    },
    "kernelspec": {
      "name": "python3",
      "display_name": "Python 3"
    }
  },
  "cells": [
    {
      "cell_type": "code",
      "metadata": {
        "id": "2JjXvOgHVbce"
      },
      "source": [
        "import numpy as np\r\n",
        "import tensorflow as tf\r\n",
        "from tensorflow import keras\r\n",
        "from keras.datasets import mnist,cifar10\r\n",
        "from tensorflow.keras import regularizers\r\n",
        "from tensorflow.keras.layers import Dense, Activation ,AveragePooling2D,GlobalAveragePooling2D\r\n",
        "from tensorflow.keras.optimizers import Adam,SGD\r\n",
        "from tensorflow.keras.metrics import categorical_crossentropy\r\n",
        "from tensorflow.keras.preprocessing.image import ImageDataGenerator\r\n",
        "from tensorflow.keras.preprocessing import image\r\n",
        "from tensorflow.keras.models import Model\r\n",
        "from tensorflow.keras.applications import imagenet_utils\r\n",
        "import matplotlib.pyplot as plt\r\n",
        "%matplotlib inline\r\n",
        "import sklearn\r\n",
        "import pandas as pd\r\n",
        "from sklearn.metrics import roc_auc_score, roc_curve, auc,precision_score, recall_score,f1_score,accuracy_score\r\n",
        "from sklearn.model_selection import StratifiedKFold\r\n",
        "from scipy import interp\r\n",
        "import matplotlib.pyplot as plt\r\n",
        "from skimage import transform\r\n",
        "import scipy.ndimage\r\n",
        "import matplotlib.pyplot as plt\r\n",
        "\r\n",
        "from keras.layers import Lambda, Input\r\n",
        "from keras.models import Model, Sequential\r\n",
        "import tensorflow as ktf"
      ],
      "execution_count": 19,
      "outputs": []
    },
    {
      "cell_type": "code",
      "metadata": {
        "id": "98exjOx71HKk",
        "colab": {
          "base_uri": "https://localhost:8080/"
        },
        "outputId": "e389d036-9dda-4d51-9ee0-7bc8738304dd"
      },
      "source": [
        "# Prepare the training dataset.\r\n",
        "batch_size = 64\r\n",
        "(x_train, y_train), (x_test, y_test) = keras.datasets.mnist.load_data()\r\n",
        "print(x_train.shape)\r\n",
        "print(x_test.shape)\r\n",
        "print(y_train.shape)\r\n",
        "print(y_test.shape)"
      ],
      "execution_count": 20,
      "outputs": [
        {
          "output_type": "stream",
          "text": [
            "(60000, 28, 28)\n",
            "(10000, 28, 28)\n",
            "(60000,)\n",
            "(10000,)\n"
          ],
          "name": "stdout"
        }
      ]
    },
    {
      "cell_type": "code",
      "metadata": {
        "colab": {
          "base_uri": "https://localhost:8080/"
        },
        "id": "NY_WhedRqnZL",
        "outputId": "40628296-7ac7-4c73-ecd2-ea47c81793cc"
      },
      "source": [
        "x_train = np.reshape(x_train, (-1, 784))\r\n",
        "x_test = np.reshape(x_test, (-1, 784))\r\n",
        "train_dataset = tf.data.Dataset.from_tensor_slices((x_train, y_train))\r\n",
        "train_dataset = train_dataset.shuffle(buffer_size=1024).batch(batch_size)\r\n",
        "\r\n",
        "print(x_train.shape)\r\n",
        "print(x_test.shape)\r\n",
        "print(y_train.shape)\r\n",
        "print(y_test.shape)"
      ],
      "execution_count": 21,
      "outputs": [
        {
          "output_type": "stream",
          "text": [
            "(60000, 784)\n",
            "(10000, 784)\n",
            "(60000,)\n",
            "(10000,)\n"
          ],
          "name": "stdout"
        }
      ]
    },
    {
      "cell_type": "code",
      "metadata": {
        "id": "QCCkyb-5VcC0"
      },
      "source": [
        "# Prepare the validation dataset.\r\n",
        "# Reserve 10,000 samples for validation.\r\n",
        "x_val = x_train[-10000:]\r\n",
        "y_val = y_train[-10000:]\r\n",
        "x_train = x_train[:-10000]\r\n",
        "y_train = y_train[:-10000]\r\n",
        "val_dataset = tf.data.Dataset.from_tensor_slices((x_val, y_val))\r\n",
        "val_dataset = val_dataset.batch(64)"
      ],
      "execution_count": 22,
      "outputs": []
    },
    {
      "cell_type": "code",
      "metadata": {
        "id": "NSaye4c2VVam"
      },
      "source": [
        "inputs = keras.Input(shape=(784,), name=\"digits\")\r\n",
        "x1 = keras.layers.Dense(64, activation=\"relu\")(inputs)\r\n",
        "x2 = keras.layers.Dense(64, activation=\"relu\")(x1)\r\n",
        "outputs = keras.layers.Dense(10, name=\"predictions\")(x2)\r\n",
        "model = keras.Model(inputs=inputs, outputs=outputs)"
      ],
      "execution_count": 23,
      "outputs": []
    },
    {
      "cell_type": "code",
      "metadata": {
        "id": "7EPD9OLGqnxQ"
      },
      "source": [
        "# Instantiate an optimizer.\r\n",
        "optimizer = keras.optimizers.SGD(learning_rate=1e-3)\r\n",
        "# Instantiate a loss function.\r\n",
        "loss_fn = keras.losses.SparseCategoricalCrossentropy(from_logits=True)"
      ],
      "execution_count": 24,
      "outputs": []
    },
    {
      "cell_type": "code",
      "metadata": {
        "id": "DnvN0PnmqnjA"
      },
      "source": [
        "# Prepare the metrics.\r\n",
        "train_acc_metric = keras.metrics.SparseCategoricalAccuracy()\r\n",
        "val_acc_metric = keras.metrics.SparseCategoricalAccuracy()"
      ],
      "execution_count": 25,
      "outputs": []
    },
    {
      "cell_type": "code",
      "metadata": {
        "id": "stl5mBN_Ae5B"
      },
      "source": [
        "#import datetime, os\r\n",
        "#logdir = os.path.join(\"logs\", datetime.datetime.now().strftime(\"%Y%m%d-%H%M%S\"))"
      ],
      "execution_count": 26,
      "outputs": []
    },
    {
      "cell_type": "code",
      "metadata": {
        "id": "-rCrmmpVQFKP"
      },
      "source": [
        "from keras.callbacks import TensorBoard\r\n",
        "callback = [TensorBoard(log_dir='./logs')]"
      ],
      "execution_count": 27,
      "outputs": []
    },
    {
      "cell_type": "code",
      "metadata": {
        "id": "Nx1_KSZJNrrb"
      },
      "source": [
        "def plothist():\r\n",
        "    \r\n",
        "    plt.subplot(1, 2, 1)\r\n",
        "    plt.plot(plot_acc_train)\r\n",
        "    plt.plot(plot_acc_val)\r\n",
        "    plt.title('model accuracy')\r\n",
        "    plt.ylabel('accuracy')\r\n",
        "    plt.xlabel('step')\r\n",
        "    plt.legend(['train', 'val'], loc='lower right')\r\n",
        "\r\n",
        "    plt.subplot(1, 2, 2)\r\n",
        "    plt.plot(plot_loss_train)\r\n",
        "    plt.plot(plot_loss_val)\r\n",
        "    plt.title('model loss')\r\n",
        "    plt.ylabel('loss')\r\n",
        "    plt.xlabel('step')\r\n",
        "    plt.legend(['train', 'val'], loc='upper right')\r\n",
        "\r\n",
        "    plt.show()"
      ],
      "execution_count": 28,
      "outputs": []
    },
    {
      "cell_type": "code",
      "metadata": {
        "id": "ND0V1xEPdDpd"
      },
      "source": [
        "class PlotLearning():\r\n",
        "    def on_train_begin(self, logs={}):\r\n",
        "        self.i = 0\r\n",
        "        self.x = []\r\n",
        "        self.losses = []\r\n",
        "        self.val_losses = []\r\n",
        "        self.acc = []\r\n",
        "        self.val_acc = []\r\n",
        "        self.fig = plt.figure()\r\n",
        "        \r\n",
        "        self.logs = []\r\n",
        "\r\n",
        "    def on_epoch_end(self, epoch, logs={}):\r\n",
        "        \r\n",
        "        self.logs.append(logs)\r\n",
        "        self.x.append(self.i)\r\n",
        "        self.losses.append(logs.get('plot_loss_train'))\r\n",
        "        self.val_losses.append(logs.get('plot_loss_val'))\r\n",
        "        self.acc.append(logs.get('plot_acc_train'))\r\n",
        "        self.val_acc.append(logs.get('plot_acc_val'))\r\n",
        "        self.i += 1\r\n",
        "        f, (ax1, ax2) = plt.subplots(1, 2, sharex=True)\r\n",
        "        \r\n",
        "        clear_output(wait=True)\r\n",
        "        \r\n",
        "        ax1.set_yscale('log')\r\n",
        "        ax1.plot(self.x, self.losses, label=\"loss\")\r\n",
        "        ax1.plot(self.x, self.val_losses, label=\"val_loss\")\r\n",
        "        ax1.legend()\r\n",
        "        \r\n",
        "        ax2.plot(self.x, self.acc, label=\"accuracy\")\r\n",
        "        ax2.plot(self.x, self.val_acc, label=\"validation accuracy\")\r\n",
        "        ax2.legend()\r\n",
        "        \r\n",
        "        plt.show()\r\n",
        "        \r\n",
        "plot = PlotLearning()"
      ],
      "execution_count": 34,
      "outputs": []
    },
    {
      "cell_type": "code",
      "metadata": {
        "colab": {
          "base_uri": "https://localhost:8080/",
          "height": 1000
        },
        "id": "ScaZcDd4Vb7v",
        "outputId": "082095dc-a28a-44ed-e1bb-88bf8dc0dd53"
      },
      "source": [
        "import time\r\n",
        "\r\n",
        "epochs = 2\r\n",
        "plot_loss_train=[]\r\n",
        "plot_acc_train=[]\r\n",
        "plot_loss_val=[]\r\n",
        "plot_acc_val=[]\r\n",
        "for epoch in range(epochs):\r\n",
        "    print(\"\\nStart of epoch %d\" % (epoch,))\r\n",
        "\r\n",
        "    # Iterate over the batches of the dataset.\r\n",
        "    for step, (x_batch_train, y_batch_train) in enumerate(train_dataset):\r\n",
        "\r\n",
        "        # Open a GradientTape to record the operations run\r\n",
        "        # during the forward pass, which enables auto-differentiation.\r\n",
        "        with tf.GradientTape() as tape:\r\n",
        "\r\n",
        "            # Run the forward pass of the layer.\r\n",
        "            # The operations that the layer applies\r\n",
        "            # to its inputs are going to be recorded\r\n",
        "            # on the GradientTape.\r\n",
        "            logits = model(x_batch_train, training=True)  # Logits for this minibatch\r\n",
        "\r\n",
        "            # Compute the loss value for this minibatch.\r\n",
        "            loss_value = loss_fn(y_batch_train, logits)\r\n",
        "\r\n",
        "        # Use the gradient tape to automatically retrieve\r\n",
        "        # the gradients of the trainable variables with respect to the loss.\r\n",
        "        grads = tape.gradient(loss_value, model.trainable_weights)\r\n",
        "\r\n",
        "        # Run one step of gradient descent by updating\r\n",
        "        # the value of the variables to minimize the loss.\r\n",
        "        optimizer.apply_gradients(zip(grads, model.trainable_weights))\r\n",
        "\r\n",
        "        # Update training metric.\r\n",
        "        train_acc_metric.update_state(y_batch_train, logits)\r\n",
        "\r\n",
        "        # Log every 200 batches.\r\n",
        "        if step % 200 == 0:\r\n",
        "            print(\r\n",
        "                \"Training loss (for one batch) at step %d: %.4f\"\r\n",
        "                % (step, float(loss_value))\r\n",
        "            )\r\n",
        "            print(\"Seen so far: %s samples\" % ((step + 1) * 64))\r\n",
        "            plot_loss_train+=[loss_value]\r\n",
        "\r\n",
        "\r\n",
        "\r\n",
        "    # Display metrics at the end of each epoch.\r\n",
        "    train_acc = train_acc_metric.result()\r\n",
        "    plot_acc_train+=[train_acc]\r\n",
        "    print(\"Training acc over epoch: %.4f\" % (float(train_acc),))\r\n",
        "    \r\n",
        "\r\n",
        "    # Reset training metrics at the end of each epoch\r\n",
        "    train_acc_metric.reset_states()\r\n",
        "\r\n",
        "    # Run a validation loop at the end of each epoch.\r\n",
        "    for x_batch_val, y_batch_val in val_dataset:\r\n",
        "        val_logits = model(x_batch_val, training=False)\r\n",
        "        # Update val metrics\r\n",
        "        val_loss = loss_fn(y_batch_val, val_logits)\r\n",
        "        val_acc_metric.update_state(y_batch_val, val_logits)\r\n",
        "        plot_loss_val+=[val_loss]\r\n",
        "        \r\n",
        "    val_acc = val_acc_metric.result()\r\n",
        "    plot_acc_val+=[val_acc]\r\n",
        "    val_acc_metric.reset_states()\r\n",
        "    print(\"Validation loss: %.4f\" % (float(val_loss),))\r\n",
        "    print(\"Validation acc: %.4f\" % (float(val_acc),))\r\n",
        "    plothist()\r\n",
        "   \r\n",
        "\r\n",
        "    "
      ],
      "execution_count": 32,
      "outputs": [
        {
          "output_type": "stream",
          "text": [
            "\n",
            "Start of epoch 0\n",
            "Training loss (for one batch) at step 0: 0.5484\n",
            "Seen so far: 64 samples\n",
            "Training loss (for one batch) at step 200: 0.3479\n",
            "Seen so far: 12864 samples\n",
            "Training loss (for one batch) at step 400: 0.5027\n",
            "Seen so far: 25664 samples\n",
            "Training loss (for one batch) at step 600: 0.5711\n",
            "Seen so far: 38464 samples\n",
            "Training loss (for one batch) at step 800: 0.4283\n",
            "Seen so far: 51264 samples\n",
            "Training acc over epoch: 0.8711\n",
            "Validation loss: 0.0564\n",
            "Validation acc: 0.8965\n"
          ],
          "name": "stdout"
        },
        {
          "output_type": "display_data",
          "data": {
            "image/png": "[encoded data removed]",
            "text/plain": [
              "<Figure size 432x288 with 2 Axes>"
            ]
          },
          "metadata": {
            "tags": [],
            "needs_background": "light"
          }
        },
        {
          "output_type": "stream",
          "text": [
            "\n",
            "Start of epoch 1\n",
            "Training loss (for one batch) at step 0: 0.6865\n",
            "Seen so far: 64 samples\n",
            "Training loss (for one batch) at step 200: 0.6832\n",
            "Seen so far: 12864 samples\n",
            "Training loss (for one batch) at step 400: 0.2121\n",
            "Seen so far: 25664 samples\n",
            "Training loss (for one batch) at step 600: 0.4233\n",
            "Seen so far: 38464 samples\n",
            "Training loss (for one batch) at step 800: 0.3423\n",
            "Seen so far: 51264 samples\n",
            "Training acc over epoch: 0.8871\n",
            "Validation loss: 0.0777\n",
            "Validation acc: 0.9078\n"
          ],
          "name": "stdout"
        },
        {
          "output_type": "display_data",
          "data": {
            "image/png": "[encoded data removed]",
            "text/plain": [
              "<Figure size 432x288 with 2 Axes>"
            ]
          },
          "metadata": {
            "tags": [],
            "needs_background": "light"
          }
        }
      ]
    },
    {
      "cell_type": "code",
      "metadata": {
        "id": "MFoqLrNXVb1O"
      },
      "source": [
        "class LogCallback(keras.callbacks.Callback):\r\n",
        "  \r\n",
        "  def on_epoch_end(self, epoch, logs=None):\r\n",
        "    print(logs[\"train_acc\"])"
      ],
      "execution_count": 31,
      "outputs": []
    }
  ]
}