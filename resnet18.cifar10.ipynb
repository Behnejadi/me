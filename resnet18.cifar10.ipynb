{
  "nbformat": 4,
  "nbformat_minor": 0,
  "metadata": {
    "colab": {
      "name": "resnet18+cifar10_(6) (2).ipynb",
      "provenance": [],
      "collapsed_sections": []
    },
    "kernelspec": {
      "display_name": "Python 3",
      "name": "python3"
    },
    "accelerator": "GPU"
  },
  "cells": [
    {
      "cell_type": "code",
      "metadata": {
        "id": "F8ESUWX_ZNqD"
      },
      "source": [
        "import numpy as np\n",
        "import tensorflow as tf\n",
        "from tensorflow import keras\n",
        "from keras.datasets import cifar10\n",
        "from tensorflow.keras import regularizers\n",
        "from tensorflow.keras.layers import Dense, Activation ,AveragePooling2D,GlobalAveragePooling2D\n",
        "from tensorflow.keras.optimizers import Adam,SGD\n",
        "from tensorflow.keras.metrics import categorical_crossentropy\n",
        "from tensorflow.keras.preprocessing.image import ImageDataGenerator\n",
        "from tensorflow.keras.preprocessing import image\n",
        "from tensorflow.keras.models import Model\n",
        "from tensorflow.keras.applications import imagenet_utils\n",
        "import matplotlib.pyplot as plt\n",
        "%matplotlib inline\n",
        "import sklearn\n",
        "import pandas as pd\n",
        "from sklearn.metrics import roc_auc_score, roc_curve, auc,precision_score, recall_score,f1_score,accuracy_score\n",
        "from sklearn.model_selection import StratifiedKFold\n",
        "from scipy import interp\n",
        "import matplotlib.pyplot as plt\n",
        "from skimage import transform\n",
        "import scipy.ndimage\n",
        "import matplotlib.pyplot as plt\n",
        "\n",
        "from keras.layers import Lambda, Input\n",
        "from keras.models import Model, Sequential\n",
        "import tensorflow as ktf\n",
        "tf.compat.v1.logging.set_verbosity(tf.compat.v1.logging.ERROR)"
      ],
      "execution_count": 45,
      "outputs": []
    },
    {
      "cell_type": "code",
      "metadata": {
        "colab": {
          "base_uri": "https://localhost:8080/"
        },
        "id": "sYG194TF_w9d",
        "outputId": "849065ee-cd20-44c3-b587-dd545683bc2b"
      },
      "source": [
        "(X_train, y_train), (X_test, y_test) = cifar10.load_data()\n",
        "\n",
        "print('Train data shape: {}'.format(X_train.shape))\n",
        "print('Test  data shape: {}'.format(X_test.shape))"
      ],
      "execution_count": 46,
      "outputs": [
        {
          "output_type": "stream",
          "text": [
            "Train data shape: (50000, 32, 32, 3)\n",
            "Test  data shape: (10000, 32, 32, 3)\n"
          ],
          "name": "stdout"
        }
      ]
    },
    {
      "cell_type": "code",
      "metadata": {
        "id": "Y68QeKy_EIn5"
      },
      "source": [
        "image_size = 32\n",
        "num_channels = 3\n",
        "num_features = image_size * image_size * num_channels\n",
        "num_classes = 10"
      ],
      "execution_count": 47,
      "outputs": []
    },
    {
      "cell_type": "code",
      "metadata": {
        "colab": {
          "base_uri": "https://localhost:8080/"
        },
        "id": "grGv0zltDvh5",
        "outputId": "81194f88-084c-42cc-c125-cc451230e42f"
      },
      "source": [
        "X_train = X_train.astype('float32')\n",
        "x_test  = X_test.astype('float32')\n",
        "\n",
        "X_train /= 255.0\n",
        "mean = np.mean(X_train, axis=(0, 1, 2,3))\n",
        "std = np.std(X_train, axis=(0, 1, 2,3))\n",
        "X_train = (X_train - mean)/ (std+1e-7)\n",
        "\n",
        "x_test /= 255.0\n",
        "\n",
        "x_test =(x_test-mean) / (std+1e-7)\n",
        "\n",
        "print(X_train.shape)\n",
        "print(x_test.shape)\n"
      ],
      "execution_count": 48,
      "outputs": [
        {
          "output_type": "stream",
          "text": [
            "(50000, 32, 32, 3)\n",
            "(10000, 32, 32, 3)\n"
          ],
          "name": "stdout"
        }
      ]
    },
    {
      "cell_type": "code",
      "metadata": {
        "colab": {
          "base_uri": "https://localhost:8080/"
        },
        "id": "sGctKnwPDvXT",
        "outputId": "0cf23d1c-f790-4488-ddfd-5e0b53882f14"
      },
      "source": [
        "y_train = keras.utils.to_categorical(y_train, num_classes)\n",
        "y_test  = keras.utils.to_categorical(y_test,  num_classes)\n",
        "\n",
        "print(y_train.shape)\n",
        "print(y_test.shape)"
      ],
      "execution_count": 49,
      "outputs": [
        {
          "output_type": "stream",
          "text": [
            "(50000, 10)\n",
            "(10000, 10)\n"
          ],
          "name": "stdout"
        }
      ]
    },
    {
      "cell_type": "code",
      "metadata": {
        "id": "kwZZdax7GjhE"
      },
      "source": [
        "# plotting helper function\n",
        "def plothist(hist):\n",
        "    \n",
        "    plt.subplot(1, 2, 1)\n",
        "    plt.plot(hist.history['accuracy'])\n",
        "    plt.plot(hist.history['val_accuracy'])\n",
        "    plt.title('model accuracy')\n",
        "    plt.ylabel('accuracy')\n",
        "    plt.xlabel('epoch')\n",
        "    plt.legend(['train', 'test'], loc='lower right')\n",
        "\n",
        "    plt.subplot(1, 2, 2)\n",
        "    plt.plot(hist.history['loss'])\n",
        "    plt.plot(hist.history['val_loss'])\n",
        "    plt.title('model loss')\n",
        "    plt.ylabel('loss')\n",
        "    plt.xlabel('epoch')\n",
        "    plt.legend(['train', 'test'], loc='upper right')\n",
        "\n",
        "\n",
        "    plt.show()"
      ],
      "execution_count": 50,
      "outputs": []
    },
    {
      "cell_type": "code",
      "metadata": {
        "colab": {
          "base_uri": "https://localhost:8080/"
        },
        "id": "DUs8Of18sIiP",
        "outputId": "84b78bcb-fe9d-492b-dd60-16a9d601e31c"
      },
      "source": [
        "!pip install git+https://github.com/qubvel/classification_models.git"
      ],
      "execution_count": 51,
      "outputs": [
        {
          "output_type": "stream",
          "text": [
            "Collecting git+https://github.com/qubvel/classification_models.git\n",
            "  Cloning https://github.com/qubvel/classification_models.git to /tmp/pip-req-build-_cyl97ki\n",
            "  Running command git clone -q https://github.com/qubvel/classification_models.git /tmp/pip-req-build-_cyl97ki\n",
            "  Running command git submodule update --init --recursive -q\n",
            "Requirement already satisfied (use --upgrade to upgrade): image-classifiers==1.0.0 from git+https://github.com/qubvel/classification_models.git in /usr/local/lib/python3.6/dist-packages\n",
            "Requirement already satisfied: keras_applications<=1.0.8,>=1.0.7 in /usr/local/lib/python3.6/dist-packages (from image-classifiers==1.0.0) (1.0.8)\n",
            "Requirement already satisfied: h5py in /usr/local/lib/python3.6/dist-packages (from keras_applications<=1.0.8,>=1.0.7->image-classifiers==1.0.0) (2.10.0)\n",
            "Requirement already satisfied: numpy>=1.9.1 in /usr/local/lib/python3.6/dist-packages (from keras_applications<=1.0.8,>=1.0.7->image-classifiers==1.0.0) (1.18.5)\n",
            "Requirement already satisfied: six in /usr/local/lib/python3.6/dist-packages (from h5py->keras_applications<=1.0.8,>=1.0.7->image-classifiers==1.0.0) (1.15.0)\n",
            "Building wheels for collected packages: image-classifiers\n",
            "  Building wheel for image-classifiers (setup.py) ... \u001b[?25l\u001b[?25hdone\n",
            "  Created wheel for image-classifiers: filename=image_classifiers-1.0.0-cp36-none-any.whl size=20031 sha256=9eb68f7741f8fc5d0fef73ffec3cbe11346880e76a8e33672f0740deef41e987\n",
            "  Stored in directory: /tmp/pip-ephem-wheel-cache-c4cf67nk/wheels/de/2b/fd/29a6d33edb8c28bc7d94e95ea1d39c9a218ac500a3cfb1b197\n",
            "Successfully built image-classifiers\n"
          ],
          "name": "stdout"
        }
      ]
    },
    {
      "cell_type": "code",
      "metadata": {
        "id": "abhgtSsJFsif"
      },
      "source": [
        "from classification_models.tfkeras import Classifiers"
      ],
      "execution_count": 52,
      "outputs": []
    },
    {
      "cell_type": "code",
      "metadata": {
        "colab": {
          "base_uri": "https://localhost:8080/"
        },
        "id": "bo_Uj8cjZNTE",
        "outputId": "9c0282c0-dd01-4afb-e0e1-9d65114f65b8"
      },
      "source": [
        "ResNet18, preprocess_input = Classifiers.get('resnet18')\n",
        "resnet18 = ResNet18((224, 224, 3), weights='imagenet')\n",
        "resnet18.summary() "
      ],
      "execution_count": 53,
      "outputs": [
        {
          "output_type": "stream",
          "text": [
            "Model: \"functional_13\"\n",
            "__________________________________________________________________________________________________\n",
            "Layer (type)                    Output Shape         Param #     Connected to                     \n",
            "==================================================================================================\n",
            "data (InputLayer)               [(None, 224, 224, 3) 0                                            \n",
            "__________________________________________________________________________________________________\n",
            "bn_data (BatchNormalization)    (None, 224, 224, 3)  9           data[0][0]                       \n",
            "__________________________________________________________________________________________________\n",
            "zero_padding2d_36 (ZeroPadding2 (None, 230, 230, 3)  0           bn_data[0][0]                    \n",
            "__________________________________________________________________________________________________\n",
            "conv0 (Conv2D)                  (None, 112, 112, 64) 9408        zero_padding2d_36[0][0]          \n",
            "__________________________________________________________________________________________________\n",
            "bn0 (BatchNormalization)        (None, 112, 112, 64) 256         conv0[0][0]                      \n",
            "__________________________________________________________________________________________________\n",
            "relu0 (Activation)              (None, 112, 112, 64) 0           bn0[0][0]                        \n",
            "__________________________________________________________________________________________________\n",
            "zero_padding2d_37 (ZeroPadding2 (None, 114, 114, 64) 0           relu0[0][0]                      \n",
            "__________________________________________________________________________________________________\n",
            "pooling0 (MaxPooling2D)         (None, 56, 56, 64)   0           zero_padding2d_37[0][0]          \n",
            "__________________________________________________________________________________________________\n",
            "stage1_unit1_bn1 (BatchNormaliz (None, 56, 56, 64)   256         pooling0[0][0]                   \n",
            "__________________________________________________________________________________________________\n",
            "stage1_unit1_relu1 (Activation) (None, 56, 56, 64)   0           stage1_unit1_bn1[0][0]           \n",
            "__________________________________________________________________________________________________\n",
            "zero_padding2d_38 (ZeroPadding2 (None, 58, 58, 64)   0           stage1_unit1_relu1[0][0]         \n",
            "__________________________________________________________________________________________________\n",
            "stage1_unit1_conv1 (Conv2D)     (None, 56, 56, 64)   36864       zero_padding2d_38[0][0]          \n",
            "__________________________________________________________________________________________________\n",
            "stage1_unit1_bn2 (BatchNormaliz (None, 56, 56, 64)   256         stage1_unit1_conv1[0][0]         \n",
            "__________________________________________________________________________________________________\n",
            "stage1_unit1_relu2 (Activation) (None, 56, 56, 64)   0           stage1_unit1_bn2[0][0]           \n",
            "__________________________________________________________________________________________________\n",
            "zero_padding2d_39 (ZeroPadding2 (None, 58, 58, 64)   0           stage1_unit1_relu2[0][0]         \n",
            "__________________________________________________________________________________________________\n",
            "stage1_unit1_conv2 (Conv2D)     (None, 56, 56, 64)   36864       zero_padding2d_39[0][0]          \n",
            "__________________________________________________________________________________________________\n",
            "stage1_unit1_sc (Conv2D)        (None, 56, 56, 64)   4096        stage1_unit1_relu1[0][0]         \n",
            "__________________________________________________________________________________________________\n",
            "add_16 (Add)                    (None, 56, 56, 64)   0           stage1_unit1_conv2[0][0]         \n",
            "                                                                 stage1_unit1_sc[0][0]            \n",
            "__________________________________________________________________________________________________\n",
            "stage1_unit2_bn1 (BatchNormaliz (None, 56, 56, 64)   256         add_16[0][0]                     \n",
            "__________________________________________________________________________________________________\n",
            "stage1_unit2_relu1 (Activation) (None, 56, 56, 64)   0           stage1_unit2_bn1[0][0]           \n",
            "__________________________________________________________________________________________________\n",
            "zero_padding2d_40 (ZeroPadding2 (None, 58, 58, 64)   0           stage1_unit2_relu1[0][0]         \n",
            "__________________________________________________________________________________________________\n",
            "stage1_unit2_conv1 (Conv2D)     (None, 56, 56, 64)   36864       zero_padding2d_40[0][0]          \n",
            "__________________________________________________________________________________________________\n",
            "stage1_unit2_bn2 (BatchNormaliz (None, 56, 56, 64)   256         stage1_unit2_conv1[0][0]         \n",
            "__________________________________________________________________________________________________\n",
            "stage1_unit2_relu2 (Activation) (None, 56, 56, 64)   0           stage1_unit2_bn2[0][0]           \n",
            "__________________________________________________________________________________________________\n",
            "zero_padding2d_41 (ZeroPadding2 (None, 58, 58, 64)   0           stage1_unit2_relu2[0][0]         \n",
            "__________________________________________________________________________________________________\n",
            "stage1_unit2_conv2 (Conv2D)     (None, 56, 56, 64)   36864       zero_padding2d_41[0][0]          \n",
            "__________________________________________________________________________________________________\n",
            "add_17 (Add)                    (None, 56, 56, 64)   0           stage1_unit2_conv2[0][0]         \n",
            "                                                                 add_16[0][0]                     \n",
            "__________________________________________________________________________________________________\n",
            "stage2_unit1_bn1 (BatchNormaliz (None, 56, 56, 64)   256         add_17[0][0]                     \n",
            "__________________________________________________________________________________________________\n",
            "stage2_unit1_relu1 (Activation) (None, 56, 56, 64)   0           stage2_unit1_bn1[0][0]           \n",
            "__________________________________________________________________________________________________\n",
            "zero_padding2d_42 (ZeroPadding2 (None, 58, 58, 64)   0           stage2_unit1_relu1[0][0]         \n",
            "__________________________________________________________________________________________________\n",
            "stage2_unit1_conv1 (Conv2D)     (None, 28, 28, 128)  73728       zero_padding2d_42[0][0]          \n",
            "__________________________________________________________________________________________________\n",
            "stage2_unit1_bn2 (BatchNormaliz (None, 28, 28, 128)  512         stage2_unit1_conv1[0][0]         \n",
            "__________________________________________________________________________________________________\n",
            "stage2_unit1_relu2 (Activation) (None, 28, 28, 128)  0           stage2_unit1_bn2[0][0]           \n",
            "__________________________________________________________________________________________________\n",
            "zero_padding2d_43 (ZeroPadding2 (None, 30, 30, 128)  0           stage2_unit1_relu2[0][0]         \n",
            "__________________________________________________________________________________________________\n",
            "stage2_unit1_conv2 (Conv2D)     (None, 28, 28, 128)  147456      zero_padding2d_43[0][0]          \n",
            "__________________________________________________________________________________________________\n",
            "stage2_unit1_sc (Conv2D)        (None, 28, 28, 128)  8192        stage2_unit1_relu1[0][0]         \n",
            "__________________________________________________________________________________________________\n",
            "add_18 (Add)                    (None, 28, 28, 128)  0           stage2_unit1_conv2[0][0]         \n",
            "                                                                 stage2_unit1_sc[0][0]            \n",
            "__________________________________________________________________________________________________\n",
            "stage2_unit2_bn1 (BatchNormaliz (None, 28, 28, 128)  512         add_18[0][0]                     \n",
            "__________________________________________________________________________________________________\n",
            "stage2_unit2_relu1 (Activation) (None, 28, 28, 128)  0           stage2_unit2_bn1[0][0]           \n",
            "__________________________________________________________________________________________________\n",
            "zero_padding2d_44 (ZeroPadding2 (None, 30, 30, 128)  0           stage2_unit2_relu1[0][0]         \n",
            "__________________________________________________________________________________________________\n",
            "stage2_unit2_conv1 (Conv2D)     (None, 28, 28, 128)  147456      zero_padding2d_44[0][0]          \n",
            "__________________________________________________________________________________________________\n",
            "stage2_unit2_bn2 (BatchNormaliz (None, 28, 28, 128)  512         stage2_unit2_conv1[0][0]         \n",
            "__________________________________________________________________________________________________\n",
            "stage2_unit2_relu2 (Activation) (None, 28, 28, 128)  0           stage2_unit2_bn2[0][0]           \n",
            "__________________________________________________________________________________________________\n",
            "zero_padding2d_45 (ZeroPadding2 (None, 30, 30, 128)  0           stage2_unit2_relu2[0][0]         \n",
            "__________________________________________________________________________________________________\n",
            "stage2_unit2_conv2 (Conv2D)     (None, 28, 28, 128)  147456      zero_padding2d_45[0][0]          \n",
            "__________________________________________________________________________________________________\n",
            "add_19 (Add)                    (None, 28, 28, 128)  0           stage2_unit2_conv2[0][0]         \n",
            "                                                                 add_18[0][0]                     \n",
            "__________________________________________________________________________________________________\n",
            "stage3_unit1_bn1 (BatchNormaliz (None, 28, 28, 128)  512         add_19[0][0]                     \n",
            "__________________________________________________________________________________________________\n",
            "stage3_unit1_relu1 (Activation) (None, 28, 28, 128)  0           stage3_unit1_bn1[0][0]           \n",
            "__________________________________________________________________________________________________\n",
            "zero_padding2d_46 (ZeroPadding2 (None, 30, 30, 128)  0           stage3_unit1_relu1[0][0]         \n",
            "__________________________________________________________________________________________________\n",
            "stage3_unit1_conv1 (Conv2D)     (None, 14, 14, 256)  294912      zero_padding2d_46[0][0]          \n",
            "__________________________________________________________________________________________________\n",
            "stage3_unit1_bn2 (BatchNormaliz (None, 14, 14, 256)  1024        stage3_unit1_conv1[0][0]         \n",
            "__________________________________________________________________________________________________\n",
            "stage3_unit1_relu2 (Activation) (None, 14, 14, 256)  0           stage3_unit1_bn2[0][0]           \n",
            "__________________________________________________________________________________________________\n",
            "zero_padding2d_47 (ZeroPadding2 (None, 16, 16, 256)  0           stage3_unit1_relu2[0][0]         \n",
            "__________________________________________________________________________________________________\n",
            "stage3_unit1_conv2 (Conv2D)     (None, 14, 14, 256)  589824      zero_padding2d_47[0][0]          \n",
            "__________________________________________________________________________________________________\n",
            "stage3_unit1_sc (Conv2D)        (None, 14, 14, 256)  32768       stage3_unit1_relu1[0][0]         \n",
            "__________________________________________________________________________________________________\n",
            "add_20 (Add)                    (None, 14, 14, 256)  0           stage3_unit1_conv2[0][0]         \n",
            "                                                                 stage3_unit1_sc[0][0]            \n",
            "__________________________________________________________________________________________________\n",
            "stage3_unit2_bn1 (BatchNormaliz (None, 14, 14, 256)  1024        add_20[0][0]                     \n",
            "__________________________________________________________________________________________________\n",
            "stage3_unit2_relu1 (Activation) (None, 14, 14, 256)  0           stage3_unit2_bn1[0][0]           \n",
            "__________________________________________________________________________________________________\n",
            "zero_padding2d_48 (ZeroPadding2 (None, 16, 16, 256)  0           stage3_unit2_relu1[0][0]         \n",
            "__________________________________________________________________________________________________\n",
            "stage3_unit2_conv1 (Conv2D)     (None, 14, 14, 256)  589824      zero_padding2d_48[0][0]          \n",
            "__________________________________________________________________________________________________\n",
            "stage3_unit2_bn2 (BatchNormaliz (None, 14, 14, 256)  1024        stage3_unit2_conv1[0][0]         \n",
            "__________________________________________________________________________________________________\n",
            "stage3_unit2_relu2 (Activation) (None, 14, 14, 256)  0           stage3_unit2_bn2[0][0]           \n",
            "__________________________________________________________________________________________________\n",
            "zero_padding2d_49 (ZeroPadding2 (None, 16, 16, 256)  0           stage3_unit2_relu2[0][0]         \n",
            "__________________________________________________________________________________________________\n",
            "stage3_unit2_conv2 (Conv2D)     (None, 14, 14, 256)  589824      zero_padding2d_49[0][0]          \n",
            "__________________________________________________________________________________________________\n",
            "add_21 (Add)                    (None, 14, 14, 256)  0           stage3_unit2_conv2[0][0]         \n",
            "                                                                 add_20[0][0]                     \n",
            "__________________________________________________________________________________________________\n",
            "stage4_unit1_bn1 (BatchNormaliz (None, 14, 14, 256)  1024        add_21[0][0]                     \n",
            "__________________________________________________________________________________________________\n",
            "stage4_unit1_relu1 (Activation) (None, 14, 14, 256)  0           stage4_unit1_bn1[0][0]           \n",
            "__________________________________________________________________________________________________\n",
            "zero_padding2d_50 (ZeroPadding2 (None, 16, 16, 256)  0           stage4_unit1_relu1[0][0]         \n",
            "__________________________________________________________________________________________________\n",
            "stage4_unit1_conv1 (Conv2D)     (None, 7, 7, 512)    1179648     zero_padding2d_50[0][0]          \n",
            "__________________________________________________________________________________________________\n",
            "stage4_unit1_bn2 (BatchNormaliz (None, 7, 7, 512)    2048        stage4_unit1_conv1[0][0]         \n",
            "__________________________________________________________________________________________________\n",
            "stage4_unit1_relu2 (Activation) (None, 7, 7, 512)    0           stage4_unit1_bn2[0][0]           \n",
            "__________________________________________________________________________________________________\n",
            "zero_padding2d_51 (ZeroPadding2 (None, 9, 9, 512)    0           stage4_unit1_relu2[0][0]         \n",
            "__________________________________________________________________________________________________\n",
            "stage4_unit1_conv2 (Conv2D)     (None, 7, 7, 512)    2359296     zero_padding2d_51[0][0]          \n",
            "__________________________________________________________________________________________________\n",
            "stage4_unit1_sc (Conv2D)        (None, 7, 7, 512)    131072      stage4_unit1_relu1[0][0]         \n",
            "__________________________________________________________________________________________________\n",
            "add_22 (Add)                    (None, 7, 7, 512)    0           stage4_unit1_conv2[0][0]         \n",
            "                                                                 stage4_unit1_sc[0][0]            \n",
            "__________________________________________________________________________________________________\n",
            "stage4_unit2_bn1 (BatchNormaliz (None, 7, 7, 512)    2048        add_22[0][0]                     \n",
            "__________________________________________________________________________________________________\n",
            "stage4_unit2_relu1 (Activation) (None, 7, 7, 512)    0           stage4_unit2_bn1[0][0]           \n",
            "__________________________________________________________________________________________________\n",
            "zero_padding2d_52 (ZeroPadding2 (None, 9, 9, 512)    0           stage4_unit2_relu1[0][0]         \n",
            "__________________________________________________________________________________________________\n",
            "stage4_unit2_conv1 (Conv2D)     (None, 7, 7, 512)    2359296     zero_padding2d_52[0][0]          \n",
            "__________________________________________________________________________________________________\n",
            "stage4_unit2_bn2 (BatchNormaliz (None, 7, 7, 512)    2048        stage4_unit2_conv1[0][0]         \n",
            "__________________________________________________________________________________________________\n",
            "stage4_unit2_relu2 (Activation) (None, 7, 7, 512)    0           stage4_unit2_bn2[0][0]           \n",
            "__________________________________________________________________________________________________\n",
            "zero_padding2d_53 (ZeroPadding2 (None, 9, 9, 512)    0           stage4_unit2_relu2[0][0]         \n",
            "__________________________________________________________________________________________________\n",
            "stage4_unit2_conv2 (Conv2D)     (None, 7, 7, 512)    2359296     zero_padding2d_53[0][0]          \n",
            "__________________________________________________________________________________________________\n",
            "add_23 (Add)                    (None, 7, 7, 512)    0           stage4_unit2_conv2[0][0]         \n",
            "                                                                 add_22[0][0]                     \n",
            "__________________________________________________________________________________________________\n",
            "bn1 (BatchNormalization)        (None, 7, 7, 512)    2048        add_23[0][0]                     \n",
            "__________________________________________________________________________________________________\n",
            "relu1 (Activation)              (None, 7, 7, 512)    0           bn1[0][0]                        \n",
            "__________________________________________________________________________________________________\n",
            "pool1 (GlobalAveragePooling2D)  (None, 512)          0           relu1[0][0]                      \n",
            "__________________________________________________________________________________________________\n",
            "fc1 (Dense)                     (None, 1000)         513000      pool1[0][0]                      \n",
            "__________________________________________________________________________________________________\n",
            "softmax (Activation)            (None, 1000)         0           fc1[0][0]                        \n",
            "==================================================================================================\n",
            "Total params: 11,699,889\n",
            "Trainable params: 11,691,947\n",
            "Non-trainable params: 7,942\n",
            "__________________________________________________________________________________________________\n"
          ],
          "name": "stdout"
        }
      ]
    },
    {
      "cell_type": "code",
      "metadata": {
        "id": "4tebKLPNJmVD"
      },
      "source": [
        "alpha = 0.003  # weight decay coefficient\n",
        "\n",
        "for layer in resnet18.layers:\n",
        "    if isinstance(layer, keras.layers.Conv2D) or isinstance(layer, keras.layers.Dense):\n",
        "        layer.add_loss(lambda: keras.regularizers.l2(alpha)(layer.kernel))\n",
        "    if hasattr(layer, 'bias_regularizer') and layer.use_bias:\n",
        "        layer.add_loss(lambda: keras.regularizers.l2(alpha)(layer.bias))"
      ],
      "execution_count": 54,
      "outputs": []
    },
    {
      "cell_type": "code",
      "metadata": {
        "id": "_1qy5h2dZNNz"
      },
      "source": [
        "x = resnet18.layers[-2].output\r\n",
        "output = Dense(units=10,activation='softmax')(x)\r\n",
        "model = Model(inputs=[resnet18.input], outputs=[output])\r\n",
        "#model.summary()"
      ],
      "execution_count": 55,
      "outputs": []
    },
    {
      "cell_type": "code",
      "metadata": {
        "colab": {
          "base_uri": "https://localhost:8080/"
        },
        "id": "NFARn69XZNGR",
        "outputId": "157c8911-f037-48fa-843b-9cafe64d4bbb"
      },
      "source": [
        "for layer in model.layers[35:]:\n",
        "    layer.trainable = True\n",
        "for layer in model.layers[:35]:\n",
        "    layer.trainable = False\n",
        "for i, layer in enumerate(model.layers):\n",
        "    print(i, layer.name, layer.trainable)"
      ],
      "execution_count": 56,
      "outputs": [
        {
          "output_type": "stream",
          "text": [
            "0 data False\n",
            "1 bn_data False\n",
            "2 zero_padding2d_36 False\n",
            "3 conv0 False\n",
            "4 bn0 False\n",
            "5 relu0 False\n",
            "6 zero_padding2d_37 False\n",
            "7 pooling0 False\n",
            "8 stage1_unit1_bn1 False\n",
            "9 stage1_unit1_relu1 False\n",
            "10 zero_padding2d_38 False\n",
            "11 stage1_unit1_conv1 False\n",
            "12 stage1_unit1_bn2 False\n",
            "13 stage1_unit1_relu2 False\n",
            "14 zero_padding2d_39 False\n",
            "15 stage1_unit1_conv2 False\n",
            "16 stage1_unit1_sc False\n",
            "17 add_16 False\n",
            "18 stage1_unit2_bn1 False\n",
            "19 stage1_unit2_relu1 False\n",
            "20 zero_padding2d_40 False\n",
            "21 stage1_unit2_conv1 False\n",
            "22 stage1_unit2_bn2 False\n",
            "23 stage1_unit2_relu2 False\n",
            "24 zero_padding2d_41 False\n",
            "25 stage1_unit2_conv2 False\n",
            "26 add_17 False\n",
            "27 stage2_unit1_bn1 False\n",
            "28 stage2_unit1_relu1 False\n",
            "29 zero_padding2d_42 False\n",
            "30 stage2_unit1_conv1 False\n",
            "31 stage2_unit1_bn2 False\n",
            "32 stage2_unit1_relu2 False\n",
            "33 zero_padding2d_43 False\n",
            "34 stage2_unit1_conv2 False\n",
            "35 stage2_unit1_sc True\n",
            "36 add_18 True\n",
            "37 stage2_unit2_bn1 True\n",
            "38 stage2_unit2_relu1 True\n",
            "39 zero_padding2d_44 True\n",
            "40 stage2_unit2_conv1 True\n",
            "41 stage2_unit2_bn2 True\n",
            "42 stage2_unit2_relu2 True\n",
            "43 zero_padding2d_45 True\n",
            "44 stage2_unit2_conv2 True\n",
            "45 add_19 True\n",
            "46 stage3_unit1_bn1 True\n",
            "47 stage3_unit1_relu1 True\n",
            "48 zero_padding2d_46 True\n",
            "49 stage3_unit1_conv1 True\n",
            "50 stage3_unit1_bn2 True\n",
            "51 stage3_unit1_relu2 True\n",
            "52 zero_padding2d_47 True\n",
            "53 stage3_unit1_conv2 True\n",
            "54 stage3_unit1_sc True\n",
            "55 add_20 True\n",
            "56 stage3_unit2_bn1 True\n",
            "57 stage3_unit2_relu1 True\n",
            "58 zero_padding2d_48 True\n",
            "59 stage3_unit2_conv1 True\n",
            "60 stage3_unit2_bn2 True\n",
            "61 stage3_unit2_relu2 True\n",
            "62 zero_padding2d_49 True\n",
            "63 stage3_unit2_conv2 True\n",
            "64 add_21 True\n",
            "65 stage4_unit1_bn1 True\n",
            "66 stage4_unit1_relu1 True\n",
            "67 zero_padding2d_50 True\n",
            "68 stage4_unit1_conv1 True\n",
            "69 stage4_unit1_bn2 True\n",
            "70 stage4_unit1_relu2 True\n",
            "71 zero_padding2d_51 True\n",
            "72 stage4_unit1_conv2 True\n",
            "73 stage4_unit1_sc True\n",
            "74 add_22 True\n",
            "75 stage4_unit2_bn1 True\n",
            "76 stage4_unit2_relu1 True\n",
            "77 zero_padding2d_52 True\n",
            "78 stage4_unit2_conv1 True\n",
            "79 stage4_unit2_bn2 True\n",
            "80 stage4_unit2_relu2 True\n",
            "81 zero_padding2d_53 True\n",
            "82 stage4_unit2_conv2 True\n",
            "83 add_23 True\n",
            "84 bn1 True\n",
            "85 relu1 True\n",
            "86 pool1 True\n",
            "87 fc1 True\n",
            "88 dense_2 True\n"
          ],
          "name": "stdout"
        }
      ]
    },
    {
      "cell_type": "code",
      "metadata": {
        "id": "g2eux2vSQ4d-"
      },
      "source": [
        "newInput = Input(batch_shape=(None, 32, 32, 3))\r\n",
        "resizedImg = Lambda(lambda image: ktf.image.resize(image, (224, 224)))(newInput)\r\n",
        "newOutputs = model(resizedImg)\r\n",
        "model = Model(newInput, newOutputs)"
      ],
      "execution_count": 57,
      "outputs": []
    },
    {
      "cell_type": "code",
      "metadata": {
        "id": "LhYMg5wDGLls"
      },
      "source": [
        "BATCH_SIZE =100\n",
        "STEPS_PER_EPOCH =len(X_train)//BATCH_SIZE \n",
        "\n",
        "step = tf.Variable(0, trainable=False)\n",
        "boundaries = [30*STEPS_PER_EPOCH,50*STEPS_PER_EPOCH,80*STEPS_PER_EPOCH]\n",
        "values = [ 0.1, 0.01,0.001,0.0001]\n",
        "learning_rate_fn = keras.optimizers.schedules.PiecewiseConstantDecay(\n",
        "    boundaries, values)"
      ],
      "execution_count": 58,
      "outputs": []
    },
    {
      "cell_type": "code",
      "metadata": {
        "id": "wtTrzDGTZNDX"
      },
      "source": [
        "opt = SGD(learning_rate=learning_rate_fn)#,momentum=0.9,decay=0.01,nesterov=False\n",
        "#opt = Adam(learning_rate=0.0001,beta_1=0.9,beta_2=0.99,epsilon=0.1,amsgrad=False,name=\"Adam\",)\n",
        "model.compile(optimizer=opt, loss='categorical_crossentropy', metrics=['accuracy'])\n",
        "#model.summary()"
      ],
      "execution_count": 59,
      "outputs": []
    },
    {
      "cell_type": "code",
      "metadata": {
        "id": "cBYnLBGlFN2o"
      },
      "source": [
        "callback = tf.keras.callbacks.EarlyStopping(monitor='loss', patience=3)"
      ],
      "execution_count": 60,
      "outputs": []
    },
    {
      "cell_type": "code",
      "metadata": {
        "colab": {
          "base_uri": "https://localhost:8080/"
        },
        "id": "foLD5c3UHD2X",
        "outputId": "2d6dc395-1cd0-4d51-bce5-1b8a1c25ca79"
      },
      "source": [
        "history =model.fit(X_train, y_train, batch_size=100,\n",
        "                   steps_per_epoch=len(X_train) // 100,epochs=100,\n",
        "                   validation_data=(x_test,y_test))"
      ],
      "execution_count": 61,
      "outputs": [
        {
          "output_type": "stream",
          "text": [
            "Epoch 1/100\n",
            "500/500 [==============================] - 108s 216ms/step - loss: 4.1593 - accuracy: 0.1506 - val_loss: 6.1092 - val_accuracy: 0.0958\n",
            "Epoch 2/100\n",
            "500/500 [==============================] - 108s 216ms/step - loss: 3.7771 - accuracy: 0.1995 - val_loss: 3.7073 - val_accuracy: 0.2122\n",
            "Epoch 3/100\n",
            "500/500 [==============================] - 108s 216ms/step - loss: 3.5883 - accuracy: 0.2327 - val_loss: 3.5569 - val_accuracy: 0.2413\n",
            "Epoch 4/100\n",
            "500/500 [==============================] - 108s 216ms/step - loss: 3.4682 - accuracy: 0.2575 - val_loss: 3.4493 - val_accuracy: 0.2651\n",
            "Epoch 5/100\n",
            "500/500 [==============================] - 108s 216ms/step - loss: 3.3816 - accuracy: 0.2781 - val_loss: 3.3712 - val_accuracy: 0.2832\n",
            "Epoch 6/100\n",
            "500/500 [==============================] - 108s 216ms/step - loss: 3.3147 - accuracy: 0.2963 - val_loss: 3.3099 - val_accuracy: 0.2988\n",
            "Epoch 7/100\n",
            "500/500 [==============================] - 108s 216ms/step - loss: 3.2610 - accuracy: 0.3090 - val_loss: 3.2583 - val_accuracy: 0.3078\n",
            "Epoch 8/100\n",
            "500/500 [==============================] - 108s 216ms/step - loss: 3.2152 - accuracy: 0.3246 - val_loss: 3.2160 - val_accuracy: 0.3186\n",
            "Epoch 9/100\n",
            "500/500 [==============================] - 108s 216ms/step - loss: 3.1763 - accuracy: 0.3352 - val_loss: 3.1784 - val_accuracy: 0.3299\n",
            "Epoch 10/100\n",
            "500/500 [==============================] - 108s 216ms/step - loss: 3.1421 - accuracy: 0.3451 - val_loss: 3.1468 - val_accuracy: 0.3393\n",
            "Epoch 11/100\n",
            "500/500 [==============================] - 108s 216ms/step - loss: 3.1137 - accuracy: 0.3530 - val_loss: 3.1178 - val_accuracy: 0.3469\n",
            "Epoch 12/100\n",
            "500/500 [==============================] - 108s 216ms/step - loss: 3.0848 - accuracy: 0.3617 - val_loss: 3.0920 - val_accuracy: 0.3547\n",
            "Epoch 13/100\n",
            "500/500 [==============================] - 108s 216ms/step - loss: 3.0621 - accuracy: 0.3694 - val_loss: 3.0694 - val_accuracy: 0.3614\n",
            "Epoch 14/100\n",
            "500/500 [==============================] - 108s 216ms/step - loss: 3.0413 - accuracy: 0.3751 - val_loss: 3.0479 - val_accuracy: 0.3662\n",
            "Epoch 15/100\n",
            "500/500 [==============================] - 108s 216ms/step - loss: 3.0190 - accuracy: 0.3797 - val_loss: 3.0281 - val_accuracy: 0.3737\n",
            "Epoch 16/100\n",
            "500/500 [==============================] - 108s 216ms/step - loss: 3.0010 - accuracy: 0.3877 - val_loss: 3.0101 - val_accuracy: 0.3806\n",
            "Epoch 17/100\n",
            "500/500 [==============================] - 108s 216ms/step - loss: 2.9833 - accuracy: 0.3920 - val_loss: 2.9929 - val_accuracy: 0.3889\n",
            "Epoch 18/100\n",
            "500/500 [==============================] - 108s 216ms/step - loss: 2.9659 - accuracy: 0.3963 - val_loss: 2.9759 - val_accuracy: 0.3914\n",
            "Epoch 19/100\n",
            "500/500 [==============================] - 108s 216ms/step - loss: 2.9501 - accuracy: 0.4021 - val_loss: 2.9609 - val_accuracy: 0.3986\n",
            "Epoch 20/100\n",
            "500/500 [==============================] - 108s 216ms/step - loss: 2.9351 - accuracy: 0.4066 - val_loss: 2.9455 - val_accuracy: 0.4039\n",
            "Epoch 21/100\n",
            "500/500 [==============================] - 108s 216ms/step - loss: 2.9201 - accuracy: 0.4102 - val_loss: 2.9313 - val_accuracy: 0.4066\n",
            "Epoch 22/100\n",
            "500/500 [==============================] - 108s 216ms/step - loss: 2.9064 - accuracy: 0.4145 - val_loss: 2.9180 - val_accuracy: 0.4105\n",
            "Epoch 23/100\n",
            "500/500 [==============================] - 108s 216ms/step - loss: 2.8935 - accuracy: 0.4184 - val_loss: 2.9054 - val_accuracy: 0.4131\n",
            "Epoch 24/100\n",
            "500/500 [==============================] - 108s 216ms/step - loss: 2.8816 - accuracy: 0.4219 - val_loss: 2.8933 - val_accuracy: 0.4174\n",
            "Epoch 25/100\n",
            "500/500 [==============================] - 108s 216ms/step - loss: 2.8691 - accuracy: 0.4250 - val_loss: 2.8815 - val_accuracy: 0.4198\n",
            "Epoch 26/100\n",
            "500/500 [==============================] - 108s 216ms/step - loss: 2.8577 - accuracy: 0.4287 - val_loss: 2.8703 - val_accuracy: 0.4227\n",
            "Epoch 27/100\n",
            "500/500 [==============================] - 108s 216ms/step - loss: 2.8444 - accuracy: 0.4342 - val_loss: 2.8591 - val_accuracy: 0.4257\n",
            "Epoch 28/100\n",
            "500/500 [==============================] - 108s 216ms/step - loss: 2.8331 - accuracy: 0.4374 - val_loss: 2.8482 - val_accuracy: 0.4286\n",
            "Epoch 29/100\n",
            "500/500 [==============================] - 108s 216ms/step - loss: 2.8239 - accuracy: 0.4388 - val_loss: 2.8379 - val_accuracy: 0.4309\n",
            "Epoch 30/100\n",
            "500/500 [==============================] - 108s 216ms/step - loss: 2.8132 - accuracy: 0.4416 - val_loss: 2.8276 - val_accuracy: 0.4344\n",
            "Epoch 31/100\n",
            "500/500 [==============================] - 108s 216ms/step - loss: 2.8060 - accuracy: 0.4443 - val_loss: 2.8266 - val_accuracy: 0.4360\n",
            "Epoch 32/100\n",
            "500/500 [==============================] - 108s 216ms/step - loss: 2.8052 - accuracy: 0.4445 - val_loss: 2.8257 - val_accuracy: 0.4371\n",
            "Epoch 33/100\n",
            "500/500 [==============================] - 108s 216ms/step - loss: 2.8049 - accuracy: 0.4454 - val_loss: 2.8248 - val_accuracy: 0.4375\n",
            "Epoch 34/100\n",
            "500/500 [==============================] - 108s 216ms/step - loss: 2.8026 - accuracy: 0.4456 - val_loss: 2.8236 - val_accuracy: 0.4367\n",
            "Epoch 35/100\n",
            "500/500 [==============================] - 108s 216ms/step - loss: 2.8025 - accuracy: 0.4461 - val_loss: 2.8225 - val_accuracy: 0.4361\n",
            "Epoch 36/100\n",
            "500/500 [==============================] - 108s 216ms/step - loss: 2.8022 - accuracy: 0.4465 - val_loss: 2.8215 - val_accuracy: 0.4369\n",
            "Epoch 37/100\n",
            "500/500 [==============================] - 108s 217ms/step - loss: 2.8015 - accuracy: 0.4454 - val_loss: 2.8206 - val_accuracy: 0.4369\n",
            "Epoch 38/100\n",
            "500/500 [==============================] - 108s 216ms/step - loss: 2.7993 - accuracy: 0.4471 - val_loss: 2.8196 - val_accuracy: 0.4375\n",
            "Epoch 39/100\n",
            "500/500 [==============================] - 108s 216ms/step - loss: 2.7985 - accuracy: 0.4463 - val_loss: 2.8191 - val_accuracy: 0.4389\n",
            "Epoch 40/100\n",
            "500/500 [==============================] - 108s 216ms/step - loss: 2.7968 - accuracy: 0.4470 - val_loss: 2.8180 - val_accuracy: 0.4385\n",
            "Epoch 41/100\n",
            "500/500 [==============================] - 108s 216ms/step - loss: 2.7973 - accuracy: 0.4473 - val_loss: 2.8169 - val_accuracy: 0.4385\n",
            "Epoch 42/100\n",
            "500/500 [==============================] - 108s 216ms/step - loss: 2.7952 - accuracy: 0.4475 - val_loss: 2.8155 - val_accuracy: 0.4379\n",
            "Epoch 43/100\n",
            "500/500 [==============================] - 108s 217ms/step - loss: 2.7940 - accuracy: 0.4489 - val_loss: 2.8151 - val_accuracy: 0.4390\n",
            "Epoch 44/100\n",
            "500/500 [==============================] - 108s 216ms/step - loss: 2.7933 - accuracy: 0.4490 - val_loss: 2.8139 - val_accuracy: 0.4394\n",
            "Epoch 45/100\n",
            "500/500 [==============================] - 108s 217ms/step - loss: 2.7923 - accuracy: 0.4479 - val_loss: 2.8129 - val_accuracy: 0.4391\n",
            "Epoch 46/100\n",
            "500/500 [==============================] - 108s 216ms/step - loss: 2.7900 - accuracy: 0.4500 - val_loss: 2.8121 - val_accuracy: 0.4401\n",
            "Epoch 47/100\n",
            "500/500 [==============================] - 108s 217ms/step - loss: 2.7900 - accuracy: 0.4494 - val_loss: 2.8109 - val_accuracy: 0.4404\n",
            "Epoch 48/100\n",
            "500/500 [==============================] - 108s 217ms/step - loss: 2.7896 - accuracy: 0.4494 - val_loss: 2.8100 - val_accuracy: 0.4402\n",
            "Epoch 49/100\n",
            "500/500 [==============================] - 108s 216ms/step - loss: 2.7900 - accuracy: 0.4487 - val_loss: 2.8093 - val_accuracy: 0.4410\n",
            "Epoch 50/100\n",
            "500/500 [==============================] - 108s 217ms/step - loss: 2.7891 - accuracy: 0.4496 - val_loss: 2.8082 - val_accuracy: 0.4406\n",
            "Epoch 51/100\n",
            "500/500 [==============================] - 108s 217ms/step - loss: 2.7868 - accuracy: 0.4506 - val_loss: 2.8082 - val_accuracy: 0.4402\n",
            "Epoch 52/100\n",
            "500/500 [==============================] - 108s 216ms/step - loss: 2.7889 - accuracy: 0.4476 - val_loss: 2.8081 - val_accuracy: 0.4412\n",
            "Epoch 53/100\n",
            "500/500 [==============================] - 108s 216ms/step - loss: 2.7868 - accuracy: 0.4521 - val_loss: 2.8082 - val_accuracy: 0.4410\n",
            "Epoch 54/100\n",
            "500/500 [==============================] - 108s 217ms/step - loss: 2.7872 - accuracy: 0.4502 - val_loss: 2.8079 - val_accuracy: 0.4419\n",
            "Epoch 55/100\n",
            "500/500 [==============================] - 108s 216ms/step - loss: 2.7871 - accuracy: 0.4497 - val_loss: 2.8079 - val_accuracy: 0.4414\n",
            "Epoch 56/100\n",
            "500/500 [==============================] - 108s 216ms/step - loss: 2.7867 - accuracy: 0.4496 - val_loss: 2.8076 - val_accuracy: 0.4409\n",
            "Epoch 57/100\n",
            "500/500 [==============================] - 108s 217ms/step - loss: 2.7867 - accuracy: 0.4493 - val_loss: 2.8077 - val_accuracy: 0.4418\n",
            "Epoch 58/100\n",
            "500/500 [==============================] - 108s 216ms/step - loss: 2.7860 - accuracy: 0.4516 - val_loss: 2.8077 - val_accuracy: 0.4413\n",
            "Epoch 59/100\n",
            "500/500 [==============================] - 108s 216ms/step - loss: 2.7884 - accuracy: 0.4495 - val_loss: 2.8077 - val_accuracy: 0.4411\n",
            "Epoch 60/100\n",
            "500/500 [==============================] - 108s 217ms/step - loss: 2.7873 - accuracy: 0.4499 - val_loss: 2.8076 - val_accuracy: 0.4408\n",
            "Epoch 61/100\n",
            "500/500 [==============================] - 108s 216ms/step - loss: 2.7880 - accuracy: 0.4498 - val_loss: 2.8074 - val_accuracy: 0.4410\n",
            "Epoch 62/100\n",
            "500/500 [==============================] - 108s 216ms/step - loss: 2.7858 - accuracy: 0.4499 - val_loss: 2.8075 - val_accuracy: 0.4407\n",
            "Epoch 63/100\n",
            "500/500 [==============================] - 108s 217ms/step - loss: 2.7873 - accuracy: 0.4519 - val_loss: 2.8073 - val_accuracy: 0.4415\n",
            "Epoch 64/100\n",
            "500/500 [==============================] - 108s 216ms/step - loss: 2.7861 - accuracy: 0.4522 - val_loss: 2.8075 - val_accuracy: 0.4416\n",
            "Epoch 65/100\n",
            "500/500 [==============================] - 108s 216ms/step - loss: 2.7855 - accuracy: 0.4521 - val_loss: 2.8071 - val_accuracy: 0.4402\n",
            "Epoch 66/100\n",
            "500/500 [==============================] - 108s 216ms/step - loss: 2.7862 - accuracy: 0.4526 - val_loss: 2.8072 - val_accuracy: 0.4413\n",
            "Epoch 67/100\n",
            "500/500 [==============================] - 108s 217ms/step - loss: 2.7857 - accuracy: 0.4508 - val_loss: 2.8072 - val_accuracy: 0.4417\n",
            "Epoch 68/100\n",
            "500/500 [==============================] - 108s 216ms/step - loss: 2.7854 - accuracy: 0.4509 - val_loss: 2.8069 - val_accuracy: 0.4407\n",
            "Epoch 69/100\n",
            "500/500 [==============================] - 108s 216ms/step - loss: 2.7861 - accuracy: 0.4502 - val_loss: 2.8068 - val_accuracy: 0.4411\n",
            "Epoch 70/100\n",
            "500/500 [==============================] - 108s 217ms/step - loss: 2.7859 - accuracy: 0.4511 - val_loss: 2.8067 - val_accuracy: 0.4410\n",
            "Epoch 71/100\n",
            "500/500 [==============================] - 108s 216ms/step - loss: 2.7862 - accuracy: 0.4513 - val_loss: 2.8068 - val_accuracy: 0.4415\n",
            "Epoch 72/100\n",
            "500/500 [==============================] - 108s 216ms/step - loss: 2.7860 - accuracy: 0.4489 - val_loss: 2.8065 - val_accuracy: 0.4407\n",
            "Epoch 73/100\n",
            "500/500 [==============================] - 108s 217ms/step - loss: 2.7856 - accuracy: 0.4511 - val_loss: 2.8064 - val_accuracy: 0.4408\n",
            "Epoch 74/100\n",
            "500/500 [==============================] - 108s 216ms/step - loss: 2.7850 - accuracy: 0.4508 - val_loss: 2.8066 - val_accuracy: 0.4410\n",
            "Epoch 75/100\n",
            "500/500 [==============================] - 108s 216ms/step - loss: 2.7855 - accuracy: 0.4496 - val_loss: 2.8062 - val_accuracy: 0.4413\n",
            "Epoch 76/100\n",
            "500/500 [==============================] - 108s 217ms/step - loss: 2.7865 - accuracy: 0.4510 - val_loss: 2.8064 - val_accuracy: 0.4410\n",
            "Epoch 77/100\n",
            "500/500 [==============================] - 108s 217ms/step - loss: 2.7837 - accuracy: 0.4514 - val_loss: 2.8062 - val_accuracy: 0.4423\n",
            "Epoch 78/100\n",
            "500/500 [==============================] - 108s 216ms/step - loss: 2.7842 - accuracy: 0.4532 - val_loss: 2.8061 - val_accuracy: 0.4412\n",
            "Epoch 79/100\n",
            "500/500 [==============================] - 108s 216ms/step - loss: 2.7858 - accuracy: 0.4502 - val_loss: 2.8062 - val_accuracy: 0.4415\n",
            "Epoch 80/100\n",
            "500/500 [==============================] - 108s 216ms/step - loss: 2.7864 - accuracy: 0.4494 - val_loss: 2.8059 - val_accuracy: 0.4410\n",
            "Epoch 81/100\n",
            "500/500 [==============================] - 108s 216ms/step - loss: 2.7846 - accuracy: 0.4516 - val_loss: 2.8058 - val_accuracy: 0.4420\n",
            "Epoch 82/100\n",
            "500/500 [==============================] - 108s 216ms/step - loss: 2.7842 - accuracy: 0.4517 - val_loss: 2.8061 - val_accuracy: 0.4421\n",
            "Epoch 83/100\n",
            "500/500 [==============================] - 108s 216ms/step - loss: 2.7859 - accuracy: 0.4509 - val_loss: 2.8057 - val_accuracy: 0.4417\n",
            "Epoch 84/100\n",
            "500/500 [==============================] - 108s 217ms/step - loss: 2.7860 - accuracy: 0.4512 - val_loss: 2.8064 - val_accuracy: 0.4417\n",
            "Epoch 85/100\n",
            "500/500 [==============================] - 108s 216ms/step - loss: 2.7841 - accuracy: 0.4505 - val_loss: 2.8059 - val_accuracy: 0.4414\n",
            "Epoch 86/100\n",
            "500/500 [==============================] - 108s 216ms/step - loss: 2.7840 - accuracy: 0.4497 - val_loss: 2.8059 - val_accuracy: 0.4420\n",
            "Epoch 87/100\n",
            "500/500 [==============================] - 108s 217ms/step - loss: 2.7842 - accuracy: 0.4497 - val_loss: 2.8058 - val_accuracy: 0.4418\n",
            "Epoch 88/100\n",
            "500/500 [==============================] - 108s 217ms/step - loss: 2.7855 - accuracy: 0.4506 - val_loss: 2.8059 - val_accuracy: 0.4414\n",
            "Epoch 89/100\n",
            "500/500 [==============================] - 108s 216ms/step - loss: 2.7852 - accuracy: 0.4505 - val_loss: 2.8059 - val_accuracy: 0.4410\n",
            "Epoch 90/100\n",
            "500/500 [==============================] - 108s 216ms/step - loss: 2.7845 - accuracy: 0.4517 - val_loss: 2.8059 - val_accuracy: 0.4417\n",
            "Epoch 91/100\n",
            "500/500 [==============================] - 108s 216ms/step - loss: 2.7831 - accuracy: 0.4522 - val_loss: 2.8060 - val_accuracy: 0.4407\n",
            "Epoch 92/100\n",
            "500/500 [==============================] - 108s 216ms/step - loss: 2.7840 - accuracy: 0.4529 - val_loss: 2.8061 - val_accuracy: 0.4409\n",
            "Epoch 93/100\n",
            "500/500 [==============================] - 108s 216ms/step - loss: 2.7843 - accuracy: 0.4518 - val_loss: 2.8060 - val_accuracy: 0.4419\n",
            "Epoch 94/100\n",
            "500/500 [==============================] - 108s 216ms/step - loss: 2.7850 - accuracy: 0.4539 - val_loss: 2.8060 - val_accuracy: 0.4410\n",
            "Epoch 95/100\n",
            "500/500 [==============================] - 108s 217ms/step - loss: 2.7840 - accuracy: 0.4505 - val_loss: 2.8059 - val_accuracy: 0.4414\n",
            "Epoch 96/100\n",
            "500/500 [==============================] - 108s 216ms/step - loss: 2.7840 - accuracy: 0.4505 - val_loss: 2.8060 - val_accuracy: 0.4422\n",
            "Epoch 97/100\n",
            "500/500 [==============================] - 108s 216ms/step - loss: 2.7835 - accuracy: 0.4531 - val_loss: 2.8061 - val_accuracy: 0.4414\n",
            "Epoch 98/100\n",
            "500/500 [==============================] - 108s 216ms/step - loss: 2.7857 - accuracy: 0.4504 - val_loss: 2.8059 - val_accuracy: 0.4414\n",
            "Epoch 99/100\n",
            "500/500 [==============================] - 108s 216ms/step - loss: 2.7840 - accuracy: 0.4521 - val_loss: 2.8062 - val_accuracy: 0.4417\n",
            "Epoch 100/100\n",
            "500/500 [==============================] - 108s 217ms/step - loss: 2.7849 - accuracy: 0.4507 - val_loss: 2.8061 - val_accuracy: 0.4412\n"
          ],
          "name": "stdout"
        }
      ]
    },
    {
      "cell_type": "code",
      "metadata": {
        "id": "W0FyvZOoHKQf"
      },
      "source": [
        "#model.save('cifar10.simplenet2.h5')\n",
        "                 \n",
        "#model=load_model('cifar10_01.h5')"
      ],
      "execution_count": 62,
      "outputs": []
    },
    {
      "cell_type": "code",
      "metadata": {
        "colab": {
          "base_uri": "https://localhost:8080/"
        },
        "id": "50eDgXQ7HQlZ",
        "outputId": "f414b2a6-57a3-4edf-b5b0-863fc4ed4e87"
      },
      "source": [
        "y_pred = model.predict(x_test)\n",
        "labels1 = np.arange(num_classes)\n",
        "print('Auc = %f' %  (roc_auc_score(y_test,  y_pred.round(),average='macro',multi_class='ovo',labels=labels1)))\n",
        "print('f1_score = %f' % (f1_score(y_test, y_pred.round(), average=\"macro\")))\n",
        "print('precision = %f' % (precision_score(y_test, y_pred.round(), average=\"macro\")))\n",
        "print('recall  = %f' % (recall_score(y_test, y_pred.round(), average=\"macro\")))\n",
        "print('accuracy  = %f' % (accuracy_score(y_test, y_pred.round()))) "
      ],
      "execution_count": 63,
      "outputs": [
        {
          "output_type": "stream",
          "text": [
            "Auc = 0.599039\n",
            "f1_score = 0.299960\n",
            "precision = 0.606805\n",
            "recall  = 0.211900\n",
            "accuracy  = 0.211900\n"
          ],
          "name": "stdout"
        }
      ]
    },
    {
      "cell_type": "code",
      "metadata": {
        "colab": {
          "base_uri": "https://localhost:8080/",
          "height": 295
        },
        "id": "T7uXlIIsHVwX",
        "outputId": "0c0a47c6-295f-41f3-efe5-e7bb1eb1a5d1"
      },
      "source": [
        "plothist(history)"
      ],
      "execution_count": 64,
      "outputs": [
        {
          "output_type": "display_data",
          "data": {
            "image/png": "[encoded data removed]",
            "text/plain": [
              "<Figure size 432x288 with 2 Axes>"
            ]
          },
          "metadata": {
            "tags": [],
            "needs_background": "light"
          }
        }
      ]
    }
  ]
}