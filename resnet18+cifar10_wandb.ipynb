{
  "nbformat": 4,
  "nbformat_minor": 0,
  "metadata": {
    "colab": {
      "name": "resnet18+cifar10_wandb.ipynb",
      "provenance": [],
      "collapsed_sections": []
    },
    "kernelspec": {
      "display_name": "Python 3",
      "name": "python3"
    },
    "accelerator": "GPU",
    "widgets": {
      "application/vnd.jupyter.widget-state+json": {
        "a887ced47bf6496fbf45b3b80cf2c53b": {
          "model_module": "@jupyter-widgets/controls",
          "model_name": "VBoxModel",
          "state": {
            "_view_name": "VBoxView",
            "_dom_classes": [],
            "_model_name": "VBoxModel",
            "_view_module": "@jupyter-widgets/controls",
            "_model_module_version": "1.5.0",
            "_view_count": null,
            "_view_module_version": "1.5.0",
            "box_style": "",
            "layout": "IPY_MODEL_d4ad9a0768004b6abfc11138a7c8f1c6",
            "_model_module": "@jupyter-widgets/controls",
            "children": [
              "IPY_MODEL_d9c593e33f1944d985dad1c53af609f3",
              "IPY_MODEL_70203fb179e340fda74b436596a31050"
            ]
          }
        },
        "d4ad9a0768004b6abfc11138a7c8f1c6": {
          "model_module": "@jupyter-widgets/base",
          "model_name": "LayoutModel",
          "state": {
            "_view_name": "LayoutView",
            "grid_template_rows": null,
            "right": null,
            "justify_content": null,
            "_view_module": "@jupyter-widgets/base",
            "overflow": null,
            "_model_module_version": "1.2.0",
            "_view_count": null,
            "flex_flow": null,
            "width": null,
            "min_width": null,
            "border": null,
            "align_items": null,
            "bottom": null,
            "_model_module": "@jupyter-widgets/base",
            "top": null,
            "grid_column": null,
            "overflow_y": null,
            "overflow_x": null,
            "grid_auto_flow": null,
            "grid_area": null,
            "grid_template_columns": null,
            "flex": null,
            "_model_name": "LayoutModel",
            "justify_items": null,
            "grid_row": null,
            "max_height": null,
            "align_content": null,
            "visibility": null,
            "align_self": null,
            "height": null,
            "min_height": null,
            "padding": null,
            "grid_auto_rows": null,
            "grid_gap": null,
            "max_width": null,
            "order": null,
            "_view_module_version": "1.2.0",
            "grid_template_areas": null,
            "object_position": null,
            "object_fit": null,
            "grid_auto_columns": null,
            "margin": null,
            "display": null,
            "left": null
          }
        },
        "d9c593e33f1944d985dad1c53af609f3": {
          "model_module": "@jupyter-widgets/controls",
          "model_name": "LabelModel",
          "state": {
            "_view_name": "LabelView",
            "style": "IPY_MODEL_2f450a41ae9e41879dadafea9c74f24a",
            "_dom_classes": [],
            "description": "",
            "_model_name": "LabelModel",
            "placeholder": "​",
            "_view_module": "@jupyter-widgets/controls",
            "_model_module_version": "1.5.0",
            "value": " 0.01MB of 0.01MB uploaded (0.00MB deduped)\r",
            "_view_count": null,
            "_view_module_version": "1.5.0",
            "description_tooltip": null,
            "_model_module": "@jupyter-widgets/controls",
            "layout": "IPY_MODEL_830f337545284cfeb65781cc7b29b2b2"
          }
        },
        "70203fb179e340fda74b436596a31050": {
          "model_module": "@jupyter-widgets/controls",
          "model_name": "FloatProgressModel",
          "state": {
            "_view_name": "ProgressView",
            "style": "IPY_MODEL_63f3be2051ac47d2bdca390f4583da9a",
            "_dom_classes": [],
            "description": "",
            "_model_name": "FloatProgressModel",
            "bar_style": "",
            "max": 1,
            "_view_module": "@jupyter-widgets/controls",
            "_model_module_version": "1.5.0",
            "value": 1,
            "_view_count": null,
            "_view_module_version": "1.5.0",
            "orientation": "horizontal",
            "min": 0,
            "description_tooltip": null,
            "_model_module": "@jupyter-widgets/controls",
            "layout": "IPY_MODEL_af5f1e02c5f54e4285206721ed01d2e0"
          }
        },
        "2f450a41ae9e41879dadafea9c74f24a": {
          "model_module": "@jupyter-widgets/controls",
          "model_name": "DescriptionStyleModel",
          "state": {
            "_view_name": "StyleView",
            "_model_name": "DescriptionStyleModel",
            "description_width": "",
            "_view_module": "@jupyter-widgets/base",
            "_model_module_version": "1.5.0",
            "_view_count": null,
            "_view_module_version": "1.2.0",
            "_model_module": "@jupyter-widgets/controls"
          }
        },
        "830f337545284cfeb65781cc7b29b2b2": {
          "model_module": "@jupyter-widgets/base",
          "model_name": "LayoutModel",
          "state": {
            "_view_name": "LayoutView",
            "grid_template_rows": null,
            "right": null,
            "justify_content": null,
            "_view_module": "@jupyter-widgets/base",
            "overflow": null,
            "_model_module_version": "1.2.0",
            "_view_count": null,
            "flex_flow": null,
            "width": null,
            "min_width": null,
            "border": null,
            "align_items": null,
            "bottom": null,
            "_model_module": "@jupyter-widgets/base",
            "top": null,
            "grid_column": null,
            "overflow_y": null,
            "overflow_x": null,
            "grid_auto_flow": null,
            "grid_area": null,
            "grid_template_columns": null,
            "flex": null,
            "_model_name": "LayoutModel",
            "justify_items": null,
            "grid_row": null,
            "max_height": null,
            "align_content": null,
            "visibility": null,
            "align_self": null,
            "height": null,
            "min_height": null,
            "padding": null,
            "grid_auto_rows": null,
            "grid_gap": null,
            "max_width": null,
            "order": null,
            "_view_module_version": "1.2.0",
            "grid_template_areas": null,
            "object_position": null,
            "object_fit": null,
            "grid_auto_columns": null,
            "margin": null,
            "display": null,
            "left": null
          }
        },
        "63f3be2051ac47d2bdca390f4583da9a": {
          "model_module": "@jupyter-widgets/controls",
          "model_name": "ProgressStyleModel",
          "state": {
            "_view_name": "StyleView",
            "_model_name": "ProgressStyleModel",
            "description_width": "",
            "_view_module": "@jupyter-widgets/base",
            "_model_module_version": "1.5.0",
            "_view_count": null,
            "_view_module_version": "1.2.0",
            "bar_color": null,
            "_model_module": "@jupyter-widgets/controls"
          }
        },
        "af5f1e02c5f54e4285206721ed01d2e0": {
          "model_module": "@jupyter-widgets/base",
          "model_name": "LayoutModel",
          "state": {
            "_view_name": "LayoutView",
            "grid_template_rows": null,
            "right": null,
            "justify_content": null,
            "_view_module": "@jupyter-widgets/base",
            "overflow": null,
            "_model_module_version": "1.2.0",
            "_view_count": null,
            "flex_flow": null,
            "width": null,
            "min_width": null,
            "border": null,
            "align_items": null,
            "bottom": null,
            "_model_module": "@jupyter-widgets/base",
            "top": null,
            "grid_column": null,
            "overflow_y": null,
            "overflow_x": null,
            "grid_auto_flow": null,
            "grid_area": null,
            "grid_template_columns": null,
            "flex": null,
            "_model_name": "LayoutModel",
            "justify_items": null,
            "grid_row": null,
            "max_height": null,
            "align_content": null,
            "visibility": null,
            "align_self": null,
            "height": null,
            "min_height": null,
            "padding": null,
            "grid_auto_rows": null,
            "grid_gap": null,
            "max_width": null,
            "order": null,
            "_view_module_version": "1.2.0",
            "grid_template_areas": null,
            "object_position": null,
            "object_fit": null,
            "grid_auto_columns": null,
            "margin": null,
            "display": null,
            "left": null
          }
        }
      }
    }
  },
  "cells": [
    {
      "cell_type": "markdown",
      "metadata": {
        "id": "ENAnWb0uRSw9"
      },
      "source": [
        "https://www.wandb.com/articles/wandb-customizing-training-loops-in-tensorflow-2\r\n",
        "https://colab.research.google.com/drive/1JCpAbjkCFhYMT7LCQ399y35TS3jlMpvM#scrollTo=w_CcwaadLI8e"
      ]
    },
    {
      "cell_type": "code",
      "metadata": {
        "id": "HwuXRvB0zSwS"
      },
      "source": [
        "# Select the TensorFlow 2.0 runtime\r\n",
        "%tensorflow_version 2.x"
      ],
      "execution_count": null,
      "outputs": []
    },
    {
      "cell_type": "code",
      "metadata": {
        "id": "F8ESUWX_ZNqD"
      },
      "source": [
        "import numpy as np\n",
        "import tensorflow as tf\n",
        "from tensorflow import keras\n",
        "from keras.datasets import cifar10\n",
        "from tensorflow.keras import regularizers\n",
        "from tensorflow.keras.layers import Dense, Activation ,AveragePooling2D,GlobalAveragePooling2D\n",
        "from tensorflow.keras.optimizers import Adam,SGD\n",
        "from tensorflow.keras.metrics import categorical_crossentropy\n",
        "from tensorflow.keras.preprocessing.image import ImageDataGenerator\n",
        "from tensorflow.keras.preprocessing import image\n",
        "from tensorflow.keras.models import Model\n",
        "from tensorflow.keras.applications import imagenet_utils\n",
        "import matplotlib.pyplot as plt\n",
        "%matplotlib inline\n",
        "import sklearn\n",
        "import pandas as pd\n",
        "from sklearn.metrics import roc_auc_score, roc_curve, auc,precision_score, recall_score,f1_score,accuracy_score\n",
        "from sklearn.model_selection import StratifiedKFold\n",
        "from scipy import interp\n",
        "import matplotlib.pyplot as plt\n",
        "from skimage import transform\n",
        "import scipy.ndimage\n",
        "import matplotlib.pyplot as plt\n",
        "\n",
        "from keras.layers import Lambda, Input\n",
        "from keras.models import Model, Sequential\n",
        "import tensorflow as ktf\n",
        "tf.compat.v1.logging.set_verbosity(tf.compat.v1.logging.ERROR)"
      ],
      "execution_count": null,
      "outputs": []
    },
    {
      "cell_type": "code",
      "metadata": {
        "colab": {
          "base_uri": "https://localhost:8080/"
        },
        "id": "sYG194TF_w9d",
        "outputId": "2964a30b-b3a2-45e9-f882-a0cda455c92d"
      },
      "source": [
        "(X_train, y_train), (X_test, y_test) = cifar10.load_data()\n",
        "\n",
        "print('Train data shape: {}'.format(X_train.shape))\n",
        "print('Test  data shape: {}'.format(X_test.shape))"
      ],
      "execution_count": null,
      "outputs": [
        {
          "output_type": "stream",
          "text": [
            "Train data shape: (50000, 32, 32, 3)\n",
            "Test  data shape: (10000, 32, 32, 3)\n"
          ],
          "name": "stdout"
        }
      ]
    },
    {
      "cell_type": "code",
      "metadata": {
        "id": "Y68QeKy_EIn5"
      },
      "source": [
        "image_size = 32\n",
        "num_channels = 3\n",
        "num_features = image_size * image_size * num_channels\n",
        "num_classes = 10"
      ],
      "execution_count": null,
      "outputs": []
    },
    {
      "cell_type": "code",
      "metadata": {
        "id": "grGv0zltDvh5"
      },
      "source": [
        "X_train = X_train.astype('float32')\n",
        "X_test  = X_test.astype('float32')\n",
        "\n",
        "X_train /= 255.0\n",
        "mean = np.mean(X_train, axis=(0, 1, 2,3))\n",
        "std = np.std(X_train, axis=(0, 1, 2,3))\n",
        "X_train = (X_train - mean)/ (std+1e-7)\n",
        "\n",
        "X_test /= 255.0\n",
        "\n",
        "X_test =(X_test-mean) / (std+1e-7)"
      ],
      "execution_count": null,
      "outputs": []
    },
    {
      "cell_type": "code",
      "metadata": {
        "colab": {
          "base_uri": "https://localhost:8080/"
        },
        "id": "sGctKnwPDvXT",
        "outputId": "9e27ef3c-01a8-4fb4-df8e-cea5543268ff"
      },
      "source": [
        "y_train = keras.utils.to_categorical(y_train, num_classes)\n",
        "y_test  = keras.utils.to_categorical(y_test,  num_classes)\n",
        "\n",
        "print(y_train.shape)\n",
        "print(y_test.shape)"
      ],
      "execution_count": null,
      "outputs": [
        {
          "output_type": "stream",
          "text": [
            "(50000, 10)\n",
            "(10000, 10)\n"
          ],
          "name": "stdout"
        }
      ]
    },
    {
      "cell_type": "code",
      "metadata": {
        "id": "kwZZdax7GjhE"
      },
      "source": [
        "# plotting helper function\n",
        "def plothist(hist):\n",
        "    \n",
        "    plt.subplot(1, 2, 1)\n",
        "    plt.plot(hist.history['accuracy'])\n",
        "    plt.plot(hist.history['val_accuracy'])\n",
        "    plt.title('model accuracy')\n",
        "    plt.ylabel('accuracy')\n",
        "    plt.xlabel('epoch')\n",
        "    plt.legend(['train', 'test'], loc='lower right')\n",
        "\n",
        "    plt.subplot(1, 2, 2)\n",
        "    plt.plot(hist.history['loss'])\n",
        "    plt.plot(hist.history['val_loss'])\n",
        "    plt.title('model loss')\n",
        "    plt.ylabel('loss')\n",
        "    plt.xlabel('epoch')\n",
        "    plt.legend(['train', 'test'], loc='upper right')\n",
        "\n",
        "\n",
        "    plt.show()"
      ],
      "execution_count": null,
      "outputs": []
    },
    {
      "cell_type": "code",
      "metadata": {
        "colab": {
          "base_uri": "https://localhost:8080/"
        },
        "id": "DUs8Of18sIiP",
        "outputId": "cc65c205-4e70-4e05-d59d-ee0b90587520"
      },
      "source": [
        "!pip install git+https://github.com/qubvel/classification_models.git"
      ],
      "execution_count": null,
      "outputs": [
        {
          "output_type": "stream",
          "text": [
            "Collecting git+https://github.com/qubvel/classification_models.git\n",
            "  Cloning https://github.com/qubvel/classification_models.git to /tmp/pip-req-build-hafv3zhu\n",
            "  Running command git clone -q https://github.com/qubvel/classification_models.git /tmp/pip-req-build-hafv3zhu\n",
            "  Running command git submodule update --init --recursive -q\n",
            "Requirement already satisfied (use --upgrade to upgrade): image-classifiers==1.0.0 from git+https://github.com/qubvel/classification_models.git in /usr/local/lib/python3.6/dist-packages\n",
            "Requirement already satisfied: keras_applications<=1.0.8,>=1.0.7 in /usr/local/lib/python3.6/dist-packages (from image-classifiers==1.0.0) (1.0.8)\n",
            "Requirement already satisfied: numpy>=1.9.1 in /usr/local/lib/python3.6/dist-packages (from keras_applications<=1.0.8,>=1.0.7->image-classifiers==1.0.0) (1.19.4)\n",
            "Requirement already satisfied: h5py in /usr/local/lib/python3.6/dist-packages (from keras_applications<=1.0.8,>=1.0.7->image-classifiers==1.0.0) (2.10.0)\n",
            "Requirement already satisfied: six in /usr/local/lib/python3.6/dist-packages (from h5py->keras_applications<=1.0.8,>=1.0.7->image-classifiers==1.0.0) (1.15.0)\n",
            "Building wheels for collected packages: image-classifiers\n",
            "  Building wheel for image-classifiers (setup.py) ... \u001b[?25l\u001b[?25hdone\n",
            "  Created wheel for image-classifiers: filename=image_classifiers-1.0.0-cp36-none-any.whl size=20030 sha256=661744ccea18a35f4b35f52dbb33076b8f54813d72fbba4776e8ae58a1a70b51\n",
            "  Stored in directory: /tmp/pip-ephem-wheel-cache-msdlp255/wheels/de/2b/fd/29a6d33edb8c28bc7d94e95ea1d39c9a218ac500a3cfb1b197\n",
            "Successfully built image-classifiers\n"
          ],
          "name": "stdout"
        }
      ]
    },
    {
      "cell_type": "code",
      "metadata": {
        "id": "bo_Uj8cjZNTE"
      },
      "source": [
        "from classification_models.tfkeras import Classifiers\n",
        "ResNet18, preprocess_input = Classifiers.get('resnet18')\n",
        "resnet18 = ResNet18((224, 224, 3), weights='imagenet')\n",
        "#resnet18.summary() "
      ],
      "execution_count": null,
      "outputs": []
    },
    {
      "cell_type": "code",
      "metadata": {
        "id": "4tebKLPNJmVD"
      },
      "source": [
        "alpha = 0.003  # weight decay coefficient\n",
        "\n",
        "for layer in resnet18.layers:\n",
        "    if isinstance(layer, keras.layers.Conv2D) or isinstance(layer, keras.layers.Dense):\n",
        "        layer.add_loss(lambda: keras.regularizers.l2(alpha)(layer.kernel))\n",
        "    if hasattr(layer, 'bias_regularizer') and layer.use_bias:\n",
        "        layer.add_loss(lambda: keras.regularizers.l2(alpha)(layer.bias))"
      ],
      "execution_count": null,
      "outputs": []
    },
    {
      "cell_type": "code",
      "metadata": {
        "id": "_1qy5h2dZNNz"
      },
      "source": [
        "x = resnet18.layers[-2].output\r\n",
        "output = Dense(units=10,activation='softmax')(x)\r\n",
        "model = Model(inputs=[resnet18.input], outputs=[output])"
      ],
      "execution_count": null,
      "outputs": []
    },
    {
      "cell_type": "code",
      "metadata": {
        "id": "NFARn69XZNGR"
      },
      "source": [
        "for layer in model.layers[35:]:\n",
        "    layer.trainable = True\n",
        "for layer in model.layers[:35]:\n",
        "    layer.trainable = False\n",
        "#for i, layer in enumerate(model.layers):\n",
        "    #print(i, layer.name, layer.trainable)"
      ],
      "execution_count": null,
      "outputs": []
    },
    {
      "cell_type": "code",
      "metadata": {
        "id": "g2eux2vSQ4d-"
      },
      "source": [
        "newInput = Input(batch_shape=(None, 32, 32, 3))\r\n",
        "resizedImg = Lambda(lambda image: ktf.image.resize(image, (224, 224)))(newInput)\r\n",
        "newOutputs = model(resizedImg)\r\n",
        "model = Model(newInput, newOutputs)"
      ],
      "execution_count": null,
      "outputs": []
    },
    {
      "cell_type": "code",
      "metadata": {
        "colab": {
          "base_uri": "https://localhost:8080/"
        },
        "id": "Uq2mvk3yxYea",
        "outputId": "00f146c9-980b-4b5f-9219-47f6fdd11a84"
      },
      "source": [
        "# Install Weights and Biases (WnB)\r\n",
        "!pip install wandb"
      ],
      "execution_count": null,
      "outputs": [
        {
          "output_type": "stream",
          "text": [
            "Requirement already satisfied: wandb in /usr/local/lib/python3.6/dist-packages (0.10.12)\n",
            "Requirement already satisfied: promise<3,>=2.0 in /usr/local/lib/python3.6/dist-packages (from wandb) (2.3)\n",
            "Requirement already satisfied: python-dateutil>=2.6.1 in /usr/local/lib/python3.6/dist-packages (from wandb) (2.8.1)\n",
            "Requirement already satisfied: psutil>=5.0.0 in /usr/local/lib/python3.6/dist-packages (from wandb) (5.4.8)\n",
            "Requirement already satisfied: configparser>=3.8.1 in /usr/local/lib/python3.6/dist-packages (from wandb) (5.0.1)\n",
            "Requirement already satisfied: requests<3,>=2.0.0 in /usr/local/lib/python3.6/dist-packages (from wandb) (2.23.0)\n",
            "Requirement already satisfied: Click>=7.0 in /usr/local/lib/python3.6/dist-packages (from wandb) (7.1.2)\n",
            "Requirement already satisfied: sentry-sdk>=0.4.0 in /usr/local/lib/python3.6/dist-packages (from wandb) (0.19.5)\n",
            "Requirement already satisfied: PyYAML in /usr/local/lib/python3.6/dist-packages (from wandb) (3.13)\n",
            "Requirement already satisfied: protobuf>=3.12.0 in /usr/local/lib/python3.6/dist-packages (from wandb) (3.12.4)\n",
            "Requirement already satisfied: six>=1.13.0 in /usr/local/lib/python3.6/dist-packages (from wandb) (1.15.0)\n",
            "Requirement already satisfied: docker-pycreds>=0.4.0 in /usr/local/lib/python3.6/dist-packages (from wandb) (0.4.0)\n",
            "Requirement already satisfied: subprocess32>=3.5.3 in /usr/local/lib/python3.6/dist-packages (from wandb) (3.5.4)\n",
            "Requirement already satisfied: shortuuid>=0.5.0 in /usr/local/lib/python3.6/dist-packages (from wandb) (1.0.1)\n",
            "Requirement already satisfied: GitPython>=1.0.0 in /usr/local/lib/python3.6/dist-packages (from wandb) (3.1.11)\n",
            "Requirement already satisfied: watchdog>=0.8.3 in /usr/local/lib/python3.6/dist-packages (from wandb) (1.0.2)\n",
            "Requirement already satisfied: urllib3!=1.25.0,!=1.25.1,<1.26,>=1.21.1 in /usr/local/lib/python3.6/dist-packages (from requests<3,>=2.0.0->wandb) (1.24.3)\n",
            "Requirement already satisfied: certifi>=2017.4.17 in /usr/local/lib/python3.6/dist-packages (from requests<3,>=2.0.0->wandb) (2020.12.5)\n",
            "Requirement already satisfied: chardet<4,>=3.0.2 in /usr/local/lib/python3.6/dist-packages (from requests<3,>=2.0.0->wandb) (3.0.4)\n",
            "Requirement already satisfied: idna<3,>=2.5 in /usr/local/lib/python3.6/dist-packages (from requests<3,>=2.0.0->wandb) (2.10)\n",
            "Requirement already satisfied: setuptools in /usr/local/lib/python3.6/dist-packages (from protobuf>=3.12.0->wandb) (50.3.2)\n",
            "Requirement already satisfied: gitdb<5,>=4.0.1 in /usr/local/lib/python3.6/dist-packages (from GitPython>=1.0.0->wandb) (4.0.5)\n",
            "Requirement already satisfied: smmap<4,>=3.0.1 in /usr/local/lib/python3.6/dist-packages (from gitdb<5,>=4.0.1->GitPython>=1.0.0->wandb) (3.0.4)\n"
          ],
          "name": "stdout"
        }
      ]
    },
    {
      "cell_type": "code",
      "metadata": {
        "colab": {
          "base_uri": "https://localhost:8080/"
        },
        "id": "zv-qQNTxxXy0",
        "outputId": "dac32567-ac5c-42f2-9cbe-e3652e584f76"
      },
      "source": [
        "# Authorize Weights and Biases\r\n",
        "!wandb login"
      ],
      "execution_count": null,
      "outputs": [
        {
          "output_type": "stream",
          "text": [
            "\u001b[34m\u001b[1mwandb\u001b[0m: Currently logged in as: \u001b[33mbehnejadi\u001b[0m (use `wandb login --relogin` to force relogin)\n"
          ],
          "name": "stdout"
        }
      ]
    },
    {
      "cell_type": "code",
      "metadata": {
        "id": "ymj1JebgzeE1"
      },
      "source": [
        "import wandb"
      ],
      "execution_count": null,
      "outputs": []
    },
    {
      "cell_type": "code",
      "metadata": {
        "colab": {
          "base_uri": "https://localhost:8080/",
          "height": 769,
          "referenced_widgets": [
            "a887ced47bf6496fbf45b3b80cf2c53b",
            "d4ad9a0768004b6abfc11138a7c8f1c6",
            "d9c593e33f1944d985dad1c53af609f3",
            "70203fb179e340fda74b436596a31050",
            "2f450a41ae9e41879dadafea9c74f24a",
            "830f337545284cfeb65781cc7b29b2b2",
            "63f3be2051ac47d2bdca390f4583da9a",
            "af5f1e02c5f54e4285206721ed01d2e0"
          ]
        },
        "id": "MD-DmUXyy1ef",
        "outputId": "55528001-f8f8-4164-c970-266ed7131e1d"
      },
      "source": [
        "# Intialize WnB with a project name of your choice\r\n",
        "wandb.init(project=\"custom_training_loops_tf-hist\")"
      ],
      "execution_count": null,
      "outputs": [
        {
          "output_type": "display_data",
          "data": {
            "text/html": [
              "Finishing last run (ID:1buochtl) before initializing another..."
            ],
            "text/plain": [
              "<IPython.core.display.HTML object>"
            ]
          },
          "metadata": {
            "tags": []
          }
        },
        {
          "output_type": "display_data",
          "data": {
            "text/html": [
              "<br/>Waiting for W&B process to finish, PID 462<br/>Program ended successfully."
            ],
            "text/plain": [
              "<IPython.core.display.HTML object>"
            ]
          },
          "metadata": {
            "tags": []
          }
        },
        {
          "output_type": "display_data",
          "data": {
            "application/vnd.jupyter.widget-view+json": {
              "model_id": "a887ced47bf6496fbf45b3b80cf2c53b",
              "version_minor": 0,
              "version_major": 2
            },
            "text/plain": [
              "VBox(children=(Label(value=' 0.00MB of 0.00MB uploaded (0.00MB deduped)\\r'), FloatProgress(value=1.0, max=1.0)…"
            ]
          },
          "metadata": {
            "tags": []
          }
        },
        {
          "output_type": "display_data",
          "data": {
            "text/html": [
              "Find user logs for this run at: <code>/content/wandb/run-20201219_114127-1buochtl/logs/debug.log</code>"
            ],
            "text/plain": [
              "<IPython.core.display.HTML object>"
            ]
          },
          "metadata": {
            "tags": []
          }
        },
        {
          "output_type": "display_data",
          "data": {
            "text/html": [
              "Find internal logs for this run at: <code>/content/wandb/run-20201219_114127-1buochtl/logs/debug-internal.log</code>"
            ],
            "text/plain": [
              "<IPython.core.display.HTML object>"
            ]
          },
          "metadata": {
            "tags": []
          }
        },
        {
          "output_type": "display_data",
          "data": {
            "text/html": [
              "Synced 4 W&B file(s), 0 media file(s), 0 artifact file(s) and 0 other file(s)"
            ],
            "text/plain": [
              "<IPython.core.display.HTML object>"
            ]
          },
          "metadata": {
            "tags": []
          }
        },
        {
          "output_type": "display_data",
          "data": {
            "text/html": [
              "\n",
              "                    <br/>Synced <strong style=\"color:#cdcd00\">glamorous-dust-1</strong>: <a href=\"https://wandb.ai/behnejadi/custom_training_loops/runs/1buochtl\" target=\"_blank\">https://wandb.ai/behnejadi/custom_training_loops/runs/1buochtl</a><br/>\n",
              "                "
            ],
            "text/plain": [
              "<IPython.core.display.HTML object>"
            ]
          },
          "metadata": {
            "tags": []
          }
        },
        {
          "output_type": "display_data",
          "data": {
            "text/html": [
              "...Successfully finished last run (ID:1buochtl). Initializing new run:<br/><br/>"
            ],
            "text/plain": [
              "<IPython.core.display.HTML object>"
            ]
          },
          "metadata": {
            "tags": []
          }
        },
        {
          "output_type": "display_data",
          "data": {
            "text/html": [
              "\n",
              "                Tracking run with wandb version 0.10.12<br/>\n",
              "                Syncing run <strong style=\"color:#cdcd00\">likely-shape-1</strong> to <a href=\"https://wandb.ai\" target=\"_blank\">Weights & Biases</a> <a href=\"https://docs.wandb.com/integrations/jupyter.html\" target=\"_blank\">(Documentation)</a>.<br/>\n",
              "                Project page: <a href=\"https://wandb.ai/behnejadi/custom_training_loops_tf-hist\" target=\"_blank\">https://wandb.ai/behnejadi/custom_training_loops_tf-hist</a><br/>\n",
              "                Run page: <a href=\"https://wandb.ai/behnejadi/custom_training_loops_tf-hist/runs/hsyz8u8x\" target=\"_blank\">https://wandb.ai/behnejadi/custom_training_loops_tf-hist/runs/hsyz8u8x</a><br/>\n",
              "                Run data is saved locally in <code>/content/wandb/run-20201219_114216-hsyz8u8x</code><br/><br/>\n",
              "            "
            ],
            "text/plain": [
              "<IPython.core.display.HTML object>"
            ]
          },
          "metadata": {
            "tags": []
          }
        },
        {
          "output_type": "execute_result",
          "data": {
            "text/plain": [
              "<wandb.sdk.wandb_run.Run at 0x7fa31418d8d0>"
            ],
            "text/html": [
              "<h1>Run(hsyz8u8x)</h1><p></p><iframe src=\"https://wandb.ai/behnejadi/custom_training_loops_tf-hist/runs/hsyz8u8x\" style=\"border:none;width:100%;height:400px\"></iframe>"
            ]
          },
          "metadata": {
            "tags": []
          },
          "execution_count": 52
        }
      ]
    },
    {
      "cell_type": "code",
      "metadata": {
        "id": "LhYMg5wDGLls"
      },
      "source": [
        "BATCH_SIZE =100\n",
        "STEPS_PER_EPOCH =len(X_train)//BATCH_SIZE \n",
        "\n",
        "boundaries = [40*STEPS_PER_EPOCH,60*STEPS_PER_EPOCH,80*STEPS_PER_EPOCH]\n",
        "values = [ 0.1, 0.01,0.001,0.0001]\n",
        "learning_rate_fn = keras.optimizers.schedules.PiecewiseConstantDecay(\n",
        "    boundaries, values)"
      ],
      "execution_count": null,
      "outputs": []
    },
    {
      "cell_type": "code",
      "metadata": {
        "id": "btUBiN10z9vj"
      },
      "source": [
        "# Define loass function and optimizer\r\n",
        "loss_func = tf.keras.losses.SparseCategoricalCrossentropy()\r\n",
        "optimizer = tf.keras.optimizers.SGD(learning_rate=learning_rate_fn)"
      ],
      "execution_count": null,
      "outputs": []
    },
    {
      "cell_type": "code",
      "metadata": {
        "id": "FMfTqDPm0WYz"
      },
      "source": [
        "# Average the loss across the batch size within an epoch\r\n",
        "train_loss = tf.keras.metrics.Mean(name=\"train_loss\")\r\n",
        "valid_loss = tf.keras.metrics.Mean(name=\"test_loss\")\r\n",
        "\r\n",
        "# Specify the performance metric\r\n",
        "train_acc = tf.keras.metrics.SparseCategoricalAccuracy(name=\"train_acc\")\r\n",
        "valid_acc = tf.keras.metrics.SparseCategoricalAccuracy(name=\"valid_acc\")"
      ],
      "execution_count": null,
      "outputs": []
    },
    {
      "cell_type": "code",
      "metadata": {
        "id": "ysbALTXVtW9m"
      },
      "source": [
        "# Batches of 64\r\n",
        "train_ds = tf.data.Dataset.from_tensor_slices((X_train, y_train)).shuffle(100).batch(100)\r\n",
        "test_ds = tf.data.Dataset.from_tensor_slices((X_test, y_test)).batch(100)"
      ],
      "execution_count": null,
      "outputs": []
    },
    {
      "cell_type": "code",
      "metadata": {
        "id": "aJLJkdoasf1x"
      },
      "source": [
        "# Train the model\r\n",
        "\r\n",
        "def model_train(features, labels):\r\n",
        "   # Define the GradientTape context\r\n",
        "   with tf.GradientTape() as tape:\r\n",
        "       # Get the probabilities\r\n",
        "       predictions = model(features)\r\n",
        "       # Calculate the loss\r\n",
        "       loss = loss_func(labels, predictions)\r\n",
        "   # Get the gradients\r\n",
        "   gradients = tape.gradient(loss, model.trainable_variables)\r\n",
        "   # Update the weights\r\n",
        "   optimizer.apply_gradients(zip(gradients, model.trainable_variables))\r\n",
        "\r\n",
        "   # Update the loss and accuracy\r\n",
        "   train_loss(loss)\r\n",
        "   train_acc(labels, predictions)"
      ],
      "execution_count": null,
      "outputs": []
    },
    {
      "cell_type": "code",
      "metadata": {
        "id": "1NSs_Tz6uweL"
      },
      "source": [
        "# Validating the model\r\n",
        "\r\n",
        "def model_validate(features, labels):\r\n",
        "   predictions = model(features)\r\n",
        "   v_loss = loss_func(labels, predictions)\r\n",
        "\r\n",
        "   valid_loss(v_loss)\r\n",
        "   valid_acc(labels, predictions)"
      ],
      "execution_count": null,
      "outputs": []
    },
    {
      "cell_type": "code",
      "metadata": {
        "id": "3BQe17QS3n2Z"
      },
      "source": [
        "# Grab random images from the test and make predictions using \r\n",
        "# the model *while it is training* and log them using WnB\r\n",
        "def get_sample_predictions():\r\n",
        "    predictions = []\r\n",
        "    images = []\r\n",
        "    random_indices = np.random.choice(X_test.shape[0], 25)\r\n",
        "    for index in random_indices:\r\n",
        "        image = X_test[index].reshape(1, 224, 224, 3)\r\n",
        "        prediction = np.argmax(model(image).numpy(), axis=1)\r\n",
        "        prediction = CLASSES[int(prediction)]\r\n",
        "        \r\n",
        "        images.append(image)\r\n",
        "        predictions.append(prediction)\r\n",
        "    \r\n",
        "    wandb.log({\"predictions\": [wandb.Image(image, caption=prediction) \r\n",
        "                               for (image, prediction) in zip(images, predictions)]})"
      ],
      "execution_count": null,
      "outputs": []
    },
    {
      "cell_type": "code",
      "metadata": {
        "colab": {
          "base_uri": "https://localhost:8080/"
        },
        "id": "kzXzQnFU3rXH",
        "outputId": "2a7f51f6-8508-4e8a-a032-ed0c9befaf13"
      },
      "source": [
        "# Train the model for 5 epochs\r\n",
        "for epoch in range(5):\r\n",
        "    # Run the model through train and test sets respectively\r\n",
        "    for (features, labels) in train_ds:\r\n",
        "        model_train(features, labels)\r\n",
        "\r\n",
        "    for test_features, test_labels in test_ds:\r\n",
        "        model_validate(test_features, test_labels)\r\n",
        "        \r\n",
        "    # Grab the results\r\n",
        "    (loss, acc) = train_loss.result(), train_acc.result()\r\n",
        "    (val_loss, val_acc) = valid_loss.result(), valid_acc.result()\r\n",
        "    \r\n",
        "    # Clear the current state of the metrics\r\n",
        "    train_loss.reset_states(), train_acc.reset_states()\r\n",
        "    valid_loss.reset_states(), valid_acc.reset_states()\r\n",
        "    \r\n",
        "    # Local logging\r\n",
        "    template = \"Epoch {}, loss: {:.3f}, acc: {:.3f}, val_loss: {:.3f}, val_acc: {:.3f}\"\r\n",
        "    print (template.format(epoch+1,\r\n",
        "                         loss,\r\n",
        "                         acc,\r\n",
        "                         val_loss,\r\n",
        "                         val_acc))\r\n",
        "    \r\n",
        "    #Logging with wandb\r\n",
        "    wandb.log({\"train_loss\": loss.numpy(),\r\n",
        "               \"train_accuracy\": acc.numpy(),\r\n",
        "               \"val_loss\": val_loss.numpy(),\r\n",
        "               \"val_accuracy\": val_acc.numpy()\r\n",
        "    })\r\n",
        "    "
      ],
      "execution_count": null,
      "outputs": [
        {
          "output_type": "stream",
          "text": [
            "Epoch 1, loss: nan, acc: 0.100, val_loss: nan, val_acc: 0.100\n",
            "Epoch 2, loss: nan, acc: 0.100, val_loss: nan, val_acc: 0.100\n",
            "Epoch 3, loss: nan, acc: 0.100, val_loss: nan, val_acc: 0.100\n",
            "Epoch 4, loss: nan, acc: 0.100, val_loss: nan, val_acc: 0.100\n",
            "Epoch 5, loss: nan, acc: 0.100, val_loss: nan, val_acc: 0.100\n"
          ],
          "name": "stdout"
        }
      ]
    },
    {
      "cell_type": "code",
      "metadata": {
        "id": "cBYnLBGlFN2o"
      },
      "source": [
        "callback = tf.keras.callbacks.EarlyStopping(monitor='loss', patience=3)"
      ],
      "execution_count": null,
      "outputs": []
    },
    {
      "cell_type": "code",
      "metadata": {
        "id": "W0FyvZOoHKQf"
      },
      "source": [
        "#model.save('cifar10.simplenet2.h5')\n",
        "                 \n",
        "#model=load_model('cifar10_01.h5')"
      ],
      "execution_count": null,
      "outputs": []
    },
    {
      "cell_type": "code",
      "metadata": {
        "colab": {
          "base_uri": "https://localhost:8080/"
        },
        "id": "50eDgXQ7HQlZ",
        "outputId": "dc626a62-49d5-4112-da5b-ce0e24af9b59"
      },
      "source": [
        "y_pred = model.predict(x_test)\n",
        "labels1 = np.arange(num_classes)\n",
        "print('Auc = %f' %  (roc_auc_score(y_test,  y_pred.round(),average='macro',multi_class='ovo',labels=labels1)))\n",
        "print('f1_score = %f' % (f1_score(y_test, y_pred.round(), average=\"macro\")))\n",
        "print('precision = %f' % (precision_score(y_test, y_pred.round(), average=\"macro\")))\n",
        "print('recall  = %f' % (recall_score(y_test, y_pred.round(), average=\"macro\")))\n",
        "print('accuracy  = %f' % (accuracy_score(y_test, y_pred.round())))"
      ],
      "execution_count": null,
      "outputs": [
        {
          "output_type": "stream",
          "text": [
            "Auc = 0.926217\n",
            "f1_score = 0.878494\n",
            "precision = 0.894163\n",
            "recall  = 0.863700\n",
            "accuracy  = 0.863700\n"
          ],
          "name": "stdout"
        }
      ]
    },
    {
      "cell_type": "code",
      "metadata": {
        "colab": {
          "base_uri": "https://localhost:8080/",
          "height": 295
        },
        "id": "T7uXlIIsHVwX",
        "outputId": "7aafb6ec-886e-4dfc-dc77-65d7684bd3c0"
      },
      "source": [
        "plothist(history)"
      ],
      "execution_count": null,
      "outputs": [
        {
          "output_type": "display_data",
          "data": {
            "image/png": "[encoded data removed]",
            "text/plain": [
              "<Figure size 432x288 with 2 Axes>"
            ]
          },
          "metadata": {
            "tags": [],
            "needs_background": "light"
          }
        }
      ]
    },
    {
      "cell_type": "code",
      "metadata": {
        "colab": {
          "base_uri": "https://localhost:8080/"
        },
        "id": "foLD5c3UHD2X",
        "outputId": "de2f7fad-df1b-4797-8c73-fbcba4777eea"
      },
      "source": [
        "history =model.fit(X_train, y_train, batch_size=100,\n",
        "                   steps_per_epoch=len(X_train) // 100,epochs=100,\n",
        "                   validation_data=(x_test,y_test))"
      ],
      "execution_count": null,
      "outputs": [
        {
          "output_type": "stream",
          "text": [
            "Epoch 1/100\n",
            "500/500 [==============================] - 109s 217ms/step - loss: 3.0047 - accuracy: 0.2704 - val_loss: 5.8201 - val_accuracy: 0.1053\n",
            "Epoch 2/100\n",
            "500/500 [==============================] - 109s 219ms/step - loss: 1.1181 - accuracy: 0.6204 - val_loss: 3.3272 - val_accuracy: 0.1687\n",
            "Epoch 3/100\n",
            "500/500 [==============================] - 110s 220ms/step - loss: 0.7909 - accuracy: 0.7456 - val_loss: 2.8515 - val_accuracy: 0.2136\n",
            "Epoch 4/100\n",
            "500/500 [==============================] - 110s 219ms/step - loss: 0.6210 - accuracy: 0.8066 - val_loss: 3.1717 - val_accuracy: 0.2761\n",
            "Epoch 5/100\n",
            "500/500 [==============================] - 110s 219ms/step - loss: 0.4975 - accuracy: 0.8472 - val_loss: 1.6755 - val_accuracy: 0.4726\n",
            "Epoch 6/100\n",
            "500/500 [==============================] - 110s 219ms/step - loss: 0.4029 - accuracy: 0.8805 - val_loss: 1.6751 - val_accuracy: 0.5675\n",
            "Epoch 7/100\n",
            "500/500 [==============================] - 110s 219ms/step - loss: 0.3166 - accuracy: 0.9092 - val_loss: 1.1918 - val_accuracy: 0.6676\n",
            "Epoch 8/100\n",
            "500/500 [==============================] - 110s 220ms/step - loss: 0.2519 - accuracy: 0.9297 - val_loss: 1.3908 - val_accuracy: 0.6258\n",
            "Epoch 9/100\n",
            "500/500 [==============================] - 110s 221ms/step - loss: 0.1837 - accuracy: 0.9552 - val_loss: 1.4603 - val_accuracy: 0.6087\n",
            "Epoch 10/100\n",
            "500/500 [==============================] - 110s 220ms/step - loss: 0.1386 - accuracy: 0.9687 - val_loss: 3.7793 - val_accuracy: 0.3543\n",
            "Epoch 11/100\n",
            "500/500 [==============================] - 109s 219ms/step - loss: 0.0931 - accuracy: 0.9828 - val_loss: 3.3408 - val_accuracy: 0.4081\n",
            "Epoch 12/100\n",
            "500/500 [==============================] - 110s 219ms/step - loss: 0.0706 - accuracy: 0.9888 - val_loss: 2.9190 - val_accuracy: 0.4451\n",
            "Epoch 13/100\n",
            "500/500 [==============================] - 110s 220ms/step - loss: 0.0519 - accuracy: 0.9939 - val_loss: 0.7275 - val_accuracy: 0.8185\n",
            "Epoch 14/100\n",
            "500/500 [==============================] - 110s 220ms/step - loss: 0.0301 - accuracy: 0.9988 - val_loss: 0.7243 - val_accuracy: 0.8210\n",
            "Epoch 15/100\n",
            "500/500 [==============================] - 110s 219ms/step - loss: 0.0226 - accuracy: 0.9996 - val_loss: 0.5118 - val_accuracy: 0.8590\n",
            "Epoch 16/100\n",
            "500/500 [==============================] - 110s 219ms/step - loss: 0.0193 - accuracy: 0.9999 - val_loss: 0.4868 - val_accuracy: 0.8696\n",
            "Epoch 17/100\n",
            "500/500 [==============================] - 110s 219ms/step - loss: 0.0172 - accuracy: 0.9999 - val_loss: 0.4873 - val_accuracy: 0.8660\n",
            "Epoch 18/100\n",
            "500/500 [==============================] - 110s 220ms/step - loss: 0.0158 - accuracy: 0.9999 - val_loss: 0.4721 - val_accuracy: 0.8740\n",
            "Epoch 19/100\n",
            "500/500 [==============================] - 110s 220ms/step - loss: 0.0146 - accuracy: 1.0000 - val_loss: 0.4614 - val_accuracy: 0.8706\n",
            "Epoch 20/100\n",
            "500/500 [==============================] - 110s 220ms/step - loss: 0.0140 - accuracy: 1.0000 - val_loss: 0.4942 - val_accuracy: 0.8679\n",
            "Epoch 21/100\n",
            "500/500 [==============================] - 110s 220ms/step - loss: 0.0131 - accuracy: 1.0000 - val_loss: 0.4498 - val_accuracy: 0.8734\n",
            "Epoch 22/100\n",
            "500/500 [==============================] - 110s 220ms/step - loss: 0.0124 - accuracy: 1.0000 - val_loss: 0.4477 - val_accuracy: 0.8777\n",
            "Epoch 23/100\n",
            "500/500 [==============================] - 110s 220ms/step - loss: 0.0118 - accuracy: 1.0000 - val_loss: 0.4520 - val_accuracy: 0.8758\n",
            "Epoch 24/100\n",
            "500/500 [==============================] - 110s 220ms/step - loss: 0.0116 - accuracy: 1.0000 - val_loss: 0.4619 - val_accuracy: 0.8705\n",
            "Epoch 25/100\n",
            "500/500 [==============================] - 110s 221ms/step - loss: 0.0114 - accuracy: 1.0000 - val_loss: 0.4524 - val_accuracy: 0.8752\n",
            "Epoch 26/100\n",
            "500/500 [==============================] - 111s 221ms/step - loss: 0.0109 - accuracy: 1.0000 - val_loss: 0.4580 - val_accuracy: 0.8739\n",
            "Epoch 27/100\n",
            "500/500 [==============================] - 110s 219ms/step - loss: 0.0105 - accuracy: 1.0000 - val_loss: 0.4545 - val_accuracy: 0.8737\n",
            "Epoch 28/100\n",
            "500/500 [==============================] - 110s 220ms/step - loss: 0.0102 - accuracy: 1.0000 - val_loss: 0.4594 - val_accuracy: 0.8752\n",
            "Epoch 29/100\n",
            "500/500 [==============================] - 110s 221ms/step - loss: 0.0102 - accuracy: 1.0000 - val_loss: 0.4520 - val_accuracy: 0.8739\n",
            "Epoch 30/100\n",
            "500/500 [==============================] - 111s 221ms/step - loss: 0.2991 - accuracy: 0.9285 - val_loss: 2.6760 - val_accuracy: 0.4868\n",
            "Epoch 31/100\n",
            "500/500 [==============================] - 110s 221ms/step - loss: 0.0563 - accuracy: 0.9921 - val_loss: 0.5321 - val_accuracy: 0.8639\n",
            "Epoch 32/100\n",
            "500/500 [==============================] - 110s 220ms/step - loss: 0.0312 - accuracy: 0.9981 - val_loss: 0.5174 - val_accuracy: 0.8670\n",
            "Epoch 33/100\n",
            "500/500 [==============================] - 110s 220ms/step - loss: 0.0254 - accuracy: 0.9994 - val_loss: 0.5061 - val_accuracy: 0.8708\n",
            "Epoch 34/100\n",
            "500/500 [==============================] - 110s 219ms/step - loss: 0.0227 - accuracy: 0.9997 - val_loss: 0.4998 - val_accuracy: 0.8716\n",
            "Epoch 35/100\n",
            "500/500 [==============================] - 110s 220ms/step - loss: 0.0212 - accuracy: 0.9999 - val_loss: 0.4973 - val_accuracy: 0.8713\n",
            "Epoch 36/100\n",
            "500/500 [==============================] - 110s 220ms/step - loss: 0.0201 - accuracy: 0.9998 - val_loss: 0.4959 - val_accuracy: 0.8706\n",
            "Epoch 37/100\n",
            "500/500 [==============================] - 110s 220ms/step - loss: 0.0191 - accuracy: 1.0000 - val_loss: 0.4864 - val_accuracy: 0.8726\n",
            "Epoch 38/100\n",
            "500/500 [==============================] - 110s 221ms/step - loss: 0.0186 - accuracy: 0.9999 - val_loss: 0.4862 - val_accuracy: 0.8727\n",
            "Epoch 39/100\n",
            "500/500 [==============================] - 110s 221ms/step - loss: 0.0178 - accuracy: 1.0000 - val_loss: 0.4844 - val_accuracy: 0.8740\n",
            "Epoch 40/100\n",
            "500/500 [==============================] - 111s 221ms/step - loss: 0.0175 - accuracy: 1.0000 - val_loss: 0.4833 - val_accuracy: 0.8726\n",
            "Epoch 41/100\n",
            "500/500 [==============================] - 110s 220ms/step - loss: 0.0169 - accuracy: 1.0000 - val_loss: 0.4804 - val_accuracy: 0.8735\n",
            "Epoch 42/100\n",
            "500/500 [==============================] - 110s 219ms/step - loss: 0.0165 - accuracy: 1.0000 - val_loss: 0.4797 - val_accuracy: 0.8732\n",
            "Epoch 43/100\n",
            "500/500 [==============================] - 110s 221ms/step - loss: 0.0160 - accuracy: 1.0000 - val_loss: 0.4753 - val_accuracy: 0.8738\n",
            "Epoch 44/100\n",
            "500/500 [==============================] - 110s 220ms/step - loss: 0.0157 - accuracy: 1.0000 - val_loss: 0.4772 - val_accuracy: 0.8734\n",
            "Epoch 45/100\n",
            "500/500 [==============================] - 110s 221ms/step - loss: 0.0154 - accuracy: 1.0000 - val_loss: 0.4730 - val_accuracy: 0.8749\n",
            "Epoch 46/100\n",
            "500/500 [==============================] - 110s 221ms/step - loss: 0.0155 - accuracy: 1.0000 - val_loss: 0.4758 - val_accuracy: 0.8752\n",
            "Epoch 47/100\n",
            "500/500 [==============================] - 110s 221ms/step - loss: 0.0151 - accuracy: 1.0000 - val_loss: 0.4716 - val_accuracy: 0.8743\n",
            "Epoch 48/100\n",
            "500/500 [==============================] - 110s 221ms/step - loss: 0.0149 - accuracy: 1.0000 - val_loss: 0.4715 - val_accuracy: 0.8753\n",
            "Epoch 49/100\n",
            "500/500 [==============================] - 110s 221ms/step - loss: 0.0148 - accuracy: 1.0000 - val_loss: 0.4735 - val_accuracy: 0.8748\n",
            "Epoch 50/100\n",
            "500/500 [==============================] - 110s 220ms/step - loss: 0.0145 - accuracy: 0.9999 - val_loss: 0.4697 - val_accuracy: 0.8754\n",
            "Epoch 51/100\n",
            "500/500 [==============================] - 110s 220ms/step - loss: 0.0142 - accuracy: 1.0000 - val_loss: 0.4693 - val_accuracy: 0.8752\n",
            "Epoch 52/100\n",
            "500/500 [==============================] - 110s 220ms/step - loss: 0.0142 - accuracy: 1.0000 - val_loss: 0.4689 - val_accuracy: 0.8753\n",
            "Epoch 53/100\n",
            "500/500 [==============================] - 110s 219ms/step - loss: 0.0142 - accuracy: 1.0000 - val_loss: 0.4688 - val_accuracy: 0.8759\n",
            "Epoch 54/100\n",
            "500/500 [==============================] - 110s 220ms/step - loss: 0.0141 - accuracy: 1.0000 - val_loss: 0.4680 - val_accuracy: 0.8756\n",
            "Epoch 55/100\n",
            "500/500 [==============================] - 110s 220ms/step - loss: 0.0142 - accuracy: 1.0000 - val_loss: 0.4674 - val_accuracy: 0.8752\n",
            "Epoch 56/100\n",
            "500/500 [==============================] - 110s 220ms/step - loss: 0.0141 - accuracy: 1.0000 - val_loss: 0.4683 - val_accuracy: 0.8752\n",
            "Epoch 57/100\n",
            "500/500 [==============================] - 110s 220ms/step - loss: 0.0141 - accuracy: 1.0000 - val_loss: 0.4682 - val_accuracy: 0.8758\n",
            "Epoch 58/100\n",
            "500/500 [==============================] - 110s 220ms/step - loss: 0.0141 - accuracy: 1.0000 - val_loss: 0.4682 - val_accuracy: 0.8756\n",
            "Epoch 59/100\n",
            "500/500 [==============================] - 110s 220ms/step - loss: 0.0141 - accuracy: 1.0000 - val_loss: 0.4678 - val_accuracy: 0.8754\n",
            "Epoch 60/100\n",
            "500/500 [==============================] - 110s 221ms/step - loss: 0.0141 - accuracy: 1.0000 - val_loss: 0.4686 - val_accuracy: 0.8766\n",
            "Epoch 61/100\n",
            "500/500 [==============================] - 110s 221ms/step - loss: 0.0140 - accuracy: 1.0000 - val_loss: 0.4680 - val_accuracy: 0.8766\n",
            "Epoch 62/100\n",
            "500/500 [==============================] - 110s 221ms/step - loss: 0.0141 - accuracy: 1.0000 - val_loss: 0.4685 - val_accuracy: 0.8761\n",
            "Epoch 63/100\n",
            "500/500 [==============================] - 110s 220ms/step - loss: 0.0140 - accuracy: 1.0000 - val_loss: 0.4676 - val_accuracy: 0.8758\n",
            "Epoch 64/100\n",
            "500/500 [==============================] - 110s 220ms/step - loss: 0.0142 - accuracy: 1.0000 - val_loss: 0.4682 - val_accuracy: 0.8758\n",
            "Epoch 65/100\n",
            "500/500 [==============================] - 110s 219ms/step - loss: 0.0138 - accuracy: 1.0000 - val_loss: 0.4672 - val_accuracy: 0.8770\n",
            "Epoch 66/100\n",
            "500/500 [==============================] - 110s 220ms/step - loss: 0.0141 - accuracy: 1.0000 - val_loss: 0.4674 - val_accuracy: 0.8766\n",
            "Epoch 67/100\n",
            "500/500 [==============================] - 110s 220ms/step - loss: 0.0140 - accuracy: 1.0000 - val_loss: 0.4676 - val_accuracy: 0.8763\n",
            "Epoch 68/100\n",
            "500/500 [==============================] - 110s 221ms/step - loss: 0.0138 - accuracy: 1.0000 - val_loss: 0.4666 - val_accuracy: 0.8758\n",
            "Epoch 69/100\n",
            "500/500 [==============================] - 111s 221ms/step - loss: 0.0139 - accuracy: 1.0000 - val_loss: 0.4666 - val_accuracy: 0.8761\n",
            "Epoch 70/100\n",
            "500/500 [==============================] - 110s 220ms/step - loss: 0.0138 - accuracy: 1.0000 - val_loss: 0.4669 - val_accuracy: 0.8751\n",
            "Epoch 71/100\n",
            "500/500 [==============================] - 110s 220ms/step - loss: 0.0138 - accuracy: 1.0000 - val_loss: 0.4666 - val_accuracy: 0.8760\n",
            "Epoch 72/100\n",
            "500/500 [==============================] - 110s 219ms/step - loss: 0.0138 - accuracy: 1.0000 - val_loss: 0.4661 - val_accuracy: 0.8764\n",
            "Epoch 73/100\n",
            "500/500 [==============================] - 109s 219ms/step - loss: 0.0138 - accuracy: 1.0000 - val_loss: 0.4665 - val_accuracy: 0.8759\n",
            "Epoch 74/100\n",
            "500/500 [==============================] - 110s 220ms/step - loss: 0.0137 - accuracy: 1.0000 - val_loss: 0.4666 - val_accuracy: 0.8760\n",
            "Epoch 75/100\n",
            "500/500 [==============================] - 110s 221ms/step - loss: 0.0138 - accuracy: 1.0000 - val_loss: 0.4663 - val_accuracy: 0.8760\n",
            "Epoch 76/100\n",
            "500/500 [==============================] - 110s 220ms/step - loss: 0.0138 - accuracy: 1.0000 - val_loss: 0.4659 - val_accuracy: 0.8760\n",
            "Epoch 77/100\n",
            "500/500 [==============================] - 110s 220ms/step - loss: 0.0137 - accuracy: 1.0000 - val_loss: 0.4662 - val_accuracy: 0.8753\n",
            "Epoch 78/100\n",
            "500/500 [==============================] - 110s 220ms/step - loss: 0.0138 - accuracy: 1.0000 - val_loss: 0.4664 - val_accuracy: 0.8753\n",
            "Epoch 79/100\n",
            "500/500 [==============================] - 110s 219ms/step - loss: 0.0138 - accuracy: 1.0000 - val_loss: 0.4663 - val_accuracy: 0.8758\n",
            "Epoch 80/100\n",
            "500/500 [==============================] - 110s 219ms/step - loss: 0.0135 - accuracy: 1.0000 - val_loss: 0.4657 - val_accuracy: 0.8761\n",
            "Epoch 81/100\n",
            "500/500 [==============================] - 110s 220ms/step - loss: 0.0137 - accuracy: 1.0000 - val_loss: 0.4652 - val_accuracy: 0.8752\n",
            "Epoch 82/100\n",
            "500/500 [==============================] - 110s 220ms/step - loss: 0.0137 - accuracy: 1.0000 - val_loss: 0.4659 - val_accuracy: 0.8767\n",
            "Epoch 83/100\n",
            "500/500 [==============================] - 110s 220ms/step - loss: 0.0136 - accuracy: 1.0000 - val_loss: 0.4650 - val_accuracy: 0.8753\n",
            "Epoch 84/100\n",
            "500/500 [==============================] - 109s 219ms/step - loss: 0.0138 - accuracy: 1.0000 - val_loss: 0.4659 - val_accuracy: 0.8752\n",
            "Epoch 85/100\n",
            "500/500 [==============================] - 109s 218ms/step - loss: 0.0135 - accuracy: 1.0000 - val_loss: 0.4659 - val_accuracy: 0.8759\n",
            "Epoch 86/100\n",
            "500/500 [==============================] - 109s 219ms/step - loss: 0.0136 - accuracy: 1.0000 - val_loss: 0.4653 - val_accuracy: 0.8761\n",
            "Epoch 87/100\n",
            "500/500 [==============================] - 110s 219ms/step - loss: 0.0136 - accuracy: 1.0000 - val_loss: 0.4654 - val_accuracy: 0.8761\n",
            "Epoch 88/100\n",
            "500/500 [==============================] - 110s 219ms/step - loss: 0.0136 - accuracy: 1.0000 - val_loss: 0.4654 - val_accuracy: 0.8756\n",
            "Epoch 89/100\n",
            "500/500 [==============================] - 110s 219ms/step - loss: 0.0137 - accuracy: 1.0000 - val_loss: 0.4663 - val_accuracy: 0.8764\n",
            "Epoch 90/100\n",
            "500/500 [==============================] - 109s 219ms/step - loss: 0.0136 - accuracy: 1.0000 - val_loss: 0.4657 - val_accuracy: 0.8756\n",
            "Epoch 91/100\n",
            "500/500 [==============================] - 109s 219ms/step - loss: 0.0136 - accuracy: 1.0000 - val_loss: 0.4658 - val_accuracy: 0.8763\n",
            "Epoch 92/100\n",
            "500/500 [==============================] - 109s 218ms/step - loss: 0.0137 - accuracy: 1.0000 - val_loss: 0.4656 - val_accuracy: 0.8763\n",
            "Epoch 93/100\n",
            "500/500 [==============================] - 110s 220ms/step - loss: 0.0137 - accuracy: 1.0000 - val_loss: 0.4657 - val_accuracy: 0.8759\n",
            "Epoch 94/100\n",
            "500/500 [==============================] - 110s 219ms/step - loss: 0.0138 - accuracy: 1.0000 - val_loss: 0.4656 - val_accuracy: 0.8766\n",
            "Epoch 95/100\n",
            "500/500 [==============================] - 110s 219ms/step - loss: 0.0137 - accuracy: 1.0000 - val_loss: 0.4664 - val_accuracy: 0.8751\n",
            "Epoch 96/100\n",
            "500/500 [==============================] - 110s 220ms/step - loss: 0.0136 - accuracy: 1.0000 - val_loss: 0.4660 - val_accuracy: 0.8768\n",
            "Epoch 97/100\n",
            "500/500 [==============================] - 110s 219ms/step - loss: 0.0137 - accuracy: 1.0000 - val_loss: 0.4654 - val_accuracy: 0.8764\n",
            "Epoch 98/100\n",
            "500/500 [==============================] - 110s 219ms/step - loss: 0.0137 - accuracy: 1.0000 - val_loss: 0.4655 - val_accuracy: 0.8760\n",
            "Epoch 99/100\n",
            "500/500 [==============================] - 110s 220ms/step - loss: 0.0138 - accuracy: 1.0000 - val_loss: 0.4652 - val_accuracy: 0.8758\n",
            "Epoch 100/100\n",
            "500/500 [==============================] - 110s 220ms/step - loss: 0.0137 - accuracy: 1.0000 - val_loss: 0.4657 - val_accuracy: 0.8756\n"
          ],
          "name": "stdout"
        }
      ]
    }
  ]
}