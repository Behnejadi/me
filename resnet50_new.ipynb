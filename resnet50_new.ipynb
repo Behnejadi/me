{
 "cells": [
  {
   "cell_type": "code",
   "execution_count": 3,
   "metadata": {
    "id": "F8ESUWX_ZNqD"
   },
   "outputs": [],
   "source": [
    "import numpy as np\n",
    "import tensorflow as tf\n",
    "from tensorflow import keras\n",
    "from tensorflow.keras.layers import Dense, Activation\n",
    "from tensorflow.keras.optimizers import Adam\n",
    "from keras.optimizers import SGD\n",
    "from tensorflow.keras.metrics import categorical_crossentropy\n",
    "from tensorflow.keras.preprocessing.image import ImageDataGenerator\n",
    "from tensorflow.keras.preprocessing import image\n",
    "from tensorflow.keras.models import Model\n",
    "from tensorflow.keras.applications import imagenet_utils\n",
    "from keras.preprocessing.image import ImageDataGenerator\n",
    "from sklearn.metrics import confusion_matrix\n",
    "from sklearn.metrics import plot_confusion_matrix\n",
    "import itertools\n",
    "import os\n",
    "import shutil\n",
    "import random\n",
    "import glob\n",
    "import matplotlib.pyplot as plt\n",
    "%matplotlib inline\n",
    "from keras.wrappers.scikit_learn import KerasClassifier\n",
    "import sklearn\n",
    "import pandas as pd\n",
    "from sklearn.metrics import roc_auc_score, roc_curve, auc\n",
    "from sklearn.model_selection import StratifiedKFold\n",
    "from sklearn.metrics import precision_score, recall_score\n",
    "from scipy import interp\n",
    "import matplotlib.pyplot as plt\n",
    "import time\n",
    "from sklearn.model_selection import cross_val_score"
   ]
  },
  {
   "cell_type": "code",
   "execution_count": 4,
   "metadata": {
    "colab": {
     "base_uri": "https://localhost:8080/"
    },
    "id": "HsoWeUrh9SVN",
    "outputId": "6a39fe9a-c895-438a-f08f-bf4f0d0af716"
   },
   "outputs": [
    {
     "name": "stdout",
     "output_type": "stream",
     "text": [
      "(3103, 224, 224, 3)\n",
      "(3103, 1)\n"
     ]
    }
   ],
   "source": [
    "#loading data\n",
    "dataset = np.load('data.row/ASD2.npz') #Dataset ready in numpy array (removing background, resizing, and transforming into grayscale)\n",
    "X = dataset['X']\n",
    "y = dataset['y']\n",
    "\n",
    "print(X.shape)\n",
    "print(y.shape)"
   ]
  },
  {
   "cell_type": "code",
   "execution_count": 6,
   "metadata": {
    "id": "DFfNdiAC4ZCK"
   },
   "outputs": [],
   "source": [
    "def GetModel():\n",
    "    resnet50 = tf.keras.applications.ResNet50(weights='imagenet', include_top=True , input_tensor=None, input_shape=None, pooling=None)\n",
    "\n",
    "    x = resnet50.layers[-2].output\n",
    "    output = Dense(units=1, activation='sigmoid')(x)\n",
    "    model = Model(inputs=resnet50.input, outputs=output)\n",
    "    for layer in model.layers[175:]:\n",
    "      layer.trainable = True\n",
    "    for layer in model.layers[:175]:\n",
    "      layer.trainable = False\n",
    "\n",
    "\n",
    "    opt = SGD(lr=0.001,momentum=0.99,decay=0.01,nesterov=False)\n",
    "    #opt = Adam(learning_rate=0.0001,beta_1=0.99,beta_2=0.99,epsilon=0.1,amsgrad=False,name=\"Adam\",)\n",
    "\n",
    "    model.compile(optimizer=opt, loss='binary_crossentropy', metrics=['accuracy'])\n",
    "    return model"
   ]
  },
  {
   "cell_type": "code",
   "execution_count": 7,
   "metadata": {
    "id": "5USIjzD4ApZj"
   },
   "outputs": [],
   "source": [
    "#Hyperparameters\n",
    "nfolds = 3\n",
    "nEpochs = 30\n",
    "nBatch= 16\n",
    "#inputDim = X.shape[1] # Count of features"
   ]
  },
  {
   "cell_type": "code",
   "execution_count": 6,
   "metadata": {
    "colab": {
     "base_uri": "https://localhost:8080/"
    },
    "id": "OUFUdomx2W-1",
    "outputId": "d0980fb8-4eda-4d43-8ad5-e2dcfe3ff93d"
   },
   "outputs": [
    {
     "name": "stdout",
     "output_type": "stream",
     "text": [
      "(2068, 224, 224, 3) (1035, 224, 224, 3) (2068, 1) (1035, 1)\n",
      "(2069, 224, 224, 3) (1034, 224, 224, 3) (2069, 1) (1034, 1)\n",
      "(2069, 224, 224, 3) (1034, 224, 224, 3) (2069, 1) (1034, 1)\n"
     ]
    }
   ],
   "source": [
    "#kfold = StratifiedKFold(n_splits=nfolds, shuffle=True, random_state=1).split(X, y) #Cross validation\n",
    "#for train, test in kfold:\n",
    " # print(X[train].shape, X[test].shape ,y[train].shape, y[test].shape )"
   ]
  },
  {
   "cell_type": "code",
   "execution_count": 13,
   "metadata": {
    "id": "MhumcaHKUg9F"
   },
   "outputs": [],
   "source": [
    "def train_cross_validate(folds = 4):\n",
    "    histories = []\n",
    "    models = []\n",
    "    early_stopping = tf.keras.callbacks.EarlyStopping(monitor = 'val_loss', patience = 4)\n",
    "    kfold = StratifiedKFold(n_splits=nfolds, shuffle=True, random_state=1).split(X, y) #Cross validation\n",
    "    for train, test in kfold:\n",
    "        \n",
    "        model = GetModel()()\n",
    "        history = model.fit(X[train], y[train], validation_split= 0.2, epochs=nEpochs, batch_size=nBatch, verbose=2,callbacks = [ early_stopping])\n",
    "       \n",
    "        models.append(model)\n",
    "        histories.append(history)\n",
    "        \n",
    "    return histories, models"
   ]
  },
  {
   "cell_type": "code",
   "execution_count": 15,
   "metadata": {
    "colab": {
     "base_uri": "https://localhost:8080/",
     "height": 306
    },
    "id": "6ahMkuvgYr7P",
    "outputId": "eb9567ef-55f5-43ec-ea07-858c0ea8f0ce"
   },
   "outputs": [
    {
     "ename": "ValueError",
     "evalue": "ignored",
     "output_type": "error",
     "traceback": [
      "\u001b[0;31m---------------------------------------------------------------------------\u001b[0m",
      "\u001b[0;31mValueError\u001b[0m                                Traceback (most recent call last)",
      "\u001b[0;32m<ipython-input-15-b9801e508a5f>\u001b[0m in \u001b[0;36m<module>\u001b[0;34m()\u001b[0m\n\u001b[0;32m----> 1\u001b[0;31m \u001b[0mhistories\u001b[0m\u001b[0;34m,\u001b[0m \u001b[0mmodels\u001b[0m \u001b[0;34m=\u001b[0m \u001b[0mtrain_cross_validate\u001b[0m\u001b[0;34m(\u001b[0m\u001b[0;34m)\u001b[0m\u001b[0;34m\u001b[0m\u001b[0;34m\u001b[0m\u001b[0m\n\u001b[0m",
      "\u001b[0;32m<ipython-input-13-24915f849e8c>\u001b[0m in \u001b[0;36mtrain_cross_validate\u001b[0;34m(folds)\u001b[0m\n\u001b[1;32m      6\u001b[0m     \u001b[0;32mfor\u001b[0m \u001b[0mtrain\u001b[0m\u001b[0;34m,\u001b[0m \u001b[0mtest\u001b[0m \u001b[0;32min\u001b[0m \u001b[0mkfold\u001b[0m\u001b[0;34m:\u001b[0m\u001b[0;34m\u001b[0m\u001b[0;34m\u001b[0m\u001b[0m\n\u001b[1;32m      7\u001b[0m \u001b[0;34m\u001b[0m\u001b[0m\n\u001b[0;32m----> 8\u001b[0;31m         \u001b[0mmodel\u001b[0m \u001b[0;34m=\u001b[0m \u001b[0mGetModel\u001b[0m\u001b[0;34m(\u001b[0m\u001b[0;34m)\u001b[0m\u001b[0;34m(\u001b[0m\u001b[0;34m)\u001b[0m\u001b[0;34m\u001b[0m\u001b[0;34m\u001b[0m\u001b[0m\n\u001b[0m\u001b[1;32m      9\u001b[0m         \u001b[0mhistory\u001b[0m \u001b[0;34m=\u001b[0m \u001b[0mmodel\u001b[0m\u001b[0;34m.\u001b[0m\u001b[0mfit\u001b[0m\u001b[0;34m(\u001b[0m\u001b[0mX\u001b[0m\u001b[0;34m[\u001b[0m\u001b[0mtrain\u001b[0m\u001b[0;34m]\u001b[0m\u001b[0;34m,\u001b[0m \u001b[0my\u001b[0m\u001b[0;34m[\u001b[0m\u001b[0mtrain\u001b[0m\u001b[0;34m]\u001b[0m\u001b[0;34m,\u001b[0m \u001b[0mvalidation_split\u001b[0m\u001b[0;34m=\u001b[0m \u001b[0;36m0.2\u001b[0m\u001b[0;34m,\u001b[0m \u001b[0mepochs\u001b[0m\u001b[0;34m=\u001b[0m\u001b[0mnEpochs\u001b[0m\u001b[0;34m,\u001b[0m \u001b[0mbatch_size\u001b[0m\u001b[0;34m=\u001b[0m\u001b[0mnBatch\u001b[0m\u001b[0;34m,\u001b[0m \u001b[0mverbose\u001b[0m\u001b[0;34m=\u001b[0m\u001b[0;36m2\u001b[0m\u001b[0;34m,\u001b[0m\u001b[0mcallbacks\u001b[0m \u001b[0;34m=\u001b[0m \u001b[0;34m[\u001b[0m \u001b[0mearly_stopping\u001b[0m\u001b[0;34m]\u001b[0m\u001b[0;34m)\u001b[0m\u001b[0;34m\u001b[0m\u001b[0;34m\u001b[0m\u001b[0m\n\u001b[1;32m     10\u001b[0m \u001b[0;34m\u001b[0m\u001b[0m\n",
      "\u001b[0;32m/usr/local/lib/python3.6/dist-packages/tensorflow/python/keras/engine/base_layer.py\u001b[0m in \u001b[0;36m__call__\u001b[0;34m(self, *args, **kwargs)\u001b[0m\n\u001b[1;32m    914\u001b[0m     \u001b[0;31m#   not to any other argument.\u001b[0m\u001b[0;34m\u001b[0m\u001b[0;34m\u001b[0m\u001b[0;34m\u001b[0m\u001b[0m\n\u001b[1;32m    915\u001b[0m     \u001b[0;31m# - setting the SavedModel saving spec.\u001b[0m\u001b[0;34m\u001b[0m\u001b[0;34m\u001b[0m\u001b[0;34m\u001b[0m\u001b[0m\n\u001b[0;32m--> 916\u001b[0;31m     \u001b[0minputs\u001b[0m\u001b[0;34m,\u001b[0m \u001b[0margs\u001b[0m\u001b[0;34m,\u001b[0m \u001b[0mkwargs\u001b[0m \u001b[0;34m=\u001b[0m \u001b[0mself\u001b[0m\u001b[0;34m.\u001b[0m\u001b[0m_split_out_first_arg\u001b[0m\u001b[0;34m(\u001b[0m\u001b[0margs\u001b[0m\u001b[0;34m,\u001b[0m \u001b[0mkwargs\u001b[0m\u001b[0;34m)\u001b[0m\u001b[0;34m\u001b[0m\u001b[0;34m\u001b[0m\u001b[0m\n\u001b[0m\u001b[1;32m    917\u001b[0m     \u001b[0minput_list\u001b[0m \u001b[0;34m=\u001b[0m \u001b[0mnest\u001b[0m\u001b[0;34m.\u001b[0m\u001b[0mflatten\u001b[0m\u001b[0;34m(\u001b[0m\u001b[0minputs\u001b[0m\u001b[0;34m)\u001b[0m\u001b[0;34m\u001b[0m\u001b[0;34m\u001b[0m\u001b[0m\n\u001b[1;32m    918\u001b[0m \u001b[0;34m\u001b[0m\u001b[0m\n",
      "\u001b[0;32m/usr/local/lib/python3.6/dist-packages/tensorflow/python/keras/engine/base_layer.py\u001b[0m in \u001b[0;36m_split_out_first_arg\u001b[0;34m(self, args, kwargs)\u001b[0m\n\u001b[1;32m   2978\u001b[0m     \u001b[0;32melse\u001b[0m\u001b[0;34m:\u001b[0m\u001b[0;34m\u001b[0m\u001b[0;34m\u001b[0m\u001b[0m\n\u001b[1;32m   2979\u001b[0m       raise ValueError(\n\u001b[0;32m-> 2980\u001b[0;31m           'The first argument to `Layer.call` must always be passed.')\n\u001b[0m\u001b[1;32m   2981\u001b[0m     \u001b[0;32mreturn\u001b[0m \u001b[0minputs\u001b[0m\u001b[0;34m,\u001b[0m \u001b[0margs\u001b[0m\u001b[0;34m,\u001b[0m \u001b[0mkwargs\u001b[0m\u001b[0;34m\u001b[0m\u001b[0;34m\u001b[0m\u001b[0m\n\u001b[1;32m   2982\u001b[0m \u001b[0;34m\u001b[0m\u001b[0m\n",
      "\u001b[0;31mValueError\u001b[0m: The first argument to `Layer.call` must always be passed."
     ]
    }
   ],
   "source": [
    "histories, models = train_cross_validate()#تا اینجا به شکل تابع بودن رو تست کردم که نتونستم ارور رو رفع کنم"
   ]
  },
  {
   "cell_type": "code",
   "execution_count": 7,
   "metadata": {
    "id": "9qN4JXHf_KWR"
   },
   "outputs": [],
   "source": [
    "model = GetModel()#از اینجا به بعد فقط از تابعی که برای رزنت تعریف کردم استفاده کردم و خروجی میده اما نه چیزی که من می خوام "
   ]
  },
  {
   "cell_type": "code",
   "execution_count": 8,
   "metadata": {
    "colab": {
     "base_uri": "https://localhost:8080/"
    },
    "id": "E_s7x72gCfLz",
    "outputId": "6649b514-d0db-4825-b0c8-c1eace88aa1f"
   },
   "outputs": [
    {
     "name": "stdout",
     "output_type": "stream",
     "text": [
      "Epoch 1/30\n",
      "104/104 - 7s - loss: 0.8384 - accuracy: 0.6356 - val_loss: 4.3076 - val_accuracy: 0.0000e+00\n",
      "Epoch 2/30\n",
      "104/104 - 6s - loss: 0.7731 - accuracy: 0.6242 - val_loss: 1.3345 - val_accuracy: 0.0000e+00\n",
      "Epoch 3/30\n",
      "104/104 - 6s - loss: 0.6947 - accuracy: 0.6731 - val_loss: 2.8887 - val_accuracy: 0.0000e+00\n",
      "Epoch 4/30\n",
      "104/104 - 6s - loss: 0.7327 - accuracy: 0.6332 - val_loss: 1.8756 - val_accuracy: 0.0000e+00\n",
      "Epoch 5/30\n",
      "104/104 - 6s - loss: 0.6071 - accuracy: 0.7432 - val_loss: 0.6987 - val_accuracy: 0.4227\n",
      "Epoch 6/30\n",
      "104/104 - 6s - loss: 0.6009 - accuracy: 0.7372 - val_loss: 2.6824 - val_accuracy: 0.0000e+00\n",
      "Epoch 7/30\n",
      "104/104 - 6s - loss: 0.6040 - accuracy: 0.7456 - val_loss: 1.7501 - val_accuracy: 0.0000e+00\n",
      "Epoch 8/30\n",
      "104/104 - 6s - loss: 0.5529 - accuracy: 0.7444 - val_loss: 1.4977 - val_accuracy: 0.0000e+00\n",
      "Epoch 9/30\n",
      "104/104 - 6s - loss: 0.5716 - accuracy: 0.7444 - val_loss: 2.1483 - val_accuracy: 0.0000e+00\n",
      "Epoch 10/30\n",
      "104/104 - 6s - loss: 0.6088 - accuracy: 0.7082 - val_loss: 1.8268 - val_accuracy: 0.0000e+00\n",
      "Epoch 11/30\n",
      "104/104 - 6s - loss: 0.5727 - accuracy: 0.7480 - val_loss: 1.2375 - val_accuracy: 0.0048\n",
      "Epoch 12/30\n",
      "104/104 - 6s - loss: 0.5806 - accuracy: 0.7468 - val_loss: 0.6682 - val_accuracy: 0.5193\n",
      "Epoch 13/30\n",
      "104/104 - 6s - loss: 0.5756 - accuracy: 0.7438 - val_loss: 1.0745 - val_accuracy: 0.0459\n",
      "Epoch 14/30\n",
      "104/104 - 6s - loss: 0.5596 - accuracy: 0.7553 - val_loss: 1.7010 - val_accuracy: 0.0000e+00\n",
      "Epoch 15/30\n",
      "104/104 - 6s - loss: 0.5821 - accuracy: 0.7498 - val_loss: 1.0619 - val_accuracy: 0.0628\n",
      "Epoch 16/30\n",
      "104/104 - 6s - loss: 0.5604 - accuracy: 0.7462 - val_loss: 0.8584 - val_accuracy: 0.2005\n",
      "Epoch 17/30\n",
      "104/104 - 6s - loss: 0.5486 - accuracy: 0.7480 - val_loss: 1.3582 - val_accuracy: 0.0048\n",
      "Epoch 18/30\n",
      "104/104 - 6s - loss: 0.5437 - accuracy: 0.7462 - val_loss: 1.3028 - val_accuracy: 0.0048\n",
      "Epoch 19/30\n",
      "104/104 - 6s - loss: 0.5491 - accuracy: 0.7486 - val_loss: 1.6117 - val_accuracy: 0.0000e+00\n",
      "Epoch 20/30\n",
      "104/104 - 6s - loss: 0.5509 - accuracy: 0.7505 - val_loss: 0.8447 - val_accuracy: 0.2246\n",
      "Epoch 21/30\n",
      "104/104 - 6s - loss: 0.5450 - accuracy: 0.7468 - val_loss: 1.3457 - val_accuracy: 0.0048\n",
      "Epoch 22/30\n",
      "104/104 - 6s - loss: 0.5450 - accuracy: 0.7492 - val_loss: 1.2459 - val_accuracy: 0.0145\n",
      "Epoch 23/30\n",
      "104/104 - 6s - loss: 0.5428 - accuracy: 0.7462 - val_loss: 1.0892 - val_accuracy: 0.0845\n",
      "Epoch 24/30\n",
      "104/104 - 6s - loss: 0.5397 - accuracy: 0.7468 - val_loss: 1.3272 - val_accuracy: 0.0072\n",
      "Epoch 25/30\n",
      "104/104 - 6s - loss: 0.5404 - accuracy: 0.7444 - val_loss: 1.0401 - val_accuracy: 0.1159\n",
      "Epoch 26/30\n",
      "104/104 - 6s - loss: 0.5371 - accuracy: 0.7498 - val_loss: 1.3899 - val_accuracy: 0.0048\n",
      "Epoch 27/30\n",
      "104/104 - 6s - loss: 0.5497 - accuracy: 0.7505 - val_loss: 1.5972 - val_accuracy: 0.0000e+00\n",
      "Epoch 28/30\n",
      "104/104 - 6s - loss: 0.5470 - accuracy: 0.7517 - val_loss: 1.0788 - val_accuracy: 0.0894\n",
      "Epoch 29/30\n",
      "104/104 - 6s - loss: 0.5414 - accuracy: 0.7505 - val_loss: 0.9630 - val_accuracy: 0.1570\n",
      "Epoch 30/30\n",
      "104/104 - 6s - loss: 0.5708 - accuracy: 0.7565 - val_loss: 0.7843 - val_accuracy: 0.3068\n"
     ]
    }
   ],
   "source": [
    "hist =model.fit(X[train], y[train], validation_split=0.2, epochs=nEpochs, batch_size=nBatch, verbose=2)"
   ]
  },
  {
   "cell_type": "code",
   "execution_count": 10,
   "metadata": {
    "colab": {
     "base_uri": "https://localhost:8080/"
    },
    "id": "heJtCQFgCyJS",
    "outputId": "c2b05d59-5322-4f6d-d320-7a9ae12480a9"
   },
   "outputs": [
    {
     "name": "stdout",
     "output_type": "stream",
     "text": [
      "22/22 [==============================] - 2s 100ms/step - loss: 0.8794 - accuracy: 0.5167\n",
      "11/11 [==============================] - 1s 109ms/step - loss: 2.0867 - accuracy: 0.0000e+00\n",
      "22/22 [==============================] - 2s 89ms/step - loss: 0.7025 - accuracy: 0.4702\n",
      "11/11 [==============================] - 1s 83ms/step - loss: 0.5666 - accuracy: 0.7855\n",
      "22/22 [==============================] - 2s 102ms/step - loss: 1.1397 - accuracy: 0.8232\n",
      "11/11 [==============================] - 1s 110ms/step - loss: 14.0395 - accuracy: 0.0000e+00\n",
      "[0.         0.78550726 0.        ]\n"
     ]
    }
   ],
   "source": [
    "keras_clf = KerasClassifier(GetModel)#این قسمت رو دوباره برای کافولد استفاده کردم ولی نتیجه من نسبت به کدی که دیدم عجیب بود.،باید 3 تا عدد می داد ولی فقط یک عدد چاپ کرده و بقیه صفر هستند ،چرا؟\n",
    "accuracies = cross_val_score(estimator=keras_clf, X=X[test], y=y[test], cv=3)\n",
    "\n",
    "print(accuracies)"
   ]
  },
  {
   "cell_type": "code",
   "execution_count": 9,
   "metadata": {
    "id": "NFARn69XZNGR"
   },
   "outputs": [],
   "source": [
    "#for i, layer in enumerate(model.layers):\n",
    "    #print(i, layer.name, layer.trainable)"
   ]
  },
  {
   "cell_type": "code",
   "execution_count": 11,
   "metadata": {
    "id": "WqYjj0uRC0xt"
   },
   "outputs": [],
   "source": [
    "for layer in model.layers[165:]:\n",
    "    layer.trainable = True\n",
    "for layer in model.layers[:165]:\n",
    "    layer.trainable = False"
   ]
  },
  {
   "cell_type": "code",
   "execution_count": 12,
   "metadata": {
    "id": "IIEvszLAC2_K"
   },
   "outputs": [],
   "source": [
    "opt = SGD(lr=0.001,momentum=0.95,decay=0.01,nesterov=False)\n",
    "model.compile(optimizer=opt, loss='binary_crossentropy', metrics=['accuracy'])"
   ]
  },
  {
   "cell_type": "code",
   "execution_count": 13,
   "metadata": {
    "colab": {
     "base_uri": "https://localhost:8080/"
    },
    "id": "SvO7mpyJC207",
    "outputId": "1e83c7e5-9ddb-4076-d079-9c8f5830daad"
   },
   "outputs": [
    {
     "name": "stdout",
     "output_type": "stream",
     "text": [
      "Epoch 1/30\n",
      "104/104 - 8s - loss: 0.5389 - accuracy: 0.7492 - val_loss: 1.4069 - val_accuracy: 0.0097\n",
      "Epoch 2/30\n",
      "104/104 - 7s - loss: 0.5116 - accuracy: 0.7523 - val_loss: 0.7546 - val_accuracy: 0.4082\n",
      "Epoch 3/30\n",
      "104/104 - 7s - loss: 0.4900 - accuracy: 0.7644 - val_loss: 0.1004 - val_accuracy: 0.9976\n",
      "Epoch 4/30\n",
      "104/104 - 7s - loss: 0.4630 - accuracy: 0.7843 - val_loss: 0.3938 - val_accuracy: 0.8792\n",
      "Epoch 5/30\n",
      "104/104 - 7s - loss: 0.4480 - accuracy: 0.7994 - val_loss: 0.8908 - val_accuracy: 0.3575\n",
      "Epoch 6/30\n",
      "104/104 - 7s - loss: 0.4550 - accuracy: 0.7849 - val_loss: 0.4340 - val_accuracy: 0.8309\n",
      "Epoch 7/30\n",
      "104/104 - 7s - loss: 0.4419 - accuracy: 0.7970 - val_loss: 0.3238 - val_accuracy: 0.9106\n",
      "Epoch 8/30\n",
      "104/104 - 7s - loss: 0.4404 - accuracy: 0.8018 - val_loss: 0.0598 - val_accuracy: 0.9952\n",
      "Epoch 9/30\n",
      "104/104 - 7s - loss: 0.4231 - accuracy: 0.8079 - val_loss: 1.6280 - val_accuracy: 0.1812\n",
      "Epoch 10/30\n",
      "104/104 - 7s - loss: 0.4221 - accuracy: 0.8169 - val_loss: 0.0681 - val_accuracy: 0.9928\n",
      "Epoch 11/30\n",
      "104/104 - 7s - loss: 0.4182 - accuracy: 0.8139 - val_loss: 0.1849 - val_accuracy: 0.9541\n",
      "Epoch 12/30\n",
      "104/104 - 7s - loss: 0.4098 - accuracy: 0.8193 - val_loss: 0.0685 - val_accuracy: 0.9952\n",
      "Epoch 13/30\n",
      "104/104 - 7s - loss: 0.4221 - accuracy: 0.8115 - val_loss: 5.3171 - val_accuracy: 0.0000e+00\n",
      "Epoch 14/30\n",
      "104/104 - 7s - loss: 0.4218 - accuracy: 0.8079 - val_loss: 0.7131 - val_accuracy: 0.6159\n",
      "Epoch 15/30\n",
      "104/104 - 7s - loss: 0.4088 - accuracy: 0.8218 - val_loss: 0.7352 - val_accuracy: 0.5966\n",
      "Epoch 16/30\n",
      "104/104 - 7s - loss: 0.4057 - accuracy: 0.8211 - val_loss: 0.5089 - val_accuracy: 0.7585\n",
      "Epoch 17/30\n",
      "104/104 - 7s - loss: 0.4079 - accuracy: 0.8199 - val_loss: 0.3321 - val_accuracy: 0.8841\n",
      "Epoch 18/30\n",
      "104/104 - 7s - loss: 0.3910 - accuracy: 0.8308 - val_loss: 3.4063 - val_accuracy: 0.0821\n",
      "Epoch 19/30\n",
      "104/104 - 7s - loss: 0.3895 - accuracy: 0.8326 - val_loss: 0.0056 - val_accuracy: 1.0000\n",
      "Epoch 20/30\n",
      "104/104 - 7s - loss: 0.3821 - accuracy: 0.8344 - val_loss: 0.6020 - val_accuracy: 0.6908\n",
      "Epoch 21/30\n",
      "104/104 - 7s - loss: 0.3803 - accuracy: 0.8363 - val_loss: 0.1275 - val_accuracy: 0.9734\n",
      "Epoch 22/30\n",
      "104/104 - 7s - loss: 0.3794 - accuracy: 0.8356 - val_loss: 4.7451 - val_accuracy: 0.0338\n",
      "Epoch 23/30\n",
      "104/104 - 7s - loss: 0.3857 - accuracy: 0.8387 - val_loss: 7.4206 - val_accuracy: 0.0000e+00\n",
      "Epoch 24/30\n",
      "104/104 - 7s - loss: 0.3779 - accuracy: 0.8326 - val_loss: 0.9269 - val_accuracy: 0.5242\n",
      "Epoch 25/30\n",
      "104/104 - 7s - loss: 0.3668 - accuracy: 0.8441 - val_loss: 1.5135 - val_accuracy: 0.2778\n",
      "Epoch 26/30\n",
      "104/104 - 7s - loss: 0.3734 - accuracy: 0.8411 - val_loss: 0.0074 - val_accuracy: 1.0000\n",
      "Epoch 27/30\n",
      "104/104 - 7s - loss: 0.3712 - accuracy: 0.8429 - val_loss: 0.0873 - val_accuracy: 0.9783\n",
      "Epoch 28/30\n",
      "104/104 - 7s - loss: 0.3565 - accuracy: 0.8459 - val_loss: 0.6539 - val_accuracy: 0.6787\n",
      "Epoch 29/30\n",
      "104/104 - 7s - loss: 0.3607 - accuracy: 0.8399 - val_loss: 3.0450 - val_accuracy: 0.1159\n",
      "Epoch 30/30\n",
      "104/104 - 7s - loss: 0.3575 - accuracy: 0.8405 - val_loss: 3.9320 - val_accuracy: 0.0749\n"
     ]
    }
   ],
   "source": [
    "hist =model.fit(X[train], y[train], validation_split=0.2, epochs=nEpochs, batch_size=nBatch, verbose=2)"
   ]
  },
  {
   "cell_type": "code",
   "execution_count": 14,
   "metadata": {
    "colab": {
     "base_uri": "https://localhost:8080/"
    },
    "id": "vVDq-zqZSQK2",
    "outputId": "a8cf9c0e-b7da-4c3c-bab4-c09784dfd7aa"
   },
   "outputs": [
    {
     "name": "stdout",
     "output_type": "stream",
     "text": [
      "[1.6486421823501587, 0.6324951648712158]\n"
     ]
    }
   ],
   "source": [
    "score = model.evaluate(X[test], y[test], verbose=0 )\n",
    "print(score)"
   ]
  },
  {
   "cell_type": "code",
   "execution_count": 15,
   "metadata": {
    "colab": {
     "base_uri": "https://localhost:8080/"
    },
    "id": "GQE91WZPSP_-",
    "outputId": "4d90ca0f-bf5f-4aa2-d625-b41be03b1891"
   },
   "outputs": [
    {
     "name": "stdout",
     "output_type": "stream",
     "text": [
      "0.5454545454545454\n"
     ]
    }
   ],
   "source": [
    "y_pred = model.predict(X[test])\n",
    "\n",
    "AUC = roc_auc_score(y[test], y_pred.round())\n",
    "print(AUC)"
   ]
  }
 ],
 "metadata": {
  "accelerator": "GPU",
  "colab": {
   "collapsed_sections": [],
   "name": "resnet50.new.ipynb",
   "provenance": []
  },
  "kernelspec": {
   "display_name": "Python 3",
   "language": "python",
   "name": "python3"
  },
  "language_info": {
   "codemirror_mode": {
    "name": "ipython",
    "version": 3
   },
   "file_extension": ".py",
   "mimetype": "text/x-python",
   "name": "python",
   "nbconvert_exporter": "python",
   "pygments_lexer": "ipython3",
   "version": "3.6.5"
  }
 },
 "nbformat": 4,
 "nbformat_minor": 1
}
