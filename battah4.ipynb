{
 "cells": [
  {
   "cell_type": "code",
   "execution_count": 1,
   "metadata": {},
   "outputs": [],
   "source": [
    "#A simple DNN model of three hidden layer is developed in this code\n",
    "from keras.models import Sequential\n",
    "from keras.layers import Dense,Dropout\n",
    "from sklearn.model_selection import train_test_split\n",
    "from sklearn.metrics import roc_auc_score\n",
    "import numpy as np\n",
    "from sklearn.model_selection import StratifiedKFold"
   ]
  },
  {
   "cell_type": "code",
   "execution_count": 2,
   "metadata": {},
   "outputs": [],
   "source": [
    "dataset = np.genfromtxt('data.row.battah\\\\ASDDataset_Augmented.csv', delimiter=',')"
   ]
  },
  {
   "cell_type": "code",
   "execution_count": 6,
   "metadata": {},
   "outputs": [],
   "source": [
    "#print(dataset.shape)\n",
    "X = dataset[1:,:10000]\n",
    "Y = dataset[1:,10000].astype(dtype='int')\n",
    "#print(labels)"
   ]
  },
  {
   "cell_type": "code",
   "execution_count": null,
   "metadata": {},
   "outputs": [],
   "source": [
    "#X_train, X_test, Y_train, Y_test = train_test_split(features, labels, test_size=0.30, random_state=42)"
   ]
  },
  {
   "cell_type": "code",
   "execution_count": 10,
   "metadata": {},
   "outputs": [
    {
     "name": "stdout",
     "output_type": "stream",
     "text": [
      "[2.6536026000976562, 0.6302250623703003]\n",
      "[2.3080527782440186, 0.7202572226524353]\n",
      "[2.038811445236206, 0.7073954939842224]\n",
      "[2.042351245880127, 0.7234726548194885]\n",
      "[2.3304948806762695, 0.7395498156547546]\n",
      "[1.562292456626892, 0.7161290049552917]\n",
      "[1.6822434663772583, 0.7483870983123779]\n",
      "[2.3221964836120605, 0.7451612949371338]\n",
      "[1.9662977457046509, 0.7346278429031372]\n",
      "[2.803004264831543, 0.7152103781700134]\n",
      "0.6659565217391303\n"
     ]
    }
   ],
   "source": [
    "kfold = StratifiedKFold(n_splits=10, shuffle=True, random_state=0).split(X, Y)\n",
    "cvscores = []\n",
    "for train, test in kfold:\n",
    "    \n",
    "    # تعریف مدل\n",
    "    model = Sequential()\n",
    "    model.add(Dense(500, input_dim=(10000), activation='relu'))\n",
    "    \n",
    "    model.add(Dense(200, activation='relu'))\n",
    "    model.add(Dropout(0.2))\n",
    "       \n",
    "    model.add(Dense(1, activation='sigmoid'))\n",
    "    \n",
    "    \n",
    "    \n",
    "    # Compile model\n",
    "    model.compile(loss= 'binary_crossentropy' , optimizer= 'adam' , metrics=[ 'accuracy' ])\n",
    "    \n",
    "    # Fit the model\n",
    "    model.fit(X[train], Y[train], validation_split=0.2,  epochs=100, batch_size=12, verbose=0)\n",
    "    pred = model.predict(X[test]).ravel()\n",
    "   \n",
    "    # ارزیابی مدل\n",
    "    scores = model.evaluate(X[test], Y[test], verbose=0)\n",
    "    print(scores)\n",
    "    \n",
    "    \n",
    "    y_pred = model.predict(X[test])\n",
    "    AUC = roc_auc_score(Y[test], y_pred.round())\n",
    "print(AUC)"
   ]
  },
  {
   "cell_type": "code",
   "execution_count": null,
   "metadata": {},
   "outputs": [],
   "source": []
  }
 ],
 "metadata": {
  "kernelspec": {
   "display_name": "Python 3",
   "language": "python",
   "name": "python3"
  },
  "language_info": {
   "codemirror_mode": {
    "name": "ipython",
    "version": 3
   },
   "file_extension": ".py",
   "mimetype": "text/x-python",
   "name": "python",
   "nbconvert_exporter": "python",
   "pygments_lexer": "ipython3",
   "version": "3.6.5"
  }
 },
 "nbformat": 4,
 "nbformat_minor": 2
}
