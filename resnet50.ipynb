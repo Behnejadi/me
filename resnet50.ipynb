{
 "cells": [
  {
   "cell_type": "code",
   "execution_count": 1,
   "metadata": {
    "executionInfo": {
     "elapsed": 6140,
     "status": "ok",
     "timestamp": 1604695024850,
     "user": {
      "displayName": "Fateme Behnejadi",
      "photoUrl": "",
      "userId": "10242526420567395859"
     },
     "user_tz": -210
    },
    "id": "F8ESUWX_ZNqD"
   },
   "outputs": [
    {
     "name": "stderr",
     "output_type": "stream",
     "text": [
      "Using TensorFlow backend.\n",
      "ERROR:root:Internal Python error in the inspect module.\n",
      "Below is the traceback from this internal error.\n",
      "\n"
     ]
    },
    {
     "name": "stdout",
     "output_type": "stream",
     "text": [
      "Traceback (most recent call last):\n",
      "  File \"C:\\Users\\fatemeh\\Anaconda3\\lib\\site-packages\\IPython\\core\\interactiveshell.py\", line 2963, in run_code\n",
      "    exec(code_obj, self.user_global_ns, self.user_ns)\n",
      "  File \"<ipython-input-1-d9c63dd8c5bf>\", line 13, in <module>\n",
      "    from sklearn.metrics import plot_confusion_matrix\n",
      "ImportError: cannot import name 'plot_confusion_matrix'\n",
      "\n",
      "During handling of the above exception, another exception occurred:\n",
      "\n",
      "Traceback (most recent call last):\n",
      "  File \"C:\\Users\\fatemeh\\Anaconda3\\lib\\site-packages\\IPython\\core\\interactiveshell.py\", line 1863, in showtraceback\n",
      "    stb = value._render_traceback_()\n",
      "AttributeError: 'ImportError' object has no attribute '_render_traceback_'\n",
      "\n",
      "During handling of the above exception, another exception occurred:\n",
      "\n",
      "Traceback (most recent call last):\n",
      "  File \"C:\\Users\\fatemeh\\Anaconda3\\lib\\site-packages\\IPython\\core\\ultratb.py\", line 1095, in get_records\n",
      "    return _fixed_getinnerframes(etb, number_of_lines_of_context, tb_offset)\n",
      "  File \"C:\\Users\\fatemeh\\Anaconda3\\lib\\site-packages\\IPython\\core\\ultratb.py\", line 311, in wrapped\n",
      "    return f(*args, **kwargs)\n",
      "  File \"C:\\Users\\fatemeh\\Anaconda3\\lib\\site-packages\\IPython\\core\\ultratb.py\", line 345, in _fixed_getinnerframes\n",
      "    records = fix_frame_records_filenames(inspect.getinnerframes(etb, context))\n",
      "  File \"C:\\Users\\fatemeh\\Anaconda3\\lib\\inspect.py\", line 1483, in getinnerframes\n",
      "    frameinfo = (tb.tb_frame,) + getframeinfo(tb, context)\n",
      "  File \"C:\\Users\\fatemeh\\Anaconda3\\lib\\inspect.py\", line 1441, in getframeinfo\n",
      "    filename = getsourcefile(frame) or getfile(frame)\n",
      "  File \"C:\\Users\\fatemeh\\Anaconda3\\lib\\inspect.py\", line 696, in getsourcefile\n",
      "    if getattr(getmodule(object, filename), '__loader__', None) is not None:\n",
      "  File \"C:\\Users\\fatemeh\\Anaconda3\\lib\\inspect.py\", line 733, in getmodule\n",
      "    if ismodule(module) and hasattr(module, '__file__'):\n",
      "  File \"C:\\Users\\fatemeh\\Anaconda3\\lib\\site-packages\\tensorflow\\__init__.py\", line 58, in __getattr__\n",
      "    module = self._load()\n",
      "  File \"C:\\Users\\fatemeh\\Anaconda3\\lib\\site-packages\\tensorflow\\__init__.py\", line 52, in _load\n",
      "    module = _importlib.import_module(self.__name__)\n",
      "  File \"C:\\Users\\fatemeh\\Anaconda3\\lib\\importlib\\__init__.py\", line 126, in import_module\n",
      "    return _bootstrap._gcd_import(name[level:], package, level)\n",
      "  File \"<frozen importlib._bootstrap>\", line 994, in _gcd_import\n",
      "  File \"<frozen importlib._bootstrap>\", line 971, in _find_and_load\n",
      "  File \"<frozen importlib._bootstrap>\", line 955, in _find_and_load_unlocked\n",
      "  File \"<frozen importlib._bootstrap>\", line 665, in _load_unlocked\n",
      "  File \"<frozen importlib._bootstrap_external>\", line 678, in exec_module\n",
      "  File \"<frozen importlib._bootstrap>\", line 219, in _call_with_frames_removed\n",
      "  File \"C:\\Users\\fatemeh\\Anaconda3\\lib\\site-packages\\tensorflow_core\\contrib\\__init__.py\", line 39, in <module>\n",
      "    from tensorflow.contrib import compiler\n",
      "  File \"C:\\Users\\fatemeh\\Anaconda3\\lib\\site-packages\\tensorflow_core\\contrib\\compiler\\__init__.py\", line 21, in <module>\n",
      "    from tensorflow.contrib.compiler import jit\n",
      "  File \"C:\\Users\\fatemeh\\Anaconda3\\lib\\site-packages\\tensorflow_core\\contrib\\compiler\\__init__.py\", line 22, in <module>\n",
      "    from tensorflow.contrib.compiler import xla\n",
      "  File \"C:\\Users\\fatemeh\\Anaconda3\\lib\\site-packages\\tensorflow_core\\contrib\\compiler\\xla.py\", line 22, in <module>\n",
      "    from tensorflow.python.estimator import model_fn as model_fn_lib\n",
      "  File \"C:\\Users\\fatemeh\\Anaconda3\\lib\\site-packages\\tensorflow_core\\python\\estimator\\model_fn.py\", line 26, in <module>\n",
      "    from tensorflow_estimator.python.estimator import model_fn\n",
      "  File \"C:\\Users\\fatemeh\\Anaconda3\\lib\\site-packages\\tensorflow_estimator\\python\\estimator\\model_fn.py\", line 29, in <module>\n",
      "    from tensorflow.python.types import core\n",
      "ModuleNotFoundError: No module named 'tensorflow.python.types'\n"
     ]
    },
    {
     "ename": "ImportError",
     "evalue": "cannot import name 'plot_confusion_matrix'",
     "output_type": "error",
     "traceback": [
      "\u001b[1;31m---------------------------------------------------------------------------\u001b[0m"
     ]
    }
   ],
   "source": [
    "import numpy as np\n",
    "import tensorflow as tf\n",
    "from tensorflow import keras\n",
    "from tensorflow.keras.layers import Dense, Activation\n",
    "from tensorflow.keras.optimizers import Adam\n",
    "from tensorflow.keras.metrics import categorical_crossentropy\n",
    "from tensorflow.keras.preprocessing.image import ImageDataGenerator\n",
    "from tensorflow.keras.preprocessing import image\n",
    "from tensorflow.keras.models import Model\n",
    "from tensorflow.keras.applications import imagenet_utils\n",
    "from keras.preprocessing.image import ImageDataGenerator\n",
    "from sklearn.metrics import confusion_matrix\n",
    "from sklearn.metrics import plot_confusion_matrix\n",
    "import itertools\n",
    "import os\n",
    "import shutil\n",
    "import random\n",
    "import glob\n",
    "import matplotlib.pyplot as plt\n",
    "%matplotlib inline\n",
    "\n",
    "import sklearn\n",
    "import pandas as pd\n",
    "from sklearn.metrics import roc_auc_score, roc_curve, auc\n",
    "from sklearn.model_selection import StratifiedKFold\n",
    "from sklearn.metrics import precision_score, recall_score\n",
    "from scipy import interp\n",
    "import matplotlib.pyplot as plt\n",
    "import time"
   ]
  },
  {
   "cell_type": "code",
   "execution_count": 2,
   "metadata": {
    "colab": {
     "base_uri": "https://localhost:8080/"
    },
    "executionInfo": {
     "elapsed": 14341,
     "status": "ok",
     "timestamp": 1604695041818,
     "user": {
      "displayName": "Fateme Behnejadi",
      "photoUrl": "",
      "userId": "10242526420567395859"
     },
     "user_tz": -210
    },
    "id": "HsoWeUrh9SVN",
    "outputId": "1a5e5326-8e73-4106-f09e-04cc9a224c57"
   },
   "outputs": [
    {
     "name": "stdout",
     "output_type": "stream",
     "text": [
      "(3103, 224, 224, 3)\n",
      "(3103, 1)\n"
     ]
    }
   ],
   "source": [
    "#loading data\n",
    "dataset = np.load('data.row/ASD2.npz') #Dataset ready in numpy array (removing background, resizing, and transforming into grayscale)\n",
    "X = dataset['X']\n",
    "y = dataset['y']\n",
    "\n",
    "print(X.shape)\n",
    "print(y.shape)"
   ]
  },
  {
   "cell_type": "code",
   "execution_count": 3,
   "metadata": {
    "executionInfo": {
     "elapsed": 2186,
     "status": "ok",
     "timestamp": 1604695640947,
     "user": {
      "displayName": "Fateme Behnejadi",
      "photoUrl": "",
      "userId": "10242526420567395859"
     },
     "user_tz": -210
    },
    "id": "5USIjzD4ApZj"
   },
   "outputs": [],
   "source": [
    "#Hyperparameters\n",
    "nfolds = 3\n",
    "nEpochs = 30\n",
    "nBatch= 16\n",
    "#inputDim = X.shape[1] # Count of features"
   ]
  },
  {
   "cell_type": "code",
   "execution_count": 4,
   "metadata": {
    "colab": {
     "base_uri": "https://localhost:8080/"
    },
    "executionInfo": {
     "elapsed": 4046,
     "status": "ok",
     "timestamp": 1604695646650,
     "user": {
      "displayName": "Fateme Behnejadi",
      "photoUrl": "",
      "userId": "10242526420567395859"
     },
     "user_tz": -210
    },
    "id": "OUFUdomx2W-1",
    "outputId": "3e6ee4ed-eacd-4447-ad51-fc6a2121ff91"
   },
   "outputs": [
    {
     "name": "stderr",
     "output_type": "stream",
     "text": [
      "ERROR:root:Internal Python error in the inspect module.\n",
      "Below is the traceback from this internal error.\n",
      "\n"
     ]
    },
    {
     "name": "stdout",
     "output_type": "stream",
     "text": [
      "Traceback (most recent call last):\n",
      "  File \"C:\\Users\\fatemeh\\Anaconda3\\lib\\site-packages\\IPython\\core\\interactiveshell.py\", line 2963, in run_code\n",
      "    exec(code_obj, self.user_global_ns, self.user_ns)\n",
      "  File \"<ipython-input-4-7ebc168295b6>\", line 1, in <module>\n",
      "    kfold = StratifiedKFold(n_splits=nfolds, shuffle=True, random_state=1).split(X, y) #Cross validation\n",
      "NameError: name 'StratifiedKFold' is not defined\n",
      "\n",
      "During handling of the above exception, another exception occurred:\n",
      "\n",
      "Traceback (most recent call last):\n",
      "  File \"C:\\Users\\fatemeh\\Anaconda3\\lib\\site-packages\\IPython\\core\\interactiveshell.py\", line 1863, in showtraceback\n",
      "    stb = value._render_traceback_()\n",
      "AttributeError: 'NameError' object has no attribute '_render_traceback_'\n",
      "\n",
      "During handling of the above exception, another exception occurred:\n",
      "\n",
      "Traceback (most recent call last):\n",
      "  File \"C:\\Users\\fatemeh\\Anaconda3\\lib\\site-packages\\IPython\\core\\ultratb.py\", line 1095, in get_records\n",
      "    return _fixed_getinnerframes(etb, number_of_lines_of_context, tb_offset)\n",
      "  File \"C:\\Users\\fatemeh\\Anaconda3\\lib\\site-packages\\IPython\\core\\ultratb.py\", line 311, in wrapped\n",
      "    return f(*args, **kwargs)\n",
      "  File \"C:\\Users\\fatemeh\\Anaconda3\\lib\\site-packages\\IPython\\core\\ultratb.py\", line 345, in _fixed_getinnerframes\n",
      "    records = fix_frame_records_filenames(inspect.getinnerframes(etb, context))\n",
      "  File \"C:\\Users\\fatemeh\\Anaconda3\\lib\\inspect.py\", line 1483, in getinnerframes\n",
      "    frameinfo = (tb.tb_frame,) + getframeinfo(tb, context)\n",
      "  File \"C:\\Users\\fatemeh\\Anaconda3\\lib\\inspect.py\", line 1441, in getframeinfo\n",
      "    filename = getsourcefile(frame) or getfile(frame)\n",
      "  File \"C:\\Users\\fatemeh\\Anaconda3\\lib\\inspect.py\", line 696, in getsourcefile\n",
      "    if getattr(getmodule(object, filename), '__loader__', None) is not None:\n",
      "  File \"C:\\Users\\fatemeh\\Anaconda3\\lib\\inspect.py\", line 733, in getmodule\n",
      "    if ismodule(module) and hasattr(module, '__file__'):\n",
      "  File \"C:\\Users\\fatemeh\\Anaconda3\\lib\\site-packages\\tensorflow\\__init__.py\", line 58, in __getattr__\n",
      "    module = self._load()\n",
      "  File \"C:\\Users\\fatemeh\\Anaconda3\\lib\\site-packages\\tensorflow\\__init__.py\", line 52, in _load\n",
      "    module = _importlib.import_module(self.__name__)\n",
      "  File \"C:\\Users\\fatemeh\\Anaconda3\\lib\\importlib\\__init__.py\", line 126, in import_module\n",
      "    return _bootstrap._gcd_import(name[level:], package, level)\n",
      "  File \"<frozen importlib._bootstrap>\", line 994, in _gcd_import\n",
      "  File \"<frozen importlib._bootstrap>\", line 971, in _find_and_load\n",
      "  File \"<frozen importlib._bootstrap>\", line 953, in _find_and_load_unlocked\n",
      "ModuleNotFoundError: No module named 'tensorflow_core.estimator'\n"
     ]
    },
    {
     "ename": "NameError",
     "evalue": "name 'StratifiedKFold' is not defined",
     "output_type": "error",
     "traceback": [
      "\u001b[1;31m---------------------------------------------------------------------------\u001b[0m"
     ]
    }
   ],
   "source": [
    "kfold = StratifiedKFold(n_splits=nfolds, shuffle=True, random_state=1).split(X, y) #Cross validation\n",
    "for train, test in kfold:\n",
    "  print(X[train].shape, X[test].shape ,y[train].shape, y[test].shape )"
   ]
  },
  {
   "cell_type": "code",
   "execution_count": 6,
   "metadata": {
    "executionInfo": {
     "elapsed": 4735,
     "status": "ok",
     "timestamp": 1604695653361,
     "user": {
      "displayName": "Fateme Behnejadi",
      "photoUrl": "",
      "userId": "10242526420567395859"
     },
     "user_tz": -210
    },
    "id": "bo_Uj8cjZNTE"
   },
   "outputs": [
    {
     "name": "stdout",
     "output_type": "stream",
     "text": [
      "WARNING:tensorflow:From C:\\Users\\fatemeh\\Anaconda3\\lib\\site-packages\\tensorflow_core\\python\\ops\\resource_variable_ops.py:1630: calling BaseResourceVariable.__init__ (from tensorflow.python.ops.resource_variable_ops) with constraint is deprecated and will be removed in a future version.\n",
      "Instructions for updating:\n",
      "If using Keras pass *_constraint arguments to layers.\n"
     ]
    },
    {
     "name": "stderr",
     "output_type": "stream",
     "text": [
      "WARNING:tensorflow:From C:\\Users\\fatemeh\\Anaconda3\\lib\\site-packages\\tensorflow_core\\python\\ops\\resource_variable_ops.py:1630: calling BaseResourceVariable.__init__ (from tensorflow.python.ops.resource_variable_ops) with constraint is deprecated and will be removed in a future version.\n",
      "Instructions for updating:\n",
      "If using Keras pass *_constraint arguments to layers.\n"
     ]
    },
    {
     "name": "stdout",
     "output_type": "stream",
     "text": [
      "Downloading data from https://github.com/keras-team/keras-applications/releases/download/resnet/resnet50_weights_tf_dim_ordering_tf_kernels.h5\n",
      "102973440/102967424 [==============================] - 1700s 17us/step\n"
     ]
    }
   ],
   "source": [
    "resnet50 = tf.keras.applications.ResNet50() \n",
    "#resnet50.summary()"
   ]
  },
  {
   "cell_type": "code",
   "execution_count": 8,
   "metadata": {
    "executionInfo": {
     "elapsed": 2527,
     "status": "ok",
     "timestamp": 1604695657413,
     "user": {
      "displayName": "Fateme Behnejadi",
      "photoUrl": "",
      "userId": "10242526420567395859"
     },
     "user_tz": -210
    },
    "id": "_1qy5h2dZNNz"
   },
   "outputs": [],
   "source": [
    "x = resnet50.layers[-2].output"
   ]
  },
  {
   "cell_type": "code",
   "execution_count": 9,
   "metadata": {
    "executionInfo": {
     "elapsed": 1898,
     "status": "ok",
     "timestamp": 1604695660735,
     "user": {
      "displayName": "Fateme Behnejadi",
      "photoUrl": "",
      "userId": "10242526420567395859"
     },
     "user_tz": -210
    },
    "id": "0niV2DoRZNLf"
   },
   "outputs": [],
   "source": [
    "output = Dense(units=1, activation='sigmoid')(x)"
   ]
  },
  {
   "cell_type": "code",
   "execution_count": 10,
   "metadata": {
    "executionInfo": {
     "elapsed": 6722,
     "status": "ok",
     "timestamp": 1604695668118,
     "user": {
      "displayName": "Fateme Behnejadi",
      "photoUrl": "",
      "userId": "10242526420567395859"
     },
     "user_tz": -210
    },
    "id": "XzG0MP68ZNJD"
   },
   "outputs": [],
   "source": [
    "model = Model(inputs=resnet50.input, outputs=output)"
   ]
  },
  {
   "cell_type": "code",
   "execution_count": 11,
   "metadata": {
    "executionInfo": {
     "elapsed": 2889,
     "status": "ok",
     "timestamp": 1604695672552,
     "user": {
      "displayName": "Fateme Behnejadi",
      "photoUrl": "",
      "userId": "10242526420567395859"
     },
     "user_tz": -210
    },
    "id": "NFARn69XZNGR"
   },
   "outputs": [],
   "source": [
    "#for layer in model.layers[:-23]:\n",
    "#   layer.trainable = False\n",
    "\n",
    "for layer in model.layers[175:]:\n",
    "    layer.trainable = True\n",
    "for layer in model.layers[:175]:\n",
    "    layer.trainable = False\n",
    "#for i, layer in enumerate(model.layers):\n",
    "    #print(i, layer.name, layer.trainable)"
   ]
  },
  {
   "cell_type": "code",
   "execution_count": 28,
   "metadata": {
    "executionInfo": {
     "elapsed": 3178,
     "status": "ok",
     "timestamp": 1604698147979,
     "user": {
      "displayName": "Fateme Behnejadi",
      "photoUrl": "",
      "userId": "10242526420567395859"
     },
     "user_tz": -210
    },
    "id": "wtTrzDGTZNDX"
   },
   "outputs": [],
   "source": [
    "#from keras.optimizers import SGD\n",
    "from keras.optimizers import Adam\n",
    "#opt = SGD(lr=0.001,momentum=0.9,decay=0.01,nesterov=False)\n",
    "opt = Adam(learning_rate=0.0001,beta_1=0.99,beta_2=0.99,epsilon=0.1,amsgrad=False,name=\"Adam\",)\n",
    "model.compile(optimizer=opt, loss='binary_crossentropy', metrics=['accuracy'])\n",
    "#model.summary()"
   ]
  },
  {
   "cell_type": "code",
   "execution_count": null,
   "metadata": {
    "id": "s1zKlRQ4ZNAr"
   },
   "outputs": [],
   "source": [
    "#Fiting the model \n",
    "\n",
    "hist =model.fit(X[train], y[train], validation_split=0.2, epochs=nEpochs, batch_size=nBatch, verbose=2)\n",
    "  #pred = model.predict(X[test]).ravel()\n",
    "\n",
    "  #Calculating Recall and precision\n",
    "  #recall.append( recall_score(y[test], pred.round()) )\n",
    "  #precision.append( precision_score(y[test], pred.round()) )\n",
    "\n",
    "  #ROC AUC\n",
    "  #fpr, tpr, thresholds = roc_curve(y[test], pred)\n",
    "  #tprs.append(interp(mean_fpr, fpr, tpr))\n",
    "  #tprs[-1][0] = 0.0\n",
    "  #roc_auc = auc(fpr, tpr)\n",
    "  #print(roc_auc)\n",
    "  #aucs.append(roc_auc)\n",
    "  #hists_CNN.append(hist)\n",
    "\n",
    "\n",
    "#print(\"Avg AUC:\", np.mean(aucs))\n",
    "\n",
    "#print(\"Avg Recall:\", np.mean(recall))\n",
    "#print(\"Avg Precision:\", np.mean(precision))\n",
    "\n"
   ]
  },
  {
   "cell_type": "code",
   "execution_count": 26,
   "metadata": {
    "colab": {
     "base_uri": "https://localhost:8080/"
    },
    "executionInfo": {
     "elapsed": 6662,
     "status": "ok",
     "timestamp": 1604697722899,
     "user": {
      "displayName": "Fateme Behnejadi",
      "photoUrl": "",
      "userId": "10242526420567395859"
     },
     "user_tz": -210
    },
    "id": "vVDq-zqZSQK2",
    "outputId": "173b72c1-8a37-47c3-d8a6-10b0a7b8d049"
   },
   "outputs": [
    {
     "name": "stdout",
     "output_type": "stream",
     "text": [
      "[0.5941858291625977, 0.68858802318573]\n"
     ]
    }
   ],
   "source": [
    "score = model.evaluate(X[test], y[test], verbose=0)\n",
    "print(score)"
   ]
  },
  {
   "cell_type": "code",
   "execution_count": 27,
   "metadata": {
    "colab": {
     "base_uri": "https://localhost:8080/"
    },
    "executionInfo": {
     "elapsed": 6682,
     "status": "ok",
     "timestamp": 1604697731391,
     "user": {
      "displayName": "Fateme Behnejadi",
      "photoUrl": "",
      "userId": "10242526420567395859"
     },
     "user_tz": -210
    },
    "id": "GQE91WZPSP_-",
    "outputId": "80654bec-7d69-4f26-ff8d-63d0e14a2d0e"
   },
   "outputs": [
    {
     "name": "stdout",
     "output_type": "stream",
     "text": [
      "0.6198308270676691\n"
     ]
    }
   ],
   "source": [
    "y_pred = model.predict(X[test])\n",
    "\n",
    "AUC = roc_auc_score(y[test], y_pred.round())\n",
    "print(AUC)"
   ]
  }
 ],
 "metadata": {
  "accelerator": "GPU",
  "colab": {
   "authorship_tag": "ABX9TyNoSMQ+czGH6Ioa9gUbsAgx",
   "collapsed_sections": [],
   "name": "resnet50.ipynb",
   "provenance": []
  },
  "kernelspec": {
   "display_name": "Python 3",
   "language": "python",
   "name": "python3"
  },
  "language_info": {
   "codemirror_mode": {
    "name": "ipython",
    "version": 3
   },
   "file_extension": ".py",
   "mimetype": "text/x-python",
   "name": "python",
   "nbconvert_exporter": "python",
   "pygments_lexer": "ipython3",
   "version": "3.6.5"
  }
 },
 "nbformat": 4,
 "nbformat_minor": 1
}
