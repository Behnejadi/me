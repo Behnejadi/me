{
 "cells": [
  {
   "cell_type": "code",
   "execution_count": 12,
   "metadata": {},
   "outputs": [],
   "source": [
    "import numpy as np\n",
    "import tensorflow as tf\n",
    "from tensorflow import keras\n",
    "from tensorflow.keras.models import Sequential\n",
    "from tensorflow.keras.layers import Activation, Dense, Flatten, BatchNormalization, Conv2D, MaxPool2D\n",
    "from tensorflow.keras.optimizers import Adam\n",
    "from tensorflow.keras.metrics import categorical_crossentropy\n",
    "from tensorflow.keras.preprocessing.image import ImageDataGenerator\n",
    "from sklearn.metrics import confusion_matrix\n",
    "import itertools\n",
    "import os\n",
    "import shutil\n",
    "import random\n",
    "import glob\n",
    "import matplotlib.pyplot as plt\n",
    "import warnings\n",
    "warnings.simplefilter(action='ignore', category=FutureWarning)\n",
    "%matplotlib inline\n",
    "from keras.preprocessing.image import ImageDataGenerator"
   ]
  },
  {
   "cell_type": "code",
   "execution_count": 21,
   "metadata": {},
   "outputs": [],
   "source": [
    "# Organize data into train, valid, test dirs\n",
    "os.chdir('data.au/tc-ts')\n",
    "if os.path.isdir('train/TC') is False:\n",
    "    os.makedirs('train/TC')\n",
    "    os.makedirs('train/TS')\n",
    "    os.makedirs('valid/TC')\n",
    "    os.makedirs('valid/TS')\n",
    "    os.makedirs('test/TC')\n",
    "    os.makedirs('test/TS')\n",
    "\n",
    "    for i in random.sample(glob.glob('TSImages/*.png'), 150):\n",
    "        shutil.move(i , 'train/TS')      \n",
    "    for i in random.sample(glob.glob('TCImages/*.png'), 200):\n",
    "        shutil.move(i , 'train/TC')\n",
    "    for i in random.sample(glob.glob('TSImages/*.png'), 40):\n",
    "        shutil.move(i , 'valid/TS')        \n",
    "    for i in random.sample(glob.glob('TCImages/*.png'), 80):\n",
    "        shutil.move(i , 'valid/TC')\n",
    "    for i in random.sample(glob.glob('TSImages/*.png'), 29):\n",
    "        shutil.move(i , 'test/TS')      \n",
    "    for i in random.sample(glob.glob('TCImages/*.png'), 48):\n",
    "        shutil.move(i , 'test/TC')\n",
    "\n",
    "os.chdir('../../')"
   ]
  },
  {
   "cell_type": "code",
   "execution_count": 22,
   "metadata": {},
   "outputs": [],
   "source": [
    "train_path = 'data.aug/tc-ts/train'\n",
    "valid_path = 'data.aug/tc-ts/valid'\n",
    "test_path = 'data.aug/tc-ts/test'"
   ]
  },
  {
   "cell_type": "code",
   "execution_count": 27,
   "metadata": {},
   "outputs": [
    {
     "name": "stdout",
     "output_type": "stream",
     "text": [
      "Found 350 images belonging to 2 classes.\n",
      "Found 120 images belonging to 2 classes.\n",
      "Found 60 images belonging to 2 classes.\n"
     ]
    }
   ],
   "source": [
    "\n",
    "train_batches = ImageDataGenerator() \\\n",
    "    .flow_from_directory(directory=train_path, target_size=(100,100), classes=['TS', 'TC'], batch_size=10)\n",
    "valid_batches = ImageDataGenerator() \\\n",
    "    .flow_from_directory(directory=valid_path, target_size=(100,100), classes=['TS', 'TC'], batch_size=10)\n",
    "test_batches = ImageDataGenerator() \\\n",
    "    .flow_from_directory(directory=test_path, target_size=(100,100), classes=['TS', 'TC'], batch_size=10, shuffle=False)"
   ]
  },
  {
   "cell_type": "code",
   "execution_count": 28,
   "metadata": {},
   "outputs": [],
   "source": [
    "imgs, labels = next(train_batches)"
   ]
  },
  {
   "cell_type": "code",
   "execution_count": 29,
   "metadata": {},
   "outputs": [],
   "source": [
    "def plotImages(images_arr):\n",
    "    fig, axes = plt.subplots(1, 10, figsize=(20,20))\n",
    "    axes = axes.flatten()\n",
    "    for img, ax in zip( images_arr, axes):\n",
    "        ax.imshow(img)\n",
    "        ax.axis('off')\n",
    "    plt.tight_layout()\n",
    "    plt.show()"
   ]
  },
  {
   "cell_type": "code",
   "execution_count": 30,
   "metadata": {},
   "outputs": [
    {
     "name": "stderr",
     "output_type": "stream",
     "text": [
      "Clipping input data to the valid range for imshow with RGB data ([0..1] for floats or [0..255] for integers).\n",
      "Clipping input data to the valid range for imshow with RGB data ([0..1] for floats or [0..255] for integers).\n",
      "Clipping input data to the valid range for imshow with RGB data ([0..1] for floats or [0..255] for integers).\n",
      "Clipping input data to the valid range for imshow with RGB data ([0..1] for floats or [0..255] for integers).\n",
      "Clipping input data to the valid range for imshow with RGB data ([0..1] for floats or [0..255] for integers).\n",
      "Clipping input data to the valid range for imshow with RGB data ([0..1] for floats or [0..255] for integers).\n",
      "Clipping input data to the valid range for imshow with RGB data ([0..1] for floats or [0..255] for integers).\n",
      "Clipping input data to the valid range for imshow with RGB data ([0..1] for floats or [0..255] for integers).\n",
      "Clipping input data to the valid range for imshow with RGB data ([0..1] for floats or [0..255] for integers).\n",
      "Clipping input data to the valid range for imshow with RGB data ([0..1] for floats or [0..255] for integers).\n"
     ]
    },
    {
     "data": {
      "image/png": "[encoded data removed]",
      "text/plain": [
       "<Figure size 1440x1440 with 10 Axes>"
      ]
     },
     "metadata": {},
     "output_type": "display_data"
    },
    {
     "name": "stdout",
     "output_type": "stream",
     "text": [
      "[[1. 0.]\n",
      " [1. 0.]\n",
      " [1. 0.]\n",
      " [1. 0.]\n",
      " [0. 1.]\n",
      " [0. 1.]\n",
      " [0. 1.]\n",
      " [0. 1.]\n",
      " [1. 0.]\n",
      " [0. 1.]]\n"
     ]
    }
   ],
   "source": [
    "plotImages(imgs)\n",
    "print(labels)"
   ]
  },
  {
   "cell_type": "code",
   "execution_count": 31,
   "metadata": {},
   "outputs": [],
   "source": [
    "model = Sequential([\n",
    "    Conv2D(filters=32, kernel_size=(3, 3), activation='relu', padding = 'same', input_shape=(100,100,3)),\n",
    "    MaxPool2D(pool_size=(2, 2), strides=2),\n",
    "    Conv2D(filters=64, kernel_size=(3, 3), activation='relu', padding = 'same'),\n",
    "    MaxPool2D(pool_size=(2, 2), strides=2),\n",
    "    Flatten(),\n",
    "    Dense(units=2, activation='softmax')\n",
    "])"
   ]
  },
  {
   "cell_type": "code",
   "execution_count": 32,
   "metadata": {},
   "outputs": [
    {
     "name": "stdout",
     "output_type": "stream",
     "text": [
      "Model: \"sequential\"\n",
      "_________________________________________________________________\n",
      "Layer (type)                 Output Shape              Param #   \n",
      "=================================================================\n",
      "conv2d (Conv2D)              (None, 100, 100, 32)      896       \n",
      "_________________________________________________________________\n",
      "max_pooling2d (MaxPooling2D) (None, 50, 50, 32)        0         \n",
      "_________________________________________________________________\n",
      "conv2d_1 (Conv2D)            (None, 50, 50, 64)        18496     \n",
      "_________________________________________________________________\n",
      "max_pooling2d_1 (MaxPooling2 (None, 25, 25, 64)        0         \n",
      "_________________________________________________________________\n",
      "flatten (Flatten)            (None, 40000)             0         \n",
      "_________________________________________________________________\n",
      "dense (Dense)                (None, 2)                 80002     \n",
      "=================================================================\n",
      "Total params: 99,394\n",
      "Trainable params: 99,394\n",
      "Non-trainable params: 0\n",
      "_________________________________________________________________\n"
     ]
    }
   ],
   "source": [
    " model.summary()"
   ]
  },
  {
   "cell_type": "code",
   "execution_count": 33,
   "metadata": {},
   "outputs": [],
   "source": [
    "model.compile(optimizer=Adam(learning_rate=0.0001), loss='categorical_crossentropy', metrics=['accuracy'])"
   ]
  },
  {
   "cell_type": "code",
   "execution_count": 34,
   "metadata": {},
   "outputs": [
    {
     "name": "stdout",
     "output_type": "stream",
     "text": [
      "Epoch 1/10\n",
      "35/35 - 15s - loss: 1.0875 - accuracy: 0.5714 - val_loss: 0.9264 - val_accuracy: 0.6167\n",
      "Epoch 2/10\n",
      "35/35 - 7s - loss: 0.6556 - accuracy: 0.7114 - val_loss: 0.5769 - val_accuracy: 0.7417\n",
      "Epoch 3/10\n",
      "35/35 - 7s - loss: 0.3577 - accuracy: 0.8457 - val_loss: 0.5852 - val_accuracy: 0.7500\n",
      "Epoch 4/10\n",
      "35/35 - 6s - loss: 0.2595 - accuracy: 0.9143 - val_loss: 0.6343 - val_accuracy: 0.7250\n",
      "Epoch 5/10\n",
      "35/35 - 6s - loss: 0.2115 - accuracy: 0.9514 - val_loss: 0.6032 - val_accuracy: 0.7417\n",
      "Epoch 6/10\n",
      "35/35 - 7s - loss: 0.1679 - accuracy: 0.9629 - val_loss: 0.6785 - val_accuracy: 0.7417\n",
      "Epoch 7/10\n",
      "35/35 - 6s - loss: 0.1341 - accuracy: 0.9857 - val_loss: 0.6851 - val_accuracy: 0.7333\n",
      "Epoch 8/10\n",
      "35/35 - 7s - loss: 0.1059 - accuracy: 0.9886 - val_loss: 0.7235 - val_accuracy: 0.7250\n",
      "Epoch 9/10\n",
      "35/35 - 6s - loss: 0.0906 - accuracy: 0.9971 - val_loss: 0.7520 - val_accuracy: 0.7250\n",
      "Epoch 10/10\n",
      "35/35 - 6s - loss: 0.0686 - accuracy: 1.0000 - val_loss: 0.7553 - val_accuracy: 0.7333\n"
     ]
    },
    {
     "data": {
      "text/plain": [
       "<tensorflow.python.keras.callbacks.History at 0x1f486991668>"
      ]
     },
     "execution_count": 34,
     "metadata": {},
     "output_type": "execute_result"
    }
   ],
   "source": [
    "model.fit(x=train_batches,\n",
    "    steps_per_epoch=len(train_batches),\n",
    "    validation_data=valid_batches,\n",
    "    validation_steps=len(valid_batches),\n",
    "    epochs=10,\n",
    "    verbose=2\n",
    ")"
   ]
  },
  {
   "cell_type": "code",
   "execution_count": null,
   "metadata": {},
   "outputs": [],
   "source": []
  }
 ],
 "metadata": {
  "kernelspec": {
   "display_name": "Python 3",
   "language": "python",
   "name": "python3"
  },
  "language_info": {
   "codemirror_mode": {
    "name": "ipython",
    "version": 3
   },
   "file_extension": ".py",
   "mimetype": "text/x-python",
   "name": "python",
   "nbconvert_exporter": "python",
   "pygments_lexer": "ipython3",
   "version": "3.6.5"
  }
 },
 "nbformat": 4,
 "nbformat_minor": 2
}
