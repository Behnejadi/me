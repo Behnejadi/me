{
 "cells": [
  {
   "cell_type": "code",
   "execution_count": 6,
   "metadata": {},
   "outputs": [],
   "source": [
    "#A simple DNN model of three hidden layer is developed in this code\n",
    "from keras.models import Sequential\n",
    "from keras.layers import Dense,Dropout\n",
    "from sklearn.model_selection import train_test_split\n",
    "from sklearn.metrics import roc_auc_score\n",
    "import numpy as np\n",
    "\n"
   ]
  },
  {
   "cell_type": "code",
   "execution_count": 7,
   "metadata": {},
   "outputs": [],
   "source": [
    "dataset = np.genfromtxt('data.row\\\\ASDDataset_Augmented.csv', delimiter=',')"
   ]
  },
  {
   "cell_type": "code",
   "execution_count": 8,
   "metadata": {},
   "outputs": [],
   "source": [
    "#print(dataset.shape)\n",
    "features = dataset[1:,:10000]\n",
    "labels = dataset[1:,10000].astype(dtype='int')\n",
    "#print(labels)"
   ]
  },
  {
   "cell_type": "code",
   "execution_count": 9,
   "metadata": {},
   "outputs": [],
   "source": [
    "X_train, X_test, Y_train, Y_test = train_test_split(features, labels, test_size=0.30, random_state=42)"
   ]
  },
  {
   "cell_type": "code",
   "execution_count": 10,
   "metadata": {},
   "outputs": [],
   "source": [
    "model = Sequential()\n",
    "model.add(Dense(500, input_dim=(10000), activation='relu'))\n",
    "\n",
    "model.add(Dense(200, activation='relu'))\n",
    "model.add(Dropout(0.2))\n",
    "\n",
    "model.add(Dense(100, activation='relu'))\n",
    "model.add(Dropout(0.2))\n",
    "\n",
    "model.add(Dense(50, activation='relu'))\n",
    "model.add(Dropout(0.2))\n",
    "\n",
    "model.add(Dense(1, activation='sigmoid'))\n"
   ]
  },
  {
   "cell_type": "code",
   "execution_count": 11,
   "metadata": {},
   "outputs": [],
   "source": [
    "#Compile model\n",
    "model.compile(loss='binary_crossentropy', optimizer='adam', metrics=['accuracy'])"
   ]
  },
  {
   "cell_type": "code",
   "execution_count": 12,
   "metadata": {},
   "outputs": [
    {
     "name": "stdout",
     "output_type": "stream",
     "text": [
      "Epoch 1/100\n",
      "181/181 [==============================] - 6s 32ms/step - loss: 0.6723 - accuracy: 0.5889\n",
      "Epoch 2/100\n",
      "181/181 [==============================] - 6s 32ms/step - loss: 0.6045 - accuracy: 0.6952\n",
      "Epoch 3/100\n",
      "181/181 [==============================] - 6s 32ms/step - loss: 0.5462 - accuracy: 0.7353\n",
      "Epoch 4/100\n",
      "181/181 [==============================] - 6s 32ms/step - loss: 0.5251 - accuracy: 0.7459\n",
      "Epoch 5/100\n",
      "181/181 [==============================] - 6s 32ms/step - loss: 0.5073 - accuracy: 0.7518\n",
      "Epoch 6/100\n",
      "181/181 [==============================] - 6s 32ms/step - loss: 0.4846 - accuracy: 0.7693\n",
      "Epoch 7/100\n",
      "181/181 [==============================] - 6s 33ms/step - loss: 0.4580 - accuracy: 0.7882\n",
      "Epoch 8/100\n",
      "181/181 [==============================] - 6s 32ms/step - loss: 0.4468 - accuracy: 0.7983\n",
      "Epoch 9/100\n",
      "181/181 [==============================] - 6s 33ms/step - loss: 0.4535 - accuracy: 0.7965\n",
      "Epoch 10/100\n",
      "181/181 [==============================] - 6s 33ms/step - loss: 0.4220 - accuracy: 0.8191\n",
      "Epoch 11/100\n",
      "181/181 [==============================] - 6s 33ms/step - loss: 0.3829 - accuracy: 0.8297\n",
      "Epoch 12/100\n",
      "181/181 [==============================] - 6s 32ms/step - loss: 0.3865 - accuracy: 0.8306\n",
      "Epoch 13/100\n",
      "181/181 [==============================] - 6s 33ms/step - loss: 0.3431 - accuracy: 0.8577\n",
      "Epoch 14/100\n",
      "181/181 [==============================] - 6s 33ms/step - loss: 0.3295 - accuracy: 0.8692\n",
      "Epoch 15/100\n",
      "181/181 [==============================] - 6s 33ms/step - loss: 0.3303 - accuracy: 0.8591\n",
      "Epoch 16/100\n",
      "181/181 [==============================] - 6s 33ms/step - loss: 0.3099 - accuracy: 0.8775\n",
      "Epoch 17/100\n",
      "181/181 [==============================] - 6s 34ms/step - loss: 0.2946 - accuracy: 0.8803\n",
      "Epoch 18/100\n",
      "181/181 [==============================] - 6s 32ms/step - loss: 0.2878 - accuracy: 0.8886\n",
      "Epoch 19/100\n",
      "181/181 [==============================] - 6s 32ms/step - loss: 0.2750 - accuracy: 0.8932\n",
      "Epoch 20/100\n",
      "181/181 [==============================] - 6s 34ms/step - loss: 0.2989 - accuracy: 0.8785\n",
      "Epoch 21/100\n",
      "181/181 [==============================] - 6s 33ms/step - loss: 0.2506 - accuracy: 0.9001\n",
      "Epoch 22/100\n",
      "181/181 [==============================] - 6s 32ms/step - loss: 0.2447 - accuracy: 0.9029\n",
      "Epoch 23/100\n",
      "181/181 [==============================] - 6s 32ms/step - loss: 0.2244 - accuracy: 0.9098\n",
      "Epoch 24/100\n",
      "181/181 [==============================] - 6s 32ms/step - loss: 0.2304 - accuracy: 0.9125\n",
      "Epoch 25/100\n",
      "181/181 [==============================] - 6s 32ms/step - loss: 0.2129 - accuracy: 0.9185\n",
      "Epoch 26/100\n",
      "181/181 [==============================] - 6s 33ms/step - loss: 0.2288 - accuracy: 0.9056\n",
      "Epoch 27/100\n",
      "181/181 [==============================] - 6s 32ms/step - loss: 0.1839 - accuracy: 0.9282\n",
      "Epoch 28/100\n",
      "181/181 [==============================] - 6s 32ms/step - loss: 0.2152 - accuracy: 0.9222\n",
      "Epoch 29/100\n",
      "181/181 [==============================] - 6s 32ms/step - loss: 0.1836 - accuracy: 0.9282\n",
      "Epoch 30/100\n",
      "181/181 [==============================] - 6s 32ms/step - loss: 0.2006 - accuracy: 0.9282\n",
      "Epoch 31/100\n",
      "181/181 [==============================] - 6s 32ms/step - loss: 0.1760 - accuracy: 0.9369\n",
      "Epoch 32/100\n",
      "181/181 [==============================] - 6s 33ms/step - loss: 0.1725 - accuracy: 0.9383 0s - loss: 0.1725 - accuracy: 0.93\n",
      "Epoch 33/100\n",
      "181/181 [==============================] - 6s 33ms/step - loss: 0.1915 - accuracy: 0.9259\n",
      "Epoch 34/100\n",
      "181/181 [==============================] - 6s 33ms/step - loss: 0.1924 - accuracy: 0.9296\n",
      "Epoch 35/100\n",
      "181/181 [==============================] - 6s 32ms/step - loss: 0.1519 - accuracy: 0.9420\n",
      "Epoch 36/100\n",
      "181/181 [==============================] - 6s 32ms/step - loss: 0.1656 - accuracy: 0.9300\n",
      "Epoch 37/100\n",
      "181/181 [==============================] - 6s 33ms/step - loss: 0.1407 - accuracy: 0.9503\n",
      "Epoch 38/100\n",
      "181/181 [==============================] - 6s 31ms/step - loss: 0.1596 - accuracy: 0.9461\n",
      "Epoch 39/100\n",
      "181/181 [==============================] - 5s 30ms/step - loss: 0.1309 - accuracy: 0.9494\n",
      "Epoch 40/100\n",
      "181/181 [==============================] - 5s 30ms/step - loss: 0.1157 - accuracy: 0.9576\n",
      "Epoch 41/100\n",
      "181/181 [==============================] - 5s 30ms/step - loss: 0.1052 - accuracy: 0.9599\n",
      "Epoch 42/100\n",
      "181/181 [==============================] - 6s 33ms/step - loss: 0.1369 - accuracy: 0.9517\n",
      "Epoch 43/100\n",
      "181/181 [==============================] - 6s 33ms/step - loss: 0.1051 - accuracy: 0.9613\n",
      "Epoch 44/100\n",
      "181/181 [==============================] - 6s 31ms/step - loss: 0.1286 - accuracy: 0.9590\n",
      "Epoch 45/100\n",
      "181/181 [==============================] - 5s 30ms/step - loss: 0.0976 - accuracy: 0.9655\n",
      "Epoch 46/100\n",
      "181/181 [==============================] - 6s 33ms/step - loss: 0.1099 - accuracy: 0.9622\n",
      "Epoch 47/100\n",
      "181/181 [==============================] - 5s 30ms/step - loss: 0.1503 - accuracy: 0.9466\n",
      "Epoch 48/100\n",
      "181/181 [==============================] - 6s 32ms/step - loss: 0.0948 - accuracy: 0.9692\n",
      "Epoch 49/100\n",
      "181/181 [==============================] - 6s 32ms/step - loss: 0.0956 - accuracy: 0.9641\n",
      "Epoch 50/100\n",
      "181/181 [==============================] - 6s 34ms/step - loss: 0.0789 - accuracy: 0.9733\n",
      "Epoch 51/100\n",
      "181/181 [==============================] - 6s 31ms/step - loss: 0.0745 - accuracy: 0.9751\n",
      "Epoch 52/100\n",
      "181/181 [==============================] - 6s 31ms/step - loss: 0.0830 - accuracy: 0.9770\n",
      "Epoch 53/100\n",
      "181/181 [==============================] - 5s 30ms/step - loss: 0.0871 - accuracy: 0.9687\n",
      "Epoch 54/100\n",
      "181/181 [==============================] - 5s 30ms/step - loss: 0.0728 - accuracy: 0.9747\n",
      "Epoch 55/100\n",
      "181/181 [==============================] - 5s 30ms/step - loss: 0.1388 - accuracy: 0.9471\n",
      "Epoch 56/100\n",
      "181/181 [==============================] - 5s 30ms/step - loss: 0.1233 - accuracy: 0.9489\n",
      "Epoch 57/100\n",
      "181/181 [==============================] - 6s 32ms/step - loss: 0.0794 - accuracy: 0.9761\n",
      "Epoch 58/100\n",
      "181/181 [==============================] - 6s 31ms/step - loss: 0.1034 - accuracy: 0.9632\n",
      "Epoch 59/100\n",
      "181/181 [==============================] - 6s 32ms/step - loss: 0.0656 - accuracy: 0.9797\n",
      "Epoch 60/100\n",
      "181/181 [==============================] - 6s 34ms/step - loss: 0.0544 - accuracy: 0.9834\n",
      "Epoch 61/100\n",
      "181/181 [==============================] - 6s 33ms/step - loss: 0.0651 - accuracy: 0.9770\n",
      "Epoch 62/100\n",
      "181/181 [==============================] - 6s 33ms/step - loss: 0.0762 - accuracy: 0.9747\n",
      "Epoch 63/100\n",
      "181/181 [==============================] - 6s 32ms/step - loss: 0.0582 - accuracy: 0.9807\n",
      "Epoch 64/100\n",
      "181/181 [==============================] - 6s 33ms/step - loss: 0.0770 - accuracy: 0.9715\n",
      "Epoch 65/100\n",
      "181/181 [==============================] - 6s 31ms/step - loss: 0.0542 - accuracy: 0.9825\n",
      "Epoch 66/100\n",
      "181/181 [==============================] - 5s 30ms/step - loss: 0.1375 - accuracy: 0.9553\n",
      "Epoch 67/100\n",
      "181/181 [==============================] - 6s 32ms/step - loss: 0.0573 - accuracy: 0.9825\n",
      "Epoch 68/100\n",
      "181/181 [==============================] - 6s 33ms/step - loss: 0.0751 - accuracy: 0.9742\n",
      "Epoch 69/100\n",
      "181/181 [==============================] - 6s 32ms/step - loss: 0.0602 - accuracy: 0.9788 0s - loss: 0.0578 - accu\n",
      "Epoch 70/100\n",
      "181/181 [==============================] - 6s 31ms/step - loss: 0.0863 - accuracy: 0.9692\n",
      "Epoch 71/100\n",
      "181/181 [==============================] - 6s 31ms/step - loss: 0.0904 - accuracy: 0.9664\n",
      "Epoch 72/100\n",
      "181/181 [==============================] - 5s 30ms/step - loss: 0.0463 - accuracy: 0.9853\n",
      "Epoch 73/100\n",
      "181/181 [==============================] - 5s 30ms/step - loss: 0.0535 - accuracy: 0.9807\n",
      "Epoch 74/100\n",
      "181/181 [==============================] - 6s 31ms/step - loss: 0.0469 - accuracy: 0.9839\n",
      "Epoch 75/100\n",
      "181/181 [==============================] - 6s 31ms/step - loss: 0.1453 - accuracy: 0.9526\n",
      "Epoch 76/100\n",
      "181/181 [==============================] - 5s 30ms/step - loss: 0.0493 - accuracy: 0.9843\n",
      "Epoch 77/100\n",
      "181/181 [==============================] - 5s 30ms/step - loss: 0.0589 - accuracy: 0.9797\n",
      "Epoch 78/100\n",
      "181/181 [==============================] - 5s 30ms/step - loss: 0.0428 - accuracy: 0.9839\n",
      "Epoch 79/100\n",
      "181/181 [==============================] - 5s 30ms/step - loss: 0.0609 - accuracy: 0.9807\n",
      "Epoch 80/100\n"
     ]
    },
    {
     "name": "stdout",
     "output_type": "stream",
     "text": [
      "181/181 [==============================] - 5s 30ms/step - loss: 0.0393 - accuracy: 0.9871\n",
      "Epoch 81/100\n",
      "181/181 [==============================] - 6s 30ms/step - loss: 0.0554 - accuracy: 0.9839\n",
      "Epoch 82/100\n",
      "181/181 [==============================] - 5s 30ms/step - loss: 0.0356 - accuracy: 0.9894\n",
      "Epoch 83/100\n",
      "181/181 [==============================] - 6s 30ms/step - loss: 0.0277 - accuracy: 0.9908\n",
      "Epoch 84/100\n",
      "181/181 [==============================] - 6s 31ms/step - loss: 0.0731 - accuracy: 0.9742\n",
      "Epoch 85/100\n",
      "181/181 [==============================] - 5s 30ms/step - loss: 0.0469 - accuracy: 0.9834\n",
      "Epoch 86/100\n",
      "181/181 [==============================] - 5s 30ms/step - loss: 0.0558 - accuracy: 0.9779\n",
      "Epoch 87/100\n",
      "181/181 [==============================] - 6s 32ms/step - loss: 0.0429 - accuracy: 0.9848\n",
      "Epoch 88/100\n",
      "181/181 [==============================] - 6s 33ms/step - loss: 0.1071 - accuracy: 0.9650\n",
      "Epoch 89/100\n",
      "181/181 [==============================] - 6s 31ms/step - loss: 0.0776 - accuracy: 0.9715\n",
      "Epoch 90/100\n",
      "181/181 [==============================] - 6s 33ms/step - loss: 0.0305 - accuracy: 0.9885\n",
      "Epoch 91/100\n",
      "181/181 [==============================] - 6s 33ms/step - loss: 0.0483 - accuracy: 0.9825\n",
      "Epoch 92/100\n",
      "181/181 [==============================] - 6s 32ms/step - loss: 0.0322 - accuracy: 0.9857\n",
      "Epoch 93/100\n",
      "181/181 [==============================] - 6s 31ms/step - loss: 0.0355 - accuracy: 0.9871\n",
      "Epoch 94/100\n",
      "181/181 [==============================] - 5s 30ms/step - loss: 0.0286 - accuracy: 0.9890\n",
      "Epoch 95/100\n",
      "181/181 [==============================] - 5s 30ms/step - loss: 0.0233 - accuracy: 0.9931\n",
      "Epoch 96/100\n",
      "181/181 [==============================] - 5s 30ms/step - loss: 0.0461 - accuracy: 0.9816\n",
      "Epoch 97/100\n",
      "181/181 [==============================] - 5s 30ms/step - loss: 0.0282 - accuracy: 0.9908\n",
      "Epoch 98/100\n",
      "181/181 [==============================] - 5s 30ms/step - loss: 0.0553 - accuracy: 0.9811\n",
      "Epoch 99/100\n",
      "181/181 [==============================] - 5s 29ms/step - loss: 0.0363 - accuracy: 0.9871\n",
      "Epoch 100/100\n",
      "181/181 [==============================] - 5s 30ms/step - loss: 0.0482 - accuracy: 0.9830\n"
     ]
    },
    {
     "data": {
      "text/plain": [
       "<tensorflow.python.keras.callbacks.History at 0x2240c8407f0>"
      ]
     },
     "execution_count": 12,
     "metadata": {},
     "output_type": "execute_result"
    }
   ],
   "source": [
    "#Fit the model\n",
    "model.fit(X_train, Y_train, batch_size=12, epochs=100, verbose=1)\n"
   ]
  },
  {
   "cell_type": "code",
   "execution_count": 13,
   "metadata": {},
   "outputs": [
    {
     "name": "stdout",
     "output_type": "stream",
     "text": [
      "[1.4031193256378174, 0.7873254418373108]\n"
     ]
    }
   ],
   "source": [
    "#Evaluate model on test data\n",
    "score = model.evaluate(X_test, Y_test, verbose=0)\n",
    "print(score)\n"
   ]
  },
  {
   "cell_type": "code",
   "execution_count": 14,
   "metadata": {},
   "outputs": [
    {
     "name": "stdout",
     "output_type": "stream",
     "text": [
      "0.7694367497691597\n"
     ]
    }
   ],
   "source": [
    "y_pred = model.predict(X_test)\n",
    "\n",
    "AUC = roc_auc_score(Y_test, y_pred.round())\n",
    "print(AUC) #0.8119512885868027 on non-augmented dataset\n"
   ]
  },
  {
   "cell_type": "code",
   "execution_count": null,
   "metadata": {},
   "outputs": [],
   "source": []
  }
 ],
 "metadata": {
  "kernelspec": {
   "display_name": "Python 3",
   "language": "python",
   "name": "python3"
  },
  "language_info": {
   "codemirror_mode": {
    "name": "ipython",
    "version": 3
   },
   "file_extension": ".py",
   "mimetype": "text/x-python",
   "name": "python",
   "nbconvert_exporter": "python",
   "pygments_lexer": "ipython3",
   "version": "3.6.5"
  }
 },
 "nbformat": 4,
 "nbformat_minor": 2
}
