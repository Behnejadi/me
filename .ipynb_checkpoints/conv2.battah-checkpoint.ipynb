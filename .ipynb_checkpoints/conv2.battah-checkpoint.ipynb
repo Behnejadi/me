{
 "cells": [
  {
   "cell_type": "code",
   "execution_count": 1,
   "metadata": {},
   "outputs": [],
   "source": [
    "import numpy as np\n",
    "import pandas as pd\n",
    "from keras.models import Sequential\n",
    "from keras.layers import Dense, Dropout, Activation, Flatten, Conv2D, AveragePooling2D,MaxPooling2D\n",
    "from sklearn.metrics import roc_auc_score, roc_curve, auc\n",
    "from sklearn.model_selection import StratifiedKFold\n",
    "from sklearn.metrics import precision_score, recall_score\n",
    "from scipy import interp\n",
    "import matplotlib.pyplot as plt\n",
    "import time"
   ]
  },
  {
   "cell_type": "code",
   "execution_count": 2,
   "metadata": {},
   "outputs": [
    {
     "name": "stdout",
     "output_type": "stream",
     "text": [
      "(3103, 256, 256, 1)\n",
      "(3103, 1)\n"
     ]
    }
   ],
   "source": [
    "#loading data\n",
    "dataset = np.load('data.row/ASD.npz') #Dataset ready in numpy array (removing background, resizing, and transforming into grayscale)\n",
    "X = dataset['X']\n",
    "y = dataset['y']\n",
    "\n",
    "print(X.shape)\n",
    "print(y.shape)"
   ]
  },
  {
   "cell_type": "code",
   "execution_count": 3,
   "metadata": {},
   "outputs": [],
   "source": [
    "#Hyperparameters\n",
    "nfolds = 3\n",
    "nEpochs = 10\n",
    "nBatch= 16\n",
    "#inputDim = X.shape[1] # Count of features"
   ]
  },
  {
   "cell_type": "code",
   "execution_count": 4,
   "metadata": {},
   "outputs": [
    {
     "name": "stderr",
     "output_type": "stream",
     "text": [
      "C:\\Users\\fatemeh\\Anaconda3\\lib\\site-packages\\ipykernel_launcher.py:48: DeprecationWarning: scipy.interp is deprecated and will be removed in SciPy 2.0.0, use numpy.interp instead\n"
     ]
    },
    {
     "name": "stdout",
     "output_type": "stream",
     "text": [
      "0.9502138672783064\n",
      "0.9677984993475425\n",
      "0.9716336295283664\n",
      "Avg AUC: 0.9632153320514051\n",
      "Avg Recall: 0.9101731601731601\n",
      "Avg Precision: 0.9262207529720676\n",
      "Training Time: 2590.259500026703 seconds.\n"
     ]
    }
   ],
   "source": [
    "kfold = StratifiedKFold(n_splits=nfolds, shuffle=True, random_state=1).split(X, y) #Cross validation\n",
    "tprs = []\n",
    "aucs = []\n",
    "\n",
    "recall =[]\n",
    "precision = []\n",
    "\n",
    "mean_fpr = np.linspace(0, 1, 100)\n",
    "\n",
    "start = time.time()\n",
    "hists_CNN = []\n",
    "for train, test in kfold:\n",
    "  model = Sequential()\n",
    "  model.add(Conv2D(16, (3, 3), padding='same', activation='relu', input_shape=X.shape[1:]))\n",
    "  model.add(MaxPooling2D(pool_size=(2, 2)))\n",
    "  model.add(Dropout(0.20))\n",
    "\n",
    "  model.add(Conv2D(16, (3, 3), padding='same', activation='relu'))\n",
    "  model.add(MaxPooling2D(pool_size=(2, 2)))\n",
    "  model.add(Dropout(0.20))\n",
    "\n",
    "  model.add(Conv2D(32, (3, 3),padding='same', activation='relu'))\n",
    "  model.add(MaxPooling2D(pool_size=(2, 2)))\n",
    "  model.add(Dropout(0.20))\n",
    "\n",
    "  model.add(Conv2D(32, (3, 3),padding='same', activation='relu'))\n",
    "  model.add(MaxPooling2D(pool_size=(2, 2)))\n",
    "  model.add(Dropout(0.20))\n",
    "  \n",
    "  model.add(Flatten())\n",
    "  \n",
    "  model.add(Dense(256, activation='relu'))\n",
    "  model.add(Dense(1, activation='sigmoid'))\n",
    "  model.compile(loss='binary_crossentropy', optimizer='adam', metrics=['accuracy'])\n",
    "  #model.summary()\n",
    "  \n",
    "  #Fiting the model \n",
    "  hist = model.fit(X[train], y[train], validation_split=0.2, epochs=nEpochs, batch_size=nBatch, verbose=0)\n",
    "  \n",
    "  pred = model.predict(X[test]).ravel()\n",
    "\n",
    "  #Calculating Recall and precision\n",
    "  recall.append( recall_score(y[test], pred.round()) )\n",
    "  precision.append( precision_score(y[test], pred.round()) )\n",
    "\n",
    "  #ROC AUC\n",
    "  fpr, tpr, thresholds = roc_curve(y[test], pred)\n",
    "  tprs.append(interp(mean_fpr, fpr, tpr))\n",
    "  tprs[-1][0] = 0.0\n",
    "  roc_auc = auc(fpr, tpr)\n",
    "  print(roc_auc)\n",
    "  aucs.append(roc_auc)\n",
    "  hists_CNN.append(hist)\n",
    "\n",
    "end = time.time()\n",
    "\n",
    "print(\"Avg AUC:\", np.mean(aucs))\n",
    "\n",
    "print(\"Avg Recall:\", np.mean(recall))\n",
    "print(\"Avg Precision:\", np.mean(precision))\n",
    "\n",
    "print(\"Training Time:\", end - start, \"seconds.\") #Using Tesla K80 GPU"
   ]
  },
  {
   "cell_type": "code",
   "execution_count": 5,
   "metadata": {},
   "outputs": [
    {
     "data": {
      "text/plain": [
       "<matplotlib.legend.Legend at 0x22000d1be48>"
      ]
     },
     "execution_count": 5,
     "metadata": {},
     "output_type": "execute_result"
    },
    {
     "data": {
      "image/png": "[encoded data removed]",
      "text/plain": [
       "<Figure size 432x288 with 1 Axes>"
      ]
     },
     "metadata": {},
     "output_type": "display_data"
    }
   ],
   "source": [
    "#ROC curve\n",
    "plt.plot([0, 1], [0, 1], linestyle='--', lw=2, color='black',alpha=0.3)\n",
    "\n",
    "mean_tpr = np.mean(tprs, axis=0)\n",
    "mean_tpr[-1] = 1.0\n",
    "mean_auc = auc(mean_fpr, mean_tpr)\n",
    "std_auc = np.std(aucs)\n",
    "plt.plot(mean_fpr, mean_tpr, color='blue',\n",
    "         label=r'(AUC≈%0.2f $\\pm$%0.2f)' % (mean_auc, std_auc),\n",
    "         lw=2, alpha=.8)\n",
    "plt.legend(loc=\"lower right\")"
   ]
  },
  {
   "cell_type": "code",
   "execution_count": null,
   "metadata": {},
   "outputs": [],
   "source": []
  }
 ],
 "metadata": {
  "kernelspec": {
   "display_name": "Python 3",
   "language": "python",
   "name": "python3"
  },
  "language_info": {
   "codemirror_mode": {
    "name": "ipython",
    "version": 3
   },
   "file_extension": ".py",
   "mimetype": "text/x-python",
   "name": "python",
   "nbconvert_exporter": "python",
   "pygments_lexer": "ipython3",
   "version": "3.6.5"
  }
 },
 "nbformat": 4,
 "nbformat_minor": 2
}
