{
 "cells": [
  {
   "cell_type": "code",
   "execution_count": 12,
   "metadata": {
    "id": "F8ESUWX_ZNqD"
   },
   "outputs": [],
   "source": [
    "import numpy as np\n",
    "import tensorflow as tf\n",
    "from tensorflow import keras\n",
    "from tensorflow.keras.layers import Dense, Activation\n",
    "from tensorflow.keras.optimizers import Adam\n",
    "from keras.optimizers import SGD\n",
    "from tensorflow.keras.metrics import categorical_crossentropy\n",
    "from tensorflow.keras.preprocessing.image import ImageDataGenerator\n",
    "from tensorflow.keras.preprocessing import image\n",
    "from tensorflow.keras.models import Model\n",
    "from tensorflow.keras.applications import imagenet_utils\n",
    "from keras.preprocessing.image import ImageDataGenerator\n",
    "from sklearn.metrics import confusion_matrix\n",
    "from sklearn.metrics import plot_confusion_matrix\n",
    "import itertools\n",
    "import os\n",
    "import shutil\n",
    "import random\n",
    "import glob\n",
    "import matplotlib.pyplot as plt\n",
    "%matplotlib inline\n",
    "from keras.wrappers.scikit_learn import KerasClassifier\n",
    "import sklearn\n",
    "import pandas as pd\n",
    "from sklearn.metrics import roc_auc_score, roc_curve, auc\n",
    "from sklearn.model_selection import StratifiedKFold\n",
    "from sklearn.metrics import precision_score, recall_score\n",
    "from scipy import interp\n",
    "import matplotlib.pyplot as plt\n",
    "import time\n",
    "from sklearn.model_selection import cross_val_score"
   ]
  },
  {
   "cell_type": "code",
   "execution_count": 13,
   "metadata": {
    "colab": {
     "base_uri": "https://localhost:8080/"
    },
    "id": "HsoWeUrh9SVN",
    "outputId": "e6d989aa-b26e-40cd-8b6f-23fef33d1601"
   },
   "outputs": [
    {
     "name": "stdout",
     "output_type": "stream",
     "text": [
      "(3103, 224, 224, 3)\n",
      "(3103, 1)\n"
     ]
    }
   ],
   "source": [
    "#loading data\n",
    "dataset = np.load(data.row/ASD2.npz') #Dataset ready in numpy array (removing background, resizing, and transforming into grayscale)\n",
    "X = dataset['X']\n",
    "y = dataset['y']\n",
    "\n",
    "print(X.shape)\n",
    "print(y.shape)"
   ]
  },
  {
   "cell_type": "code",
   "execution_count": 14,
   "metadata": {
    "id": "DFfNdiAC4ZCK"
   },
   "outputs": [],
   "source": [
    "def GetModel():\n",
    "    resnet50 = tf.keras.applications.ResNet50(weights='imagenet', include_top=True , input_tensor=None, input_shape=None, pooling=None)\n",
    "\n",
    "    x = resnet50.layers[-2].output\n",
    "    output = Dense(units=1, activation='sigmoid')(x)\n",
    "    model = Model(inputs=resnet50.input, outputs=output)\n",
    "    for layer in model.layers[175:]:\n",
    "      layer.trainable = True\n",
    "    for layer in model.layers[:175]:\n",
    "      layer.trainable = False\n",
    "\n",
    "\n",
    "    opt = SGD(lr=0.001,momentum=0.99,decay=0.01,nesterov=False)\n",
    "    #opt = Adam(learning_rate=0.0001,beta_1=0.99,beta_2=0.99,epsilon=0.1,amsgrad=False,name=\"Adam\",)\n",
    "\n",
    "    model.compile(optimizer=opt, loss='binary_crossentropy', metrics=['accuracy'])\n",
    "    return model"
   ]
  },
  {
   "cell_type": "code",
   "execution_count": 15,
   "metadata": {
    "id": "5USIjzD4ApZj"
   },
   "outputs": [],
   "source": [
    "#Hyperparameters\n",
    "nfolds = 3\n",
    "nEpochs = 30\n",
    "nBatch= 16\n",
    "#inputDim = X.shape[1] # Count of features"
   ]
  },
  {
   "cell_type": "code",
   "execution_count": 16,
   "metadata": {
    "id": "MhumcaHKUg9F"
   },
   "outputs": [],
   "source": [
    "def train_cross_validate(folds = 4):\n",
    "    histories = []\n",
    "    models = []\n",
    "    early_stopping = tf.keras.callbacks.EarlyStopping(monitor = 'val_loss', patience = 4)\n",
    "    kfold = StratifiedKFold(n_splits=nfolds, shuffle=True, random_state=1).split(X, y) #Cross validation\n",
    "    for train, test in kfold:\n",
    "        \n",
    "        model = GetModel()\n",
    "        history = model.fit(X[train], y[train], validation_split= 0.2, epochs=nEpochs, batch_size=nBatch, verbose=2,callbacks = [ early_stopping])\n",
    "       \n",
    "        models.append(model)\n",
    "        histories.append(history)\n",
    "        \n",
    "    return histories, models"
   ]
  },
  {
   "cell_type": "code",
   "execution_count": 17,
   "metadata": {
    "colab": {
     "base_uri": "https://localhost:8080/"
    },
    "id": "6ahMkuvgYr7P",
    "outputId": "8334d06f-c465-47fd-ffb2-fad6c250a809"
   },
   "outputs": [
    {
     "name": "stdout",
     "output_type": "stream",
     "text": [
      "Epoch 1/30\n",
      "104/104 - 7s - loss: 0.6502 - accuracy: 0.6838 - val_loss: 0.6337 - val_accuracy: 1.0000\n",
      "Epoch 2/30\n",
      "104/104 - 6s - loss: 0.6205 - accuracy: 0.7304 - val_loss: 0.7242 - val_accuracy: 0.2560\n",
      "Epoch 3/30\n",
      "104/104 - 6s - loss: 0.6634 - accuracy: 0.6886 - val_loss: 1.3241 - val_accuracy: 0.0000e+00\n",
      "Epoch 4/30\n",
      "104/104 - 6s - loss: 0.6008 - accuracy: 0.7485 - val_loss: 1.4789 - val_accuracy: 0.0000e+00\n",
      "Epoch 5/30\n",
      "104/104 - 6s - loss: 0.6361 - accuracy: 0.7261 - val_loss: 0.4435 - val_accuracy: 1.0000\n",
      "Epoch 6/30\n",
      "104/104 - 6s - loss: 0.6041 - accuracy: 0.7207 - val_loss: 1.5539 - val_accuracy: 0.0000e+00\n",
      "Epoch 7/30\n",
      "104/104 - 6s - loss: 0.5922 - accuracy: 0.7497 - val_loss: 2.0482 - val_accuracy: 0.0000e+00\n",
      "Epoch 8/30\n",
      "104/104 - 6s - loss: 0.5849 - accuracy: 0.7485 - val_loss: 1.0875 - val_accuracy: 0.0290\n",
      "Epoch 9/30\n",
      "104/104 - 6s - loss: 0.5461 - accuracy: 0.7467 - val_loss: 1.5130 - val_accuracy: 0.0000e+00\n",
      "Epoch 1/30\n",
      "104/104 - 7s - loss: 0.6284 - accuracy: 0.7335 - val_loss: 1.7917 - val_accuracy: 0.0000e+00\n",
      "Epoch 2/30\n",
      "104/104 - 6s - loss: 0.6172 - accuracy: 0.7462 - val_loss: 1.9151 - val_accuracy: 0.0000e+00\n",
      "Epoch 3/30\n",
      "104/104 - 6s - loss: 0.6507 - accuracy: 0.7076 - val_loss: 0.9860 - val_accuracy: 0.0169\n",
      "Epoch 4/30\n",
      "104/104 - 6s - loss: 0.7437 - accuracy: 0.6417 - val_loss: 3.0658 - val_accuracy: 0.0000e+00\n",
      "Epoch 5/30\n",
      "104/104 - 6s - loss: 0.6379 - accuracy: 0.7015 - val_loss: 1.6833 - val_accuracy: 0.0000e+00\n",
      "Epoch 6/30\n",
      "104/104 - 6s - loss: 0.6085 - accuracy: 0.7408 - val_loss: 1.6671 - val_accuracy: 0.0000e+00\n",
      "Epoch 7/30\n",
      "104/104 - 6s - loss: 0.6002 - accuracy: 0.7486 - val_loss: 0.6788 - val_accuracy: 0.4614\n",
      "Epoch 8/30\n",
      "104/104 - 6s - loss: 0.5670 - accuracy: 0.7547 - val_loss: 1.2289 - val_accuracy: 0.0193\n",
      "Epoch 9/30\n",
      "104/104 - 6s - loss: 0.5748 - accuracy: 0.7517 - val_loss: 1.4348 - val_accuracy: 0.0072\n",
      "Epoch 10/30\n",
      "104/104 - 6s - loss: 0.5568 - accuracy: 0.7523 - val_loss: 1.6009 - val_accuracy: 0.0024\n",
      "Epoch 11/30\n",
      "104/104 - 6s - loss: 0.5692 - accuracy: 0.7571 - val_loss: 2.1153 - val_accuracy: 0.0000e+00\n",
      "Epoch 1/30\n",
      "104/104 - 7s - loss: 1.3684 - accuracy: 0.6133 - val_loss: 0.2035 - val_accuracy: 1.0000\n",
      "Epoch 2/30\n",
      "104/104 - 6s - loss: 1.5037 - accuracy: 0.6151 - val_loss: 8.5556 - val_accuracy: 0.0000e+00\n",
      "Epoch 3/30\n",
      "104/104 - 6s - loss: 1.3391 - accuracy: 0.6320 - val_loss: 0.2388 - val_accuracy: 1.0000\n",
      "Epoch 4/30\n",
      "104/104 - 6s - loss: 0.9230 - accuracy: 0.6024 - val_loss: 3.1522 - val_accuracy: 0.0000e+00\n",
      "Epoch 5/30\n",
      "104/104 - 6s - loss: 0.7653 - accuracy: 0.6441 - val_loss: 1.1322 - val_accuracy: 0.0048\n"
     ]
    }
   ],
   "source": [
    "histories, models = train_cross_validate()"
   ]
  },
  {
   "cell_type": "code",
   "execution_count": 22,
   "metadata": {
    "colab": {
     "base_uri": "https://localhost:8080/",
     "height": 129
    },
    "id": "vVDq-zqZSQK2",
    "outputId": "05fad19e-7478-44eb-f22e-aff1c36f2c2f"
   },
   "outputs": [
    {
     "ename": "SyntaxError",
     "evalue": "ignored",
     "output_type": "error",
     "traceback": [
      "\u001b[0;36m  File \u001b[0;32m\"<ipython-input-22-17f3a193a69c>\"\u001b[0;36m, line \u001b[0;32m1\u001b[0m\n\u001b[0;31m    score = models[i].evaluate(X[test], y[test], verbose=0 ,[for i in range(folds)])\u001b[0m\n\u001b[0m                                                               ^\u001b[0m\n\u001b[0;31mSyntaxError\u001b[0m\u001b[0;31m:\u001b[0m invalid syntax\n"
     ]
    }
   ],
   "source": [
    "score = models[i].evaluate(X[test], y[test], verbose=0 ,[for i in range(folds)]) \n",
    "print(score)"
   ]
  },
  {
   "cell_type": "code",
   "execution_count": 15,
   "metadata": {
    "colab": {
     "base_uri": "https://localhost:8080/"
    },
    "id": "GQE91WZPSP_-",
    "outputId": "4d90ca0f-bf5f-4aa2-d625-b41be03b1891"
   },
   "outputs": [
    {
     "name": "stdout",
     "output_type": "stream",
     "text": [
      "0.5454545454545454\n"
     ]
    }
   ],
   "source": [
    "y_pred = model.predict(X[test])\n",
    "\n",
    "AUC = roc_auc_score(y[test], y_pred.round())\n",
    "print(AUC)"
   ]
  }
 ],
 "metadata": {
  "accelerator": "GPU",
  "colab": {
   "collapsed_sections": [],
   "name": "resnet50.new.ipynb",
   "provenance": []
  },
  "kernelspec": {
   "display_name": "Python 3",
   "language": "python",
   "name": "python3"
  },
  "language_info": {
   "codemirror_mode": {
    "name": "ipython",
    "version": 3
   },
   "file_extension": ".py",
   "mimetype": "text/x-python",
   "name": "python",
   "nbconvert_exporter": "python",
   "pygments_lexer": "ipython3",
   "version": "3.6.5"
  }
 },
 "nbformat": 4,
 "nbformat_minor": 1
}
