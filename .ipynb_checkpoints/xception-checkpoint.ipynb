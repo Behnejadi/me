{
 "cells": [
  {
   "cell_type": "code",
   "execution_count": 2,
   "metadata": {
    "id": "4ZHtdu95SIUP"
   },
   "outputs": [],
   "source": [
    "import numpy as np\n",
    "import tensorflow as tf\n",
    "from tensorflow import keras\n",
    "from tensorflow.keras.layers import Dense, Activation\n",
    "from tensorflow.keras.optimizers import Adam\n",
    "from tensorflow.keras.metrics import categorical_crossentropy\n",
    "from tensorflow.keras.preprocessing.image import ImageDataGenerator\n",
    "from tensorflow.keras.preprocessing import image\n",
    "from tensorflow.keras.models import Model\n",
    "from tensorflow.keras.applications import imagenet_utils\n",
    "from keras.preprocessing.image import ImageDataGenerator\n",
    "from sklearn.metrics import confusion_matrix\n",
    "from sklearn.metrics import plot_confusion_matrix\n",
    "import itertools\n",
    "import os\n",
    "import shutil\n",
    "import random\n",
    "import glob\n",
    "import matplotlib.pyplot as plt\n",
    "%matplotlib inline"
   ]
  },
  {
   "cell_type": "code",
   "execution_count": 3,
   "metadata": {
    "id": "5VHblBSuSIQ-"
   },
   "outputs": [],
   "source": [
    "train_path = 'data.aug/tc-ts/train'\n",
    "valid_path = 'data.aug/tc-ts/valid'\n",
    "test_path = 'data.aug/tc-ts/test'"
   ]
  },
  {
   "cell_type": "code",
   "execution_count": 4,
   "metadata": {
    "colab": {
     "base_uri": "https://localhost:8080/",
     "height": 68
    },
    "id": "PgKH85M5SION",
    "outputId": "de5bcae0-1f4a-44ef-d83c-74ee4a93d6c5"
   },
   "outputs": [
    {
     "name": "stdout",
     "output_type": "stream",
     "text": [
      "Found 2093 images belonging to 2 classes.\n",
      "Found 90 images belonging to 2 classes.\n",
      "Found 95 images belonging to 2 classes.\n"
     ]
    }
   ],
   "source": [
    "train_batches = ImageDataGenerator(preprocessing_function=tf.keras.applications.xception.preprocess_input) \\\n",
    "    .flow_from_directory(directory=train_path, target_size=(224,224), classes=['TS', 'TC'], batch_size=10)\n",
    "valid_batches = ImageDataGenerator(preprocessing_function=tf.keras.applications.xception.preprocess_input) \\\n",
    "    .flow_from_directory(directory=valid_path, target_size=(224,224), classes=['TS', 'TC'], batch_size=10)\n",
    "test_batches = ImageDataGenerator(preprocessing_function=tf.keras.applications.xception.preprocess_input) \\\n",
    "    .flow_from_directory(directory=test_path, target_size=(224,224), classes=['TS', 'TC'], batch_size=10, shuffle=False)\n",
    "    "
   ]
  },
  {
   "cell_type": "code",
   "execution_count": 5,
   "metadata": {
    "colab": {
     "base_uri": "https://localhost:8080/",
     "height": 51
    },
    "id": "_NxLSDodSILD",
    "outputId": "884a3acb-aba9-4308-af13-fe0b05b1166d"
   },
   "outputs": [
    {
     "name": "stdout",
     "output_type": "stream",
     "text": [
      "Downloading data from https://storage.googleapis.com/tensorflow/keras-applications/xception/xception_weights_tf_dim_ordering_tf_kernels.h5\n",
      "91889664/91884032 [==============================] - 0s 0us/step\n"
     ]
    }
   ],
   "source": [
    "xception = tf.keras.applications.xception.Xception()\n",
    "#xception.summary()"
   ]
  },
  {
   "cell_type": "code",
   "execution_count": 6,
   "metadata": {
    "id": "h7zHCN6fSIH3"
   },
   "outputs": [],
   "source": [
    "x = xception.layers[-2].output"
   ]
  },
  {
   "cell_type": "code",
   "execution_count": 7,
   "metadata": {
    "id": "aWZBPXm0SIEx"
   },
   "outputs": [],
   "source": [
    "output = Dense(units=2, activation='softmax')(x)"
   ]
  },
  {
   "cell_type": "code",
   "execution_count": 8,
   "metadata": {
    "id": "zBZlBneUSIB1"
   },
   "outputs": [],
   "source": [
    "model = Model(inputs=xception.input, outputs=output)"
   ]
  },
  {
   "cell_type": "code",
   "execution_count": 9,
   "metadata": {
    "colab": {
     "base_uri": "https://localhost:8080/",
     "height": 1000
    },
    "id": "DRfX1iMQSH_C",
    "outputId": "aceacadf-5052-4152-ab8f-62c1c9e9f0c3"
   },
   "outputs": [
    {
     "name": "stdout",
     "output_type": "stream",
     "text": [
      "0 input_1 False\n",
      "1 block1_conv1 False\n",
      "2 block1_conv1_bn False\n",
      "3 block1_conv1_act False\n",
      "4 block1_conv2 False\n",
      "5 block1_conv2_bn False\n",
      "6 block1_conv2_act False\n",
      "7 block2_sepconv1 False\n",
      "8 block2_sepconv1_bn False\n",
      "9 block2_sepconv2_act False\n",
      "10 block2_sepconv2 False\n",
      "11 block2_sepconv2_bn False\n",
      "12 conv2d False\n",
      "13 block2_pool False\n",
      "14 batch_normalization False\n",
      "15 add False\n",
      "16 block3_sepconv1_act False\n",
      "17 block3_sepconv1 False\n",
      "18 block3_sepconv1_bn False\n",
      "19 block3_sepconv2_act False\n",
      "20 block3_sepconv2 False\n",
      "21 block3_sepconv2_bn False\n",
      "22 conv2d_1 False\n",
      "23 block3_pool False\n",
      "24 batch_normalization_1 False\n",
      "25 add_1 False\n",
      "26 block4_sepconv1_act False\n",
      "27 block4_sepconv1 False\n",
      "28 block4_sepconv1_bn False\n",
      "29 block4_sepconv2_act False\n",
      "30 block4_sepconv2 False\n",
      "31 block4_sepconv2_bn False\n",
      "32 conv2d_2 False\n",
      "33 block4_pool False\n",
      "34 batch_normalization_2 False\n",
      "35 add_2 False\n",
      "36 block5_sepconv1_act False\n",
      "37 block5_sepconv1 False\n",
      "38 block5_sepconv1_bn False\n",
      "39 block5_sepconv2_act False\n",
      "40 block5_sepconv2 False\n",
      "41 block5_sepconv2_bn False\n",
      "42 block5_sepconv3_act False\n",
      "43 block5_sepconv3 False\n",
      "44 block5_sepconv3_bn False\n",
      "45 add_3 False\n",
      "46 block6_sepconv1_act False\n",
      "47 block6_sepconv1 False\n",
      "48 block6_sepconv1_bn False\n",
      "49 block6_sepconv2_act False\n",
      "50 block6_sepconv2 False\n",
      "51 block6_sepconv2_bn False\n",
      "52 block6_sepconv3_act False\n",
      "53 block6_sepconv3 False\n",
      "54 block6_sepconv3_bn False\n",
      "55 add_4 False\n",
      "56 block7_sepconv1_act False\n",
      "57 block7_sepconv1 False\n",
      "58 block7_sepconv1_bn False\n",
      "59 block7_sepconv2_act False\n",
      "60 block7_sepconv2 False\n",
      "61 block7_sepconv2_bn False\n",
      "62 block7_sepconv3_act False\n",
      "63 block7_sepconv3 False\n",
      "64 block7_sepconv3_bn False\n",
      "65 add_5 False\n",
      "66 block8_sepconv1_act False\n",
      "67 block8_sepconv1 False\n",
      "68 block8_sepconv1_bn False\n",
      "69 block8_sepconv2_act False\n",
      "70 block8_sepconv2 False\n",
      "71 block8_sepconv2_bn False\n",
      "72 block8_sepconv3_act False\n",
      "73 block8_sepconv3 False\n",
      "74 block8_sepconv3_bn False\n",
      "75 add_6 False\n",
      "76 block9_sepconv1_act False\n",
      "77 block9_sepconv1 False\n",
      "78 block9_sepconv1_bn False\n",
      "79 block9_sepconv2_act False\n",
      "80 block9_sepconv2 False\n",
      "81 block9_sepconv2_bn False\n",
      "82 block9_sepconv3_act False\n",
      "83 block9_sepconv3 False\n",
      "84 block9_sepconv3_bn False\n",
      "85 add_7 False\n",
      "86 block10_sepconv1_act False\n",
      "87 block10_sepconv1 False\n",
      "88 block10_sepconv1_bn False\n",
      "89 block10_sepconv2_act False\n",
      "90 block10_sepconv2 False\n",
      "91 block10_sepconv2_bn False\n",
      "92 block10_sepconv3_act False\n",
      "93 block10_sepconv3 False\n",
      "94 block10_sepconv3_bn False\n",
      "95 add_8 False\n",
      "96 block11_sepconv1_act False\n",
      "97 block11_sepconv1 False\n",
      "98 block11_sepconv1_bn False\n",
      "99 block11_sepconv2_act False\n",
      "100 block11_sepconv2 False\n",
      "101 block11_sepconv2_bn False\n",
      "102 block11_sepconv3_act False\n",
      "103 block11_sepconv3 False\n",
      "104 block11_sepconv3_bn False\n",
      "105 add_9 False\n",
      "106 block12_sepconv1_act False\n",
      "107 block12_sepconv1 False\n",
      "108 block12_sepconv1_bn False\n",
      "109 block12_sepconv2_act False\n",
      "110 block12_sepconv2 False\n",
      "111 block12_sepconv2_bn False\n",
      "112 block12_sepconv3_act False\n",
      "113 block12_sepconv3 False\n",
      "114 block12_sepconv3_bn False\n",
      "115 add_10 False\n",
      "116 block13_sepconv1_act False\n",
      "117 block13_sepconv1 False\n",
      "118 block13_sepconv1_bn False\n",
      "119 block13_sepconv2_act False\n",
      "120 block13_sepconv2 False\n",
      "121 block13_sepconv2_bn False\n",
      "122 conv2d_3 False\n",
      "123 block13_pool False\n",
      "124 batch_normalization_3 False\n",
      "125 add_11 False\n",
      "126 block14_sepconv1 False\n",
      "127 block14_sepconv1_bn False\n",
      "128 block14_sepconv1_act False\n",
      "129 block14_sepconv2 False\n",
      "130 block14_sepconv2_bn False\n",
      "131 block14_sepconv2_act False\n",
      "132 avg_pool True\n",
      "133 dense True\n"
     ]
    }
   ],
   "source": [
    "#for layer in model.layers[:-23]:\n",
    "   # layer.trainable = False\n",
    "for layer in model.layers[132:]:\n",
    "    layer.trainable = True\n",
    "for layer in model.layers[:132]:\n",
    "    layer.trainable = False\n",
    "for i, layer in enumerate(model.layers):\n",
    "    print(i, layer.name, layer.trainable)"
   ]
  },
  {
   "cell_type": "code",
   "execution_count": 11,
   "metadata": {
    "id": "jCC9JAm7SH75"
   },
   "outputs": [],
   "source": [
    "model.compile(optimizer=Adam(lr=0.0001), loss='categorical_crossentropy', metrics=['accuracy'])\n",
    "#model.summary()"
   ]
  },
  {
   "cell_type": "code",
   "execution_count": 12,
   "metadata": {
    "colab": {
     "base_uri": "https://localhost:8080/",
     "height": 1000
    },
    "id": "0yWOCJ0NSH4h",
    "outputId": "88206386-0e1e-4f32-a938-e54ddfe5be81"
   },
   "outputs": [
    {
     "name": "stdout",
     "output_type": "stream",
     "text": [
      "Epoch 1/30\n",
      "210/210 - 461s - loss: 0.6330 - accuracy: 0.6302 - val_loss: 0.6352 - val_accuracy: 0.6444\n",
      "Epoch 2/30\n",
      "210/210 - 14s - loss: 0.5456 - accuracy: 0.7172 - val_loss: 0.6302 - val_accuracy: 0.6667\n",
      "Epoch 3/30\n",
      "210/210 - 14s - loss: 0.5216 - accuracy: 0.7305 - val_loss: 0.5989 - val_accuracy: 0.6778\n",
      "Epoch 4/30\n",
      "210/210 - 14s - loss: 0.5078 - accuracy: 0.7430 - val_loss: 0.6162 - val_accuracy: 0.6667\n",
      "Epoch 5/30\n",
      "210/210 - 14s - loss: 0.4931 - accuracy: 0.7473 - val_loss: 0.5819 - val_accuracy: 0.7000\n",
      "Epoch 6/30\n",
      "210/210 - 14s - loss: 0.4830 - accuracy: 0.7582 - val_loss: 0.5813 - val_accuracy: 0.7222\n",
      "Epoch 7/30\n",
      "210/210 - 14s - loss: 0.4752 - accuracy: 0.7721 - val_loss: 0.5845 - val_accuracy: 0.6889\n",
      "Epoch 8/30\n",
      "210/210 - 14s - loss: 0.4668 - accuracy: 0.7735 - val_loss: 0.5971 - val_accuracy: 0.6667\n",
      "Epoch 9/30\n",
      "210/210 - 14s - loss: 0.4595 - accuracy: 0.7778 - val_loss: 0.5902 - val_accuracy: 0.6667\n",
      "Epoch 10/30\n",
      "210/210 - 15s - loss: 0.4524 - accuracy: 0.7769 - val_loss: 0.5830 - val_accuracy: 0.6667\n",
      "Epoch 11/30\n",
      "210/210 - 14s - loss: 0.4464 - accuracy: 0.7836 - val_loss: 0.5812 - val_accuracy: 0.6556\n",
      "Epoch 12/30\n",
      "210/210 - 14s - loss: 0.4398 - accuracy: 0.7879 - val_loss: 0.5704 - val_accuracy: 0.6556\n",
      "Epoch 13/30\n",
      "210/210 - 14s - loss: 0.4363 - accuracy: 0.7917 - val_loss: 0.5877 - val_accuracy: 0.6556\n",
      "Epoch 14/30\n",
      "210/210 - 14s - loss: 0.4295 - accuracy: 0.7989 - val_loss: 0.6120 - val_accuracy: 0.6889\n",
      "Epoch 15/30\n",
      "210/210 - 14s - loss: 0.4262 - accuracy: 0.8051 - val_loss: 0.5833 - val_accuracy: 0.6667\n",
      "Epoch 16/30\n",
      "210/210 - 14s - loss: 0.4205 - accuracy: 0.8032 - val_loss: 0.5994 - val_accuracy: 0.6667\n",
      "Epoch 17/30\n",
      "210/210 - 14s - loss: 0.4164 - accuracy: 0.8113 - val_loss: 0.6191 - val_accuracy: 0.6889\n",
      "Epoch 18/30\n",
      "210/210 - 14s - loss: 0.4109 - accuracy: 0.8084 - val_loss: 0.5950 - val_accuracy: 0.6444\n",
      "Epoch 19/30\n",
      "210/210 - 14s - loss: 0.4067 - accuracy: 0.8141 - val_loss: 0.6014 - val_accuracy: 0.6444\n",
      "Epoch 20/30\n",
      "210/210 - 14s - loss: 0.4042 - accuracy: 0.8146 - val_loss: 0.5911 - val_accuracy: 0.6556\n",
      "Epoch 21/30\n",
      "210/210 - 14s - loss: 0.3981 - accuracy: 0.8204 - val_loss: 0.5969 - val_accuracy: 0.6444\n",
      "Epoch 22/30\n",
      "210/210 - 14s - loss: 0.3954 - accuracy: 0.8223 - val_loss: 0.6051 - val_accuracy: 0.6444\n",
      "Epoch 23/30\n",
      "210/210 - 14s - loss: 0.3922 - accuracy: 0.8237 - val_loss: 0.5922 - val_accuracy: 0.6556\n",
      "Epoch 24/30\n",
      "210/210 - 14s - loss: 0.3894 - accuracy: 0.8227 - val_loss: 0.5911 - val_accuracy: 0.6444\n",
      "Epoch 25/30\n",
      "210/210 - 14s - loss: 0.3844 - accuracy: 0.8285 - val_loss: 0.6183 - val_accuracy: 0.6333\n",
      "Epoch 26/30\n",
      "210/210 - 14s - loss: 0.3807 - accuracy: 0.8304 - val_loss: 0.6084 - val_accuracy: 0.6444\n",
      "Epoch 27/30\n",
      "210/210 - 14s - loss: 0.3777 - accuracy: 0.8304 - val_loss: 0.6087 - val_accuracy: 0.6333\n",
      "Epoch 28/30\n",
      "210/210 - 14s - loss: 0.3753 - accuracy: 0.8313 - val_loss: 0.6099 - val_accuracy: 0.6444\n",
      "Epoch 29/30\n",
      "210/210 - 14s - loss: 0.3732 - accuracy: 0.8342 - val_loss: 0.6058 - val_accuracy: 0.6444\n",
      "Epoch 30/30\n",
      "210/210 - 14s - loss: 0.3688 - accuracy: 0.8352 - val_loss: 0.6126 - val_accuracy: 0.6444\n"
     ]
    },
    {
     "data": {
      "text/plain": [
       "<tensorflow.python.keras.callbacks.History at 0x7f8a0e1010f0>"
      ]
     },
     "execution_count": 12,
     "metadata": {
      "tags": []
     },
     "output_type": "execute_result"
    }
   ],
   "source": [
    "model.fit(x=train_batches,\n",
    "            steps_per_epoch=len(train_batches),\n",
    "            validation_data=valid_batches,\n",
    "            validation_steps=len(valid_batches),\n",
    "            epochs=30,\n",
    "            verbose=2\n",
    ")"
   ]
  },
  {
   "cell_type": "code",
   "execution_count": 13,
   "metadata": {
    "id": "tegUpaTN6ITH"
   },
   "outputs": [],
   "source": [
    "predictions = model.predict(x=test_batches, steps=len(test_batches), verbose=0)"
   ]
  },
  {
   "cell_type": "code",
   "execution_count": 14,
   "metadata": {
    "colab": {
     "base_uri": "https://localhost:8080/",
     "height": 1000
    },
    "id": "RSanrE9d6I26",
    "outputId": "4ec1f70b-04d1-424b-b752-c31f22ac6859"
   },
   "outputs": [
    {
     "data": {
      "text/plain": [
       "array([[1., 0.],\n",
       "       [1., 0.],\n",
       "       [1., 0.],\n",
       "       [1., 0.],\n",
       "       [1., 0.],\n",
       "       [0., 1.],\n",
       "       [1., 0.],\n",
       "       [1., 0.],\n",
       "       [0., 1.],\n",
       "       [1., 0.],\n",
       "       [1., 0.],\n",
       "       [1., 0.],\n",
       "       [1., 0.],\n",
       "       [1., 0.],\n",
       "       [1., 0.],\n",
       "       [1., 0.],\n",
       "       [0., 1.],\n",
       "       [0., 1.],\n",
       "       [1., 0.],\n",
       "       [1., 0.],\n",
       "       [1., 0.],\n",
       "       [1., 0.],\n",
       "       [1., 0.],\n",
       "       [0., 1.],\n",
       "       [0., 1.],\n",
       "       [0., 1.],\n",
       "       [1., 0.],\n",
       "       [0., 1.],\n",
       "       [1., 0.],\n",
       "       [1., 0.],\n",
       "       [1., 0.],\n",
       "       [1., 0.],\n",
       "       [1., 0.],\n",
       "       [1., 0.],\n",
       "       [1., 0.],\n",
       "       [0., 1.],\n",
       "       [1., 0.],\n",
       "       [0., 1.],\n",
       "       [1., 0.],\n",
       "       [0., 1.],\n",
       "       [1., 0.],\n",
       "       [1., 0.],\n",
       "       [1., 0.],\n",
       "       [0., 1.],\n",
       "       [0., 1.],\n",
       "       [0., 1.],\n",
       "       [0., 1.],\n",
       "       [0., 1.],\n",
       "       [0., 1.],\n",
       "       [0., 1.],\n",
       "       [0., 1.],\n",
       "       [0., 1.],\n",
       "       [0., 1.],\n",
       "       [0., 1.],\n",
       "       [0., 1.],\n",
       "       [0., 1.],\n",
       "       [0., 1.],\n",
       "       [1., 0.],\n",
       "       [0., 1.],\n",
       "       [0., 1.],\n",
       "       [1., 0.],\n",
       "       [1., 0.],\n",
       "       [0., 1.],\n",
       "       [0., 1.],\n",
       "       [0., 1.],\n",
       "       [0., 1.],\n",
       "       [0., 1.],\n",
       "       [0., 1.],\n",
       "       [0., 1.],\n",
       "       [0., 1.],\n",
       "       [0., 1.],\n",
       "       [0., 1.],\n",
       "       [0., 1.],\n",
       "       [0., 1.],\n",
       "       [1., 0.],\n",
       "       [0., 1.],\n",
       "       [0., 1.],\n",
       "       [0., 1.],\n",
       "       [0., 1.],\n",
       "       [0., 1.],\n",
       "       [0., 1.],\n",
       "       [1., 0.],\n",
       "       [1., 0.],\n",
       "       [1., 0.],\n",
       "       [1., 0.],\n",
       "       [1., 0.],\n",
       "       [0., 1.],\n",
       "       [0., 1.],\n",
       "       [0., 1.],\n",
       "       [1., 0.],\n",
       "       [0., 1.],\n",
       "       [0., 1.],\n",
       "       [0., 1.],\n",
       "       [0., 1.],\n",
       "       [0., 1.]], dtype=float32)"
      ]
     },
     "execution_count": 14,
     "metadata": {
      "tags": []
     },
     "output_type": "execute_result"
    }
   ],
   "source": [
    "np.round(predictions)"
   ]
  },
  {
   "cell_type": "code",
   "execution_count": 15,
   "metadata": {
    "id": "SxX4mbec6Jam"
   },
   "outputs": [],
   "source": [
    "cm = confusion_matrix(y_true=test_batches.classes, y_pred=np.argmax(predictions, axis=-1))"
   ]
  },
  {
   "cell_type": "code",
   "execution_count": 16,
   "metadata": {
    "id": "Va3pN-hN6In_"
   },
   "outputs": [],
   "source": [
    "def plot_confusion_matrix(cm, classes,\n",
    "                          normalize=False,\n",
    "                          title='Confusion matrix',\n",
    "                          cmap=plt.cm.Blues):\n",
    "    \"\"\"\n",
    "    This function prints and plots the confusion matrix.\n",
    "    Normalization can be applied by setting `normalize=True`.\n",
    "    \"\"\"\n",
    "    plt.imshow(cm, interpolation='nearest', cmap=cmap)\n",
    "    plt.title(title)\n",
    "    plt.colorbar()\n",
    "    tick_marks = np.arange(len(classes))\n",
    "    plt.xticks(tick_marks, classes, rotation=45)\n",
    "    plt.yticks(tick_marks, classes)\n",
    "\n",
    "    if normalize:\n",
    "        cm = cm.astype('float') / cm.sum(axis=1)[:, np.newaxis]\n",
    "        print(\"Normalized confusion matrix\")\n",
    "    else:\n",
    "        print('Confusion matrix, without normalization')\n",
    "\n",
    "    print(cm)\n",
    "\n",
    "    thresh = cm.max() / 2.\n",
    "    for i, j in itertools.product(range(cm.shape[0]), range(cm.shape[1])):\n",
    "        plt.text(j, i, cm[i, j],\n",
    "            horizontalalignment=\"center\",\n",
    "            color=\"white\" if cm[i, j] > thresh else \"black\")\n",
    "\n",
    "    plt.tight_layout()\n",
    "    plt.ylabel('True label')\n",
    "    plt.xlabel('Predicted label')"
   ]
  },
  {
   "cell_type": "code",
   "execution_count": 17,
   "metadata": {
    "colab": {
     "base_uri": "https://localhost:8080/",
     "height": 34
    },
    "id": "XH13lyTM6IE6",
    "outputId": "3f99f656-41d9-4310-c14d-2f75f292af18"
   },
   "outputs": [
    {
     "data": {
      "text/plain": [
       "{'TC': 1, 'TS': 0}"
      ]
     },
     "execution_count": 17,
     "metadata": {
      "tags": []
     },
     "output_type": "execute_result"
    }
   ],
   "source": [
    "test_batches.class_indices"
   ]
  },
  {
   "cell_type": "code",
   "execution_count": 18,
   "metadata": {
    "colab": {
     "base_uri": "https://localhost:8080/",
     "height": 362
    },
    "id": "T0RJdp2a6ZVF",
    "outputId": "d8fc9279-fe20-4c4c-ff75-42d0349f6e4f"
   },
   "outputs": [
    {
     "name": "stdout",
     "output_type": "stream",
     "text": [
      "Confusion matrix, without normalization\n",
      "[[27  8]\n",
      " [15 45]]\n"
     ]
    },
    {
     "data": {
      "image/png": "[encoded data removed]",
      "text/plain": [
       "<Figure size 432x288 with 2 Axes>"
      ]
     },
     "metadata": {
      "needs_background": "light",
      "tags": []
     },
     "output_type": "display_data"
    }
   ],
   "source": [
    "cm_plot_labels = ['TS','TC']\n",
    "plot_confusion_matrix(cm=cm, classes=cm_plot_labels, title='Confusion Matrix')"
   ]
  }
 ],
 "metadata": {
  "accelerator": "GPU",
  "colab": {
   "name": "xception.ipynb",
   "provenance": []
  },
  "kernelspec": {
   "display_name": "Python 3",
   "language": "python",
   "name": "python3"
  },
  "language_info": {
   "codemirror_mode": {
    "name": "ipython",
    "version": 3
   },
   "file_extension": ".py",
   "mimetype": "text/x-python",
   "name": "python",
   "nbconvert_exporter": "python",
   "pygments_lexer": "ipython3",
   "version": "3.6.5"
  }
 },
 "nbformat": 4,
 "nbformat_minor": 1
}
