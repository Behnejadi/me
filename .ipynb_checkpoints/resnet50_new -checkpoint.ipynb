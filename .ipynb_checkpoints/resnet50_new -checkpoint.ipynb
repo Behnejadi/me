{
 "cells": [
  {
   "cell_type": "code",
   "execution_count": 3,
   "metadata": {
    "id": "F8ESUWX_ZNqD"
   },
   "outputs": [],
   "source": [
    "import numpy as np\n",
    "import tensorflow as tf\n",
    "from tensorflow import keras\n",
    "from tensorflow.keras.layers import Dense, Activation\n",
    "from tensorflow.keras.optimizers import Adam\n",
    "from keras.optimizers import SGD\n",
    "from tensorflow.keras.metrics import categorical_crossentropy\n",
    "from tensorflow.keras.preprocessing.image import ImageDataGenerator\n",
    "from tensorflow.keras.preprocessing import image\n",
    "from tensorflow.keras.models import Model\n",
    "from tensorflow.keras.applications import imagenet_utils\n",
    "from keras.preprocessing.image import ImageDataGenerator\n",
    "from sklearn.metrics import confusion_matrix\n",
    "from sklearn.metrics import plot_confusion_matrix\n",
    "import itertools\n",
    "import os\n",
    "import shutil\n",
    "import random\n",
    "import glob\n",
    "import matplotlib.pyplot as plt\n",
    "%matplotlib inline\n",
    "from keras.wrappers.scikit_learn import KerasClassifier\n",
    "import sklearn\n",
    "import pandas as pd\n",
    "from sklearn.metrics import roc_auc_score, roc_curve, auc\n",
    "from sklearn.model_selection import StratifiedKFold\n",
    "from sklearn.metrics import precision_score, recall_score\n",
    "from scipy import interp\n",
    "import matplotlib.pyplot as plt\n",
    "import time\n",
    "from sklearn.model_selection import cross_val_score"
   ]
  },
  {
   "cell_type": "code",
   "execution_count": 4,
   "metadata": {
    "colab": {
     "base_uri": "https://localhost:8080/"
    },
    "id": "tfLDt6IjYuE7",
    "outputId": "03af9f28-4ffd-4f62-b0b9-5a8c8fa2b483"
   },
   "outputs": [
    {
     "name": "stdout",
     "output_type": "stream",
     "text": [
      "INFO:tensorflow:Initializing the TPU system: grpc://10.87.154.50:8470\n"
     ]
    },
    {
     "name": "stderr",
     "output_type": "stream",
     "text": [
      "INFO:tensorflow:Initializing the TPU system: grpc://10.87.154.50:8470\n"
     ]
    },
    {
     "name": "stdout",
     "output_type": "stream",
     "text": [
      "INFO:tensorflow:Clearing out eager caches\n"
     ]
    },
    {
     "name": "stderr",
     "output_type": "stream",
     "text": [
      "INFO:tensorflow:Clearing out eager caches\n"
     ]
    },
    {
     "name": "stdout",
     "output_type": "stream",
     "text": [
      "INFO:tensorflow:Finished initializing TPU system.\n"
     ]
    },
    {
     "name": "stderr",
     "output_type": "stream",
     "text": [
      "INFO:tensorflow:Finished initializing TPU system.\n",
      "WARNING:absl:`tf.distribute.experimental.TPUStrategy` is deprecated, please use  the non experimental symbol `tf.distribute.TPUStrategy` instead.\n"
     ]
    },
    {
     "name": "stdout",
     "output_type": "stream",
     "text": [
      "INFO:tensorflow:Found TPU system:\n"
     ]
    },
    {
     "name": "stderr",
     "output_type": "stream",
     "text": [
      "INFO:tensorflow:Found TPU system:\n"
     ]
    },
    {
     "name": "stdout",
     "output_type": "stream",
     "text": [
      "INFO:tensorflow:*** Num TPU Cores: 8\n"
     ]
    },
    {
     "name": "stderr",
     "output_type": "stream",
     "text": [
      "INFO:tensorflow:*** Num TPU Cores: 8\n"
     ]
    },
    {
     "name": "stdout",
     "output_type": "stream",
     "text": [
      "INFO:tensorflow:*** Num TPU Workers: 1\n"
     ]
    },
    {
     "name": "stderr",
     "output_type": "stream",
     "text": [
      "INFO:tensorflow:*** Num TPU Workers: 1\n"
     ]
    },
    {
     "name": "stdout",
     "output_type": "stream",
     "text": [
      "INFO:tensorflow:*** Num TPU Cores Per Worker: 8\n"
     ]
    },
    {
     "name": "stderr",
     "output_type": "stream",
     "text": [
      "INFO:tensorflow:*** Num TPU Cores Per Worker: 8\n"
     ]
    },
    {
     "name": "stdout",
     "output_type": "stream",
     "text": [
      "INFO:tensorflow:*** Available Device: _DeviceAttributes(/job:localhost/replica:0/task:0/device:CPU:0, CPU, 0, 0)\n"
     ]
    },
    {
     "name": "stderr",
     "output_type": "stream",
     "text": [
      "INFO:tensorflow:*** Available Device: _DeviceAttributes(/job:localhost/replica:0/task:0/device:CPU:0, CPU, 0, 0)\n"
     ]
    },
    {
     "name": "stdout",
     "output_type": "stream",
     "text": [
      "INFO:tensorflow:*** Available Device: _DeviceAttributes(/job:localhost/replica:0/task:0/device:XLA_CPU:0, XLA_CPU, 0, 0)\n"
     ]
    },
    {
     "name": "stderr",
     "output_type": "stream",
     "text": [
      "INFO:tensorflow:*** Available Device: _DeviceAttributes(/job:localhost/replica:0/task:0/device:XLA_CPU:0, XLA_CPU, 0, 0)\n"
     ]
    },
    {
     "name": "stdout",
     "output_type": "stream",
     "text": [
      "INFO:tensorflow:*** Available Device: _DeviceAttributes(/job:worker/replica:0/task:0/device:CPU:0, CPU, 0, 0)\n"
     ]
    },
    {
     "name": "stderr",
     "output_type": "stream",
     "text": [
      "INFO:tensorflow:*** Available Device: _DeviceAttributes(/job:worker/replica:0/task:0/device:CPU:0, CPU, 0, 0)\n"
     ]
    },
    {
     "name": "stdout",
     "output_type": "stream",
     "text": [
      "INFO:tensorflow:*** Available Device: _DeviceAttributes(/job:worker/replica:0/task:0/device:TPU:0, TPU, 0, 0)\n"
     ]
    },
    {
     "name": "stderr",
     "output_type": "stream",
     "text": [
      "INFO:tensorflow:*** Available Device: _DeviceAttributes(/job:worker/replica:0/task:0/device:TPU:0, TPU, 0, 0)\n"
     ]
    },
    {
     "name": "stdout",
     "output_type": "stream",
     "text": [
      "INFO:tensorflow:*** Available Device: _DeviceAttributes(/job:worker/replica:0/task:0/device:TPU:1, TPU, 0, 0)\n"
     ]
    },
    {
     "name": "stderr",
     "output_type": "stream",
     "text": [
      "INFO:tensorflow:*** Available Device: _DeviceAttributes(/job:worker/replica:0/task:0/device:TPU:1, TPU, 0, 0)\n"
     ]
    },
    {
     "name": "stdout",
     "output_type": "stream",
     "text": [
      "INFO:tensorflow:*** Available Device: _DeviceAttributes(/job:worker/replica:0/task:0/device:TPU:2, TPU, 0, 0)\n"
     ]
    },
    {
     "name": "stderr",
     "output_type": "stream",
     "text": [
      "INFO:tensorflow:*** Available Device: _DeviceAttributes(/job:worker/replica:0/task:0/device:TPU:2, TPU, 0, 0)\n"
     ]
    },
    {
     "name": "stdout",
     "output_type": "stream",
     "text": [
      "INFO:tensorflow:*** Available Device: _DeviceAttributes(/job:worker/replica:0/task:0/device:TPU:3, TPU, 0, 0)\n"
     ]
    },
    {
     "name": "stderr",
     "output_type": "stream",
     "text": [
      "INFO:tensorflow:*** Available Device: _DeviceAttributes(/job:worker/replica:0/task:0/device:TPU:3, TPU, 0, 0)\n"
     ]
    },
    {
     "name": "stdout",
     "output_type": "stream",
     "text": [
      "INFO:tensorflow:*** Available Device: _DeviceAttributes(/job:worker/replica:0/task:0/device:TPU:4, TPU, 0, 0)\n"
     ]
    },
    {
     "name": "stderr",
     "output_type": "stream",
     "text": [
      "INFO:tensorflow:*** Available Device: _DeviceAttributes(/job:worker/replica:0/task:0/device:TPU:4, TPU, 0, 0)\n"
     ]
    },
    {
     "name": "stdout",
     "output_type": "stream",
     "text": [
      "INFO:tensorflow:*** Available Device: _DeviceAttributes(/job:worker/replica:0/task:0/device:TPU:5, TPU, 0, 0)\n"
     ]
    },
    {
     "name": "stderr",
     "output_type": "stream",
     "text": [
      "INFO:tensorflow:*** Available Device: _DeviceAttributes(/job:worker/replica:0/task:0/device:TPU:5, TPU, 0, 0)\n"
     ]
    },
    {
     "name": "stdout",
     "output_type": "stream",
     "text": [
      "INFO:tensorflow:*** Available Device: _DeviceAttributes(/job:worker/replica:0/task:0/device:TPU:6, TPU, 0, 0)\n"
     ]
    },
    {
     "name": "stderr",
     "output_type": "stream",
     "text": [
      "INFO:tensorflow:*** Available Device: _DeviceAttributes(/job:worker/replica:0/task:0/device:TPU:6, TPU, 0, 0)\n"
     ]
    },
    {
     "name": "stdout",
     "output_type": "stream",
     "text": [
      "INFO:tensorflow:*** Available Device: _DeviceAttributes(/job:worker/replica:0/task:0/device:TPU:7, TPU, 0, 0)\n"
     ]
    },
    {
     "name": "stderr",
     "output_type": "stream",
     "text": [
      "INFO:tensorflow:*** Available Device: _DeviceAttributes(/job:worker/replica:0/task:0/device:TPU:7, TPU, 0, 0)\n"
     ]
    },
    {
     "name": "stdout",
     "output_type": "stream",
     "text": [
      "INFO:tensorflow:*** Available Device: _DeviceAttributes(/job:worker/replica:0/task:0/device:TPU_SYSTEM:0, TPU_SYSTEM, 0, 0)\n"
     ]
    },
    {
     "name": "stderr",
     "output_type": "stream",
     "text": [
      "INFO:tensorflow:*** Available Device: _DeviceAttributes(/job:worker/replica:0/task:0/device:TPU_SYSTEM:0, TPU_SYSTEM, 0, 0)\n"
     ]
    },
    {
     "name": "stdout",
     "output_type": "stream",
     "text": [
      "INFO:tensorflow:*** Available Device: _DeviceAttributes(/job:worker/replica:0/task:0/device:XLA_CPU:0, XLA_CPU, 0, 0)\n"
     ]
    },
    {
     "name": "stderr",
     "output_type": "stream",
     "text": [
      "INFO:tensorflow:*** Available Device: _DeviceAttributes(/job:worker/replica:0/task:0/device:XLA_CPU:0, XLA_CPU, 0, 0)\n"
     ]
    }
   ],
   "source": [
    "AUTO = tf.data.experimental.AUTOTUNE#این کده رو برای کانفیگ تی پی تو کولب استفاده کرده بود و چون تو لرنینگ ریت هم آورده بود منم گفتم بذارم ببینم چی میشه قسمت لرنینک ریت که کلی ارور داد ،\n",
    "#بدون اون کد رو ران کردم که اگر گفتید کدش بدرد بخوره برم سراغ ارور هاولی این رو که راه کردم سرعت خروجی گرفتنم بهتر شد.ولی واقعا نفهمیدم چی به چیه\n",
    "\n",
    "# Cluster Resolver for Google Cloud TPUs.\n",
    "tpu = tf.distribute.cluster_resolver.TPUClusterResolver()\n",
    "# Connects to the given cluster.\n",
    "tf.config.experimental_connect_to_cluster(tpu)\n",
    "# Initialize the TPU devices.\n",
    "tf.tpu.experimental.initialize_tpu_system(tpu)\n",
    "# TPU distribution strategy implementation.\n",
    "strategy = tf.distribute.experimental.TPUStrategy(tpu)\n",
    "\n",
    "# Configuration\n",
    "EPOCHS = 50\n",
    "BATCH_SIZE = 16 * strategy.num_replicas_in_sync"
   ]
  },
  {
   "cell_type": "code",
   "execution_count": 5,
   "metadata": {
    "colab": {
     "base_uri": "https://localhost:8080/"
    },
    "id": "HsoWeUrh9SVN",
    "outputId": "d34ddc24-c194-4bde-b5cb-27234e7e1766"
   },
   "outputs": [
    {
     "name": "stdout",
     "output_type": "stream",
     "text": [
      "(3103, 224, 224, 3)\n",
      "(3103, 1)\n"
     ]
    }
   ],
   "source": [
    "#loading data\n",
    "dataset = np.load('data.row/ASD2.npz') #Dataset ready in numpy array (removing background, resizing, and transforming into grayscale)\n",
    "X = dataset['X']\n",
    "y = dataset['y']\n",
    "\n",
    "print(X.shape)\n",
    "print(y.shape)"
   ]
  },
  {
   "cell_type": "code",
   "execution_count": 6,
   "metadata": {
    "id": "DFfNdiAC4ZCK"
   },
   "outputs": [],
   "source": [
    "def GetModel():\n",
    "    resnet50 = tf.keras.applications.ResNet50(weights='imagenet', include_top=True , input_tensor=None, input_shape=None, pooling=None)\n",
    "\n",
    "    x = resnet50.layers[-2].output\n",
    "    output = Dense(units=1, activation='sigmoid')(x)\n",
    "    model = Model(inputs=resnet50.input, outputs=output)\n",
    "    for layer in model.layers[175:]:\n",
    "      layer.trainable = True\n",
    "    for layer in model.layers[:175]:\n",
    "      layer.trainable = False\n",
    "\n",
    "\n",
    "    opt = SGD(lr=0.001,momentum=0.99,decay=0.01,nesterov=False)\n",
    "    #opt = Adam(learning_rate=0.0001,beta_1=0.99,beta_2=0.99,epsilon=0.1,amsgrad=False,name=\"Adam\",)\n",
    "\n",
    "    model.compile(optimizer=opt, loss='binary_crossentropy', metrics=['accuracy'])\n",
    "    return model"
   ]
  },
  {
   "cell_type": "code",
   "execution_count": 7,
   "metadata": {
    "id": "5USIjzD4ApZj"
   },
   "outputs": [],
   "source": [
    "#Hyperparameters\n",
    "nfolds =4\n",
    "nEpochs = 30\n",
    "nBatch= 16\n",
    "#inputDim = X.shape[1] # Count of features"
   ]
  },
  {
   "cell_type": "code",
   "execution_count": 14,
   "metadata": {
    "colab": {
     "base_uri": "https://localhost:8080/",
     "height": 282
    },
    "id": "0z7u1aU9QYCR",
    "outputId": "aa3c494e-087f-4dee-967d-308e76d47e6d"
   },
   "outputs": [
    {
     "name": "stdout",
     "output_type": "stream",
     "text": [
      "Learning rate schedule: 1e-05 to 0.0004 to 1e-05\n"
     ]
    },
    {
     "data": {
      "image/png": "[encoded data removed]",
      "text/plain": [
       "<Figure size 432x288 with 1 Axes>"
      ]
     },
     "metadata": {
      "needs_background": "light",
      "tags": []
     },
     "output_type": "display_data"
    }
   ],
   "source": [
    "LR_START = 0.00001#اینم اون کدی هست که درباره نرخ یادگیری پیدا کردم.حس کردم توضیحات شما رو پیاده کرده.حالا نمیدونم چقدر درست فهمیده باشم و آیا لازم هست یا نه؟\n",
    "LR_MAX = 0.00005 * strategy.num_replicas_in_sync\n",
    "LR_MIN = 0.00001\n",
    "LR_RAMPUP_EPOCHS = 5\n",
    "LR_SUSTAIN_EPOCHS = 0\n",
    "LR_EXP_DECAY = .8\n",
    "\n",
    "def lrfn(epoch):\n",
    "    if epoch < LR_RAMPUP_EPOCHS:\n",
    "        lr = (LR_MAX - LR_START) / LR_RAMPUP_EPOCHS * epoch + LR_START\n",
    "    elif epoch < LR_RAMPUP_EPOCHS + LR_SUSTAIN_EPOCHS:\n",
    "        lr = LR_MAX\n",
    "    else:\n",
    "        lr = (LR_MAX - LR_MIN) * LR_EXP_DECAY**(epoch - LR_RAMPUP_EPOCHS - LR_SUSTAIN_EPOCHS) + LR_MIN\n",
    "    return lr\n",
    "    \n",
    "lr_callback = tf.keras.callbacks.LearningRateScheduler(lrfn, verbose = True)\n",
    "\n",
    "rng = [i for i in range(EPOCHS)]\n",
    "y = [lrfn(x) for x in rng]\n",
    "plt.plot(rng, y)\n",
    "print(\"Learning rate schedule: {:.3g} to {:.3g} to {:.3g}\".format(y[0], max(y), y[-1]))"
   ]
  },
  {
   "cell_type": "code",
   "execution_count": null,
   "metadata": {
    "id": "uUUokvA_uPRY"
   },
   "outputs": [],
   "source": [
    "def get_dataset():#اینجا دیگه واقعا گیر کردم اگر کافولد پایین رو بیارم بالا باید فور رو هم بیارم تا ایکس -تست و ایگرگ-تست رو بشناسه\n",
    "    dataset = np.load('/content/drive/My Drive/data.row.battah/ASD2.npz') #Dataset ready in numpy array (removing background, resizing, and transforming into grayscale)\n",
    "    X = dataset['X']\n",
    "    y = dataset['y']\n",
    "\n",
    "    return dataset"
   ]
  },
  {
   "cell_type": "code",
   "execution_count": 8,
   "metadata": {
    "id": "MhumcaHKUg9F"
   },
   "outputs": [],
   "source": [
    "def train_cross_validate(folds = 4):\n",
    "    histories = []\n",
    "    models = []\n",
    "    early_stopping = tf.keras.callbacks.EarlyStopping(monitor = 'val_loss', patience = 4)\n",
    "    kfold = StratifiedKFold(n_splits=nfolds, shuffle=True, random_state=1).split(X, y) \n",
    "    for train, test in kfold:\n",
    "        \n",
    "        model = GetModel()\n",
    "        history = model.fit(X[train], y[train], callbacks = [ early_stopping], validation_split= 0.2, epochs=nEpochs, batch_size=nBatch, verbose=2)\n",
    "       \n",
    "        models.append(model)\n",
    "        histories.append(history)\n",
    "        \n",
    "    return histories, models"
   ]
  },
  {
   "cell_type": "code",
   "execution_count": 9,
   "metadata": {
    "colab": {
     "base_uri": "https://localhost:8080/"
    },
    "id": "6ahMkuvgYr7P",
    "outputId": "4d70d4fd-6ad2-431d-c61c-1ae164ca25e2"
   },
   "outputs": [
    {
     "name": "stdout",
     "output_type": "stream",
     "text": [
      "Downloading data from https://storage.googleapis.com/tensorflow/keras-applications/resnet/resnet50_weights_tf_dim_ordering_tf_kernels.h5\n",
      "102973440/102967424 [==============================] - 1s 0us/step\n",
      "Epoch 1/30\n",
      "WARNING:tensorflow:Callbacks method `on_train_batch_end` is slow compared to the batch time (batch time: 0.0011s vs `on_train_batch_end` time: 0.1501s). Check your callbacks.\n"
     ]
    },
    {
     "name": "stderr",
     "output_type": "stream",
     "text": [
      "WARNING:tensorflow:Callbacks method `on_train_batch_end` is slow compared to the batch time (batch time: 0.0011s vs `on_train_batch_end` time: 0.1501s). Check your callbacks.\n"
     ]
    },
    {
     "name": "stdout",
     "output_type": "stream",
     "text": [
      "WARNING:tensorflow:Callbacks method `on_test_batch_end` is slow compared to the batch time (batch time: 0.0013s vs `on_test_batch_end` time: 0.1459s). Check your callbacks.\n"
     ]
    },
    {
     "name": "stderr",
     "output_type": "stream",
     "text": [
      "WARNING:tensorflow:Callbacks method `on_test_batch_end` is slow compared to the batch time (batch time: 0.0013s vs `on_test_batch_end` time: 0.1459s). Check your callbacks.\n"
     ]
    },
    {
     "name": "stdout",
     "output_type": "stream",
     "text": [
      "117/117 - 23s - loss: 0.6195 - accuracy: 0.7286 - val_loss: 1.6844 - val_accuracy: 0.0000e+00\n",
      "Epoch 2/30\n",
      "117/117 - 20s - loss: 0.5950 - accuracy: 0.7448 - val_loss: 0.9625 - val_accuracy: 0.0107\n",
      "Epoch 3/30\n",
      "117/117 - 19s - loss: 0.5646 - accuracy: 0.7469 - val_loss: 1.8156 - val_accuracy: 0.0000e+00\n",
      "Epoch 4/30\n",
      "117/117 - 20s - loss: 0.6241 - accuracy: 0.7410 - val_loss: 0.5729 - val_accuracy: 0.9292\n",
      "Epoch 5/30\n",
      "117/117 - 20s - loss: 0.6335 - accuracy: 0.7066 - val_loss: 1.3745 - val_accuracy: 0.0021\n",
      "Epoch 6/30\n",
      "117/117 - 19s - loss: 0.6083 - accuracy: 0.7039 - val_loss: 1.1474 - val_accuracy: 0.0236\n",
      "Epoch 7/30\n",
      "117/117 - 19s - loss: 0.5469 - accuracy: 0.7469 - val_loss: 1.8309 - val_accuracy: 0.0000e+00\n",
      "Epoch 8/30\n",
      "117/117 - 19s - loss: 0.5894 - accuracy: 0.7480 - val_loss: 0.9631 - val_accuracy: 0.1330\n",
      "Epoch 1/30\n",
      "WARNING:tensorflow:Callbacks method `on_train_batch_end` is slow compared to the batch time (batch time: 0.0015s vs `on_train_batch_end` time: 0.1481s). Check your callbacks.\n"
     ]
    },
    {
     "name": "stderr",
     "output_type": "stream",
     "text": [
      "WARNING:tensorflow:Callbacks method `on_train_batch_end` is slow compared to the batch time (batch time: 0.0015s vs `on_train_batch_end` time: 0.1481s). Check your callbacks.\n"
     ]
    },
    {
     "name": "stdout",
     "output_type": "stream",
     "text": [
      "WARNING:tensorflow:Callbacks method `on_test_batch_end` is slow compared to the batch time (batch time: 0.0010s vs `on_test_batch_end` time: 0.1475s). Check your callbacks.\n"
     ]
    },
    {
     "name": "stderr",
     "output_type": "stream",
     "text": [
      "WARNING:tensorflow:Callbacks method `on_test_batch_end` is slow compared to the batch time (batch time: 0.0010s vs `on_test_batch_end` time: 0.1475s). Check your callbacks.\n"
     ]
    },
    {
     "name": "stdout",
     "output_type": "stream",
     "text": [
      "117/117 - 23s - loss: 0.8673 - accuracy: 0.6169 - val_loss: 2.4469 - val_accuracy: 0.0000e+00\n",
      "Epoch 2/30\n",
      "117/117 - 20s - loss: 0.9497 - accuracy: 0.6448 - val_loss: 0.5584 - val_accuracy: 1.0000\n",
      "Epoch 3/30\n",
      "117/117 - 19s - loss: 0.6983 - accuracy: 0.6287 - val_loss: 3.3891 - val_accuracy: 0.0000e+00\n",
      "Epoch 4/30\n",
      "117/117 - 19s - loss: 0.7970 - accuracy: 0.6276 - val_loss: 1.3478 - val_accuracy: 0.0000e+00\n",
      "Epoch 5/30\n",
      "117/117 - 20s - loss: 0.6687 - accuracy: 0.6937 - val_loss: 0.4617 - val_accuracy: 0.9957\n",
      "Epoch 6/30\n",
      "117/117 - 19s - loss: 0.6049 - accuracy: 0.7324 - val_loss: 1.7604 - val_accuracy: 0.0000e+00\n",
      "Epoch 7/30\n",
      "117/117 - 19s - loss: 0.5840 - accuracy: 0.7480 - val_loss: 0.9306 - val_accuracy: 0.1202\n",
      "Epoch 8/30\n",
      "117/117 - 20s - loss: 0.5587 - accuracy: 0.7496 - val_loss: 1.4715 - val_accuracy: 0.0000e+00\n",
      "Epoch 9/30\n",
      "117/117 - 19s - loss: 0.5486 - accuracy: 0.7464 - val_loss: 1.5467 - val_accuracy: 0.0000e+00\n",
      "Epoch 1/30\n",
      "WARNING:tensorflow:Callbacks method `on_train_batch_end` is slow compared to the batch time (batch time: 0.0012s vs `on_train_batch_end` time: 0.1476s). Check your callbacks.\n"
     ]
    },
    {
     "name": "stderr",
     "output_type": "stream",
     "text": [
      "WARNING:tensorflow:Callbacks method `on_train_batch_end` is slow compared to the batch time (batch time: 0.0012s vs `on_train_batch_end` time: 0.1476s). Check your callbacks.\n"
     ]
    },
    {
     "name": "stdout",
     "output_type": "stream",
     "text": [
      "WARNING:tensorflow:Callbacks method `on_test_batch_end` is slow compared to the batch time (batch time: 0.0016s vs `on_test_batch_end` time: 0.1517s). Check your callbacks.\n"
     ]
    },
    {
     "name": "stderr",
     "output_type": "stream",
     "text": [
      "WARNING:tensorflow:Callbacks method `on_test_batch_end` is slow compared to the batch time (batch time: 0.0016s vs `on_test_batch_end` time: 0.1517s). Check your callbacks.\n"
     ]
    },
    {
     "name": "stdout",
     "output_type": "stream",
     "text": [
      "117/117 - 23s - loss: 0.6889 - accuracy: 0.7028 - val_loss: 0.8474 - val_accuracy: 0.0000e+00\n",
      "Epoch 2/30\n",
      "117/117 - 19s - loss: 0.6290 - accuracy: 0.7061 - val_loss: 1.3038 - val_accuracy: 0.0000e+00\n",
      "Epoch 3/30\n",
      "117/117 - 19s - loss: 0.5706 - accuracy: 0.7458 - val_loss: 1.5239 - val_accuracy: 0.0000e+00\n",
      "Epoch 4/30\n",
      "117/117 - 19s - loss: 0.5616 - accuracy: 0.7480 - val_loss: 1.9164 - val_accuracy: 0.0000e+00\n",
      "Epoch 5/30\n",
      "117/117 - 19s - loss: 0.5754 - accuracy: 0.7491 - val_loss: 1.3309 - val_accuracy: 0.0000e+00\n",
      "Epoch 1/30\n",
      "WARNING:tensorflow:Callbacks method `on_train_batch_end` is slow compared to the batch time (batch time: 0.0010s vs `on_train_batch_end` time: 0.1466s). Check your callbacks.\n"
     ]
    },
    {
     "name": "stderr",
     "output_type": "stream",
     "text": [
      "WARNING:tensorflow:Callbacks method `on_train_batch_end` is slow compared to the batch time (batch time: 0.0010s vs `on_train_batch_end` time: 0.1466s). Check your callbacks.\n"
     ]
    },
    {
     "name": "stdout",
     "output_type": "stream",
     "text": [
      "WARNING:tensorflow:Callbacks method `on_test_batch_end` is slow compared to the batch time (batch time: 0.0011s vs `on_test_batch_end` time: 0.1444s). Check your callbacks.\n"
     ]
    },
    {
     "name": "stderr",
     "output_type": "stream",
     "text": [
      "WARNING:tensorflow:Callbacks method `on_test_batch_end` is slow compared to the batch time (batch time: 0.0011s vs `on_test_batch_end` time: 0.1444s). Check your callbacks.\n"
     ]
    },
    {
     "name": "stdout",
     "output_type": "stream",
     "text": [
      "117/117 - 23s - loss: 0.7303 - accuracy: 0.6364 - val_loss: 2.5343 - val_accuracy: 0.0000e+00\n",
      "Epoch 2/30\n",
      "117/117 - 19s - loss: 0.5886 - accuracy: 0.7449 - val_loss: 1.6349 - val_accuracy: 0.0000e+00\n",
      "Epoch 3/30\n",
      "117/117 - 19s - loss: 0.5585 - accuracy: 0.7444 - val_loss: 1.7826 - val_accuracy: 0.0000e+00\n",
      "Epoch 4/30\n",
      "117/117 - 19s - loss: 0.5785 - accuracy: 0.7422 - val_loss: 1.9749 - val_accuracy: 0.0000e+00\n",
      "Epoch 5/30\n",
      "117/117 - 20s - loss: 0.5929 - accuracy: 0.7186 - val_loss: 0.8379 - val_accuracy: 0.1717\n",
      "Epoch 6/30\n",
      "117/117 - 20s - loss: 0.5672 - accuracy: 0.7470 - val_loss: 1.1643 - val_accuracy: 0.0086\n",
      "Epoch 7/30\n",
      "117/117 - 20s - loss: 0.5463 - accuracy: 0.7460 - val_loss: 1.1128 - val_accuracy: 0.0215\n",
      "Epoch 8/30\n",
      "117/117 - 19s - loss: 0.5497 - accuracy: 0.7481 - val_loss: 1.8175 - val_accuracy: 0.0000e+00\n",
      "Epoch 9/30\n",
      "117/117 - 19s - loss: 0.5570 - accuracy: 0.7470 - val_loss: 1.4172 - val_accuracy: 0.0021\n"
     ]
    }
   ],
   "source": [
    "histories, models = train_cross_validate()"
   ]
  },
  {
   "cell_type": "code",
   "execution_count": 19,
   "metadata": {
    "id": "er0obYxjSaAS"
   },
   "outputs": [],
   "source": [
    "def predict(folds = 4):\n",
    "   histories, models = train_cross_validate(folds = folds)\n",
    "   scores=[]\n",
    "   auc =[]\n",
    "\n",
    "\n",
    "   for i in range(nfolds):\n",
    "     result = models[i].evaluate(X[test], y[test], verbose=0)\n",
    "     scores.append(result)\n",
    "     y_pred = models[i].predict(X[test])\n",
    "     AUC = roc_auc_score(y[test], y_pred.round())\n",
    "     auc.append(AUC)  \n",
    "\n",
    "   return scores,auc   "
   ]
  },
  {
   "cell_type": "code",
   "execution_count": 20,
   "metadata": {
    "colab": {
     "base_uri": "https://localhost:8080/",
     "height": 1000
    },
    "id": "Ebyg9uoHmhDt",
    "outputId": "529bdd04-58ce-4c77-d6d3-30d8a0c7ce2a"
   },
   "outputs": [
    {
     "name": "stdout",
     "output_type": "stream",
     "text": [
      "Epoch 1/30\n",
      "WARNING:tensorflow:Callbacks method `on_train_batch_end` is slow compared to the batch time (batch time: 0.0013s vs `on_train_batch_end` time: 0.1497s). Check your callbacks.\n"
     ]
    },
    {
     "name": "stderr",
     "output_type": "stream",
     "text": [
      "WARNING:tensorflow:Callbacks method `on_train_batch_end` is slow compared to the batch time (batch time: 0.0013s vs `on_train_batch_end` time: 0.1497s). Check your callbacks.\n"
     ]
    },
    {
     "name": "stdout",
     "output_type": "stream",
     "text": [
      "WARNING:tensorflow:Callbacks method `on_test_batch_end` is slow compared to the batch time (batch time: 0.0012s vs `on_test_batch_end` time: 0.1317s). Check your callbacks.\n"
     ]
    },
    {
     "name": "stderr",
     "output_type": "stream",
     "text": [
      "WARNING:tensorflow:Callbacks method `on_test_batch_end` is slow compared to the batch time (batch time: 0.0012s vs `on_test_batch_end` time: 0.1317s). Check your callbacks.\n"
     ]
    },
    {
     "name": "stdout",
     "output_type": "stream",
     "text": [
      "117/117 - 24s - loss: 0.7643 - accuracy: 0.6706 - val_loss: 3.3798 - val_accuracy: 0.0000e+00\n",
      "Epoch 2/30\n",
      "117/117 - 19s - loss: 0.7728 - accuracy: 0.6357 - val_loss: 3.3955 - val_accuracy: 0.0000e+00\n",
      "Epoch 3/30\n",
      "117/117 - 19s - loss: 0.6410 - accuracy: 0.7055 - val_loss: 0.9338 - val_accuracy: 0.0622\n",
      "Epoch 4/30\n",
      "117/117 - 19s - loss: 0.5512 - accuracy: 0.7512 - val_loss: 1.2286 - val_accuracy: 0.0107\n",
      "Epoch 5/30\n",
      "117/117 - 19s - loss: 0.5615 - accuracy: 0.7474 - val_loss: 0.9267 - val_accuracy: 0.1266\n",
      "Epoch 6/30\n",
      "117/117 - 19s - loss: 0.5585 - accuracy: 0.7480 - val_loss: 0.9429 - val_accuracy: 0.1288\n",
      "Epoch 7/30\n",
      "117/117 - 19s - loss: 0.5729 - accuracy: 0.7501 - val_loss: 1.6934 - val_accuracy: 0.0000e+00\n",
      "Epoch 8/30\n",
      "117/117 - 19s - loss: 0.5460 - accuracy: 0.7469 - val_loss: 1.3116 - val_accuracy: 0.0172\n",
      "Epoch 9/30\n",
      "117/117 - 19s - loss: 0.5441 - accuracy: 0.7491 - val_loss: 0.9412 - val_accuracy: 0.1674\n",
      "Epoch 1/30\n",
      "WARNING:tensorflow:Callbacks method `on_train_batch_end` is slow compared to the batch time (batch time: 0.0011s vs `on_train_batch_end` time: 0.1549s). Check your callbacks.\n"
     ]
    },
    {
     "name": "stderr",
     "output_type": "stream",
     "text": [
      "WARNING:tensorflow:Callbacks method `on_train_batch_end` is slow compared to the batch time (batch time: 0.0011s vs `on_train_batch_end` time: 0.1549s). Check your callbacks.\n"
     ]
    },
    {
     "name": "stdout",
     "output_type": "stream",
     "text": [
      "WARNING:tensorflow:Callbacks method `on_test_batch_end` is slow compared to the batch time (batch time: 0.0012s vs `on_test_batch_end` time: 0.1378s). Check your callbacks.\n"
     ]
    },
    {
     "name": "stderr",
     "output_type": "stream",
     "text": [
      "WARNING:tensorflow:Callbacks method `on_test_batch_end` is slow compared to the batch time (batch time: 0.0012s vs `on_test_batch_end` time: 0.1378s). Check your callbacks.\n"
     ]
    },
    {
     "name": "stdout",
     "output_type": "stream",
     "text": [
      "117/117 - 23s - loss: 0.9547 - accuracy: 0.6142 - val_loss: 0.1934 - val_accuracy: 1.0000\n",
      "Epoch 2/30\n",
      "117/117 - 20s - loss: 1.1454 - accuracy: 0.6153 - val_loss: 4.6943 - val_accuracy: 0.0000e+00\n",
      "Epoch 3/30\n",
      "117/117 - 20s - loss: 1.0100 - accuracy: 0.6104 - val_loss: 2.5993 - val_accuracy: 0.0000e+00\n",
      "Epoch 4/30\n",
      "117/117 - 20s - loss: 0.8799 - accuracy: 0.6158 - val_loss: 1.4513 - val_accuracy: 0.0000e+00\n",
      "Epoch 5/30\n",
      "117/117 - 19s - loss: 0.6687 - accuracy: 0.7023 - val_loss: 0.5649 - val_accuracy: 0.9270\n",
      "Epoch 1/30\n",
      "WARNING:tensorflow:Callbacks method `on_train_batch_end` is slow compared to the batch time (batch time: 0.0015s vs `on_train_batch_end` time: 0.1425s). Check your callbacks.\n"
     ]
    },
    {
     "name": "stderr",
     "output_type": "stream",
     "text": [
      "WARNING:tensorflow:Callbacks method `on_train_batch_end` is slow compared to the batch time (batch time: 0.0015s vs `on_train_batch_end` time: 0.1425s). Check your callbacks.\n"
     ]
    },
    {
     "name": "stdout",
     "output_type": "stream",
     "text": [
      "WARNING:tensorflow:Callbacks method `on_test_batch_end` is slow compared to the batch time (batch time: 0.0014s vs `on_test_batch_end` time: 0.1352s). Check your callbacks.\n"
     ]
    },
    {
     "name": "stderr",
     "output_type": "stream",
     "text": [
      "WARNING:tensorflow:Callbacks method `on_test_batch_end` is slow compared to the batch time (batch time: 0.0014s vs `on_test_batch_end` time: 0.1352s). Check your callbacks.\n"
     ]
    },
    {
     "name": "stdout",
     "output_type": "stream",
     "text": [
      "117/117 - 23s - loss: 0.6895 - accuracy: 0.6690 - val_loss: 0.8966 - val_accuracy: 0.0000e+00\n",
      "Epoch 2/30\n",
      "117/117 - 20s - loss: 0.7545 - accuracy: 0.6411 - val_loss: 0.3461 - val_accuracy: 1.0000\n",
      "Epoch 3/30\n",
      "117/117 - 19s - loss: 0.6220 - accuracy: 0.7184 - val_loss: 1.5681 - val_accuracy: 0.0000e+00\n",
      "Epoch 4/30\n",
      "117/117 - 20s - loss: 0.5522 - accuracy: 0.7458 - val_loss: 1.4611 - val_accuracy: 0.0000e+00\n",
      "Epoch 5/30\n",
      "117/117 - 19s - loss: 0.5634 - accuracy: 0.7507 - val_loss: 1.8728 - val_accuracy: 0.0000e+00\n",
      "Epoch 6/30\n",
      "117/117 - 19s - loss: 0.5498 - accuracy: 0.7491 - val_loss: 1.4825 - val_accuracy: 0.0000e+00\n",
      "Epoch 1/30\n",
      "WARNING:tensorflow:Callbacks method `on_train_batch_end` is slow compared to the batch time (batch time: 0.0010s vs `on_train_batch_end` time: 0.1488s). Check your callbacks.\n"
     ]
    },
    {
     "name": "stderr",
     "output_type": "stream",
     "text": [
      "WARNING:tensorflow:Callbacks method `on_train_batch_end` is slow compared to the batch time (batch time: 0.0010s vs `on_train_batch_end` time: 0.1488s). Check your callbacks.\n"
     ]
    },
    {
     "name": "stdout",
     "output_type": "stream",
     "text": [
      "WARNING:tensorflow:Callbacks method `on_test_batch_end` is slow compared to the batch time (batch time: 0.0011s vs `on_test_batch_end` time: 0.1316s). Check your callbacks.\n"
     ]
    },
    {
     "name": "stderr",
     "output_type": "stream",
     "text": [
      "WARNING:tensorflow:Callbacks method `on_test_batch_end` is slow compared to the batch time (batch time: 0.0011s vs `on_test_batch_end` time: 0.1316s). Check your callbacks.\n"
     ]
    },
    {
     "name": "stdout",
     "output_type": "stream",
     "text": [
      "117/117 - 23s - loss: 0.6746 - accuracy: 0.7132 - val_loss: 2.4008 - val_accuracy: 0.0000e+00\n",
      "Epoch 2/30\n",
      "117/117 - 19s - loss: 0.7165 - accuracy: 0.6869 - val_loss: 1.3308 - val_accuracy: 0.0000e+00\n",
      "Epoch 3/30\n",
      "117/117 - 20s - loss: 0.5687 - accuracy: 0.7465 - val_loss: 1.1108 - val_accuracy: 0.0000e+00\n",
      "Epoch 4/30\n",
      "117/117 - 19s - loss: 0.5765 - accuracy: 0.7492 - val_loss: 0.8731 - val_accuracy: 0.1266\n",
      "Epoch 5/30\n",
      "117/117 - 19s - loss: 0.5595 - accuracy: 0.7470 - val_loss: 1.1276 - val_accuracy: 0.0086\n",
      "Epoch 6/30\n",
      "117/117 - 20s - loss: 0.6020 - accuracy: 0.7218 - val_loss: 1.6760 - val_accuracy: 0.0000e+00\n",
      "Epoch 7/30\n",
      "117/117 - 20s - loss: 0.5550 - accuracy: 0.7508 - val_loss: 1.3338 - val_accuracy: 0.0021\n",
      "Epoch 8/30\n",
      "117/117 - 20s - loss: 0.5470 - accuracy: 0.7454 - val_loss: 1.1166 - val_accuracy: 0.0258\n"
     ]
    },
    {
     "ename": "NameError",
     "evalue": "ignored",
     "output_type": "error",
     "traceback": [
      "\u001b[0;31m---------------------------------------------------------------------------\u001b[0m",
      "\u001b[0;31mNameError\u001b[0m                                 Traceback (most recent call last)",
      "\u001b[0;32m<ipython-input-20-e2282cc8788b>\u001b[0m in \u001b[0;36m<module>\u001b[0;34m()\u001b[0m\n\u001b[0;32m----> 1\u001b[0;31m \u001b[0mscores\u001b[0m\u001b[0;34m,\u001b[0m\u001b[0mauc\u001b[0m \u001b[0;34m=\u001b[0m \u001b[0mpredict\u001b[0m\u001b[0;34m(\u001b[0m\u001b[0mfolds\u001b[0m \u001b[0;34m=\u001b[0m \u001b[0;36m4\u001b[0m\u001b[0;34m)\u001b[0m\u001b[0;34m\u001b[0m\u001b[0;34m\u001b[0m\u001b[0m\n\u001b[0m",
      "\u001b[0;32m<ipython-input-19-637da333038e>\u001b[0m in \u001b[0;36mpredict\u001b[0;34m(folds)\u001b[0m\n\u001b[1;32m      6\u001b[0m \u001b[0;34m\u001b[0m\u001b[0m\n\u001b[1;32m      7\u001b[0m    \u001b[0;32mfor\u001b[0m \u001b[0mi\u001b[0m \u001b[0;32min\u001b[0m \u001b[0mrange\u001b[0m\u001b[0;34m(\u001b[0m\u001b[0mnfolds\u001b[0m\u001b[0;34m)\u001b[0m\u001b[0;34m:\u001b[0m\u001b[0;34m\u001b[0m\u001b[0;34m\u001b[0m\u001b[0m\n\u001b[0;32m----> 8\u001b[0;31m      \u001b[0mresult\u001b[0m \u001b[0;34m=\u001b[0m \u001b[0mmodels\u001b[0m\u001b[0;34m[\u001b[0m\u001b[0mi\u001b[0m\u001b[0;34m]\u001b[0m\u001b[0;34m.\u001b[0m\u001b[0mevaluate\u001b[0m\u001b[0;34m(\u001b[0m\u001b[0mX\u001b[0m\u001b[0;34m[\u001b[0m\u001b[0mtest\u001b[0m\u001b[0;34m]\u001b[0m\u001b[0;34m,\u001b[0m \u001b[0my\u001b[0m\u001b[0;34m[\u001b[0m\u001b[0mtest\u001b[0m\u001b[0;34m]\u001b[0m\u001b[0;34m,\u001b[0m \u001b[0mverbose\u001b[0m\u001b[0;34m=\u001b[0m\u001b[0;36m0\u001b[0m\u001b[0;34m)\u001b[0m\u001b[0;34m\u001b[0m\u001b[0;34m\u001b[0m\u001b[0m\n\u001b[0m\u001b[1;32m      9\u001b[0m      \u001b[0mscores\u001b[0m\u001b[0;34m.\u001b[0m\u001b[0mappend\u001b[0m\u001b[0;34m(\u001b[0m\u001b[0mresult\u001b[0m\u001b[0;34m)\u001b[0m\u001b[0;34m\u001b[0m\u001b[0;34m\u001b[0m\u001b[0m\n\u001b[1;32m     10\u001b[0m      \u001b[0my_pred\u001b[0m \u001b[0;34m=\u001b[0m \u001b[0mmodels\u001b[0m\u001b[0;34m[\u001b[0m\u001b[0mi\u001b[0m\u001b[0;34m]\u001b[0m\u001b[0;34m.\u001b[0m\u001b[0mpredict\u001b[0m\u001b[0;34m(\u001b[0m\u001b[0mX\u001b[0m\u001b[0;34m[\u001b[0m\u001b[0mtest\u001b[0m\u001b[0;34m]\u001b[0m\u001b[0;34m)\u001b[0m\u001b[0;34m\u001b[0m\u001b[0;34m\u001b[0m\u001b[0m\n",
      "\u001b[0;31mNameError\u001b[0m: name 'test' is not defined"
     ]
    }
   ],
   "source": [
    "scores,auc = predict(folds = 4)#اینجا قرار بوده اسکور و اکیوریسی چاپ بشه نمیدونم چرا دوباره از تابع قبل ران کرده(کل ابا تابع هنوز مشکل دارم از سر سی پلاس پلاس ما با هم جور نشدیم)"
   ]
  }
 ],
 "metadata": {
  "accelerator": "TPU",
  "colab": {
   "collapsed_sections": [],
   "name": "resnet50.new.ipynb",
   "provenance": []
  },
  "kernelspec": {
   "display_name": "Python 3",
   "language": "python",
   "name": "python3"
  },
  "language_info": {
   "codemirror_mode": {
    "name": "ipython",
    "version": 3
   },
   "file_extension": ".py",
   "mimetype": "text/x-python",
   "name": "python",
   "nbconvert_exporter": "python",
   "pygments_lexer": "ipython3",
   "version": "3.6.5"
  }
 },
 "nbformat": 4,
 "nbformat_minor": 1
}
