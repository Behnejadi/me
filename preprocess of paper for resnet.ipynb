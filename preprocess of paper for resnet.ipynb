{
 "cells": [
  {
   "cell_type": "code",
   "execution_count": 1,
   "metadata": {},
   "outputs": [],
   "source": [
    "import numpy as np\n",
    "from keras.preprocessing.image import load_img\n",
    "from keras.preprocessing.image import img_to_array\n",
    "import glob"
   ]
  },
  {
   "cell_type": "code",
   "execution_count": 2,
   "metadata": {},
   "outputs": [],
   "source": [
    "imgDim = 224\n",
    "colorMode = \"grayscale\"\n",
    "colorChannels =3"
   ]
  },
  {
   "cell_type": "code",
   "execution_count": 3,
   "metadata": {},
   "outputs": [],
   "source": [
    "imgDir = 'data.row/images_cropped/**/*.png'\n",
    "outputFile = 'data.row.battah/ASD2.npz'"
   ]
  },
  {
   "cell_type": "code",
   "execution_count": 4,
   "metadata": {},
   "outputs": [
    {
     "name": "stdout",
     "output_type": "stream",
     "text": [
      "Number of images: 3103\n"
     ]
    }
   ],
   "source": [
    "imgCount = 0\n",
    "for file in glob.iglob(imgDir, recursive=True):\n",
    "    imgCount = imgCount + 1\n",
    "print(\"Number of images:\", imgCount)"
   ]
  },
  {
   "cell_type": "code",
   "execution_count": 5,
   "metadata": {},
   "outputs": [],
   "source": [
    "X = np.zeros((imgCount, imgDim, imgDim, colorChannels), dtype=np.uint8)\n",
    "y = np.zeros((imgCount, 1), dtype=np.uint8)"
   ]
  },
  {
   "cell_type": "code",
   "execution_count": null,
   "metadata": {},
   "outputs": [
    {
     "name": "stdout",
     "output_type": "stream",
     "text": [
      "X shape: (3103, 224, 224, 3)\n",
      "y shape: (3103, 1)\n"
     ]
    }
   ],
   "source": [
    "for i, imgFile in enumerate(glob.iglob(imgDir, recursive=True)):\n",
    "    #print(imgFile)\n",
    "    img = load_img(imgFile, color_mode=colorMode, target_size=(imgDim, imgDim))\n",
    "    img = img_to_array(img)\n",
    "    X[i] = img\n",
    "\n",
    "    label = None\n",
    "    if \"neg\" in imgFile:\n",
    "        label = 0\n",
    "    elif \"pos\" in imgFile:\n",
    "        label = 1\n",
    "\n",
    "    y[i] = label\n",
    "\n",
    "print(\"X shape:\", X.shape)\n",
    "print(\"y shape:\", y.shape)\n",
    "\n",
    "X = (X / 255.0) #Normalization\n",
    "\n",
    "#Saving all into compressed Numpy array\n",
    "np.savez_compressed(outputFile, X=X, y=y)"
   ]
  },
  {
   "cell_type": "code",
   "execution_count": null,
   "metadata": {},
   "outputs": [],
   "source": []
  }
 ],
 "metadata": {
  "kernelspec": {
   "display_name": "Python 3",
   "language": "python",
   "name": "python3"
  },
  "language_info": {
   "codemirror_mode": {
    "name": "ipython",
    "version": 3
   },
   "file_extension": ".py",
   "mimetype": "text/x-python",
   "name": "python",
   "nbconvert_exporter": "python",
   "pygments_lexer": "ipython3",
   "version": "3.6.5"
  }
 },
 "nbformat": 4,
 "nbformat_minor": 2
}
