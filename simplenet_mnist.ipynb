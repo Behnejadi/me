{
  "nbformat": 4,
  "nbformat_minor": 0,
  "metadata": {
    "colab": {
      "name": "simplenet.mnist.ipynb",
      "provenance": [],
      "collapsed_sections": []
    },
    "kernelspec": {
      "name": "python3",
      "display_name": "Python 3"
    },
    "accelerator": "GPU"
  },
  "cells": [
    {
      "cell_type": "code",
      "metadata": {
        "id": "MK0RSG6Hx6kD"
      },
      "source": [
        "%matplotlib inline\n",
        "\n",
        "import numpy as np\n",
        "import matplotlib.pyplot as plt\n",
        "\n",
        "import keras\n",
        "from keras.utils import np_utils\n",
        "from tensorflow.keras import layers\n",
        "from keras.datasets import mnist\n",
        "from keras.models import Sequential\n",
        "from keras.layers import Dense, Activation, BatchNormalization\n",
        "from keras.layers import Conv2D, MaxPooling2D, Flatten ,Dropout\n",
        "import tensorflow as tf\n",
        "from keras.regularizers import l2\n",
        "from keras import regularizers, optimizers\n",
        "from keras.preprocessing.image import ImageDataGenerator\n",
        "from keras.initializers import glorot_normal, RandomNormal, Zeros\n",
        "from sklearn.metrics import roc_auc_score, roc_curve, auc ,accuracy_score,precision_score,recall_score,f1_score,accuracy_score"
      ],
      "execution_count": 11,
      "outputs": []
    },
    {
      "cell_type": "code",
      "metadata": {
        "id": "_UrozZw5zmiN"
      },
      "source": [
        "image_size = 28\n",
        "num_channels = 1\n",
        "num_features = image_size * image_size * num_channels\n",
        "num_classes = 10"
      ],
      "execution_count": 12,
      "outputs": []
    },
    {
      "cell_type": "code",
      "metadata": {
        "colab": {
          "base_uri": "https://localhost:8080/"
        },
        "id": "JEIXKvqH82Ut",
        "outputId": "9315749c-185f-44bb-a91e-de36012e41cc"
      },
      "source": [
        "(x_train, y_train), (x_test, y_test) = mnist.load_data()\n",
        "\n",
        "print('Train data shape: {}'.format(x_train.shape))\n",
        "print('Test  data shape: {}'.format(x_test.shape))"
      ],
      "execution_count": 13,
      "outputs": [
        {
          "output_type": "stream",
          "text": [
            "Train data shape: (60000, 28, 28)\n",
            "Test  data shape: (10000, 28, 28)\n"
          ],
          "name": "stdout"
        }
      ]
    },
    {
      "cell_type": "code",
      "metadata": {
        "colab": {
          "base_uri": "https://localhost:8080/"
        },
        "id": "lz4tAISq7Stx",
        "outputId": "6e81dc7e-0fcb-41f9-eddc-1b2cb7ea87a4"
      },
      "source": [
        "x_train = np.zeros((len(x_train), 32, 32, 1))\n",
        "x_test = np.zeros((len(x_test), 32, 32, 1))\n",
        "\n",
        "x_train = x_train.astype('float32')\n",
        "x_test  = x_test.astype('float32')\n",
        "\n",
        "\n",
        "x_train /= 255.0\n",
        "\n",
        "mean = np.mean(x_train, axis=(0, 1, 2))\n",
        "std = np.std(x_train, axis=(0, 1, 2))\n",
        "x_train = (x_train - mean) / std\n",
        "\n",
        "x_test /= 255.0\n",
        "x_test =(x_test-mean) / std\n",
        "\n",
        "print(x_train.shape)\n",
        "print(x_test.shape)"
      ],
      "execution_count": 14,
      "outputs": [
        {
          "output_type": "stream",
          "text": [
            "(60000, 32, 32, 1)\n",
            "(10000, 32, 32, 1)\n"
          ],
          "name": "stdout"
        },
        {
          "output_type": "stream",
          "text": [
            "/usr/local/lib/python3.6/dist-packages/ipykernel_launcher.py:12: RuntimeWarning: invalid value encountered in true_divide\n",
            "  if sys.path[0] == '':\n",
            "/usr/local/lib/python3.6/dist-packages/ipykernel_launcher.py:15: RuntimeWarning: invalid value encountered in true_divide\n",
            "  from ipykernel import kernelapp as app\n"
          ],
          "name": "stderr"
        }
      ]
    },
    {
      "cell_type": "code",
      "metadata": {
        "colab": {
          "base_uri": "https://localhost:8080/"
        },
        "id": "PXi459NY88eb",
        "outputId": "99cddb28-4a9d-4f97-e8cd-f128e7452999"
      },
      "source": [
        "y_train = keras.utils.to_categorical(y_train, num_classes)\n",
        "y_test  = keras.utils.to_categorical(y_test,  num_classes)\n",
        "\n",
        "print(y_train.shape)\n",
        "print(y_test.shape)"
      ],
      "execution_count": 15,
      "outputs": [
        {
          "output_type": "stream",
          "text": [
            "(60000, 10)\n",
            "(10000, 10)\n"
          ],
          "name": "stdout"
        }
      ]
    },
    {
      "cell_type": "code",
      "metadata": {
        "id": "kPNhYo2uecQ-"
      },
      "source": [
        "# Data augmentation\n",
        "datagen = ImageDataGenerator(\n",
        "    rotation_range=15,\n",
        "    width_shift_range=0.1,\n",
        "    height_shift_range=0.1,\n",
        "    horizontal_flip=True\n",
        "    )\n",
        "datagen.fit(x_train)"
      ],
      "execution_count": 16,
      "outputs": []
    },
    {
      "cell_type": "code",
      "metadata": {
        "id": "Eh-YSPIrHrQf"
      },
      "source": [
        "# plotting helper function\n",
        "def plothist(hist):\n",
        "    \n",
        "    plt.subplot(1, 2, 1)\n",
        "    plt.plot(hist.history['accuracy'])\n",
        "    plt.plot(hist.history['val_accuracy'])\n",
        "    plt.title('model accuracy')\n",
        "    plt.ylabel('accuracy')\n",
        "    plt.xlabel('epoch')\n",
        "    plt.legend(['train', 'test'], loc='lower right')\n",
        "\n",
        "    plt.subplot(1, 2, 2)\n",
        "    plt.plot(hist.history['loss'])\n",
        "    plt.plot(hist.history['val_loss'])\n",
        "    plt.title('model loss')\n",
        "    plt.ylabel('loss')\n",
        "    plt.xlabel('epoch')\n",
        "    plt.legend(['train', 'test'], loc='upper left')\n",
        "\n",
        "\n",
        "    plt.show()"
      ],
      "execution_count": 17,
      "outputs": []
    },
    {
      "cell_type": "code",
      "metadata": {
        "id": "t2V2aJZ2zmSH",
        "colab": {
          "base_uri": "https://localhost:8080/"
        },
        "outputId": "8becbc1e-580e-4d2d-89de-fd43a7555d04"
      },
      "source": [
        "def create_cnn():\n",
        "    model = Sequential()\n",
        "    # Conv Block 1\n",
        "    model.add(Conv2D(64, (3, 3), padding='same' , strides=(1, 1),kernel_regularizer=regularizers.l2(0.005), kernel_initializer=glorot_normal() ,\n",
        "                     input_shape=x_train.shape[1:]))\n",
        "    model.add(BatchNormalization(momentum=0.05,trainable=True, epsilon=1e-05))# affine=True, track_running_stats=True\n",
        "    model.add(Activation(activation='relu'))#(inplace)\n",
        "\n",
        "    model.add(Conv2D(128, (3, 3), padding='same',strides=(1, 1),kernel_regularizer=regularizers.l2(0.005), kernel_initializer=glorot_normal()))\n",
        "    model.add(BatchNormalization(momentum=0.05, epsilon=1e-05))\n",
        "    model.add(Activation(activation='relu'))#(inplace)\n",
        "\n",
        "    model.add(Conv2D(128, (3, 3), padding='same',strides=(1, 1),kernel_regularizer=regularizers.l2(0.005), kernel_initializer=RandomNormal(stddev=0.01)))\n",
        "    model.add(BatchNormalization(momentum=0.05, epsilon=1e-05))\n",
        "    model.add(Activation(activation='relu'))#(inplace)\n",
        "     \n",
        "    model.add(Conv2D(128, (3, 3), padding='same',strides=(1, 1),kernel_regularizer=regularizers.l2(0.005), kernel_initializer=RandomNormal(stddev=0.01)))\n",
        "    model.add(BatchNormalization(momentum=0.05, epsilon=1e-05))\n",
        "    model.add(Activation(activation='relu'))#(inplace)\n",
        "     \n",
        "    model.add(MaxPooling2D(pool_size=(2, 2),strides=(2, 2)))# padding=0, dilation=(1, 1), ceil_mode=False)\n",
        "    model.add(Dropout(0.1))          \n",
        "\n",
        "\n",
        "    # Conv Block 2\n",
        "    model.add(Conv2D(128, (3, 3), padding='same',strides=(1, 1),kernel_regularizer=regularizers.l2(0.005), kernel_initializer=RandomNormal(stddev=0.01)))\n",
        "    model.add(BatchNormalization(momentum=0.05, epsilon=1e-05))\n",
        "    model.add(Activation(activation='relu'))#(inplace)\n",
        "\n",
        "    model.add(Conv2D(128, (3, 3), padding='same',strides=(1, 1),kernel_regularizer=regularizers.l2(0.005), kernel_initializer=glorot_normal()))\n",
        "    model.add(BatchNormalization(momentum=0.05, epsilon=1e-05))\n",
        "    model.add(Activation(activation='relu'))#(inplace)\n",
        "\n",
        "    model.add(Conv2D(256, (3, 3), padding='same',strides=(1, 1),kernel_regularizer=regularizers.l2(0.005), kernel_initializer=glorot_normal()))\n",
        "    model.add(BatchNormalization(momentum=0.05, epsilon=1e-05))\n",
        "    model.add(Activation(activation='relu'))#(inplace)\n",
        "     \n",
        "    model.add(MaxPooling2D(pool_size=(2, 2),strides=(2, 2)))# padding=0, dilation=(1, 1), ceil_mode=False)\n",
        "    model.add(Dropout(0.1))\n",
        "\n",
        "\n",
        "    # Conv Block 3\n",
        "    model.add(Conv2D(256, (3, 3), padding='same',strides=(1, 1),kernel_regularizer=regularizers.l2(0.005), kernel_initializer=glorot_normal()))\n",
        "    model.add(BatchNormalization(momentum=0.05, epsilon=1e-05))\n",
        "    model.add(Activation(activation='relu'))#(inplace)\n",
        "\n",
        "    model.add(Conv2D(256, (3, 3), padding='same',strides=(1, 1),kernel_regularizer=regularizers.l2(0.005), kernel_initializer=glorot_normal()))\n",
        "    model.add(BatchNormalization(momentum=0.05, epsilon=1e-05))\n",
        "    model.add(Activation(activation='relu'))#(inplace)\n",
        "     \n",
        "    model.add(MaxPooling2D(pool_size=(2, 2),strides=(2, 2)))# padding=0, dilation=(1, 1), ceil_mode=False)\n",
        "    model.add(Dropout(0.1))\n",
        "\n",
        "    # Conv Block 4\n",
        "    model.add(Conv2D(512, (3, 3), padding='same',strides=(1, 1),kernel_regularizer=regularizers.l2(0.005), kernel_initializer=glorot_normal()))\n",
        "    model.add(BatchNormalization(momentum=0.05, epsilon=1e-05))\n",
        "    model.add(Activation(activation='relu'))#(inplace)\n",
        "     \n",
        "    model.add(MaxPooling2D(pool_size=(2, 2),strides=(2, 2)))# padding=0, dilation=(1, 1), ceil_mode=False)\n",
        "    model.add(Dropout(0.1))\n",
        "\n",
        "    # Conv Block 5\n",
        "    model.add(Conv2D(2048, (1, 1), padding='same',strides=(1, 1),kernel_regularizer=regularizers.l2(0.005), kernel_initializer=glorot_normal()))\n",
        "    model.add(BatchNormalization(momentum=0.05, epsilon=1e-05))\n",
        "    model.add(Activation(activation='relu'))#(inplace)\n",
        "\n",
        "    model.add(Conv2D(256, (1, 1), padding='same',strides=(1, 1),kernel_regularizer=regularizers.l2(0.005), kernel_initializer=glorot_normal()))\n",
        "    model.add(BatchNormalization(momentum=0.05, epsilon=1e-05))\n",
        "    model.add(Activation(activation='relu'))#(inplace)\n",
        "     \n",
        "    model.add(MaxPooling2D(pool_size=(2, 2),strides=(2, 2)))# padding=0, dilation=(1, 1), ceil_mode=False)\n",
        "    model.add(Dropout(0.1))\n",
        "\n",
        "\n",
        "    # Conv Block 6\n",
        "    model.add(Conv2D(256, (3, 3), padding='same',strides=(1, 1),kernel_regularizer=regularizers.l2(0.005), kernel_initializer=glorot_normal()))\n",
        "    model.add(BatchNormalization(momentum=0.05, epsilon=1e-05))\n",
        "    model.add(Activation(activation='relu'))#(inplace)\n",
        "\n",
        "\n",
        "    # Classifier\n",
        "    model.add(Flatten())\n",
        "    model.add(Dense(num_classes, activation='softmax'))\n",
        "\n",
        "    return model\n",
        "\n",
        "model = create_cnn()\n",
        "model.summary()"
      ],
      "execution_count": 18,
      "outputs": [
        {
          "output_type": "stream",
          "text": [
            "Model: \"sequential\"\n",
            "_________________________________________________________________\n",
            "Layer (type)                 Output Shape              Param #   \n",
            "=================================================================\n",
            "conv2d (Conv2D)              (None, 32, 32, 64)        640       \n",
            "_________________________________________________________________\n",
            "batch_normalization (BatchNo (None, 32, 32, 64)        256       \n",
            "_________________________________________________________________\n",
            "activation (Activation)      (None, 32, 32, 64)        0         \n",
            "_________________________________________________________________\n",
            "conv2d_1 (Conv2D)            (None, 32, 32, 128)       73856     \n",
            "_________________________________________________________________\n",
            "batch_normalization_1 (Batch (None, 32, 32, 128)       512       \n",
            "_________________________________________________________________\n",
            "activation_1 (Activation)    (None, 32, 32, 128)       0         \n",
            "_________________________________________________________________\n",
            "conv2d_2 (Conv2D)            (None, 32, 32, 128)       147584    \n",
            "_________________________________________________________________\n",
            "batch_normalization_2 (Batch (None, 32, 32, 128)       512       \n",
            "_________________________________________________________________\n",
            "activation_2 (Activation)    (None, 32, 32, 128)       0         \n",
            "_________________________________________________________________\n",
            "conv2d_3 (Conv2D)            (None, 32, 32, 128)       147584    \n",
            "_________________________________________________________________\n",
            "batch_normalization_3 (Batch (None, 32, 32, 128)       512       \n",
            "_________________________________________________________________\n",
            "activation_3 (Activation)    (None, 32, 32, 128)       0         \n",
            "_________________________________________________________________\n",
            "max_pooling2d (MaxPooling2D) (None, 16, 16, 128)       0         \n",
            "_________________________________________________________________\n",
            "dropout (Dropout)            (None, 16, 16, 128)       0         \n",
            "_________________________________________________________________\n",
            "conv2d_4 (Conv2D)            (None, 16, 16, 128)       147584    \n",
            "_________________________________________________________________\n",
            "batch_normalization_4 (Batch (None, 16, 16, 128)       512       \n",
            "_________________________________________________________________\n",
            "activation_4 (Activation)    (None, 16, 16, 128)       0         \n",
            "_________________________________________________________________\n",
            "conv2d_5 (Conv2D)            (None, 16, 16, 128)       147584    \n",
            "_________________________________________________________________\n",
            "batch_normalization_5 (Batch (None, 16, 16, 128)       512       \n",
            "_________________________________________________________________\n",
            "activation_5 (Activation)    (None, 16, 16, 128)       0         \n",
            "_________________________________________________________________\n",
            "conv2d_6 (Conv2D)            (None, 16, 16, 256)       295168    \n",
            "_________________________________________________________________\n",
            "batch_normalization_6 (Batch (None, 16, 16, 256)       1024      \n",
            "_________________________________________________________________\n",
            "activation_6 (Activation)    (None, 16, 16, 256)       0         \n",
            "_________________________________________________________________\n",
            "max_pooling2d_1 (MaxPooling2 (None, 8, 8, 256)         0         \n",
            "_________________________________________________________________\n",
            "dropout_1 (Dropout)          (None, 8, 8, 256)         0         \n",
            "_________________________________________________________________\n",
            "conv2d_7 (Conv2D)            (None, 8, 8, 256)         590080    \n",
            "_________________________________________________________________\n",
            "batch_normalization_7 (Batch (None, 8, 8, 256)         1024      \n",
            "_________________________________________________________________\n",
            "activation_7 (Activation)    (None, 8, 8, 256)         0         \n",
            "_________________________________________________________________\n",
            "conv2d_8 (Conv2D)            (None, 8, 8, 256)         590080    \n",
            "_________________________________________________________________\n",
            "batch_normalization_8 (Batch (None, 8, 8, 256)         1024      \n",
            "_________________________________________________________________\n",
            "activation_8 (Activation)    (None, 8, 8, 256)         0         \n",
            "_________________________________________________________________\n",
            "max_pooling2d_2 (MaxPooling2 (None, 4, 4, 256)         0         \n",
            "_________________________________________________________________\n",
            "dropout_2 (Dropout)          (None, 4, 4, 256)         0         \n",
            "_________________________________________________________________\n",
            "conv2d_9 (Conv2D)            (None, 4, 4, 512)         1180160   \n",
            "_________________________________________________________________\n",
            "batch_normalization_9 (Batch (None, 4, 4, 512)         2048      \n",
            "_________________________________________________________________\n",
            "activation_9 (Activation)    (None, 4, 4, 512)         0         \n",
            "_________________________________________________________________\n",
            "max_pooling2d_3 (MaxPooling2 (None, 2, 2, 512)         0         \n",
            "_________________________________________________________________\n",
            "dropout_3 (Dropout)          (None, 2, 2, 512)         0         \n",
            "_________________________________________________________________\n",
            "conv2d_10 (Conv2D)           (None, 2, 2, 2048)        1050624   \n",
            "_________________________________________________________________\n",
            "batch_normalization_10 (Batc (None, 2, 2, 2048)        8192      \n",
            "_________________________________________________________________\n",
            "activation_10 (Activation)   (None, 2, 2, 2048)        0         \n",
            "_________________________________________________________________\n",
            "conv2d_11 (Conv2D)           (None, 2, 2, 256)         524544    \n",
            "_________________________________________________________________\n",
            "batch_normalization_11 (Batc (None, 2, 2, 256)         1024      \n",
            "_________________________________________________________________\n",
            "activation_11 (Activation)   (None, 2, 2, 256)         0         \n",
            "_________________________________________________________________\n",
            "max_pooling2d_4 (MaxPooling2 (None, 1, 1, 256)         0         \n",
            "_________________________________________________________________\n",
            "dropout_4 (Dropout)          (None, 1, 1, 256)         0         \n",
            "_________________________________________________________________\n",
            "conv2d_12 (Conv2D)           (None, 1, 1, 256)         590080    \n",
            "_________________________________________________________________\n",
            "batch_normalization_12 (Batc (None, 1, 1, 256)         1024      \n",
            "_________________________________________________________________\n",
            "activation_12 (Activation)   (None, 1, 1, 256)         0         \n",
            "_________________________________________________________________\n",
            "flatten (Flatten)            (None, 256)               0         \n",
            "_________________________________________________________________\n",
            "dense (Dense)                (None, 10)                2570      \n",
            "=================================================================\n",
            "Total params: 5,506,314\n",
            "Trainable params: 5,497,226\n",
            "Non-trainable params: 9,088\n",
            "_________________________________________________________________\n"
          ],
          "name": "stdout"
        }
      ]
    },
    {
      "cell_type": "code",
      "metadata": {
        "id": "ngAmYHu678di"
      },
      "source": [
        "BATCH_SIZE =128\n",
        "STEPS_PER_EPOCH =len(x_train)//BATCH_SIZE \n",
        "\n",
        "step = tf.Variable(0, trainable=False)\n",
        "boundaries = [50*STEPS_PER_EPOCH,75*STEPS_PER_EPOCH,\n",
        "              100*STEPS_PER_EPOCH]\n",
        "values = [0.1, 0.01 , 0.001, 0.0001]\n",
        "learning_rate_fn = keras.optimizers.schedules.PiecewiseConstantDecay(\n",
        "    boundaries, values)"
      ],
      "execution_count": 20,
      "outputs": []
    },
    {
      "cell_type": "code",
      "metadata": {
        "id": "ZIUYtaAI8ENq"
      },
      "source": [
        "optimizer = tf.keras.optimizers.SGD(learning_rate=learning_rate_fn,momentum=0.9)\n",
        "\n",
        "model.compile(optimizer=optimizer, loss='categorical_crossentropy', metrics=['accuracy'])"
      ],
      "execution_count": 25,
      "outputs": []
    },
    {
      "cell_type": "code",
      "metadata": {
        "id": "14GLLTvuC3Y1",
        "colab": {
          "base_uri": "https://localhost:8080/"
        },
        "outputId": "7f7c2caa-aba6-4431-b798-a704f1922029"
      },
      "source": [
        "history =model.fit_generator(datagen.flow(x_train, y_train, batch_size=128),\n",
        "                   steps_per_epoch=len(x_train) // 128,epochs=30,\n",
        "                   validation_data=(x_test,y_test))"
      ],
      "execution_count": null,
      "outputs": [
        {
          "output_type": "stream",
          "text": [
            "Epoch 1/30\n",
            "468/468 [==============================] - 43s 92ms/step - loss: nan - accuracy: 0.1090 - val_loss: nan - val_accuracy: 0.1135\n",
            "Epoch 2/30\n",
            "468/468 [==============================] - 43s 92ms/step - loss: nan - accuracy: 0.1082 - val_loss: nan - val_accuracy: 0.1010\n",
            "Epoch 3/30\n",
            "468/468 [==============================] - 43s 93ms/step - loss: nan - accuracy: 0.1079 - val_loss: nan - val_accuracy: 0.1135\n",
            "Epoch 4/30\n",
            "468/468 [==============================] - 44s 93ms/step - loss: nan - accuracy: 0.1073 - val_loss: nan - val_accuracy: 0.1135\n",
            "Epoch 5/30\n",
            "468/468 [==============================] - 44s 93ms/step - loss: nan - accuracy: 0.1081 - val_loss: nan - val_accuracy: 0.0980\n",
            "Epoch 6/30\n",
            "468/468 [==============================] - 44s 93ms/step - loss: nan - accuracy: 0.1085 - val_loss: nan - val_accuracy: 0.1135\n",
            "Epoch 7/30\n",
            "468/468 [==============================] - 44s 94ms/step - loss: nan - accuracy: 0.1086 - val_loss: nan - val_accuracy: 0.1135\n",
            "Epoch 8/30\n",
            "468/468 [==============================] - 44s 94ms/step - loss: nan - accuracy: 0.1087 - val_loss: nan - val_accuracy: 0.0980\n",
            "Epoch 9/30\n",
            "468/468 [==============================] - 44s 94ms/step - loss: nan - accuracy: 0.1086 - val_loss: nan - val_accuracy: 0.1135\n",
            "Epoch 10/30\n",
            "468/468 [==============================] - 44s 94ms/step - loss: nan - accuracy: 0.1064 - val_loss: nan - val_accuracy: 0.1135\n",
            "Epoch 11/30\n",
            "468/468 [==============================] - 44s 94ms/step - loss: nan - accuracy: 0.1065 - val_loss: nan - val_accuracy: 0.1135\n",
            "Epoch 12/30\n",
            "468/468 [==============================] - 44s 93ms/step - loss: nan - accuracy: 0.1083 - val_loss: nan - val_accuracy: 0.1135\n",
            "Epoch 13/30\n",
            "468/468 [==============================] - 44s 94ms/step - loss: nan - accuracy: 0.1070 - val_loss: nan - val_accuracy: 0.1028\n",
            "Epoch 14/30\n",
            "468/468 [==============================] - 44s 93ms/step - loss: nan - accuracy: 0.1085 - val_loss: nan - val_accuracy: 0.1135\n",
            "Epoch 15/30\n",
            "468/468 [==============================] - 44s 93ms/step - loss: nan - accuracy: 0.1071 - val_loss: nan - val_accuracy: 0.1135\n",
            "Epoch 16/30\n",
            "468/468 [==============================] - 44s 93ms/step - loss: nan - accuracy: 0.1079 - val_loss: nan - val_accuracy: 0.1135\n",
            "Epoch 17/30\n",
            "468/468 [==============================] - 44s 93ms/step - loss: nan - accuracy: 0.1067 - val_loss: nan - val_accuracy: 0.1009\n",
            "Epoch 18/30\n",
            "468/468 [==============================] - 44s 94ms/step - loss: nan - accuracy: 0.1089 - val_loss: nan - val_accuracy: 0.1135\n",
            "Epoch 19/30\n",
            "468/468 [==============================] - 44s 94ms/step - loss: nan - accuracy: 0.1083 - val_loss: nan - val_accuracy: 0.1028\n",
            "Epoch 20/30\n",
            "468/468 [==============================] - 44s 93ms/step - loss: nan - accuracy: 0.1083 - val_loss: nan - val_accuracy: 0.1135\n",
            "Epoch 21/30\n",
            "468/468 [==============================] - 44s 93ms/step - loss: nan - accuracy: 0.1078 - val_loss: nan - val_accuracy: 0.0982\n",
            "Epoch 22/30\n",
            "468/468 [==============================] - 44s 93ms/step - loss: nan - accuracy: 0.1089 - val_loss: nan - val_accuracy: 0.1135\n",
            "Epoch 23/30\n",
            "468/468 [==============================] - 44s 93ms/step - loss: nan - accuracy: 0.1100 - val_loss: nan - val_accuracy: 0.1010\n",
            "Epoch 24/30\n",
            "468/468 [==============================] - 44s 93ms/step - loss: nan - accuracy: 0.1093 - val_loss: nan - val_accuracy: 0.1135\n",
            "Epoch 25/30\n",
            "468/468 [==============================] - 44s 93ms/step - loss: nan - accuracy: 0.1090 - val_loss: nan - val_accuracy: 0.1135\n",
            "Epoch 26/30\n",
            "468/468 [==============================] - 44s 93ms/step - loss: nan - accuracy: 0.1092 - val_loss: nan - val_accuracy: 0.1010\n",
            "Epoch 27/30\n",
            "468/468 [==============================] - 44s 94ms/step - loss: nan - accuracy: 0.1065 - val_loss: nan - val_accuracy: 0.1135\n",
            "Epoch 28/30\n",
            "468/468 [==============================] - 44s 93ms/step - loss: nan - accuracy: 0.1090 - val_loss: nan - val_accuracy: 0.1032\n",
            "Epoch 29/30\n",
            "468/468 [==============================] - 44s 93ms/step - loss: nan - accuracy: 0.1090 - val_loss: nan - val_accuracy: 0.1135\n",
            "Epoch 30/30\n",
            "266/468 [================>.............] - ETA: 17s - loss: nan - accuracy: 0.1099"
          ],
          "name": "stdout"
        }
      ]
    },
    {
      "cell_type": "code",
      "metadata": {
        "id": "QJHddu4V8r_g"
      },
      "source": [
        "#model.save('mnist.simplenet.h5')\n",
        "                 \n",
        "#model=load_model('mnist.simplenet.h5')"
      ],
      "execution_count": null,
      "outputs": []
    },
    {
      "cell_type": "code",
      "metadata": {
        "id": "zHfzaHUx8wXw",
        "colab": {
          "base_uri": "https://localhost:8080/"
        },
        "outputId": "7421ea85-930a-4ead-8b38-9db4f2a45bcb"
      },
      "source": [
        "y_pred = model.predict(x_test)\n",
        "labels1 = np.arange(num_classes)\n",
        "print('Auc = %f' %  (roc_auc_score(y_test,  y_pred.round(),average='macro',multi_class='ovo',labels=labels1)))\n",
        "print('f1_score = %f' % (f1_score(y_test, y_pred.round(), average=\"macro\")))\n",
        "print('precision = %f' % (precision_score(y_test, y_pred.round(), average=\"macro\")))\n",
        "print('recall  = %f' % (recall_score(y_test, y_pred.round(), average=\"macro\")))\n",
        "print('accuracy  = %f' % (accuracy_score(y_test, y_pred.round())))  "
      ],
      "execution_count": 23,
      "outputs": [
        {
          "output_type": "stream",
          "text": [
            "Auc = 0.500000\n",
            "f1_score = 0.000000\n",
            "precision = 0.000000\n",
            "recall  = 0.000000\n",
            "accuracy  = 0.000000\n"
          ],
          "name": "stdout"
        },
        {
          "output_type": "stream",
          "text": [
            "/usr/local/lib/python3.6/dist-packages/sklearn/metrics/_classification.py:1272: UndefinedMetricWarning: Precision is ill-defined and being set to 0.0 in labels with no predicted samples. Use `zero_division` parameter to control this behavior.\n",
            "  _warn_prf(average, modifier, msg_start, len(result))\n"
          ],
          "name": "stderr"
        }
      ]
    },
    {
      "cell_type": "code",
      "metadata": {
        "id": "0zbiSEgJhPFn",
        "colab": {
          "base_uri": "https://localhost:8080/",
          "height": 295
        },
        "outputId": "e7b52d72-b291-453d-c29d-448c2605a2ec"
      },
      "source": [
        "plothist(history)"
      ],
      "execution_count": 24,
      "outputs": [
        {
          "output_type": "display_data",
          "data": {
            "image/png": "[encoded data removed]",
            "text/plain": [
              "<Figure size 432x288 with 2 Axes>"
            ]
          },
          "metadata": {
            "tags": [],
            "needs_background": "light"
          }
        }
      ]
    }
  ]
}