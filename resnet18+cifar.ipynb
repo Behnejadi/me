{
  "nbformat": 4,
  "nbformat_minor": 0,
  "metadata": {
    "colab": {
      "name": "resnet18+cifar10_(6)_(2) (2).ipynb",
      "provenance": [],
      "collapsed_sections": []
    },
    "kernelspec": {
      "display_name": "Python 3",
      "name": "python3"
    },
    "accelerator": "GPU"
  },
  "cells": [
    {
      "cell_type": "code",
      "metadata": {
        "id": "F8ESUWX_ZNqD"
      },
      "source": [
        "import numpy as np\n",
        "import tensorflow as tf\n",
        "from tensorflow import keras\n",
        "from keras.datasets import cifar10\n",
        "from tensorflow.keras import regularizers\n",
        "from tensorflow.keras.layers import Dense, Activation ,AveragePooling2D,GlobalAveragePooling2D\n",
        "from tensorflow.keras.optimizers import Adam,SGD\n",
        "from tensorflow.keras.metrics import categorical_crossentropy\n",
        "from tensorflow.keras.preprocessing.image import ImageDataGenerator\n",
        "from tensorflow.keras.preprocessing import image\n",
        "from tensorflow.keras.models import Model\n",
        "from tensorflow.keras.applications import imagenet_utils\n",
        "import matplotlib.pyplot as plt\n",
        "%matplotlib inline\n",
        "import sklearn\n",
        "import pandas as pd\n",
        "from sklearn.metrics import roc_auc_score, roc_curve, auc,precision_score, recall_score,f1_score,accuracy_score\n",
        "from sklearn.model_selection import StratifiedKFold\n",
        "from scipy import interp\n",
        "import matplotlib.pyplot as plt\n",
        "from skimage import transform\n",
        "import scipy.ndimage\n",
        "import matplotlib.pyplot as plt\n",
        "\n",
        "from keras.layers import Lambda, Input\n",
        "from keras.models import Model, Sequential\n",
        "import tensorflow as ktf\n",
        "tf.compat.v1.logging.set_verbosity(tf.compat.v1.logging.ERROR)"
      ],
      "execution_count": 1,
      "outputs": []
    },
    {
      "cell_type": "code",
      "metadata": {
        "colab": {
          "base_uri": "https://localhost:8080/"
        },
        "id": "sYG194TF_w9d",
        "outputId": "44d79c8d-7bb4-4695-8566-5dae6d3a9973"
      },
      "source": [
        "(X_train, y_train), (X_test, y_test) = cifar10.load_data()\n",
        "\n",
        "print('Train data shape: {}'.format(X_train.shape))\n",
        "print('Test  data shape: {}'.format(X_test.shape))"
      ],
      "execution_count": 2,
      "outputs": [
        {
          "output_type": "stream",
          "text": [
            "Downloading data from https://www.cs.toronto.edu/~kriz/cifar-10-python.tar.gz\n",
            "170500096/170498071 [==============================] - 2s 0us/step\n",
            "Train data shape: (50000, 32, 32, 3)\n",
            "Test  data shape: (10000, 32, 32, 3)\n"
          ],
          "name": "stdout"
        }
      ]
    },
    {
      "cell_type": "code",
      "metadata": {
        "id": "Y68QeKy_EIn5"
      },
      "source": [
        "image_size = 32\n",
        "num_channels = 3\n",
        "num_features = image_size * image_size * num_channels\n",
        "num_classes = 10"
      ],
      "execution_count": 3,
      "outputs": []
    },
    {
      "cell_type": "code",
      "metadata": {
        "colab": {
          "base_uri": "https://localhost:8080/"
        },
        "id": "grGv0zltDvh5",
        "outputId": "38090b7c-3469-49a2-dc24-556ec0ad9b72"
      },
      "source": [
        "X_train = X_train.astype('float32')\n",
        "x_test  = X_test.astype('float32')\n",
        "\n",
        "X_train /= 255.0\n",
        "mean = np.mean(X_train, axis=(0, 1, 2,3))\n",
        "std = np.std(X_train, axis=(0, 1, 2,3))\n",
        "X_train = (X_train - mean)/ (std+1e-7)\n",
        "\n",
        "x_test /= 255.0\n",
        "\n",
        "x_test =(x_test-mean) / (std+1e-7)\n",
        "\n",
        "print(X_train.shape)\n",
        "print(x_test.shape)\n"
      ],
      "execution_count": 4,
      "outputs": [
        {
          "output_type": "stream",
          "text": [
            "(50000, 32, 32, 3)\n",
            "(10000, 32, 32, 3)\n"
          ],
          "name": "stdout"
        }
      ]
    },
    {
      "cell_type": "code",
      "metadata": {
        "colab": {
          "base_uri": "https://localhost:8080/"
        },
        "id": "sGctKnwPDvXT",
        "outputId": "2b092f8a-c273-41f6-857b-63994ed45197"
      },
      "source": [
        "y_train = keras.utils.to_categorical(y_train, num_classes)\n",
        "y_test  = keras.utils.to_categorical(y_test,  num_classes)\n",
        "\n",
        "print(y_train.shape)\n",
        "print(y_test.shape)"
      ],
      "execution_count": 5,
      "outputs": [
        {
          "output_type": "stream",
          "text": [
            "(50000, 10)\n",
            "(10000, 10)\n"
          ],
          "name": "stdout"
        }
      ]
    },
    {
      "cell_type": "code",
      "metadata": {
        "id": "kwZZdax7GjhE"
      },
      "source": [
        "# plotting helper function\n",
        "def plothist(hist):\n",
        "    \n",
        "    plt.subplot(1, 2, 1)\n",
        "    plt.plot(hist.history['accuracy'])\n",
        "    plt.plot(hist.history['val_accuracy'])\n",
        "    plt.title('model accuracy')\n",
        "    plt.ylabel('accuracy')\n",
        "    plt.xlabel('epoch')\n",
        "    plt.legend(['train', 'test'], loc='lower right')\n",
        "\n",
        "    plt.subplot(1, 2, 2)\n",
        "    plt.plot(hist.history['loss'])\n",
        "    plt.plot(hist.history['val_loss'])\n",
        "    plt.title('model loss')\n",
        "    plt.ylabel('loss')\n",
        "    plt.xlabel('epoch')\n",
        "    plt.legend(['train', 'test'], loc='upper right')\n",
        "\n",
        "\n",
        "    plt.show()"
      ],
      "execution_count": 6,
      "outputs": []
    },
    {
      "cell_type": "code",
      "metadata": {
        "colab": {
          "base_uri": "https://localhost:8080/"
        },
        "id": "DUs8Of18sIiP",
        "outputId": "53a5bed2-cefc-4e19-fe9a-dbbfe981a068"
      },
      "source": [
        "!pip install git+https://github.com/qubvel/classification_models.git"
      ],
      "execution_count": 7,
      "outputs": [
        {
          "output_type": "stream",
          "text": [
            "Collecting git+https://github.com/qubvel/classification_models.git\n",
            "  Cloning https://github.com/qubvel/classification_models.git to /tmp/pip-req-build-m7du4tur\n",
            "  Running command git clone -q https://github.com/qubvel/classification_models.git /tmp/pip-req-build-m7du4tur\n",
            "  Running command git submodule update --init --recursive -q\n",
            "Collecting keras_applications<=1.0.8,>=1.0.7\n",
            "\u001b[?25l  Downloading https://files.pythonhosted.org/packages/71/e3/19762fdfc62877ae9102edf6342d71b28fbfd9dea3d2f96a882ce099b03f/Keras_Applications-1.0.8-py3-none-any.whl (50kB)\n",
            "\u001b[K     |████████████████████████████████| 51kB 4.8MB/s \n",
            "\u001b[?25hRequirement already satisfied: h5py in /usr/local/lib/python3.6/dist-packages (from keras_applications<=1.0.8,>=1.0.7->image-classifiers==1.0.0) (2.10.0)\n",
            "Requirement already satisfied: numpy>=1.9.1 in /usr/local/lib/python3.6/dist-packages (from keras_applications<=1.0.8,>=1.0.7->image-classifiers==1.0.0) (1.18.5)\n",
            "Requirement already satisfied: six in /usr/local/lib/python3.6/dist-packages (from h5py->keras_applications<=1.0.8,>=1.0.7->image-classifiers==1.0.0) (1.15.0)\n",
            "Building wheels for collected packages: image-classifiers\n",
            "  Building wheel for image-classifiers (setup.py) ... \u001b[?25l\u001b[?25hdone\n",
            "  Created wheel for image-classifiers: filename=image_classifiers-1.0.0-cp36-none-any.whl size=20031 sha256=1f875b133ac6385efda4f1daa449a179c518ceb57b2431219be88d3d145869f5\n",
            "  Stored in directory: /tmp/pip-ephem-wheel-cache-b9aof4g7/wheels/de/2b/fd/29a6d33edb8c28bc7d94e95ea1d39c9a218ac500a3cfb1b197\n",
            "Successfully built image-classifiers\n",
            "Installing collected packages: keras-applications, image-classifiers\n",
            "Successfully installed image-classifiers-1.0.0 keras-applications-1.0.8\n"
          ],
          "name": "stdout"
        }
      ]
    },
    {
      "cell_type": "code",
      "metadata": {
        "id": "abhgtSsJFsif"
      },
      "source": [
        "from classification_models.tfkeras import Classifiers"
      ],
      "execution_count": 8,
      "outputs": []
    },
    {
      "cell_type": "code",
      "metadata": {
        "colab": {
          "base_uri": "https://localhost:8080/"
        },
        "id": "bo_Uj8cjZNTE",
        "outputId": "f491eeb3-014e-4cf8-8223-ebd6edbabef8"
      },
      "source": [
        "ResNet18, preprocess_input = Classifiers.get('resnet18')\n",
        "resnet18 = ResNet18((224, 224, 3), weights='imagenet')\n",
        "resnet18.summary() "
      ],
      "execution_count": 9,
      "outputs": [
        {
          "output_type": "stream",
          "text": [
            "Downloading data from https://github.com/qubvel/classification_models/releases/download/0.0.1/resnet18_imagenet_1000.h5\n",
            "46981120/46977688 [==============================] - 1s 0us/step\n",
            "Model: \"functional_1\"\n",
            "__________________________________________________________________________________________________\n",
            "Layer (type)                    Output Shape         Param #     Connected to                     \n",
            "==================================================================================================\n",
            "data (InputLayer)               [(None, 224, 224, 3) 0                                            \n",
            "__________________________________________________________________________________________________\n",
            "bn_data (BatchNormalization)    (None, 224, 224, 3)  9           data[0][0]                       \n",
            "__________________________________________________________________________________________________\n",
            "zero_padding2d (ZeroPadding2D)  (None, 230, 230, 3)  0           bn_data[0][0]                    \n",
            "__________________________________________________________________________________________________\n",
            "conv0 (Conv2D)                  (None, 112, 112, 64) 9408        zero_padding2d[0][0]             \n",
            "__________________________________________________________________________________________________\n",
            "bn0 (BatchNormalization)        (None, 112, 112, 64) 256         conv0[0][0]                      \n",
            "__________________________________________________________________________________________________\n",
            "relu0 (Activation)              (None, 112, 112, 64) 0           bn0[0][0]                        \n",
            "__________________________________________________________________________________________________\n",
            "zero_padding2d_1 (ZeroPadding2D (None, 114, 114, 64) 0           relu0[0][0]                      \n",
            "__________________________________________________________________________________________________\n",
            "pooling0 (MaxPooling2D)         (None, 56, 56, 64)   0           zero_padding2d_1[0][0]           \n",
            "__________________________________________________________________________________________________\n",
            "stage1_unit1_bn1 (BatchNormaliz (None, 56, 56, 64)   256         pooling0[0][0]                   \n",
            "__________________________________________________________________________________________________\n",
            "stage1_unit1_relu1 (Activation) (None, 56, 56, 64)   0           stage1_unit1_bn1[0][0]           \n",
            "__________________________________________________________________________________________________\n",
            "zero_padding2d_2 (ZeroPadding2D (None, 58, 58, 64)   0           stage1_unit1_relu1[0][0]         \n",
            "__________________________________________________________________________________________________\n",
            "stage1_unit1_conv1 (Conv2D)     (None, 56, 56, 64)   36864       zero_padding2d_2[0][0]           \n",
            "__________________________________________________________________________________________________\n",
            "stage1_unit1_bn2 (BatchNormaliz (None, 56, 56, 64)   256         stage1_unit1_conv1[0][0]         \n",
            "__________________________________________________________________________________________________\n",
            "stage1_unit1_relu2 (Activation) (None, 56, 56, 64)   0           stage1_unit1_bn2[0][0]           \n",
            "__________________________________________________________________________________________________\n",
            "zero_padding2d_3 (ZeroPadding2D (None, 58, 58, 64)   0           stage1_unit1_relu2[0][0]         \n",
            "__________________________________________________________________________________________________\n",
            "stage1_unit1_conv2 (Conv2D)     (None, 56, 56, 64)   36864       zero_padding2d_3[0][0]           \n",
            "__________________________________________________________________________________________________\n",
            "stage1_unit1_sc (Conv2D)        (None, 56, 56, 64)   4096        stage1_unit1_relu1[0][0]         \n",
            "__________________________________________________________________________________________________\n",
            "add (Add)                       (None, 56, 56, 64)   0           stage1_unit1_conv2[0][0]         \n",
            "                                                                 stage1_unit1_sc[0][0]            \n",
            "__________________________________________________________________________________________________\n",
            "stage1_unit2_bn1 (BatchNormaliz (None, 56, 56, 64)   256         add[0][0]                        \n",
            "__________________________________________________________________________________________________\n",
            "stage1_unit2_relu1 (Activation) (None, 56, 56, 64)   0           stage1_unit2_bn1[0][0]           \n",
            "__________________________________________________________________________________________________\n",
            "zero_padding2d_4 (ZeroPadding2D (None, 58, 58, 64)   0           stage1_unit2_relu1[0][0]         \n",
            "__________________________________________________________________________________________________\n",
            "stage1_unit2_conv1 (Conv2D)     (None, 56, 56, 64)   36864       zero_padding2d_4[0][0]           \n",
            "__________________________________________________________________________________________________\n",
            "stage1_unit2_bn2 (BatchNormaliz (None, 56, 56, 64)   256         stage1_unit2_conv1[0][0]         \n",
            "__________________________________________________________________________________________________\n",
            "stage1_unit2_relu2 (Activation) (None, 56, 56, 64)   0           stage1_unit2_bn2[0][0]           \n",
            "__________________________________________________________________________________________________\n",
            "zero_padding2d_5 (ZeroPadding2D (None, 58, 58, 64)   0           stage1_unit2_relu2[0][0]         \n",
            "__________________________________________________________________________________________________\n",
            "stage1_unit2_conv2 (Conv2D)     (None, 56, 56, 64)   36864       zero_padding2d_5[0][0]           \n",
            "__________________________________________________________________________________________________\n",
            "add_1 (Add)                     (None, 56, 56, 64)   0           stage1_unit2_conv2[0][0]         \n",
            "                                                                 add[0][0]                        \n",
            "__________________________________________________________________________________________________\n",
            "stage2_unit1_bn1 (BatchNormaliz (None, 56, 56, 64)   256         add_1[0][0]                      \n",
            "__________________________________________________________________________________________________\n",
            "stage2_unit1_relu1 (Activation) (None, 56, 56, 64)   0           stage2_unit1_bn1[0][0]           \n",
            "__________________________________________________________________________________________________\n",
            "zero_padding2d_6 (ZeroPadding2D (None, 58, 58, 64)   0           stage2_unit1_relu1[0][0]         \n",
            "__________________________________________________________________________________________________\n",
            "stage2_unit1_conv1 (Conv2D)     (None, 28, 28, 128)  73728       zero_padding2d_6[0][0]           \n",
            "__________________________________________________________________________________________________\n",
            "stage2_unit1_bn2 (BatchNormaliz (None, 28, 28, 128)  512         stage2_unit1_conv1[0][0]         \n",
            "__________________________________________________________________________________________________\n",
            "stage2_unit1_relu2 (Activation) (None, 28, 28, 128)  0           stage2_unit1_bn2[0][0]           \n",
            "__________________________________________________________________________________________________\n",
            "zero_padding2d_7 (ZeroPadding2D (None, 30, 30, 128)  0           stage2_unit1_relu2[0][0]         \n",
            "__________________________________________________________________________________________________\n",
            "stage2_unit1_conv2 (Conv2D)     (None, 28, 28, 128)  147456      zero_padding2d_7[0][0]           \n",
            "__________________________________________________________________________________________________\n",
            "stage2_unit1_sc (Conv2D)        (None, 28, 28, 128)  8192        stage2_unit1_relu1[0][0]         \n",
            "__________________________________________________________________________________________________\n",
            "add_2 (Add)                     (None, 28, 28, 128)  0           stage2_unit1_conv2[0][0]         \n",
            "                                                                 stage2_unit1_sc[0][0]            \n",
            "__________________________________________________________________________________________________\n",
            "stage2_unit2_bn1 (BatchNormaliz (None, 28, 28, 128)  512         add_2[0][0]                      \n",
            "__________________________________________________________________________________________________\n",
            "stage2_unit2_relu1 (Activation) (None, 28, 28, 128)  0           stage2_unit2_bn1[0][0]           \n",
            "__________________________________________________________________________________________________\n",
            "zero_padding2d_8 (ZeroPadding2D (None, 30, 30, 128)  0           stage2_unit2_relu1[0][0]         \n",
            "__________________________________________________________________________________________________\n",
            "stage2_unit2_conv1 (Conv2D)     (None, 28, 28, 128)  147456      zero_padding2d_8[0][0]           \n",
            "__________________________________________________________________________________________________\n",
            "stage2_unit2_bn2 (BatchNormaliz (None, 28, 28, 128)  512         stage2_unit2_conv1[0][0]         \n",
            "__________________________________________________________________________________________________\n",
            "stage2_unit2_relu2 (Activation) (None, 28, 28, 128)  0           stage2_unit2_bn2[0][0]           \n",
            "__________________________________________________________________________________________________\n",
            "zero_padding2d_9 (ZeroPadding2D (None, 30, 30, 128)  0           stage2_unit2_relu2[0][0]         \n",
            "__________________________________________________________________________________________________\n",
            "stage2_unit2_conv2 (Conv2D)     (None, 28, 28, 128)  147456      zero_padding2d_9[0][0]           \n",
            "__________________________________________________________________________________________________\n",
            "add_3 (Add)                     (None, 28, 28, 128)  0           stage2_unit2_conv2[0][0]         \n",
            "                                                                 add_2[0][0]                      \n",
            "__________________________________________________________________________________________________\n",
            "stage3_unit1_bn1 (BatchNormaliz (None, 28, 28, 128)  512         add_3[0][0]                      \n",
            "__________________________________________________________________________________________________\n",
            "stage3_unit1_relu1 (Activation) (None, 28, 28, 128)  0           stage3_unit1_bn1[0][0]           \n",
            "__________________________________________________________________________________________________\n",
            "zero_padding2d_10 (ZeroPadding2 (None, 30, 30, 128)  0           stage3_unit1_relu1[0][0]         \n",
            "__________________________________________________________________________________________________\n",
            "stage3_unit1_conv1 (Conv2D)     (None, 14, 14, 256)  294912      zero_padding2d_10[0][0]          \n",
            "__________________________________________________________________________________________________\n",
            "stage3_unit1_bn2 (BatchNormaliz (None, 14, 14, 256)  1024        stage3_unit1_conv1[0][0]         \n",
            "__________________________________________________________________________________________________\n",
            "stage3_unit1_relu2 (Activation) (None, 14, 14, 256)  0           stage3_unit1_bn2[0][0]           \n",
            "__________________________________________________________________________________________________\n",
            "zero_padding2d_11 (ZeroPadding2 (None, 16, 16, 256)  0           stage3_unit1_relu2[0][0]         \n",
            "__________________________________________________________________________________________________\n",
            "stage3_unit1_conv2 (Conv2D)     (None, 14, 14, 256)  589824      zero_padding2d_11[0][0]          \n",
            "__________________________________________________________________________________________________\n",
            "stage3_unit1_sc (Conv2D)        (None, 14, 14, 256)  32768       stage3_unit1_relu1[0][0]         \n",
            "__________________________________________________________________________________________________\n",
            "add_4 (Add)                     (None, 14, 14, 256)  0           stage3_unit1_conv2[0][0]         \n",
            "                                                                 stage3_unit1_sc[0][0]            \n",
            "__________________________________________________________________________________________________\n",
            "stage3_unit2_bn1 (BatchNormaliz (None, 14, 14, 256)  1024        add_4[0][0]                      \n",
            "__________________________________________________________________________________________________\n",
            "stage3_unit2_relu1 (Activation) (None, 14, 14, 256)  0           stage3_unit2_bn1[0][0]           \n",
            "__________________________________________________________________________________________________\n",
            "zero_padding2d_12 (ZeroPadding2 (None, 16, 16, 256)  0           stage3_unit2_relu1[0][0]         \n",
            "__________________________________________________________________________________________________\n",
            "stage3_unit2_conv1 (Conv2D)     (None, 14, 14, 256)  589824      zero_padding2d_12[0][0]          \n",
            "__________________________________________________________________________________________________\n",
            "stage3_unit2_bn2 (BatchNormaliz (None, 14, 14, 256)  1024        stage3_unit2_conv1[0][0]         \n",
            "__________________________________________________________________________________________________\n",
            "stage3_unit2_relu2 (Activation) (None, 14, 14, 256)  0           stage3_unit2_bn2[0][0]           \n",
            "__________________________________________________________________________________________________\n",
            "zero_padding2d_13 (ZeroPadding2 (None, 16, 16, 256)  0           stage3_unit2_relu2[0][0]         \n",
            "__________________________________________________________________________________________________\n",
            "stage3_unit2_conv2 (Conv2D)     (None, 14, 14, 256)  589824      zero_padding2d_13[0][0]          \n",
            "__________________________________________________________________________________________________\n",
            "add_5 (Add)                     (None, 14, 14, 256)  0           stage3_unit2_conv2[0][0]         \n",
            "                                                                 add_4[0][0]                      \n",
            "__________________________________________________________________________________________________\n",
            "stage4_unit1_bn1 (BatchNormaliz (None, 14, 14, 256)  1024        add_5[0][0]                      \n",
            "__________________________________________________________________________________________________\n",
            "stage4_unit1_relu1 (Activation) (None, 14, 14, 256)  0           stage4_unit1_bn1[0][0]           \n",
            "__________________________________________________________________________________________________\n",
            "zero_padding2d_14 (ZeroPadding2 (None, 16, 16, 256)  0           stage4_unit1_relu1[0][0]         \n",
            "__________________________________________________________________________________________________\n",
            "stage4_unit1_conv1 (Conv2D)     (None, 7, 7, 512)    1179648     zero_padding2d_14[0][0]          \n",
            "__________________________________________________________________________________________________\n",
            "stage4_unit1_bn2 (BatchNormaliz (None, 7, 7, 512)    2048        stage4_unit1_conv1[0][0]         \n",
            "__________________________________________________________________________________________________\n",
            "stage4_unit1_relu2 (Activation) (None, 7, 7, 512)    0           stage4_unit1_bn2[0][0]           \n",
            "__________________________________________________________________________________________________\n",
            "zero_padding2d_15 (ZeroPadding2 (None, 9, 9, 512)    0           stage4_unit1_relu2[0][0]         \n",
            "__________________________________________________________________________________________________\n",
            "stage4_unit1_conv2 (Conv2D)     (None, 7, 7, 512)    2359296     zero_padding2d_15[0][0]          \n",
            "__________________________________________________________________________________________________\n",
            "stage4_unit1_sc (Conv2D)        (None, 7, 7, 512)    131072      stage4_unit1_relu1[0][0]         \n",
            "__________________________________________________________________________________________________\n",
            "add_6 (Add)                     (None, 7, 7, 512)    0           stage4_unit1_conv2[0][0]         \n",
            "                                                                 stage4_unit1_sc[0][0]            \n",
            "__________________________________________________________________________________________________\n",
            "stage4_unit2_bn1 (BatchNormaliz (None, 7, 7, 512)    2048        add_6[0][0]                      \n",
            "__________________________________________________________________________________________________\n",
            "stage4_unit2_relu1 (Activation) (None, 7, 7, 512)    0           stage4_unit2_bn1[0][0]           \n",
            "__________________________________________________________________________________________________\n",
            "zero_padding2d_16 (ZeroPadding2 (None, 9, 9, 512)    0           stage4_unit2_relu1[0][0]         \n",
            "__________________________________________________________________________________________________\n",
            "stage4_unit2_conv1 (Conv2D)     (None, 7, 7, 512)    2359296     zero_padding2d_16[0][0]          \n",
            "__________________________________________________________________________________________________\n",
            "stage4_unit2_bn2 (BatchNormaliz (None, 7, 7, 512)    2048        stage4_unit2_conv1[0][0]         \n",
            "__________________________________________________________________________________________________\n",
            "stage4_unit2_relu2 (Activation) (None, 7, 7, 512)    0           stage4_unit2_bn2[0][0]           \n",
            "__________________________________________________________________________________________________\n",
            "zero_padding2d_17 (ZeroPadding2 (None, 9, 9, 512)    0           stage4_unit2_relu2[0][0]         \n",
            "__________________________________________________________________________________________________\n",
            "stage4_unit2_conv2 (Conv2D)     (None, 7, 7, 512)    2359296     zero_padding2d_17[0][0]          \n",
            "__________________________________________________________________________________________________\n",
            "add_7 (Add)                     (None, 7, 7, 512)    0           stage4_unit2_conv2[0][0]         \n",
            "                                                                 add_6[0][0]                      \n",
            "__________________________________________________________________________________________________\n",
            "bn1 (BatchNormalization)        (None, 7, 7, 512)    2048        add_7[0][0]                      \n",
            "__________________________________________________________________________________________________\n",
            "relu1 (Activation)              (None, 7, 7, 512)    0           bn1[0][0]                        \n",
            "__________________________________________________________________________________________________\n",
            "pool1 (GlobalAveragePooling2D)  (None, 512)          0           relu1[0][0]                      \n",
            "__________________________________________________________________________________________________\n",
            "fc1 (Dense)                     (None, 1000)         513000      pool1[0][0]                      \n",
            "__________________________________________________________________________________________________\n",
            "softmax (Activation)            (None, 1000)         0           fc1[0][0]                        \n",
            "==================================================================================================\n",
            "Total params: 11,699,889\n",
            "Trainable params: 11,691,947\n",
            "Non-trainable params: 7,942\n",
            "__________________________________________________________________________________________________\n"
          ],
          "name": "stdout"
        }
      ]
    },
    {
      "cell_type": "code",
      "metadata": {
        "id": "4tebKLPNJmVD"
      },
      "source": [
        "alpha = 0.003  # weight decay coefficient\n",
        "\n",
        "for layer in resnet18.layers:\n",
        "    if isinstance(layer, keras.layers.Conv2D) or isinstance(layer, keras.layers.Dense):\n",
        "        layer.add_loss(lambda: keras.regularizers.l2(alpha)(layer.kernel))\n",
        "    if hasattr(layer, 'bias_regularizer') and layer.use_bias:\n",
        "        layer.add_loss(lambda: keras.regularizers.l2(alpha)(layer.bias))"
      ],
      "execution_count": 10,
      "outputs": []
    },
    {
      "cell_type": "code",
      "metadata": {
        "id": "_1qy5h2dZNNz"
      },
      "source": [
        "x = resnet18.layers[-2].output\r\n",
        "output = Dense(units=10,activation='softmax')(x)\r\n",
        "model = Model(inputs=[resnet18.input], outputs=[output])\r\n",
        "#model.summary()"
      ],
      "execution_count": 11,
      "outputs": []
    },
    {
      "cell_type": "code",
      "metadata": {
        "colab": {
          "base_uri": "https://localhost:8080/"
        },
        "id": "NFARn69XZNGR",
        "outputId": "fdbff379-2d0d-4e77-df2b-bd4d656a9664"
      },
      "source": [
        "for layer in model.layers[35:]:\n",
        "    layer.trainable = True\n",
        "for layer in model.layers[:35]:\n",
        "    layer.trainable = False\n",
        "for i, layer in enumerate(model.layers):\n",
        "    print(i, layer.name, layer.trainable)"
      ],
      "execution_count": 12,
      "outputs": [
        {
          "output_type": "stream",
          "text": [
            "0 data False\n",
            "1 bn_data False\n",
            "2 zero_padding2d False\n",
            "3 conv0 False\n",
            "4 bn0 False\n",
            "5 relu0 False\n",
            "6 zero_padding2d_1 False\n",
            "7 pooling0 False\n",
            "8 stage1_unit1_bn1 False\n",
            "9 stage1_unit1_relu1 False\n",
            "10 zero_padding2d_2 False\n",
            "11 stage1_unit1_conv1 False\n",
            "12 stage1_unit1_bn2 False\n",
            "13 stage1_unit1_relu2 False\n",
            "14 zero_padding2d_3 False\n",
            "15 stage1_unit1_conv2 False\n",
            "16 stage1_unit1_sc False\n",
            "17 add False\n",
            "18 stage1_unit2_bn1 False\n",
            "19 stage1_unit2_relu1 False\n",
            "20 zero_padding2d_4 False\n",
            "21 stage1_unit2_conv1 False\n",
            "22 stage1_unit2_bn2 False\n",
            "23 stage1_unit2_relu2 False\n",
            "24 zero_padding2d_5 False\n",
            "25 stage1_unit2_conv2 False\n",
            "26 add_1 False\n",
            "27 stage2_unit1_bn1 False\n",
            "28 stage2_unit1_relu1 False\n",
            "29 zero_padding2d_6 False\n",
            "30 stage2_unit1_conv1 False\n",
            "31 stage2_unit1_bn2 False\n",
            "32 stage2_unit1_relu2 False\n",
            "33 zero_padding2d_7 False\n",
            "34 stage2_unit1_conv2 False\n",
            "35 stage2_unit1_sc True\n",
            "36 add_2 True\n",
            "37 stage2_unit2_bn1 True\n",
            "38 stage2_unit2_relu1 True\n",
            "39 zero_padding2d_8 True\n",
            "40 stage2_unit2_conv1 True\n",
            "41 stage2_unit2_bn2 True\n",
            "42 stage2_unit2_relu2 True\n",
            "43 zero_padding2d_9 True\n",
            "44 stage2_unit2_conv2 True\n",
            "45 add_3 True\n",
            "46 stage3_unit1_bn1 True\n",
            "47 stage3_unit1_relu1 True\n",
            "48 zero_padding2d_10 True\n",
            "49 stage3_unit1_conv1 True\n",
            "50 stage3_unit1_bn2 True\n",
            "51 stage3_unit1_relu2 True\n",
            "52 zero_padding2d_11 True\n",
            "53 stage3_unit1_conv2 True\n",
            "54 stage3_unit1_sc True\n",
            "55 add_4 True\n",
            "56 stage3_unit2_bn1 True\n",
            "57 stage3_unit2_relu1 True\n",
            "58 zero_padding2d_12 True\n",
            "59 stage3_unit2_conv1 True\n",
            "60 stage3_unit2_bn2 True\n",
            "61 stage3_unit2_relu2 True\n",
            "62 zero_padding2d_13 True\n",
            "63 stage3_unit2_conv2 True\n",
            "64 add_5 True\n",
            "65 stage4_unit1_bn1 True\n",
            "66 stage4_unit1_relu1 True\n",
            "67 zero_padding2d_14 True\n",
            "68 stage4_unit1_conv1 True\n",
            "69 stage4_unit1_bn2 True\n",
            "70 stage4_unit1_relu2 True\n",
            "71 zero_padding2d_15 True\n",
            "72 stage4_unit1_conv2 True\n",
            "73 stage4_unit1_sc True\n",
            "74 add_6 True\n",
            "75 stage4_unit2_bn1 True\n",
            "76 stage4_unit2_relu1 True\n",
            "77 zero_padding2d_16 True\n",
            "78 stage4_unit2_conv1 True\n",
            "79 stage4_unit2_bn2 True\n",
            "80 stage4_unit2_relu2 True\n",
            "81 zero_padding2d_17 True\n",
            "82 stage4_unit2_conv2 True\n",
            "83 add_7 True\n",
            "84 bn1 True\n",
            "85 relu1 True\n",
            "86 pool1 True\n",
            "87 fc1 True\n",
            "88 dense True\n"
          ],
          "name": "stdout"
        }
      ]
    },
    {
      "cell_type": "code",
      "metadata": {
        "id": "g2eux2vSQ4d-"
      },
      "source": [
        "newInput = Input(batch_shape=(None, 32, 32, 3))\r\n",
        "resizedImg = Lambda(lambda image: ktf.image.resize(image, (224, 224)))(newInput)\r\n",
        "newOutputs = model(resizedImg)\r\n",
        "model = Model(newInput, newOutputs)"
      ],
      "execution_count": 13,
      "outputs": []
    },
    {
      "cell_type": "code",
      "metadata": {
        "id": "LhYMg5wDGLls"
      },
      "source": [
        "BATCH_SIZE =100\n",
        "STEPS_PER_EPOCH =len(X_train)//BATCH_SIZE \n",
        "\n",
        "step = tf.Variable(0, trainable=False)\n",
        "boundaries = [40*STEPS_PER_EPOCH,60*STEPS_PER_EPOCH,80*STEPS_PER_EPOCH]\n",
        "values = [ 0.1, 0.01,0.001,0.0001]\n",
        "learning_rate_fn = keras.optimizers.schedules.PiecewiseConstantDecay(\n",
        "    boundaries, values)"
      ],
      "execution_count": 14,
      "outputs": []
    },
    {
      "cell_type": "code",
      "metadata": {
        "id": "wtTrzDGTZNDX"
      },
      "source": [
        "opt = SGD(learning_rate=learning_rate_fn)#,momentum=0.9,decay=0.01,nesterov=False\n",
        "#opt = Adam(learning_rate=0.0001,beta_1=0.9,beta_2=0.99,epsilon=0.1,amsgrad=False,name=\"Adam\",)\n",
        "model.compile(optimizer=opt, loss='categorical_crossentropy', metrics=['accuracy'])\n",
        "#model.summary()"
      ],
      "execution_count": 15,
      "outputs": []
    },
    {
      "cell_type": "code",
      "metadata": {
        "id": "cBYnLBGlFN2o"
      },
      "source": [
        "callback = tf.keras.callbacks.EarlyStopping(monitor='loss', patience=3)"
      ],
      "execution_count": 16,
      "outputs": []
    },
    {
      "cell_type": "code",
      "metadata": {
        "colab": {
          "base_uri": "https://localhost:8080/"
        },
        "id": "foLD5c3UHD2X",
        "outputId": "de2f7fad-df1b-4797-8c73-fbcba4777eea"
      },
      "source": [
        "history =model.fit(X_train, y_train, batch_size=100,\n",
        "                   steps_per_epoch=len(X_train) // 100,epochs=100,\n",
        "                   validation_data=(x_test,y_test))"
      ],
      "execution_count": 17,
      "outputs": [
        {
          "output_type": "stream",
          "text": [
            "Epoch 1/100\n",
            "500/500 [==============================] - 109s 217ms/step - loss: 3.0047 - accuracy: 0.2704 - val_loss: 5.8201 - val_accuracy: 0.1053\n",
            "Epoch 2/100\n",
            "500/500 [==============================] - 109s 219ms/step - loss: 1.1181 - accuracy: 0.6204 - val_loss: 3.3272 - val_accuracy: 0.1687\n",
            "Epoch 3/100\n",
            "500/500 [==============================] - 110s 220ms/step - loss: 0.7909 - accuracy: 0.7456 - val_loss: 2.8515 - val_accuracy: 0.2136\n",
            "Epoch 4/100\n",
            "500/500 [==============================] - 110s 219ms/step - loss: 0.6210 - accuracy: 0.8066 - val_loss: 3.1717 - val_accuracy: 0.2761\n",
            "Epoch 5/100\n",
            "500/500 [==============================] - 110s 219ms/step - loss: 0.4975 - accuracy: 0.8472 - val_loss: 1.6755 - val_accuracy: 0.4726\n",
            "Epoch 6/100\n",
            "500/500 [==============================] - 110s 219ms/step - loss: 0.4029 - accuracy: 0.8805 - val_loss: 1.6751 - val_accuracy: 0.5675\n",
            "Epoch 7/100\n",
            "500/500 [==============================] - 110s 219ms/step - loss: 0.3166 - accuracy: 0.9092 - val_loss: 1.1918 - val_accuracy: 0.6676\n",
            "Epoch 8/100\n",
            "500/500 [==============================] - 110s 220ms/step - loss: 0.2519 - accuracy: 0.9297 - val_loss: 1.3908 - val_accuracy: 0.6258\n",
            "Epoch 9/100\n",
            "500/500 [==============================] - 110s 221ms/step - loss: 0.1837 - accuracy: 0.9552 - val_loss: 1.4603 - val_accuracy: 0.6087\n",
            "Epoch 10/100\n",
            "500/500 [==============================] - 110s 220ms/step - loss: 0.1386 - accuracy: 0.9687 - val_loss: 3.7793 - val_accuracy: 0.3543\n",
            "Epoch 11/100\n",
            "500/500 [==============================] - 109s 219ms/step - loss: 0.0931 - accuracy: 0.9828 - val_loss: 3.3408 - val_accuracy: 0.4081\n",
            "Epoch 12/100\n",
            "500/500 [==============================] - 110s 219ms/step - loss: 0.0706 - accuracy: 0.9888 - val_loss: 2.9190 - val_accuracy: 0.4451\n",
            "Epoch 13/100\n",
            "500/500 [==============================] - 110s 220ms/step - loss: 0.0519 - accuracy: 0.9939 - val_loss: 0.7275 - val_accuracy: 0.8185\n",
            "Epoch 14/100\n",
            "500/500 [==============================] - 110s 220ms/step - loss: 0.0301 - accuracy: 0.9988 - val_loss: 0.7243 - val_accuracy: 0.8210\n",
            "Epoch 15/100\n",
            "500/500 [==============================] - 110s 219ms/step - loss: 0.0226 - accuracy: 0.9996 - val_loss: 0.5118 - val_accuracy: 0.8590\n",
            "Epoch 16/100\n",
            "500/500 [==============================] - 110s 219ms/step - loss: 0.0193 - accuracy: 0.9999 - val_loss: 0.4868 - val_accuracy: 0.8696\n",
            "Epoch 17/100\n",
            "500/500 [==============================] - 110s 219ms/step - loss: 0.0172 - accuracy: 0.9999 - val_loss: 0.4873 - val_accuracy: 0.8660\n",
            "Epoch 18/100\n",
            "500/500 [==============================] - 110s 220ms/step - loss: 0.0158 - accuracy: 0.9999 - val_loss: 0.4721 - val_accuracy: 0.8740\n",
            "Epoch 19/100\n",
            "500/500 [==============================] - 110s 220ms/step - loss: 0.0146 - accuracy: 1.0000 - val_loss: 0.4614 - val_accuracy: 0.8706\n",
            "Epoch 20/100\n",
            "500/500 [==============================] - 110s 220ms/step - loss: 0.0140 - accuracy: 1.0000 - val_loss: 0.4942 - val_accuracy: 0.8679\n",
            "Epoch 21/100\n",
            "500/500 [==============================] - 110s 220ms/step - loss: 0.0131 - accuracy: 1.0000 - val_loss: 0.4498 - val_accuracy: 0.8734\n",
            "Epoch 22/100\n",
            "500/500 [==============================] - 110s 220ms/step - loss: 0.0124 - accuracy: 1.0000 - val_loss: 0.4477 - val_accuracy: 0.8777\n",
            "Epoch 23/100\n",
            "500/500 [==============================] - 110s 220ms/step - loss: 0.0118 - accuracy: 1.0000 - val_loss: 0.4520 - val_accuracy: 0.8758\n",
            "Epoch 24/100\n",
            "500/500 [==============================] - 110s 220ms/step - loss: 0.0116 - accuracy: 1.0000 - val_loss: 0.4619 - val_accuracy: 0.8705\n",
            "Epoch 25/100\n",
            "500/500 [==============================] - 110s 221ms/step - loss: 0.0114 - accuracy: 1.0000 - val_loss: 0.4524 - val_accuracy: 0.8752\n",
            "Epoch 26/100\n",
            "500/500 [==============================] - 111s 221ms/step - loss: 0.0109 - accuracy: 1.0000 - val_loss: 0.4580 - val_accuracy: 0.8739\n",
            "Epoch 27/100\n",
            "500/500 [==============================] - 110s 219ms/step - loss: 0.0105 - accuracy: 1.0000 - val_loss: 0.4545 - val_accuracy: 0.8737\n",
            "Epoch 28/100\n",
            "500/500 [==============================] - 110s 220ms/step - loss: 0.0102 - accuracy: 1.0000 - val_loss: 0.4594 - val_accuracy: 0.8752\n",
            "Epoch 29/100\n",
            "500/500 [==============================] - 110s 221ms/step - loss: 0.0102 - accuracy: 1.0000 - val_loss: 0.4520 - val_accuracy: 0.8739\n",
            "Epoch 30/100\n",
            "500/500 [==============================] - 111s 221ms/step - loss: 0.2991 - accuracy: 0.9285 - val_loss: 2.6760 - val_accuracy: 0.4868\n",
            "Epoch 31/100\n",
            "500/500 [==============================] - 110s 221ms/step - loss: 0.0563 - accuracy: 0.9921 - val_loss: 0.5321 - val_accuracy: 0.8639\n",
            "Epoch 32/100\n",
            "500/500 [==============================] - 110s 220ms/step - loss: 0.0312 - accuracy: 0.9981 - val_loss: 0.5174 - val_accuracy: 0.8670\n",
            "Epoch 33/100\n",
            "500/500 [==============================] - 110s 220ms/step - loss: 0.0254 - accuracy: 0.9994 - val_loss: 0.5061 - val_accuracy: 0.8708\n",
            "Epoch 34/100\n",
            "500/500 [==============================] - 110s 219ms/step - loss: 0.0227 - accuracy: 0.9997 - val_loss: 0.4998 - val_accuracy: 0.8716\n",
            "Epoch 35/100\n",
            "500/500 [==============================] - 110s 220ms/step - loss: 0.0212 - accuracy: 0.9999 - val_loss: 0.4973 - val_accuracy: 0.8713\n",
            "Epoch 36/100\n",
            "500/500 [==============================] - 110s 220ms/step - loss: 0.0201 - accuracy: 0.9998 - val_loss: 0.4959 - val_accuracy: 0.8706\n",
            "Epoch 37/100\n",
            "500/500 [==============================] - 110s 220ms/step - loss: 0.0191 - accuracy: 1.0000 - val_loss: 0.4864 - val_accuracy: 0.8726\n",
            "Epoch 38/100\n",
            "500/500 [==============================] - 110s 221ms/step - loss: 0.0186 - accuracy: 0.9999 - val_loss: 0.4862 - val_accuracy: 0.8727\n",
            "Epoch 39/100\n",
            "500/500 [==============================] - 110s 221ms/step - loss: 0.0178 - accuracy: 1.0000 - val_loss: 0.4844 - val_accuracy: 0.8740\n",
            "Epoch 40/100\n",
            "500/500 [==============================] - 111s 221ms/step - loss: 0.0175 - accuracy: 1.0000 - val_loss: 0.4833 - val_accuracy: 0.8726\n",
            "Epoch 41/100\n",
            "500/500 [==============================] - 110s 220ms/step - loss: 0.0169 - accuracy: 1.0000 - val_loss: 0.4804 - val_accuracy: 0.8735\n",
            "Epoch 42/100\n",
            "500/500 [==============================] - 110s 219ms/step - loss: 0.0165 - accuracy: 1.0000 - val_loss: 0.4797 - val_accuracy: 0.8732\n",
            "Epoch 43/100\n",
            "500/500 [==============================] - 110s 221ms/step - loss: 0.0160 - accuracy: 1.0000 - val_loss: 0.4753 - val_accuracy: 0.8738\n",
            "Epoch 44/100\n",
            "500/500 [==============================] - 110s 220ms/step - loss: 0.0157 - accuracy: 1.0000 - val_loss: 0.4772 - val_accuracy: 0.8734\n",
            "Epoch 45/100\n",
            "500/500 [==============================] - 110s 221ms/step - loss: 0.0154 - accuracy: 1.0000 - val_loss: 0.4730 - val_accuracy: 0.8749\n",
            "Epoch 46/100\n",
            "500/500 [==============================] - 110s 221ms/step - loss: 0.0155 - accuracy: 1.0000 - val_loss: 0.4758 - val_accuracy: 0.8752\n",
            "Epoch 47/100\n",
            "500/500 [==============================] - 110s 221ms/step - loss: 0.0151 - accuracy: 1.0000 - val_loss: 0.4716 - val_accuracy: 0.8743\n",
            "Epoch 48/100\n",
            "500/500 [==============================] - 110s 221ms/step - loss: 0.0149 - accuracy: 1.0000 - val_loss: 0.4715 - val_accuracy: 0.8753\n",
            "Epoch 49/100\n",
            "500/500 [==============================] - 110s 221ms/step - loss: 0.0148 - accuracy: 1.0000 - val_loss: 0.4735 - val_accuracy: 0.8748\n",
            "Epoch 50/100\n",
            "500/500 [==============================] - 110s 220ms/step - loss: 0.0145 - accuracy: 0.9999 - val_loss: 0.4697 - val_accuracy: 0.8754\n",
            "Epoch 51/100\n",
            "500/500 [==============================] - 110s 220ms/step - loss: 0.0142 - accuracy: 1.0000 - val_loss: 0.4693 - val_accuracy: 0.8752\n",
            "Epoch 52/100\n",
            "500/500 [==============================] - 110s 220ms/step - loss: 0.0142 - accuracy: 1.0000 - val_loss: 0.4689 - val_accuracy: 0.8753\n",
            "Epoch 53/100\n",
            "500/500 [==============================] - 110s 219ms/step - loss: 0.0142 - accuracy: 1.0000 - val_loss: 0.4688 - val_accuracy: 0.8759\n",
            "Epoch 54/100\n",
            "500/500 [==============================] - 110s 220ms/step - loss: 0.0141 - accuracy: 1.0000 - val_loss: 0.4680 - val_accuracy: 0.8756\n",
            "Epoch 55/100\n",
            "500/500 [==============================] - 110s 220ms/step - loss: 0.0142 - accuracy: 1.0000 - val_loss: 0.4674 - val_accuracy: 0.8752\n",
            "Epoch 56/100\n",
            "500/500 [==============================] - 110s 220ms/step - loss: 0.0141 - accuracy: 1.0000 - val_loss: 0.4683 - val_accuracy: 0.8752\n",
            "Epoch 57/100\n",
            "500/500 [==============================] - 110s 220ms/step - loss: 0.0141 - accuracy: 1.0000 - val_loss: 0.4682 - val_accuracy: 0.8758\n",
            "Epoch 58/100\n",
            "500/500 [==============================] - 110s 220ms/step - loss: 0.0141 - accuracy: 1.0000 - val_loss: 0.4682 - val_accuracy: 0.8756\n",
            "Epoch 59/100\n",
            "500/500 [==============================] - 110s 220ms/step - loss: 0.0141 - accuracy: 1.0000 - val_loss: 0.4678 - val_accuracy: 0.8754\n",
            "Epoch 60/100\n",
            "500/500 [==============================] - 110s 221ms/step - loss: 0.0141 - accuracy: 1.0000 - val_loss: 0.4686 - val_accuracy: 0.8766\n",
            "Epoch 61/100\n",
            "500/500 [==============================] - 110s 221ms/step - loss: 0.0140 - accuracy: 1.0000 - val_loss: 0.4680 - val_accuracy: 0.8766\n",
            "Epoch 62/100\n",
            "500/500 [==============================] - 110s 221ms/step - loss: 0.0141 - accuracy: 1.0000 - val_loss: 0.4685 - val_accuracy: 0.8761\n",
            "Epoch 63/100\n",
            "500/500 [==============================] - 110s 220ms/step - loss: 0.0140 - accuracy: 1.0000 - val_loss: 0.4676 - val_accuracy: 0.8758\n",
            "Epoch 64/100\n",
            "500/500 [==============================] - 110s 220ms/step - loss: 0.0142 - accuracy: 1.0000 - val_loss: 0.4682 - val_accuracy: 0.8758\n",
            "Epoch 65/100\n",
            "500/500 [==============================] - 110s 219ms/step - loss: 0.0138 - accuracy: 1.0000 - val_loss: 0.4672 - val_accuracy: 0.8770\n",
            "Epoch 66/100\n",
            "500/500 [==============================] - 110s 220ms/step - loss: 0.0141 - accuracy: 1.0000 - val_loss: 0.4674 - val_accuracy: 0.8766\n",
            "Epoch 67/100\n",
            "500/500 [==============================] - 110s 220ms/step - loss: 0.0140 - accuracy: 1.0000 - val_loss: 0.4676 - val_accuracy: 0.8763\n",
            "Epoch 68/100\n",
            "500/500 [==============================] - 110s 221ms/step - loss: 0.0138 - accuracy: 1.0000 - val_loss: 0.4666 - val_accuracy: 0.8758\n",
            "Epoch 69/100\n",
            "500/500 [==============================] - 111s 221ms/step - loss: 0.0139 - accuracy: 1.0000 - val_loss: 0.4666 - val_accuracy: 0.8761\n",
            "Epoch 70/100\n",
            "500/500 [==============================] - 110s 220ms/step - loss: 0.0138 - accuracy: 1.0000 - val_loss: 0.4669 - val_accuracy: 0.8751\n",
            "Epoch 71/100\n",
            "500/500 [==============================] - 110s 220ms/step - loss: 0.0138 - accuracy: 1.0000 - val_loss: 0.4666 - val_accuracy: 0.8760\n",
            "Epoch 72/100\n",
            "500/500 [==============================] - 110s 219ms/step - loss: 0.0138 - accuracy: 1.0000 - val_loss: 0.4661 - val_accuracy: 0.8764\n",
            "Epoch 73/100\n",
            "500/500 [==============================] - 109s 219ms/step - loss: 0.0138 - accuracy: 1.0000 - val_loss: 0.4665 - val_accuracy: 0.8759\n",
            "Epoch 74/100\n",
            "500/500 [==============================] - 110s 220ms/step - loss: 0.0137 - accuracy: 1.0000 - val_loss: 0.4666 - val_accuracy: 0.8760\n",
            "Epoch 75/100\n",
            "500/500 [==============================] - 110s 221ms/step - loss: 0.0138 - accuracy: 1.0000 - val_loss: 0.4663 - val_accuracy: 0.8760\n",
            "Epoch 76/100\n",
            "500/500 [==============================] - 110s 220ms/step - loss: 0.0138 - accuracy: 1.0000 - val_loss: 0.4659 - val_accuracy: 0.8760\n",
            "Epoch 77/100\n",
            "500/500 [==============================] - 110s 220ms/step - loss: 0.0137 - accuracy: 1.0000 - val_loss: 0.4662 - val_accuracy: 0.8753\n",
            "Epoch 78/100\n",
            "500/500 [==============================] - 110s 220ms/step - loss: 0.0138 - accuracy: 1.0000 - val_loss: 0.4664 - val_accuracy: 0.8753\n",
            "Epoch 79/100\n",
            "500/500 [==============================] - 110s 219ms/step - loss: 0.0138 - accuracy: 1.0000 - val_loss: 0.4663 - val_accuracy: 0.8758\n",
            "Epoch 80/100\n",
            "500/500 [==============================] - 110s 219ms/step - loss: 0.0135 - accuracy: 1.0000 - val_loss: 0.4657 - val_accuracy: 0.8761\n",
            "Epoch 81/100\n",
            "500/500 [==============================] - 110s 220ms/step - loss: 0.0137 - accuracy: 1.0000 - val_loss: 0.4652 - val_accuracy: 0.8752\n",
            "Epoch 82/100\n",
            "500/500 [==============================] - 110s 220ms/step - loss: 0.0137 - accuracy: 1.0000 - val_loss: 0.4659 - val_accuracy: 0.8767\n",
            "Epoch 83/100\n",
            "500/500 [==============================] - 110s 220ms/step - loss: 0.0136 - accuracy: 1.0000 - val_loss: 0.4650 - val_accuracy: 0.8753\n",
            "Epoch 84/100\n",
            "500/500 [==============================] - 109s 219ms/step - loss: 0.0138 - accuracy: 1.0000 - val_loss: 0.4659 - val_accuracy: 0.8752\n",
            "Epoch 85/100\n",
            "500/500 [==============================] - 109s 218ms/step - loss: 0.0135 - accuracy: 1.0000 - val_loss: 0.4659 - val_accuracy: 0.8759\n",
            "Epoch 86/100\n",
            "500/500 [==============================] - 109s 219ms/step - loss: 0.0136 - accuracy: 1.0000 - val_loss: 0.4653 - val_accuracy: 0.8761\n",
            "Epoch 87/100\n",
            "500/500 [==============================] - 110s 219ms/step - loss: 0.0136 - accuracy: 1.0000 - val_loss: 0.4654 - val_accuracy: 0.8761\n",
            "Epoch 88/100\n",
            "500/500 [==============================] - 110s 219ms/step - loss: 0.0136 - accuracy: 1.0000 - val_loss: 0.4654 - val_accuracy: 0.8756\n",
            "Epoch 89/100\n",
            "500/500 [==============================] - 110s 219ms/step - loss: 0.0137 - accuracy: 1.0000 - val_loss: 0.4663 - val_accuracy: 0.8764\n",
            "Epoch 90/100\n",
            "500/500 [==============================] - 109s 219ms/step - loss: 0.0136 - accuracy: 1.0000 - val_loss: 0.4657 - val_accuracy: 0.8756\n",
            "Epoch 91/100\n",
            "500/500 [==============================] - 109s 219ms/step - loss: 0.0136 - accuracy: 1.0000 - val_loss: 0.4658 - val_accuracy: 0.8763\n",
            "Epoch 92/100\n",
            "500/500 [==============================] - 109s 218ms/step - loss: 0.0137 - accuracy: 1.0000 - val_loss: 0.4656 - val_accuracy: 0.8763\n",
            "Epoch 93/100\n",
            "500/500 [==============================] - 110s 220ms/step - loss: 0.0137 - accuracy: 1.0000 - val_loss: 0.4657 - val_accuracy: 0.8759\n",
            "Epoch 94/100\n",
            "500/500 [==============================] - 110s 219ms/step - loss: 0.0138 - accuracy: 1.0000 - val_loss: 0.4656 - val_accuracy: 0.8766\n",
            "Epoch 95/100\n",
            "500/500 [==============================] - 110s 219ms/step - loss: 0.0137 - accuracy: 1.0000 - val_loss: 0.4664 - val_accuracy: 0.8751\n",
            "Epoch 96/100\n",
            "500/500 [==============================] - 110s 220ms/step - loss: 0.0136 - accuracy: 1.0000 - val_loss: 0.4660 - val_accuracy: 0.8768\n",
            "Epoch 97/100\n",
            "500/500 [==============================] - 110s 219ms/step - loss: 0.0137 - accuracy: 1.0000 - val_loss: 0.4654 - val_accuracy: 0.8764\n",
            "Epoch 98/100\n",
            "500/500 [==============================] - 110s 219ms/step - loss: 0.0137 - accuracy: 1.0000 - val_loss: 0.4655 - val_accuracy: 0.8760\n",
            "Epoch 99/100\n",
            "500/500 [==============================] - 110s 220ms/step - loss: 0.0138 - accuracy: 1.0000 - val_loss: 0.4652 - val_accuracy: 0.8758\n",
            "Epoch 100/100\n",
            "500/500 [==============================] - 110s 220ms/step - loss: 0.0137 - accuracy: 1.0000 - val_loss: 0.4657 - val_accuracy: 0.8756\n"
          ],
          "name": "stdout"
        }
      ]
    },
    {
      "cell_type": "code",
      "metadata": {
        "id": "W0FyvZOoHKQf"
      },
      "source": [
        "#model.save('cifar10.simplenet2.h5')\n",
        "                 \n",
        "#model=load_model('cifar10_01.h5')"
      ],
      "execution_count": 18,
      "outputs": []
    },
    {
      "cell_type": "code",
      "metadata": {
        "colab": {
          "base_uri": "https://localhost:8080/"
        },
        "id": "50eDgXQ7HQlZ",
        "outputId": "dc626a62-49d5-4112-da5b-ce0e24af9b59"
      },
      "source": [
        "y_pred = model.predict(x_test)\n",
        "labels1 = np.arange(num_classes)\n",
        "print('Auc = %f' %  (roc_auc_score(y_test,  y_pred.round(),average='macro',multi_class='ovo',labels=labels1)))\n",
        "print('f1_score = %f' % (f1_score(y_test, y_pred.round(), average=\"macro\")))\n",
        "print('precision = %f' % (precision_score(y_test, y_pred.round(), average=\"macro\")))\n",
        "print('recall  = %f' % (recall_score(y_test, y_pred.round(), average=\"macro\")))\n",
        "print('accuracy  = %f' % (accuracy_score(y_test, y_pred.round()))) "
      ],
      "execution_count": 19,
      "outputs": [
        {
          "output_type": "stream",
          "text": [
            "Auc = 0.926217\n",
            "f1_score = 0.878494\n",
            "precision = 0.894163\n",
            "recall  = 0.863700\n",
            "accuracy  = 0.863700\n"
          ],
          "name": "stdout"
        }
      ]
    },
    {
      "cell_type": "code",
      "metadata": {
        "colab": {
          "base_uri": "https://localhost:8080/",
          "height": 295
        },
        "id": "T7uXlIIsHVwX",
        "outputId": "7aafb6ec-886e-4dfc-dc77-65d7684bd3c0"
      },
      "source": [
        "plothist(history)"
      ],
      "execution_count": 20,
      "outputs": [
        {
          "output_type": "display_data",
          "data": {
            "image/png": "[encoded data removed]",
            "text/plain": [
              "<Figure size 432x288 with 2 Axes>"
            ]
          },
          "metadata": {
            "tags": [],
            "needs_background": "light"
          }
        }
      ]
    }
  ]
}