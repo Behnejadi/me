{
  "nbformat": 4,
  "nbformat_minor": 0,
  "metadata": {
    "colab": {
      "name": "vgg16.ipynb",
      "provenance": [],
      "collapsed_sections": []
    },
    "kernelspec": {
      "name": "python3",
      "display_name": "Python 3"
    },
    "accelerator": "GPU"
  },
  "cells": [
    {
      "cell_type": "code",
      "metadata": {
        "id": "gzWS7pBYa1Yq",
        "outputId": "01594859-697d-4d6d-e077-46a775c0084c",
        "colab": {
          "base_uri": "https://localhost:8080/",
          "height": 272
        }
      },
      "source": [
        "from google.colab import drive\n",
        "\n",
        "drive.mount('/content/drive')\n",
        "\n",
        "!ls 'drive/My Drive'\n",
        "\n",
        "\n"
      ],
      "execution_count": 2,
      "outputs": [
        {
          "output_type": "stream",
          "text": [
            "Drive already mounted at /content/drive; to attempt to forcibly remount, call drive.mount(\"/content/drive\", force_remount=True).\n",
            " bpm.behnejadi.rar\n",
            "'Colab Notebooks'\n",
            "'Copy of data.aug.rar'\n",
            " data.aug\n",
            " data.aug.rar\n",
            " data.mobilenet\n",
            " data.resnet50\n",
            " data.row\n",
            " dataset\n",
            " data.v\n",
            " data.vgg16\n",
            " data.xception\n",
            " IEEE_Iran_Section_Certificate_AIDLinAutoRobotics__Fateme_behnejadi__125598.pdf\n",
            " thesis\n"
          ],
          "name": "stdout"
        }
      ]
    },
    {
      "cell_type": "code",
      "metadata": {
        "id": "SpyGHvnpq75T"
      },
      "source": [
        "import numpy as np\n",
        "import tensorflow as tf\n",
        "from tensorflow import keras\n",
        "from tensorflow.keras.models import Sequential\n",
        "from tensorflow.keras.layers import Activation, Dense, Flatten, BatchNormalization, Conv2D, MaxPool2D\n",
        "from tensorflow.keras.optimizers import Adam\n",
        "from tensorflow.keras.metrics import categorical_crossentropy\n",
        "from tensorflow.keras.preprocessing.image import ImageDataGenerator\n",
        "from sklearn.metrics import confusion_matrix\n",
        "from sklearn.metrics import plot_confusion_matrix\n",
        "from tensorflow.keras.models import Model\n",
        "import itertools\n",
        "import os\n",
        "import shutil\n",
        "import random\n",
        "import glob\n",
        "import matplotlib.pyplot as plt\n",
        "import warnings\n",
        "warnings.simplefilter(action='ignore', category=FutureWarning)\n",
        "%matplotlib inline\n",
        "from keras.preprocessing.image import ImageDataGenerator"
      ],
      "execution_count": 3,
      "outputs": []
    },
    {
      "cell_type": "code",
      "metadata": {
        "id": "TvEOIpI7rgyp"
      },
      "source": [
        "train_path = '/content/drive/My Drive/data.vgg16/tc-ts/train'\n",
        "valid_path = '/content/drive/My Drive/data.vgg16/tc-ts/valid'\n",
        "test_path = '/content/drive/My Drive/data.vgg16/tc-ts/test'"
      ],
      "execution_count": 4,
      "outputs": []
    },
    {
      "cell_type": "code",
      "metadata": {
        "id": "CxA55RUarkY0",
        "outputId": "ab2cd0c8-ef3b-45c1-fa47-ecd87c4a09b6",
        "colab": {
          "base_uri": "https://localhost:8080/",
          "height": 68
        }
      },
      "source": [
        "train_batches = ImageDataGenerator(preprocessing_function=tf.keras.applications.vgg16.preprocess_input) \\\n",
        "    .flow_from_directory(directory=train_path, target_size=(224,224), classes=['TS', 'TC'], batch_size=10)\n",
        "valid_batches = ImageDataGenerator(preprocessing_function=tf.keras.applications.vgg16.preprocess_input) \\\n",
        "    .flow_from_directory(directory=valid_path, target_size=(224,224), classes=['TS', 'TC'], batch_size=10)\n",
        "test_batches = ImageDataGenerator(preprocessing_function=tf.keras.applications.vgg16.preprocess_input) \\\n",
        "    .flow_from_directory(directory=test_path, target_size=(224,224), classes=['TS', 'TC'], batch_size=10, shuffle=False)"
      ],
      "execution_count": 5,
      "outputs": [
        {
          "output_type": "stream",
          "text": [
            "Found 2100 images belonging to 2 classes.\n",
            "Found 90 images belonging to 2 classes.\n",
            "Found 95 images belonging to 2 classes.\n"
          ],
          "name": "stdout"
        }
      ]
    },
    {
      "cell_type": "code",
      "metadata": {
        "id": "ZauR_zygrkLt"
      },
      "source": [
        "imgs, labels = next(train_batches)"
      ],
      "execution_count": 6,
      "outputs": []
    },
    {
      "cell_type": "code",
      "metadata": {
        "id": "N_EqDpl_rqbE"
      },
      "source": [
        "def plotImages(images_arr):\n",
        "    fig, axes = plt.subplots(1, 10, figsize=(20,20))\n",
        "    axes = axes.flatten()\n",
        "    for img, ax in zip( images_arr, axes):\n",
        "        ax.imshow(img)\n",
        "        ax.axis('off')\n",
        "    plt.tight_layout()\n",
        "    plt.show()"
      ],
      "execution_count": 7,
      "outputs": []
    },
    {
      "cell_type": "code",
      "metadata": {
        "id": "g5kmry3wrwl8",
        "outputId": "9b942e4f-a7e1-416a-b711-d12b5605ca5f",
        "colab": {
          "base_uri": "https://localhost:8080/",
          "height": 484
        }
      },
      "source": [
        "plotImages(imgs)\n",
        "print(labels)"
      ],
      "execution_count": 8,
      "outputs": [
        {
          "output_type": "stream",
          "text": [
            "Clipping input data to the valid range for imshow with RGB data ([0..1] for floats or [0..255] for integers).\n",
            "Clipping input data to the valid range for imshow with RGB data ([0..1] for floats or [0..255] for integers).\n",
            "Clipping input data to the valid range for imshow with RGB data ([0..1] for floats or [0..255] for integers).\n",
            "Clipping input data to the valid range for imshow with RGB data ([0..1] for floats or [0..255] for integers).\n",
            "Clipping input data to the valid range for imshow with RGB data ([0..1] for floats or [0..255] for integers).\n",
            "Clipping input data to the valid range for imshow with RGB data ([0..1] for floats or [0..255] for integers).\n",
            "Clipping input data to the valid range for imshow with RGB data ([0..1] for floats or [0..255] for integers).\n",
            "Clipping input data to the valid range for imshow with RGB data ([0..1] for floats or [0..255] for integers).\n",
            "Clipping input data to the valid range for imshow with RGB data ([0..1] for floats or [0..255] for integers).\n",
            "Clipping input data to the valid range for imshow with RGB data ([0..1] for floats or [0..255] for integers).\n"
          ],
          "name": "stderr"
        },
        {
          "output_type": "display_data",
          "data": {
            "image/png": "[encoded data removed]",
            "text/plain": [
              "<Figure size 1440x1440 with 10 Axes>"
            ]
          },
          "metadata": {
            "tags": [],
            "needs_background": "light"
          }
        },
        {
          "output_type": "stream",
          "text": [
            "[[1. 0.]\n",
            " [0. 1.]\n",
            " [1. 0.]\n",
            " [1. 0.]\n",
            " [1. 0.]\n",
            " [0. 1.]\n",
            " [0. 1.]\n",
            " [0. 1.]\n",
            " [0. 1.]\n",
            " [0. 1.]]\n"
          ],
          "name": "stdout"
        }
      ]
    },
    {
      "cell_type": "code",
      "metadata": {
        "id": "KHAdBjsWx-fn"
      },
      "source": [
        "import ssl\n",
        "\n",
        "ssl._create_default_https_context = ssl._create_unverified_context\n"
      ],
      "execution_count": 9,
      "outputs": []
    },
    {
      "cell_type": "code",
      "metadata": {
        "id": "g0TqxEiux-zS",
        "outputId": "df91afd7-8285-4abe-d41c-db3f4527d796",
        "colab": {
          "base_uri": "https://localhost:8080/",
          "height": 935
        }
      },
      "source": [
        "vgg16_model = tf.keras.applications.vgg16.VGG16()\n",
        "vgg16_model.summary()"
      ],
      "execution_count": 10,
      "outputs": [
        {
          "output_type": "stream",
          "text": [
            "Model: \"vgg16\"\n",
            "_________________________________________________________________\n",
            "Layer (type)                 Output Shape              Param #   \n",
            "=================================================================\n",
            "input_1 (InputLayer)         [(None, 224, 224, 3)]     0         \n",
            "_________________________________________________________________\n",
            "block1_conv1 (Conv2D)        (None, 224, 224, 64)      1792      \n",
            "_________________________________________________________________\n",
            "block1_conv2 (Conv2D)        (None, 224, 224, 64)      36928     \n",
            "_________________________________________________________________\n",
            "block1_pool (MaxPooling2D)   (None, 112, 112, 64)      0         \n",
            "_________________________________________________________________\n",
            "block2_conv1 (Conv2D)        (None, 112, 112, 128)     73856     \n",
            "_________________________________________________________________\n",
            "block2_conv2 (Conv2D)        (None, 112, 112, 128)     147584    \n",
            "_________________________________________________________________\n",
            "block2_pool (MaxPooling2D)   (None, 56, 56, 128)       0         \n",
            "_________________________________________________________________\n",
            "block3_conv1 (Conv2D)        (None, 56, 56, 256)       295168    \n",
            "_________________________________________________________________\n",
            "block3_conv2 (Conv2D)        (None, 56, 56, 256)       590080    \n",
            "_________________________________________________________________\n",
            "block3_conv3 (Conv2D)        (None, 56, 56, 256)       590080    \n",
            "_________________________________________________________________\n",
            "block3_pool (MaxPooling2D)   (None, 28, 28, 256)       0         \n",
            "_________________________________________________________________\n",
            "block4_conv1 (Conv2D)        (None, 28, 28, 512)       1180160   \n",
            "_________________________________________________________________\n",
            "block4_conv2 (Conv2D)        (None, 28, 28, 512)       2359808   \n",
            "_________________________________________________________________\n",
            "block4_conv3 (Conv2D)        (None, 28, 28, 512)       2359808   \n",
            "_________________________________________________________________\n",
            "block4_pool (MaxPooling2D)   (None, 14, 14, 512)       0         \n",
            "_________________________________________________________________\n",
            "block5_conv1 (Conv2D)        (None, 14, 14, 512)       2359808   \n",
            "_________________________________________________________________\n",
            "block5_conv2 (Conv2D)        (None, 14, 14, 512)       2359808   \n",
            "_________________________________________________________________\n",
            "block5_conv3 (Conv2D)        (None, 14, 14, 512)       2359808   \n",
            "_________________________________________________________________\n",
            "block5_pool (MaxPooling2D)   (None, 7, 7, 512)         0         \n",
            "_________________________________________________________________\n",
            "flatten (Flatten)            (None, 25088)             0         \n",
            "_________________________________________________________________\n",
            "fc1 (Dense)                  (None, 4096)              102764544 \n",
            "_________________________________________________________________\n",
            "fc2 (Dense)                  (None, 4096)              16781312  \n",
            "_________________________________________________________________\n",
            "predictions (Dense)          (None, 1000)              4097000   \n",
            "=================================================================\n",
            "Total params: 138,357,544\n",
            "Trainable params: 138,357,544\n",
            "Non-trainable params: 0\n",
            "_________________________________________________________________\n"
          ],
          "name": "stdout"
        }
      ]
    },
    {
      "cell_type": "code",
      "metadata": {
        "id": "gcUsedvtyXCo"
      },
      "source": [
        "x = vgg16_model.layers[-1].output"
      ],
      "execution_count": 11,
      "outputs": []
    },
    {
      "cell_type": "code",
      "metadata": {
        "id": "JyX4f9U8omNv"
      },
      "source": [
        "output = Dense(units=2, activation='softmax')(x)"
      ],
      "execution_count": 12,
      "outputs": []
    },
    {
      "cell_type": "code",
      "metadata": {
        "id": "aTgJS_cvpUKT"
      },
      "source": [
        "model = Model(inputs=vgg16_model.input, outputs=output)"
      ],
      "execution_count": 13,
      "outputs": []
    },
    {
      "cell_type": "code",
      "metadata": {
        "id": "vrcm0M6jyXK4",
        "outputId": "cd8ba5c0-b18b-408d-f398-707cbf0413c9",
        "colab": {
          "base_uri": "https://localhost:8080/",
          "height": 425
        }
      },
      "source": [
        "for layer in model.layers[22:]:\n",
        "    layer.trainable = True\n",
        "for layer in model.layers[:22]:\n",
        "    layer.trainable = False\n",
        "for i, layer in enumerate(model.layers):\n",
        "    print(i, layer.name, layer.trainable)"
      ],
      "execution_count": 14,
      "outputs": [
        {
          "output_type": "stream",
          "text": [
            "0 input_1 False\n",
            "1 block1_conv1 False\n",
            "2 block1_conv2 False\n",
            "3 block1_pool False\n",
            "4 block2_conv1 False\n",
            "5 block2_conv2 False\n",
            "6 block2_pool False\n",
            "7 block3_conv1 False\n",
            "8 block3_conv2 False\n",
            "9 block3_conv3 False\n",
            "10 block3_pool False\n",
            "11 block4_conv1 False\n",
            "12 block4_conv2 False\n",
            "13 block4_conv3 False\n",
            "14 block4_pool False\n",
            "15 block5_conv1 False\n",
            "16 block5_conv2 False\n",
            "17 block5_conv3 False\n",
            "18 block5_pool False\n",
            "19 flatten False\n",
            "20 fc1 False\n",
            "21 fc2 False\n",
            "22 predictions True\n",
            "23 dense True\n"
          ],
          "name": "stdout"
        }
      ]
    },
    {
      "cell_type": "code",
      "metadata": {
        "id": "RKLNKBRXyXhZ"
      },
      "source": [
        "model.compile(optimizer=Adam(learning_rate=0.0001), loss='categorical_crossentropy', metrics=['accuracy'])"
      ],
      "execution_count": 15,
      "outputs": []
    },
    {
      "cell_type": "code",
      "metadata": {
        "id": "0Ab9mjtiyk4P",
        "outputId": "7f3d01a7-1fee-4069-9884-b97784b785c5",
        "colab": {
          "base_uri": "https://localhost:8080/",
          "height": 1000
        }
      },
      "source": [
        "model.fit(x=train_batches,\n",
        "          steps_per_epoch=len(train_batches),\n",
        "          validation_data=valid_batches,\n",
        "          validation_steps=len(valid_batches),\n",
        "          epochs=50,\n",
        "          verbose=2\n",
        ")\n",
        "\n"
      ],
      "execution_count": 17,
      "outputs": [
        {
          "output_type": "stream",
          "text": [
            "Epoch 1/50\n",
            "210/210 - 15s - loss: 0.4400 - accuracy: 0.8986 - val_loss: 0.5560 - val_accuracy: 0.7556\n",
            "Epoch 2/50\n",
            "210/210 - 15s - loss: 0.4304 - accuracy: 0.8981 - val_loss: 0.5601 - val_accuracy: 0.7333\n",
            "Epoch 3/50\n",
            "210/210 - 15s - loss: 0.4215 - accuracy: 0.8995 - val_loss: 0.5558 - val_accuracy: 0.7222\n",
            "Epoch 4/50\n",
            "210/210 - 15s - loss: 0.4124 - accuracy: 0.9090 - val_loss: 0.5556 - val_accuracy: 0.7111\n",
            "Epoch 5/50\n",
            "210/210 - 15s - loss: 0.4042 - accuracy: 0.9143 - val_loss: 0.5542 - val_accuracy: 0.7000\n",
            "Epoch 6/50\n",
            "210/210 - 15s - loss: 0.3960 - accuracy: 0.9229 - val_loss: 0.5540 - val_accuracy: 0.7111\n",
            "Epoch 7/50\n",
            "210/210 - 14s - loss: 0.3882 - accuracy: 0.9295 - val_loss: 0.5537 - val_accuracy: 0.7333\n",
            "Epoch 8/50\n",
            "210/210 - 15s - loss: 0.3809 - accuracy: 0.9343 - val_loss: 0.5487 - val_accuracy: 0.7111\n",
            "Epoch 9/50\n",
            "210/210 - 15s - loss: 0.3732 - accuracy: 0.9390 - val_loss: 0.5442 - val_accuracy: 0.7444\n",
            "Epoch 10/50\n",
            "210/210 - 15s - loss: 0.3662 - accuracy: 0.9376 - val_loss: 0.5520 - val_accuracy: 0.7222\n",
            "Epoch 11/50\n",
            "210/210 - 15s - loss: 0.3582 - accuracy: 0.9448 - val_loss: 0.5507 - val_accuracy: 0.7222\n",
            "Epoch 12/50\n",
            "210/210 - 14s - loss: 0.3504 - accuracy: 0.9443 - val_loss: 0.5602 - val_accuracy: 0.7222\n",
            "Epoch 13/50\n",
            "210/210 - 15s - loss: 0.3435 - accuracy: 0.9462 - val_loss: 0.5475 - val_accuracy: 0.7444\n",
            "Epoch 14/50\n",
            "210/210 - 15s - loss: 0.3351 - accuracy: 0.9476 - val_loss: 0.5447 - val_accuracy: 0.7556\n",
            "Epoch 15/50\n",
            "210/210 - 15s - loss: 0.3280 - accuracy: 0.9505 - val_loss: 0.5556 - val_accuracy: 0.7111\n",
            "Epoch 16/50\n",
            "210/210 - 15s - loss: 0.3219 - accuracy: 0.9533 - val_loss: 0.5440 - val_accuracy: 0.7444\n",
            "Epoch 17/50\n",
            "210/210 - 14s - loss: 0.3151 - accuracy: 0.9552 - val_loss: 0.5429 - val_accuracy: 0.7333\n",
            "Epoch 18/50\n",
            "210/210 - 15s - loss: 0.3074 - accuracy: 0.9581 - val_loss: 0.5446 - val_accuracy: 0.7222\n",
            "Epoch 19/50\n",
            "210/210 - 15s - loss: 0.2992 - accuracy: 0.9610 - val_loss: 0.5457 - val_accuracy: 0.7333\n",
            "Epoch 20/50\n",
            "210/210 - 15s - loss: 0.2917 - accuracy: 0.9638 - val_loss: 0.5479 - val_accuracy: 0.7333\n",
            "Epoch 21/50\n",
            "210/210 - 15s - loss: 0.2856 - accuracy: 0.9633 - val_loss: 0.5504 - val_accuracy: 0.7222\n",
            "Epoch 22/50\n",
            "210/210 - 15s - loss: 0.2798 - accuracy: 0.9662 - val_loss: 0.5491 - val_accuracy: 0.7333\n",
            "Epoch 23/50\n",
            "210/210 - 15s - loss: 0.2729 - accuracy: 0.9662 - val_loss: 0.5678 - val_accuracy: 0.7222\n",
            "Epoch 24/50\n",
            "210/210 - 15s - loss: 0.2667 - accuracy: 0.9676 - val_loss: 0.5442 - val_accuracy: 0.7556\n",
            "Epoch 25/50\n",
            "210/210 - 15s - loss: 0.2616 - accuracy: 0.9662 - val_loss: 0.5583 - val_accuracy: 0.7333\n",
            "Epoch 26/50\n",
            "210/210 - 14s - loss: 0.2552 - accuracy: 0.9695 - val_loss: 0.5635 - val_accuracy: 0.7222\n",
            "Epoch 27/50\n",
            "210/210 - 14s - loss: 0.2480 - accuracy: 0.9719 - val_loss: 0.5649 - val_accuracy: 0.7333\n",
            "Epoch 28/50\n",
            "210/210 - 15s - loss: 0.2425 - accuracy: 0.9724 - val_loss: 0.5859 - val_accuracy: 0.7000\n",
            "Epoch 29/50\n",
            "210/210 - 15s - loss: 0.2377 - accuracy: 0.9743 - val_loss: 0.5726 - val_accuracy: 0.7222\n",
            "Epoch 30/50\n",
            "210/210 - 15s - loss: 0.2320 - accuracy: 0.9757 - val_loss: 0.5844 - val_accuracy: 0.7000\n",
            "Epoch 31/50\n",
            "210/210 - 15s - loss: 0.2262 - accuracy: 0.9767 - val_loss: 0.5821 - val_accuracy: 0.7222\n",
            "Epoch 32/50\n",
            "210/210 - 15s - loss: 0.2206 - accuracy: 0.9781 - val_loss: 0.5736 - val_accuracy: 0.7333\n",
            "Epoch 33/50\n",
            "210/210 - 15s - loss: 0.2158 - accuracy: 0.9790 - val_loss: 0.5760 - val_accuracy: 0.7333\n",
            "Epoch 34/50\n",
            "210/210 - 15s - loss: 0.2102 - accuracy: 0.9790 - val_loss: 0.5846 - val_accuracy: 0.7444\n",
            "Epoch 35/50\n",
            "210/210 - 15s - loss: 0.2054 - accuracy: 0.9795 - val_loss: 0.5798 - val_accuracy: 0.7444\n",
            "Epoch 36/50\n",
            "210/210 - 15s - loss: 0.2005 - accuracy: 0.9810 - val_loss: 0.5840 - val_accuracy: 0.7333\n",
            "Epoch 37/50\n",
            "210/210 - 15s - loss: 0.1959 - accuracy: 0.9819 - val_loss: 0.6080 - val_accuracy: 0.7000\n",
            "Epoch 38/50\n",
            "210/210 - 15s - loss: 0.1894 - accuracy: 0.9824 - val_loss: 0.6043 - val_accuracy: 0.7111\n",
            "Epoch 39/50\n",
            "210/210 - 15s - loss: 0.1822 - accuracy: 0.9843 - val_loss: 0.5902 - val_accuracy: 0.7444\n",
            "Epoch 40/50\n",
            "210/210 - 15s - loss: 0.1767 - accuracy: 0.9857 - val_loss: 0.6090 - val_accuracy: 0.7111\n",
            "Epoch 41/50\n",
            "210/210 - 15s - loss: 0.1719 - accuracy: 0.9867 - val_loss: 0.6043 - val_accuracy: 0.7111\n",
            "Epoch 42/50\n",
            "210/210 - 15s - loss: 0.1660 - accuracy: 0.9862 - val_loss: 0.6067 - val_accuracy: 0.7000\n",
            "Epoch 43/50\n",
            "210/210 - 15s - loss: 0.1600 - accuracy: 0.9890 - val_loss: 0.6144 - val_accuracy: 0.7111\n",
            "Epoch 44/50\n",
            "210/210 - 15s - loss: 0.1556 - accuracy: 0.9895 - val_loss: 0.6146 - val_accuracy: 0.7222\n",
            "Epoch 45/50\n",
            "210/210 - 15s - loss: 0.1495 - accuracy: 0.9905 - val_loss: 0.6320 - val_accuracy: 0.7111\n",
            "Epoch 46/50\n",
            "210/210 - 15s - loss: 0.1454 - accuracy: 0.9919 - val_loss: 0.6255 - val_accuracy: 0.7111\n",
            "Epoch 47/50\n",
            "210/210 - 15s - loss: 0.1417 - accuracy: 0.9919 - val_loss: 0.6232 - val_accuracy: 0.7222\n",
            "Epoch 48/50\n",
            "210/210 - 15s - loss: 0.1367 - accuracy: 0.9924 - val_loss: 0.6290 - val_accuracy: 0.7222\n",
            "Epoch 49/50\n",
            "210/210 - 15s - loss: 0.1328 - accuracy: 0.9929 - val_loss: 0.6337 - val_accuracy: 0.7111\n",
            "Epoch 50/50\n",
            "210/210 - 15s - loss: 0.1292 - accuracy: 0.9933 - val_loss: 0.6526 - val_accuracy: 0.7000\n"
          ],
          "name": "stdout"
        },
        {
          "output_type": "execute_result",
          "data": {
            "text/plain": [
              "<tensorflow.python.keras.callbacks.History at 0x7fba24ee4198>"
            ]
          },
          "metadata": {
            "tags": []
          },
          "execution_count": 17
        }
      ]
    },
    {
      "cell_type": "code",
      "metadata": {
        "id": "lI8J1bDGyk__"
      },
      "source": [
        "predictions = model.predict(x=test_batches, steps=len(test_batches), verbose=0)"
      ],
      "execution_count": 18,
      "outputs": []
    },
    {
      "cell_type": "code",
      "metadata": {
        "id": "Si5QmBOr4bWS",
        "outputId": "41f8957d-338c-4b51-a9eb-d8cec33d37c5",
        "colab": {
          "base_uri": "https://localhost:8080/",
          "height": 1000
        }
      },
      "source": [
        "np.round(predictions)"
      ],
      "execution_count": 19,
      "outputs": [
        {
          "output_type": "execute_result",
          "data": {
            "text/plain": [
              "array([[1., 0.],\n",
              "       [1., 0.],\n",
              "       [1., 0.],\n",
              "       [1., 0.],\n",
              "       [0., 1.],\n",
              "       [1., 0.],\n",
              "       [1., 0.],\n",
              "       [1., 0.],\n",
              "       [0., 1.],\n",
              "       [1., 0.],\n",
              "       [1., 0.],\n",
              "       [1., 0.],\n",
              "       [1., 0.],\n",
              "       [1., 0.],\n",
              "       [0., 1.],\n",
              "       [1., 0.],\n",
              "       [1., 0.],\n",
              "       [0., 1.],\n",
              "       [1., 0.],\n",
              "       [1., 0.],\n",
              "       [1., 0.],\n",
              "       [1., 0.],\n",
              "       [1., 0.],\n",
              "       [0., 1.],\n",
              "       [1., 0.],\n",
              "       [0., 1.],\n",
              "       [1., 0.],\n",
              "       [1., 0.],\n",
              "       [1., 0.],\n",
              "       [1., 0.],\n",
              "       [0., 1.],\n",
              "       [1., 0.],\n",
              "       [1., 0.],\n",
              "       [1., 0.],\n",
              "       [1., 0.],\n",
              "       [0., 1.],\n",
              "       [0., 1.],\n",
              "       [0., 1.],\n",
              "       [1., 0.],\n",
              "       [1., 0.],\n",
              "       [1., 0.],\n",
              "       [1., 0.],\n",
              "       [1., 0.],\n",
              "       [0., 1.],\n",
              "       [1., 0.],\n",
              "       [0., 1.],\n",
              "       [0., 1.],\n",
              "       [0., 1.],\n",
              "       [0., 1.],\n",
              "       [0., 1.],\n",
              "       [0., 1.],\n",
              "       [0., 1.],\n",
              "       [0., 1.],\n",
              "       [0., 1.],\n",
              "       [0., 1.],\n",
              "       [0., 1.],\n",
              "       [0., 1.],\n",
              "       [1., 0.],\n",
              "       [0., 1.],\n",
              "       [0., 1.],\n",
              "       [1., 0.],\n",
              "       [1., 0.],\n",
              "       [0., 1.],\n",
              "       [0., 1.],\n",
              "       [0., 1.],\n",
              "       [1., 0.],\n",
              "       [0., 1.],\n",
              "       [0., 1.],\n",
              "       [0., 1.],\n",
              "       [0., 1.],\n",
              "       [1., 0.],\n",
              "       [0., 1.],\n",
              "       [0., 1.],\n",
              "       [0., 1.],\n",
              "       [0., 1.],\n",
              "       [0., 1.],\n",
              "       [0., 1.],\n",
              "       [0., 1.],\n",
              "       [0., 1.],\n",
              "       [0., 1.],\n",
              "       [0., 1.],\n",
              "       [0., 1.],\n",
              "       [1., 0.],\n",
              "       [0., 1.],\n",
              "       [0., 1.],\n",
              "       [0., 1.],\n",
              "       [0., 1.],\n",
              "       [0., 1.],\n",
              "       [0., 1.],\n",
              "       [0., 1.],\n",
              "       [0., 1.],\n",
              "       [0., 1.],\n",
              "       [0., 1.],\n",
              "       [0., 1.],\n",
              "       [0., 1.]], dtype=float32)"
            ]
          },
          "metadata": {
            "tags": []
          },
          "execution_count": 19
        }
      ]
    },
    {
      "cell_type": "code",
      "metadata": {
        "id": "jywFV9JC4hr6"
      },
      "source": [
        "cm = confusion_matrix(y_true=test_batches.classes, y_pred=np.argmax(predictions, axis=-1))"
      ],
      "execution_count": 25,
      "outputs": []
    },
    {
      "cell_type": "code",
      "metadata": {
        "id": "7wiRCg4J4TcT"
      },
      "source": [
        "def plot_confusion_matrix(cm, classes,\n",
        "                          normalize=False,\n",
        "                          title='Confusion matrix',\n",
        "                          cmap=plt.cm.Blues):\n",
        "    \"\"\"\n",
        "    This function prints and plots the confusion matrix.\n",
        "    Normalization can be applied by setting `normalize=True`.\n",
        "    \"\"\"\n",
        "    plt.imshow(cm, interpolation='nearest', cmap=cmap)\n",
        "    plt.title(title)\n",
        "    plt.colorbar()\n",
        "    tick_marks = np.arange(len(classes))\n",
        "    plt.xticks(tick_marks, classes, rotation=45)\n",
        "    plt.yticks(tick_marks, classes)\n",
        "\n",
        "    if normalize:\n",
        "        cm = cm.astype('float') / cm.sum(axis=1)[:, np.newaxis]\n",
        "        print(\"Normalized confusion matrix\")\n",
        "    else:\n",
        "        print('Confusion matrix, without normalization')\n",
        "\n",
        "    print(cm)\n",
        "\n",
        "    thresh = cm.max() / 2.\n",
        "    for i, j in itertools.product(range(cm.shape[0]), range(cm.shape[1])):\n",
        "        plt.text(j, i, cm[i, j],\n",
        "            horizontalalignment=\"center\",\n",
        "            color=\"white\" if cm[i, j] > thresh else \"black\")\n",
        "\n",
        "    plt.tight_layout()\n",
        "    plt.ylabel('True label')\n",
        "    plt.xlabel('Predicted label')"
      ],
      "execution_count": 26,
      "outputs": []
    },
    {
      "cell_type": "code",
      "metadata": {
        "id": "6A21QiNe4qNx",
        "outputId": "5c4a6401-f177-4b18-c887-770a61482fd4",
        "colab": {
          "base_uri": "https://localhost:8080/",
          "height": 34
        }
      },
      "source": [
        "test_batches.class_indices"
      ],
      "execution_count": 27,
      "outputs": [
        {
          "output_type": "execute_result",
          "data": {
            "text/plain": [
              "{'TC': 1, 'TS': 0}"
            ]
          },
          "metadata": {
            "tags": []
          },
          "execution_count": 27
        }
      ]
    },
    {
      "cell_type": "code",
      "metadata": {
        "id": "b9JRcTUj3XLw",
        "outputId": "c2a6da83-87b0-4fde-cee0-de2eaf3a0421",
        "colab": {
          "base_uri": "https://localhost:8080/",
          "height": 362
        }
      },
      "source": [
        "cm_plot_labels = ['TS','TC']\n",
        "plot_confusion_matrix(cm=cm, classes=cm_plot_labels, title='Confusion Matrix')"
      ],
      "execution_count": 28,
      "outputs": [
        {
          "output_type": "stream",
          "text": [
            "Confusion matrix, without normalization\n",
            "[[28  7]\n",
            " [12 48]]\n"
          ],
          "name": "stdout"
        },
        {
          "output_type": "display_data",
          "data": {
            "image/png": "[encoded data removed]",
            "text/plain": [
              "<Figure size 432x288 with 2 Axes>"
            ]
          },
          "metadata": {
            "tags": [],
            "needs_background": "light"
          }
        }
      ]
    }
  ]
}