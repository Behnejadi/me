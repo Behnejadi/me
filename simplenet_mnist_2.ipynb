{
  "nbformat": 4,
  "nbformat_minor": 0,
  "metadata": {
    "colab": {
      "name": "simplenet_mnist_(2) (2).ipynb",
      "provenance": [],
      "collapsed_sections": []
    },
    "kernelspec": {
      "name": "python3",
      "display_name": "Python 3"
    },
    "accelerator": "GPU"
  },
  "cells": [
    {
      "cell_type": "code",
      "metadata": {
        "id": "MK0RSG6Hx6kD"
      },
      "source": [
        "%matplotlib inline\n",
        "\n",
        "import numpy as np\n",
        "import matplotlib.pyplot as plt\n",
        "\n",
        "import keras\n",
        "from keras.utils import np_utils\n",
        "from tensorflow.keras import layers\n",
        "from keras.datasets import mnist\n",
        "from keras.models import Sequential\n",
        "from keras.layers import Dense, Activation, BatchNormalization\n",
        "from keras.layers import Conv2D, MaxPooling2D, Flatten ,Dropout\n",
        "import tensorflow as tf\n",
        "from keras.regularizers import l2\n",
        "from keras import regularizers, optimizers\n",
        "from keras.preprocessing.image import ImageDataGenerator\n",
        "from keras.initializers import glorot_normal, RandomNormal, Zeros\n",
        "from sklearn.metrics import roc_auc_score, roc_curve, auc ,accuracy_score,precision_score,recall_score,f1_score,accuracy_score\n",
        "from keras.models import Model, model_from_json"
      ],
      "execution_count": 1,
      "outputs": []
    },
    {
      "cell_type": "code",
      "metadata": {
        "id": "_UrozZw5zmiN"
      },
      "source": [
        "image_size = 28\n",
        "num_channels = 1\n",
        "num_features = image_size * image_size * num_channels\n",
        "num_classes = 10"
      ],
      "execution_count": 2,
      "outputs": []
    },
    {
      "cell_type": "code",
      "metadata": {
        "colab": {
          "base_uri": "https://localhost:8080/"
        },
        "id": "JEIXKvqH82Ut",
        "outputId": "3ac335cb-7e9b-4be0-ac5b-5392f987c2c0"
      },
      "source": [
        "(x_train, y_train), (x_test, y_test) = mnist.load_data()\n",
        "\n",
        "print('Train data shape: {}'.format(x_train.shape))\n",
        "print('Test  data shape: {}'.format(x_test.shape))"
      ],
      "execution_count": 3,
      "outputs": [
        {
          "output_type": "stream",
          "text": [
            "Downloading data from https://storage.googleapis.com/tensorflow/tf-keras-datasets/mnist.npz\n",
            "11493376/11490434 [==============================] - 0s 0us/step\n",
            "Train data shape: (60000, 28, 28)\n",
            "Test  data shape: (10000, 28, 28)\n"
          ],
          "name": "stdout"
        }
      ]
    },
    {
      "cell_type": "code",
      "metadata": {
        "colab": {
          "base_uri": "https://localhost:8080/"
        },
        "id": "lz4tAISq7Stx",
        "outputId": "fe78cc5d-478b-4a0a-dd51-477caf96a9fa"
      },
      "source": [
        "x_train = x_train.reshape(x_train.shape[0], 28, 28, 1).astype('float32')\n",
        "x_test  = x_test.reshape(x_test.shape[0], 28, 28, 1).astype('float32')\n",
        "\n",
        "x_train /= 255.0\n",
        "x_test /= 255.0\n",
        "\n",
        "print(x_train.shape)\n",
        "print(x_test.shape)"
      ],
      "execution_count": 4,
      "outputs": [
        {
          "output_type": "stream",
          "text": [
            "(60000, 28, 28, 1)\n",
            "(10000, 28, 28, 1)\n"
          ],
          "name": "stdout"
        }
      ]
    },
    {
      "cell_type": "code",
      "metadata": {
        "colab": {
          "base_uri": "https://localhost:8080/"
        },
        "id": "tnZDthVcSH5m",
        "outputId": "50754e3b-3cdf-423e-f8a7-97835181ff97"
      },
      "source": [
        "npad = ((0,0), (2,2), (2,2), (0,0))\n",
        "x_train = np.pad(x_train, pad_width=npad, mode='constant', constant_values=0)\n",
        "x_test = np.pad(x_test, pad_width=npad, mode='constant', constant_values=0)\n",
        "\n",
        "print(x_train.shape)\n",
        "print(x_test.shape)"
      ],
      "execution_count": 5,
      "outputs": [
        {
          "output_type": "stream",
          "text": [
            "(60000, 32, 32, 1)\n",
            "(10000, 32, 32, 1)\n"
          ],
          "name": "stdout"
        }
      ]
    },
    {
      "cell_type": "code",
      "metadata": {
        "colab": {
          "base_uri": "https://localhost:8080/"
        },
        "id": "PXi459NY88eb",
        "outputId": "271cfa21-498b-446c-cdcb-d84806e5751a"
      },
      "source": [
        "y_train = keras.utils.to_categorical(y_train, num_classes)\n",
        "y_test  = keras.utils.to_categorical(y_test,  num_classes)\n",
        "\n",
        "print(y_train.shape)\n",
        "print(y_test.shape)"
      ],
      "execution_count": 6,
      "outputs": [
        {
          "output_type": "stream",
          "text": [
            "(60000, 10)\n",
            "(10000, 10)\n"
          ],
          "name": "stdout"
        }
      ]
    },
    {
      "cell_type": "code",
      "metadata": {
        "id": "Eh-YSPIrHrQf"
      },
      "source": [
        "# plotting helper function\n",
        "def plothist(hist):\n",
        "    \n",
        "    plt.subplot(1, 2, 1)\n",
        "    plt.plot(hist.history['accuracy'])\n",
        "    plt.plot(hist.history['val_accuracy'])\n",
        "    plt.title('model accuracy')\n",
        "    plt.ylabel('accuracy')\n",
        "    plt.xlabel('epoch')\n",
        "    plt.legend(['train', 'test'], loc='lower right')\n",
        "\n",
        "    plt.subplot(1, 2, 2)\n",
        "    plt.plot(hist.history['loss'])\n",
        "    plt.plot(hist.history['val_loss'])\n",
        "    plt.title('model loss')\n",
        "    plt.ylabel('loss')\n",
        "    plt.xlabel('epoch')\n",
        "    plt.legend(['train', 'test'], loc='upper left')\n",
        "\n",
        "\n",
        "    plt.show()"
      ],
      "execution_count": 7,
      "outputs": []
    },
    {
      "cell_type": "code",
      "metadata": {
        "id": "t2V2aJZ2zmSH"
      },
      "source": [
        "def create_cnn():\n",
        "    model = Sequential()\n",
        "    # Conv Block 1\n",
        "    model.add(Conv2D(64, (3, 3), padding='same' , strides=(1, 1),kernel_regularizer=regularizers.l2(0.005), kernel_initializer=glorot_normal() ,\n",
        "                     input_shape=x_train.shape[1:]))\n",
        "    model.add(BatchNormalization(momentum=0.05,trainable=True, epsilon=1e-05))# affine=True, track_running_stats=True\n",
        "    model.add(Activation(activation='relu'))#(inplace)\n",
        "\n",
        "    model.add(Conv2D(128, (3, 3), padding='same',strides=(1, 1),kernel_regularizer=regularizers.l2(0.005), kernel_initializer=glorot_normal()))\n",
        "    model.add(BatchNormalization(momentum=0.05, epsilon=1e-05))\n",
        "    model.add(Activation(activation='relu'))#(inplace)\n",
        "\n",
        "    model.add(Conv2D(128, (3, 3), padding='same',strides=(1, 1),kernel_regularizer=regularizers.l2(0.005), kernel_initializer=RandomNormal(stddev=0.01)))\n",
        "    model.add(BatchNormalization(momentum=0.05, epsilon=1e-05))\n",
        "    model.add(Activation(activation='relu'))#(inplace)\n",
        "     \n",
        "    model.add(Conv2D(128, (3, 3), padding='same',strides=(1, 1),kernel_regularizer=regularizers.l2(0.005), kernel_initializer=RandomNormal(stddev=0.01)))\n",
        "    model.add(BatchNormalization(momentum=0.05, epsilon=1e-05))\n",
        "    model.add(Activation(activation='relu'))#(inplace)\n",
        "     \n",
        "    model.add(MaxPooling2D(pool_size=(2, 2),strides=(2, 2)))# padding=0, dilation=(1, 1), ceil_mode=False)\n",
        "    model.add(Dropout(0.1))          \n",
        "\n",
        "\n",
        "    # Conv Block 2\n",
        "    model.add(Conv2D(128, (3, 3), padding='same',strides=(1, 1),kernel_regularizer=regularizers.l2(0.005), kernel_initializer=RandomNormal(stddev=0.01)))\n",
        "    model.add(BatchNormalization(momentum=0.05, epsilon=1e-05))\n",
        "    model.add(Activation(activation='relu'))#(inplace)\n",
        "\n",
        "    model.add(Conv2D(128, (3, 3), padding='same',strides=(1, 1),kernel_regularizer=regularizers.l2(0.005), kernel_initializer=glorot_normal()))\n",
        "    model.add(BatchNormalization(momentum=0.05, epsilon=1e-05))\n",
        "    model.add(Activation(activation='relu'))#(inplace)\n",
        "\n",
        "    model.add(Conv2D(256, (3, 3), padding='same',strides=(1, 1),kernel_regularizer=regularizers.l2(0.005), kernel_initializer=glorot_normal()))\n",
        "    model.add(BatchNormalization(momentum=0.05, epsilon=1e-05))\n",
        "    model.add(Activation(activation='relu'))#(inplace)\n",
        "     \n",
        "    model.add(MaxPooling2D(pool_size=(2, 2),strides=(2, 2)))# padding=0, dilation=(1, 1), ceil_mode=False)\n",
        "    model.add(Dropout(0.1))\n",
        "\n",
        "\n",
        "    # Conv Block 3\n",
        "    model.add(Conv2D(256, (3, 3), padding='same',strides=(1, 1),kernel_regularizer=regularizers.l2(0.005), kernel_initializer=glorot_normal()))\n",
        "    model.add(BatchNormalization(momentum=0.05, epsilon=1e-05))\n",
        "    model.add(Activation(activation='relu'))#(inplace)\n",
        "\n",
        "    model.add(Conv2D(256, (3, 3), padding='same',strides=(1, 1),kernel_regularizer=regularizers.l2(0.005), kernel_initializer=glorot_normal()))\n",
        "    model.add(BatchNormalization(momentum=0.05, epsilon=1e-05))\n",
        "    model.add(Activation(activation='relu'))#(inplace)\n",
        "     \n",
        "    model.add(MaxPooling2D(pool_size=(2, 2),strides=(2, 2)))# padding=0, dilation=(1, 1), ceil_mode=False)\n",
        "    model.add(Dropout(0.1))\n",
        "\n",
        "    # Conv Block 4\n",
        "    model.add(Conv2D(512, (3, 3), padding='same',strides=(1, 1),kernel_regularizer=regularizers.l2(0.005), kernel_initializer=glorot_normal()))\n",
        "    model.add(BatchNormalization(momentum=0.05, epsilon=1e-05))\n",
        "    model.add(Activation(activation='relu'))#(inplace)\n",
        "     \n",
        "    model.add(MaxPooling2D(pool_size=(2, 2),strides=(2, 2)))# padding=0, dilation=(1, 1), ceil_mode=False)\n",
        "    model.add(Dropout(0.1))\n",
        "\n",
        "    # Conv Block 5\n",
        "    model.add(Conv2D(2048, (1, 1), padding='same',strides=(1, 1),kernel_regularizer=regularizers.l2(0.005), kernel_initializer=glorot_normal()))\n",
        "    model.add(BatchNormalization(momentum=0.05, epsilon=1e-05))\n",
        "    model.add(Activation(activation='relu'))#(inplace)\n",
        "\n",
        "    model.add(Conv2D(256, (1, 1), padding='same',strides=(1, 1),kernel_regularizer=regularizers.l2(0.005), kernel_initializer=glorot_normal()))\n",
        "    model.add(BatchNormalization(momentum=0.05, epsilon=1e-05))\n",
        "    model.add(Activation(activation='relu'))#(inplace)\n",
        "     \n",
        "    model.add(MaxPooling2D(pool_size=(2, 2),strides=(2, 2)))# padding=0, dilation=(1, 1), ceil_mode=False)\n",
        "    model.add(Dropout(0.1))\n",
        "\n",
        "\n",
        "    # Conv Block 6\n",
        "    model.add(Conv2D(256, (3, 3), padding='same',strides=(1, 1),kernel_regularizer=regularizers.l2(0.005), kernel_initializer=glorot_normal()))\n",
        "    model.add(BatchNormalization(momentum=0.05, epsilon=1e-05))\n",
        "    model.add(Activation(activation='relu'))#(inplace)\n",
        "\n",
        "\n",
        "    # Classifier\n",
        "    model.add(Flatten())\n",
        "    model.add(Dense(num_classes, activation='softmax'))\n",
        "\n",
        "    return model\n",
        "\n",
        "#model = create_cnn()\n",
        "#model.summary()"
      ],
      "execution_count": 8,
      "outputs": []
    },
    {
      "cell_type": "code",
      "metadata": {
        "id": "ngAmYHu678di"
      },
      "source": [
        "BATCH_SIZE =100\n",
        "STEPS_PER_EPOCH =len(x_train)//BATCH_SIZE \n",
        "\n",
        "step = tf.Variable(0, trainable=False)\n",
        "boundaries = [25*STEPS_PER_EPOCH,50*STEPS_PER_EPOCH,\n",
        "              75*STEPS_PER_EPOCH]\n",
        "values = [0.1, 0.01 , 0.001, 0.0001]\n",
        "learning_rate_fn = keras.optimizers.schedules.PiecewiseConstantDecay(\n",
        "    boundaries, values)"
      ],
      "execution_count": 9,
      "outputs": []
    },
    {
      "cell_type": "code",
      "metadata": {
        "id": "vV5InGkZg9Q0"
      },
      "source": [
        "def create_model():\n",
        "    model = create_cnn()\n",
        "    #model.save_weights(\"tmp.h5\")\n",
        "\n",
        "    # optionally do some other modifications (freezing layers, adding convolutions etc.)\n",
        "    \n",
        "    WEIGHT_DECAY=0.002\n",
        "\n",
        "    regularizer = l2(WEIGHT_DECAY / 2)\n",
        "    for layer in model.layers:\n",
        "        for attr in ['kernel_regularizer', 'bias_regularizer']:\n",
        "            if hasattr(layer, attr) and layer.trainable:\n",
        "                setattr(layer, attr, regularizer)\n",
        "\n",
        "    out = model_from_json(model.to_json())\n",
        "    #out.load_weights(\"tmp.h5\", by_name=True)\n",
        "\n",
        "    return out"
      ],
      "execution_count": 10,
      "outputs": []
    },
    {
      "cell_type": "code",
      "metadata": {
        "id": "UEkUCuZShOGb"
      },
      "source": [
        "model=create_model()"
      ],
      "execution_count": 11,
      "outputs": []
    },
    {
      "cell_type": "code",
      "metadata": {
        "id": "ZIUYtaAI8ENq"
      },
      "source": [
        "optimizer = tf.keras.optimizers.SGD(learning_rate=learning_rate_fn)\n",
        "\n",
        "model.compile(optimizer=optimizer, loss='categorical_crossentropy', metrics=['accuracy'])"
      ],
      "execution_count": 12,
      "outputs": []
    },
    {
      "cell_type": "code",
      "metadata": {
        "id": "14GLLTvuC3Y1",
        "colab": {
          "base_uri": "https://localhost:8080/"
        },
        "outputId": "f0827375-8d7b-4a34-a681-94d341baf73b"
      },
      "source": [
        "history =model.fit(x_train, y_train, batch_size=100,\n",
        "                   steps_per_epoch=len(x_train) //100,epochs=100,\n",
        "                   validation_data=(x_test,y_test))"
      ],
      "execution_count": 13,
      "outputs": [
        {
          "output_type": "stream",
          "text": [
            "Epoch 1/100\n",
            "599/600 [============================>.] - ETA: 0s - loss: 2.7976 - accuracy: 0.9459WARNING:tensorflow:Callbacks method `on_test_batch_end` is slow compared to the batch time (batch time: 0.0033s vs `on_test_batch_end` time: 0.0117s). Check your callbacks.\n",
            "600/600 [==============================] - 29s 48ms/step - loss: 2.7970 - accuracy: 0.9460 - val_loss: 2.3708 - val_accuracy: 0.9886\n",
            "Epoch 2/100\n",
            "600/600 [==============================] - 29s 48ms/step - loss: 2.1293 - accuracy: 0.9856 - val_loss: 1.8746 - val_accuracy: 0.9915\n",
            "Epoch 3/100\n",
            "600/600 [==============================] - 29s 48ms/step - loss: 1.6846 - accuracy: 0.9896 - val_loss: 1.4891 - val_accuracy: 0.9918\n",
            "Epoch 4/100\n",
            "600/600 [==============================] - 29s 48ms/step - loss: 1.3360 - accuracy: 0.9915 - val_loss: 1.1829 - val_accuracy: 0.9928\n",
            "Epoch 5/100\n",
            "600/600 [==============================] - 28s 47ms/step - loss: 1.0627 - accuracy: 0.9923 - val_loss: 0.9428 - val_accuracy: 0.9941\n",
            "Epoch 6/100\n",
            "600/600 [==============================] - 28s 47ms/step - loss: 0.8486 - accuracy: 0.9929 - val_loss: 0.7621 - val_accuracy: 0.9904\n",
            "Epoch 7/100\n",
            "600/600 [==============================] - 28s 47ms/step - loss: 0.6768 - accuracy: 0.9943 - val_loss: 0.6041 - val_accuracy: 0.9941\n",
            "Epoch 8/100\n",
            "600/600 [==============================] - 29s 48ms/step - loss: 0.5490 - accuracy: 0.9931 - val_loss: 0.4899 - val_accuracy: 0.9936\n",
            "Epoch 9/100\n",
            "600/600 [==============================] - 29s 48ms/step - loss: 0.4441 - accuracy: 0.9938 - val_loss: 0.3994 - val_accuracy: 0.9932\n",
            "Epoch 10/100\n",
            "600/600 [==============================] - 29s 48ms/step - loss: 0.3620 - accuracy: 0.9939 - val_loss: 0.3370 - val_accuracy: 0.9917\n",
            "Epoch 11/100\n",
            "600/600 [==============================] - 28s 47ms/step - loss: 0.2980 - accuracy: 0.9939 - val_loss: 0.2772 - val_accuracy: 0.9927\n",
            "Epoch 12/100\n",
            "600/600 [==============================] - 29s 48ms/step - loss: 0.2490 - accuracy: 0.9938 - val_loss: 0.2278 - val_accuracy: 0.9941\n",
            "Epoch 13/100\n",
            "600/600 [==============================] - 28s 47ms/step - loss: 0.2108 - accuracy: 0.9936 - val_loss: 0.1911 - val_accuracy: 0.9944\n",
            "Epoch 14/100\n",
            "600/600 [==============================] - 29s 48ms/step - loss: 0.1774 - accuracy: 0.9946 - val_loss: 0.1670 - val_accuracy: 0.9937\n",
            "Epoch 15/100\n",
            "600/600 [==============================] - 29s 48ms/step - loss: 0.1519 - accuracy: 0.9944 - val_loss: 0.1666 - val_accuracy: 0.9847\n",
            "Epoch 16/100\n",
            "600/600 [==============================] - 29s 48ms/step - loss: 0.1339 - accuracy: 0.9941 - val_loss: 0.1249 - val_accuracy: 0.9943\n",
            "Epoch 17/100\n",
            "600/600 [==============================] - 29s 48ms/step - loss: 0.1183 - accuracy: 0.9944 - val_loss: 0.1117 - val_accuracy: 0.9944\n",
            "Epoch 18/100\n",
            "600/600 [==============================] - 28s 47ms/step - loss: 0.1041 - accuracy: 0.9949 - val_loss: 0.1090 - val_accuracy: 0.9934\n",
            "Epoch 19/100\n",
            "600/600 [==============================] - 28s 47ms/step - loss: 0.0955 - accuracy: 0.9948 - val_loss: 0.1023 - val_accuracy: 0.9913\n",
            "Epoch 20/100\n",
            "600/600 [==============================] - 28s 47ms/step - loss: 0.0886 - accuracy: 0.9947 - val_loss: 0.0810 - val_accuracy: 0.9953\n",
            "Epoch 21/100\n",
            "600/600 [==============================] - 28s 47ms/step - loss: 0.0813 - accuracy: 0.9951 - val_loss: 0.0771 - val_accuracy: 0.9950\n",
            "Epoch 22/100\n",
            "600/600 [==============================] - 28s 47ms/step - loss: 0.0758 - accuracy: 0.9951 - val_loss: 0.0831 - val_accuracy: 0.9923\n",
            "Epoch 23/100\n",
            "600/600 [==============================] - 28s 47ms/step - loss: 0.0734 - accuracy: 0.9950 - val_loss: 0.0778 - val_accuracy: 0.9933\n",
            "Epoch 24/100\n",
            "600/600 [==============================] - 28s 47ms/step - loss: 0.0720 - accuracy: 0.9947 - val_loss: 0.0767 - val_accuracy: 0.9923\n",
            "Epoch 25/100\n",
            "600/600 [==============================] - 28s 47ms/step - loss: 0.0672 - accuracy: 0.9953 - val_loss: 0.0732 - val_accuracy: 0.9927\n",
            "Epoch 26/100\n",
            "600/600 [==============================] - 29s 48ms/step - loss: 0.0559 - accuracy: 0.9982 - val_loss: 0.0629 - val_accuracy: 0.9949\n",
            "Epoch 27/100\n",
            "600/600 [==============================] - 28s 47ms/step - loss: 0.0520 - accuracy: 0.9993 - val_loss: 0.0602 - val_accuracy: 0.9961\n",
            "Epoch 28/100\n",
            "600/600 [==============================] - 29s 48ms/step - loss: 0.0505 - accuracy: 0.9993 - val_loss: 0.0594 - val_accuracy: 0.9954\n",
            "Epoch 29/100\n",
            "600/600 [==============================] - 28s 47ms/step - loss: 0.0488 - accuracy: 0.9996 - val_loss: 0.0584 - val_accuracy: 0.9957\n",
            "Epoch 30/100\n",
            "600/600 [==============================] - 29s 48ms/step - loss: 0.0475 - accuracy: 0.9996 - val_loss: 0.0578 - val_accuracy: 0.9957\n",
            "Epoch 31/100\n",
            "600/600 [==============================] - 28s 47ms/step - loss: 0.0465 - accuracy: 0.9996 - val_loss: 0.0586 - val_accuracy: 0.9951\n",
            "Epoch 32/100\n",
            "600/600 [==============================] - 29s 48ms/step - loss: 0.0454 - accuracy: 0.9997 - val_loss: 0.0560 - val_accuracy: 0.9960\n",
            "Epoch 33/100\n",
            "600/600 [==============================] - 29s 48ms/step - loss: 0.0442 - accuracy: 0.9997 - val_loss: 0.0548 - val_accuracy: 0.9961\n",
            "Epoch 34/100\n",
            "600/600 [==============================] - 29s 48ms/step - loss: 0.0432 - accuracy: 0.9998 - val_loss: 0.0541 - val_accuracy: 0.9963\n",
            "Epoch 35/100\n",
            "600/600 [==============================] - 29s 48ms/step - loss: 0.0422 - accuracy: 0.9998 - val_loss: 0.0539 - val_accuracy: 0.9960\n",
            "Epoch 36/100\n",
            "600/600 [==============================] - 29s 48ms/step - loss: 0.0414 - accuracy: 0.9998 - val_loss: 0.0548 - val_accuracy: 0.9959\n",
            "Epoch 37/100\n",
            "600/600 [==============================] - 28s 47ms/step - loss: 0.0404 - accuracy: 0.9998 - val_loss: 0.0534 - val_accuracy: 0.9956\n",
            "Epoch 38/100\n",
            "600/600 [==============================] - 29s 48ms/step - loss: 0.0395 - accuracy: 0.9998 - val_loss: 0.0514 - val_accuracy: 0.9960\n",
            "Epoch 39/100\n",
            "600/600 [==============================] - 29s 48ms/step - loss: 0.0386 - accuracy: 0.9998 - val_loss: 0.0510 - val_accuracy: 0.9961\n",
            "Epoch 40/100\n",
            "600/600 [==============================] - 28s 47ms/step - loss: 0.0379 - accuracy: 0.9999 - val_loss: 0.0507 - val_accuracy: 0.9963\n",
            "Epoch 41/100\n",
            "600/600 [==============================] - 28s 47ms/step - loss: 0.0370 - accuracy: 0.9998 - val_loss: 0.0514 - val_accuracy: 0.9957\n",
            "Epoch 42/100\n",
            "600/600 [==============================] - 28s 47ms/step - loss: 0.0361 - accuracy: 0.9999 - val_loss: 0.0484 - val_accuracy: 0.9960\n",
            "Epoch 43/100\n",
            "600/600 [==============================] - 28s 47ms/step - loss: 0.0354 - accuracy: 0.9999 - val_loss: 0.0482 - val_accuracy: 0.9960\n",
            "Epoch 44/100\n",
            "600/600 [==============================] - 28s 47ms/step - loss: 0.0347 - accuracy: 0.9999 - val_loss: 0.0504 - val_accuracy: 0.9954\n",
            "Epoch 45/100\n",
            "600/600 [==============================] - 28s 47ms/step - loss: 0.0339 - accuracy: 0.9999 - val_loss: 0.0486 - val_accuracy: 0.9960\n",
            "Epoch 46/100\n",
            "600/600 [==============================] - 28s 47ms/step - loss: 0.0332 - accuracy: 0.9999 - val_loss: 0.0461 - val_accuracy: 0.9966\n",
            "Epoch 47/100\n",
            "600/600 [==============================] - 29s 48ms/step - loss: 0.0325 - accuracy: 0.9999 - val_loss: 0.0462 - val_accuracy: 0.9964\n",
            "Epoch 48/100\n",
            "600/600 [==============================] - 28s 47ms/step - loss: 0.0319 - accuracy: 0.9999 - val_loss: 0.0445 - val_accuracy: 0.9960\n",
            "Epoch 49/100\n",
            "600/600 [==============================] - 28s 47ms/step - loss: 0.0312 - accuracy: 0.9999 - val_loss: 0.0437 - val_accuracy: 0.9962\n",
            "Epoch 50/100\n",
            "600/600 [==============================] - 28s 47ms/step - loss: 0.0304 - accuracy: 0.9999 - val_loss: 0.0434 - val_accuracy: 0.9958\n",
            "Epoch 51/100\n",
            "600/600 [==============================] - 29s 48ms/step - loss: 0.0301 - accuracy: 0.9999 - val_loss: 0.0448 - val_accuracy: 0.9958\n",
            "Epoch 52/100\n",
            "600/600 [==============================] - 29s 48ms/step - loss: 0.0300 - accuracy: 1.0000 - val_loss: 0.0459 - val_accuracy: 0.9950\n",
            "Epoch 53/100\n",
            "600/600 [==============================] - 29s 48ms/step - loss: 0.0300 - accuracy: 1.0000 - val_loss: 0.0439 - val_accuracy: 0.9958\n",
            "Epoch 54/100\n",
            "600/600 [==============================] - 29s 48ms/step - loss: 0.0299 - accuracy: 1.0000 - val_loss: 0.0431 - val_accuracy: 0.9959\n",
            "Epoch 55/100\n",
            "600/600 [==============================] - 29s 48ms/step - loss: 0.0298 - accuracy: 1.0000 - val_loss: 0.0432 - val_accuracy: 0.9959\n",
            "Epoch 56/100\n",
            "600/600 [==============================] - 29s 48ms/step - loss: 0.0297 - accuracy: 1.0000 - val_loss: 0.0424 - val_accuracy: 0.9964\n",
            "Epoch 57/100\n",
            "600/600 [==============================] - 28s 47ms/step - loss: 0.0297 - accuracy: 0.9999 - val_loss: 0.0428 - val_accuracy: 0.9963\n",
            "Epoch 58/100\n",
            "600/600 [==============================] - 29s 48ms/step - loss: 0.0297 - accuracy: 1.0000 - val_loss: 0.0437 - val_accuracy: 0.9961\n",
            "Epoch 59/100\n",
            "600/600 [==============================] - 29s 48ms/step - loss: 0.0295 - accuracy: 1.0000 - val_loss: 0.0451 - val_accuracy: 0.9961\n",
            "Epoch 60/100\n",
            "600/600 [==============================] - 28s 47ms/step - loss: 0.0295 - accuracy: 1.0000 - val_loss: 0.0443 - val_accuracy: 0.9955\n",
            "Epoch 61/100\n",
            "600/600 [==============================] - 29s 48ms/step - loss: 0.0295 - accuracy: 0.9999 - val_loss: 0.0444 - val_accuracy: 0.9959\n",
            "Epoch 62/100\n",
            "600/600 [==============================] - 28s 47ms/step - loss: 0.0295 - accuracy: 1.0000 - val_loss: 0.0428 - val_accuracy: 0.9964\n",
            "Epoch 63/100\n",
            "600/600 [==============================] - 28s 47ms/step - loss: 0.0293 - accuracy: 1.0000 - val_loss: 0.0432 - val_accuracy: 0.9966\n",
            "Epoch 64/100\n",
            "600/600 [==============================] - 29s 48ms/step - loss: 0.0293 - accuracy: 1.0000 - val_loss: 0.0442 - val_accuracy: 0.9959\n",
            "Epoch 65/100\n",
            "600/600 [==============================] - 29s 48ms/step - loss: 0.0292 - accuracy: 1.0000 - val_loss: 0.0440 - val_accuracy: 0.9962\n",
            "Epoch 66/100\n",
            "600/600 [==============================] - 29s 48ms/step - loss: 0.0292 - accuracy: 1.0000 - val_loss: 0.0429 - val_accuracy: 0.9963\n",
            "Epoch 67/100\n",
            "600/600 [==============================] - 29s 48ms/step - loss: 0.0292 - accuracy: 0.9999 - val_loss: 0.0439 - val_accuracy: 0.9960\n",
            "Epoch 68/100\n",
            "600/600 [==============================] - 29s 48ms/step - loss: 0.0291 - accuracy: 1.0000 - val_loss: 0.0433 - val_accuracy: 0.9964\n",
            "Epoch 69/100\n",
            "600/600 [==============================] - 29s 48ms/step - loss: 0.0290 - accuracy: 1.0000 - val_loss: 0.0429 - val_accuracy: 0.9964\n",
            "Epoch 70/100\n",
            "600/600 [==============================] - 29s 48ms/step - loss: 0.0290 - accuracy: 1.0000 - val_loss: 0.0428 - val_accuracy: 0.9962\n",
            "Epoch 71/100\n",
            "600/600 [==============================] - 29s 48ms/step - loss: 0.0289 - accuracy: 1.0000 - val_loss: 0.0441 - val_accuracy: 0.9956\n",
            "Epoch 72/100\n",
            "600/600 [==============================] - 29s 48ms/step - loss: 0.0288 - accuracy: 1.0000 - val_loss: 0.0434 - val_accuracy: 0.9960\n",
            "Epoch 73/100\n",
            "600/600 [==============================] - 29s 48ms/step - loss: 0.0287 - accuracy: 1.0000 - val_loss: 0.0421 - val_accuracy: 0.9964\n",
            "Epoch 74/100\n",
            "600/600 [==============================] - 29s 48ms/step - loss: 0.0287 - accuracy: 1.0000 - val_loss: 0.0444 - val_accuracy: 0.9951\n",
            "Epoch 75/100\n",
            "600/600 [==============================] - 29s 48ms/step - loss: 0.0286 - accuracy: 1.0000 - val_loss: 0.0434 - val_accuracy: 0.9967\n",
            "Epoch 76/100\n",
            "600/600 [==============================] - 29s 48ms/step - loss: 0.0286 - accuracy: 0.9999 - val_loss: 0.0441 - val_accuracy: 0.9951\n",
            "Epoch 77/100\n",
            "600/600 [==============================] - 29s 48ms/step - loss: 0.0286 - accuracy: 1.0000 - val_loss: 0.0423 - val_accuracy: 0.9962\n",
            "Epoch 78/100\n",
            "600/600 [==============================] - 29s 48ms/step - loss: 0.0286 - accuracy: 1.0000 - val_loss: 0.0414 - val_accuracy: 0.9963\n",
            "Epoch 79/100\n",
            "600/600 [==============================] - 29s 48ms/step - loss: 0.0286 - accuracy: 1.0000 - val_loss: 0.0424 - val_accuracy: 0.9963\n",
            "Epoch 80/100\n",
            "600/600 [==============================] - 29s 48ms/step - loss: 0.0286 - accuracy: 0.9999 - val_loss: 0.0424 - val_accuracy: 0.9962\n",
            "Epoch 81/100\n",
            "600/600 [==============================] - 29s 48ms/step - loss: 0.0286 - accuracy: 1.0000 - val_loss: 0.0426 - val_accuracy: 0.9964\n",
            "Epoch 82/100\n",
            "600/600 [==============================] - 29s 48ms/step - loss: 0.0286 - accuracy: 1.0000 - val_loss: 0.0421 - val_accuracy: 0.9961\n",
            "Epoch 83/100\n",
            "600/600 [==============================] - 29s 48ms/step - loss: 0.0286 - accuracy: 0.9999 - val_loss: 0.0418 - val_accuracy: 0.9959\n",
            "Epoch 84/100\n",
            "600/600 [==============================] - 29s 48ms/step - loss: 0.0285 - accuracy: 1.0000 - val_loss: 0.0427 - val_accuracy: 0.9963\n",
            "Epoch 85/100\n",
            "600/600 [==============================] - 29s 48ms/step - loss: 0.0286 - accuracy: 1.0000 - val_loss: 0.0416 - val_accuracy: 0.9966\n",
            "Epoch 86/100\n",
            "600/600 [==============================] - 29s 48ms/step - loss: 0.0285 - accuracy: 1.0000 - val_loss: 0.0421 - val_accuracy: 0.9961\n",
            "Epoch 87/100\n",
            "600/600 [==============================] - 29s 48ms/step - loss: 0.0285 - accuracy: 1.0000 - val_loss: 0.0426 - val_accuracy: 0.9958\n",
            "Epoch 88/100\n",
            "600/600 [==============================] - 29s 48ms/step - loss: 0.0285 - accuracy: 1.0000 - val_loss: 0.0417 - val_accuracy: 0.9967\n",
            "Epoch 89/100\n",
            "600/600 [==============================] - 29s 48ms/step - loss: 0.0285 - accuracy: 1.0000 - val_loss: 0.0457 - val_accuracy: 0.9955\n",
            "Epoch 90/100\n",
            "600/600 [==============================] - 29s 48ms/step - loss: 0.0285 - accuracy: 1.0000 - val_loss: 0.0421 - val_accuracy: 0.9962\n",
            "Epoch 91/100\n",
            "600/600 [==============================] - 29s 48ms/step - loss: 0.0285 - accuracy: 1.0000 - val_loss: 0.0429 - val_accuracy: 0.9964\n",
            "Epoch 92/100\n",
            "600/600 [==============================] - 29s 48ms/step - loss: 0.0285 - accuracy: 1.0000 - val_loss: 0.0427 - val_accuracy: 0.9964\n",
            "Epoch 93/100\n",
            "600/600 [==============================] - 29s 48ms/step - loss: 0.0285 - accuracy: 1.0000 - val_loss: 0.0422 - val_accuracy: 0.9959\n",
            "Epoch 94/100\n",
            "600/600 [==============================] - 29s 48ms/step - loss: 0.0285 - accuracy: 1.0000 - val_loss: 0.0421 - val_accuracy: 0.9960\n",
            "Epoch 95/100\n",
            "600/600 [==============================] - 29s 48ms/step - loss: 0.0285 - accuracy: 1.0000 - val_loss: 0.0421 - val_accuracy: 0.9958\n",
            "Epoch 96/100\n",
            "600/600 [==============================] - 29s 48ms/step - loss: 0.0285 - accuracy: 1.0000 - val_loss: 0.0440 - val_accuracy: 0.9961\n",
            "Epoch 97/100\n",
            "600/600 [==============================] - 29s 48ms/step - loss: 0.0285 - accuracy: 0.9999 - val_loss: 0.0418 - val_accuracy: 0.9964\n",
            "Epoch 98/100\n",
            "600/600 [==============================] - 29s 48ms/step - loss: 0.0285 - accuracy: 1.0000 - val_loss: 0.0417 - val_accuracy: 0.9964\n",
            "Epoch 99/100\n",
            "600/600 [==============================] - 29s 48ms/step - loss: 0.0285 - accuracy: 1.0000 - val_loss: 0.0424 - val_accuracy: 0.9958\n",
            "Epoch 100/100\n",
            "600/600 [==============================] - 29s 48ms/step - loss: 0.0285 - accuracy: 1.0000 - val_loss: 0.0419 - val_accuracy: 0.9967\n"
          ],
          "name": "stdout"
        }
      ]
    },
    {
      "cell_type": "code",
      "metadata": {
        "id": "QJHddu4V8r_g"
      },
      "source": [
        "#model.save('mnist.simplenet.99.52.h5')\n",
        "                 \n",
        "#model=load_model('mnist.simplenet.h5')"
      ],
      "execution_count": null,
      "outputs": []
    },
    {
      "cell_type": "code",
      "metadata": {
        "id": "zHfzaHUx8wXw",
        "colab": {
          "base_uri": "https://localhost:8080/"
        },
        "outputId": "32391448-acd9-451c-ff65-e9f64947df35"
      },
      "source": [
        "y_pred = model.predict(x_test)\n",
        "labels1 = np.arange(num_classes)\n",
        "print('Auc = %f' %  (roc_auc_score(y_test,  y_pred.round(),average='macro',multi_class='ovo',labels=labels1)))\n",
        "print('f1_score = %f' % (f1_score(y_test, y_pred.round(), average=\"macro\")))\n",
        "print('precision = %f' % (precision_score(y_test, y_pred.round(), average=\"macro\")))\n",
        "print('recall  = %f' % (recall_score(y_test, y_pred.round(), average=\"macro\")))\n",
        "print('accuracy  = %f' % (accuracy_score(y_test, y_pred.round())))  "
      ],
      "execution_count": 14,
      "outputs": [
        {
          "output_type": "stream",
          "text": [
            "Auc = 0.998105\n",
            "f1_score = 0.996679\n",
            "precision = 0.996795\n",
            "recall  = 0.996565\n",
            "accuracy  = 0.996600\n"
          ],
          "name": "stdout"
        }
      ]
    },
    {
      "cell_type": "code",
      "metadata": {
        "id": "0zbiSEgJhPFn",
        "colab": {
          "base_uri": "https://localhost:8080/",
          "height": 295
        },
        "outputId": "f252df89-16b5-4e94-bd14-54098ffb5a65"
      },
      "source": [
        "plothist(history)"
      ],
      "execution_count": 15,
      "outputs": [
        {
          "output_type": "display_data",
          "data": {
            "image/png": "[encoded data removed]",
            "text/plain": [
              "<Figure size 432x288 with 2 Axes>"
            ]
          },
          "metadata": {
            "tags": [],
            "needs_background": "light"
          }
        }
      ]
    }
  ]
}