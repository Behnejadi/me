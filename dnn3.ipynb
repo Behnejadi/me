{
 "cells": [
  {
   "cell_type": "code",
   "execution_count": 1,
   "metadata": {},
   "outputs": [],
   "source": [
    "#A simple DNN model of three hidden layer is developed in this code\n",
    "from keras.models import Sequential\n",
    "from keras.layers import Dense,Dropout\n",
    "from sklearn.model_selection import train_test_split\n",
    "from sklearn.metrics import roc_auc_score\n",
    "import numpy as np\n",
    "\n"
   ]
  },
  {
   "cell_type": "code",
   "execution_count": 2,
   "metadata": {},
   "outputs": [],
   "source": [
    "dataset = np.genfromtxt('data.row.battah\\\\ASDDataset_Augmented.csv', delimiter=',')"
   ]
  },
  {
   "cell_type": "code",
   "execution_count": 3,
   "metadata": {},
   "outputs": [],
   "source": [
    "#print(dataset.shape)\n",
    "features = dataset[1:,:10000]\n",
    "labels = dataset[1:,10000].astype(dtype='int')\n",
    "#print(labels)"
   ]
  },
  {
   "cell_type": "code",
   "execution_count": 4,
   "metadata": {},
   "outputs": [],
   "source": [
    "X_train, X_test, Y_train, Y_test = train_test_split(features, labels, test_size=0.30, random_state=42)"
   ]
  },
  {
   "cell_type": "code",
   "execution_count": 5,
   "metadata": {},
   "outputs": [],
   "source": [
    "model = Sequential()\n",
    "model.add(Dense(500, input_dim=(10000), activation='relu'))\n",
    "\n",
    "model.add(Dense(200, activation='relu'))\n",
    "model.add(Dropout(0.2))\n",
    "\n",
    "model.add(Dense(100, activation='relu'))\n",
    "model.add(Dropout(0.2))\n",
    "\n",
    "model.add(Dense(50, activation='relu'))\n",
    "model.add(Dropout(0.2))\n",
    "\n",
    "model.add(Dense(1, activation='sigmoid'))\n"
   ]
  },
  {
   "cell_type": "code",
   "execution_count": 6,
   "metadata": {},
   "outputs": [],
   "source": [
    "#Compile model\n",
    "model.compile(loss='binary_crossentropy', optimizer='adam', metrics=['accuracy'])"
   ]
  },
  {
   "cell_type": "code",
   "execution_count": 7,
   "metadata": {},
   "outputs": [
    {
     "name": "stdout",
     "output_type": "stream",
     "text": [
      "Epoch 1/100\n",
      "181/181 [==============================] - 6s 32ms/step - loss: 0.6728 - accuracy: 0.5893\n",
      "Epoch 2/100\n",
      "181/181 [==============================] - 6s 32ms/step - loss: 0.6107 - accuracy: 0.6869\n",
      "Epoch 3/100\n",
      "181/181 [==============================] - 6s 32ms/step - loss: 0.5607 - accuracy: 0.7311\n",
      "Epoch 4/100\n",
      "181/181 [==============================] - 6s 33ms/step - loss: 0.5388 - accuracy: 0.7376\n",
      "Epoch 5/100\n",
      "181/181 [==============================] - 6s 32ms/step - loss: 0.5145 - accuracy: 0.7555\n",
      "Epoch 6/100\n",
      "181/181 [==============================] - 6s 33ms/step - loss: 0.4902 - accuracy: 0.7661\n",
      "Epoch 7/100\n",
      "181/181 [==============================] - 5s 30ms/step - loss: 0.4844 - accuracy: 0.7726\n",
      "Epoch 8/100\n",
      "181/181 [==============================] - 6s 31ms/step - loss: 0.4609 - accuracy: 0.7850\n",
      "Epoch 9/100\n",
      "181/181 [==============================] - 6s 32ms/step - loss: 0.4552 - accuracy: 0.7905\n",
      "Epoch 10/100\n",
      "181/181 [==============================] - 6s 33ms/step - loss: 0.4127 - accuracy: 0.8209\n",
      "Epoch 11/100\n",
      "181/181 [==============================] - 6s 32ms/step - loss: 0.4059 - accuracy: 0.8172\n",
      "Epoch 12/100\n",
      "181/181 [==============================] - 5s 30ms/step - loss: 0.3698 - accuracy: 0.8393\n",
      "Epoch 13/100\n",
      "181/181 [==============================] - 6s 31ms/step - loss: 0.3479 - accuracy: 0.8504\n",
      "Epoch 14/100\n",
      "181/181 [==============================] - 6s 31ms/step - loss: 0.3236 - accuracy: 0.8697\n",
      "Epoch 15/100\n",
      "181/181 [==============================] - 6s 30ms/step - loss: 0.3042 - accuracy: 0.8826\n",
      "Epoch 16/100\n",
      "181/181 [==============================] - 6s 30ms/step - loss: 0.3063 - accuracy: 0.8711\n",
      "Epoch 17/100\n",
      "181/181 [==============================] - 6s 31ms/step - loss: 0.2947 - accuracy: 0.8872\n",
      "Epoch 18/100\n",
      "181/181 [==============================] - 6s 30ms/step - loss: 0.2519 - accuracy: 0.9033\n",
      "Epoch 19/100\n",
      "181/181 [==============================] - 6s 31ms/step - loss: 0.2621 - accuracy: 0.8978\n",
      "Epoch 20/100\n",
      "181/181 [==============================] - 5s 30ms/step - loss: 0.2479 - accuracy: 0.9033\n",
      "Epoch 21/100\n",
      "181/181 [==============================] - 6s 34ms/step - loss: 0.2386 - accuracy: 0.9075\n",
      "Epoch 22/100\n",
      "181/181 [==============================] - 6s 33ms/step - loss: 0.2221 - accuracy: 0.9180 0s - loss: 0.2\n",
      "Epoch 23/100\n",
      "181/181 [==============================] - 6s 33ms/step - loss: 0.2270 - accuracy: 0.9153\n",
      "Epoch 24/100\n",
      "181/181 [==============================] - 6s 33ms/step - loss: 0.2040 - accuracy: 0.9240\n",
      "Epoch 25/100\n",
      "181/181 [==============================] - 6s 34ms/step - loss: 0.1938 - accuracy: 0.9309 0s - loss: 0.1902 - accuracy: \n",
      "Epoch 26/100\n",
      "181/181 [==============================] - 6s 31ms/step - loss: 0.1928 - accuracy: 0.9277\n",
      "Epoch 27/100\n",
      "181/181 [==============================] - 6s 31ms/step - loss: 0.1834 - accuracy: 0.9323\n",
      "Epoch 28/100\n",
      "181/181 [==============================] - 6s 34ms/step - loss: 0.1852 - accuracy: 0.9314\n",
      "Epoch 29/100\n",
      "181/181 [==============================] - 6s 33ms/step - loss: 0.1674 - accuracy: 0.9443\n",
      "Epoch 30/100\n",
      "181/181 [==============================] - 6s 31ms/step - loss: 0.1617 - accuracy: 0.9369 0s - l\n",
      "Epoch 31/100\n",
      "181/181 [==============================] - 6s 32ms/step - loss: 0.1405 - accuracy: 0.9484\n",
      "Epoch 32/100\n",
      "181/181 [==============================] - 6s 32ms/step - loss: 0.1668 - accuracy: 0.9411\n",
      "Epoch 33/100\n",
      "181/181 [==============================] - 6s 32ms/step - loss: 0.1535 - accuracy: 0.9494\n",
      "Epoch 34/100\n",
      "181/181 [==============================] - 6s 33ms/step - loss: 0.1655 - accuracy: 0.9383\n",
      "Epoch 35/100\n",
      "181/181 [==============================] - 6s 31ms/step - loss: 0.1367 - accuracy: 0.9517 0s - loss: 0.1336 - \n",
      "Epoch 36/100\n",
      "181/181 [==============================] - 5s 30ms/step - loss: 0.1256 - accuracy: 0.9572\n",
      "Epoch 37/100\n",
      "181/181 [==============================] - 6s 31ms/step - loss: 0.1711 - accuracy: 0.9411\n",
      "Epoch 38/100\n",
      "181/181 [==============================] - 6s 35ms/step - loss: 0.1271 - accuracy: 0.9540\n",
      "Epoch 39/100\n",
      "181/181 [==============================] - 6s 31ms/step - loss: 0.1327 - accuracy: 0.9503\n",
      "Epoch 40/100\n",
      "181/181 [==============================] - 6s 32ms/step - loss: 0.1192 - accuracy: 0.9576\n",
      "Epoch 41/100\n",
      "181/181 [==============================] - 6s 34ms/step - loss: 0.1019 - accuracy: 0.9655\n",
      "Epoch 42/100\n",
      "181/181 [==============================] - 5s 30ms/step - loss: 0.1216 - accuracy: 0.9576\n",
      "Epoch 43/100\n",
      "181/181 [==============================] - 6s 34ms/step - loss: 0.1373 - accuracy: 0.9494\n",
      "Epoch 44/100\n",
      "181/181 [==============================] - 6s 33ms/step - loss: 0.0855 - accuracy: 0.9692\n",
      "Epoch 45/100\n",
      "181/181 [==============================] - 6s 33ms/step - loss: 0.1033 - accuracy: 0.9659\n",
      "Epoch 46/100\n",
      "181/181 [==============================] - 6s 34ms/step - loss: 0.1138 - accuracy: 0.9558\n",
      "Epoch 47/100\n",
      "181/181 [==============================] - 6s 34ms/step - loss: 0.1057 - accuracy: 0.9650\n",
      "Epoch 48/100\n",
      "181/181 [==============================] - 6s 33ms/step - loss: 0.0847 - accuracy: 0.9696\n",
      "Epoch 49/100\n",
      "181/181 [==============================] - 6s 33ms/step - loss: 0.1235 - accuracy: 0.9586\n",
      "Epoch 50/100\n",
      "181/181 [==============================] - 6s 33ms/step - loss: 0.0819 - accuracy: 0.9738\n",
      "Epoch 51/100\n",
      "181/181 [==============================] - 6s 34ms/step - loss: 0.1011 - accuracy: 0.9659\n",
      "Epoch 52/100\n",
      "181/181 [==============================] - 6s 34ms/step - loss: 0.1118 - accuracy: 0.9627\n",
      "Epoch 53/100\n",
      "181/181 [==============================] - 6s 36ms/step - loss: 0.0883 - accuracy: 0.9696\n",
      "Epoch 54/100\n",
      "181/181 [==============================] - 6s 36ms/step - loss: 0.0890 - accuracy: 0.9659\n",
      "Epoch 55/100\n",
      "181/181 [==============================] - 6s 32ms/step - loss: 0.1144 - accuracy: 0.9650\n",
      "Epoch 56/100\n",
      "181/181 [==============================] - 6s 32ms/step - loss: 0.0928 - accuracy: 0.9696\n",
      "Epoch 57/100\n",
      "181/181 [==============================] - 6s 30ms/step - loss: 0.0724 - accuracy: 0.9751\n",
      "Epoch 58/100\n",
      "181/181 [==============================] - 6s 30ms/step - loss: 0.0795 - accuracy: 0.9705\n",
      "Epoch 59/100\n",
      "181/181 [==============================] - 6s 33ms/step - loss: 0.1163 - accuracy: 0.9512\n",
      "Epoch 60/100\n",
      "181/181 [==============================] - 6s 32ms/step - loss: 0.0623 - accuracy: 0.9765\n",
      "Epoch 61/100\n",
      "181/181 [==============================] - 6s 36ms/step - loss: 0.0612 - accuracy: 0.9802\n",
      "Epoch 62/100\n",
      "181/181 [==============================] - 6s 32ms/step - loss: 0.0794 - accuracy: 0.9701\n",
      "Epoch 63/100\n",
      "181/181 [==============================] - 6s 32ms/step - loss: 0.0879 - accuracy: 0.9669\n",
      "Epoch 64/100\n",
      "181/181 [==============================] - 6s 32ms/step - loss: 0.0648 - accuracy: 0.9770\n",
      "Epoch 65/100\n",
      "181/181 [==============================] - 5s 30ms/step - loss: 0.0480 - accuracy: 0.9834\n",
      "Epoch 66/100\n",
      "181/181 [==============================] - 6s 30ms/step - loss: 0.0475 - accuracy: 0.9857\n",
      "Epoch 67/100\n",
      "181/181 [==============================] - 5s 30ms/step - loss: 0.0684 - accuracy: 0.9784\n",
      "Epoch 68/100\n",
      "181/181 [==============================] - 5s 30ms/step - loss: 0.0651 - accuracy: 0.9770\n",
      "Epoch 69/100\n",
      "181/181 [==============================] - 5s 30ms/step - loss: 0.0495 - accuracy: 0.9853\n",
      "Epoch 70/100\n",
      "181/181 [==============================] - 5s 30ms/step - loss: 0.0834 - accuracy: 0.9728\n",
      "Epoch 71/100\n",
      "181/181 [==============================] - 6s 31ms/step - loss: 0.0591 - accuracy: 0.9807\n",
      "Epoch 72/100\n",
      "181/181 [==============================] - 5s 30ms/step - loss: 0.0907 - accuracy: 0.9701\n",
      "Epoch 73/100\n",
      "181/181 [==============================] - 5s 30ms/step - loss: 0.0598 - accuracy: 0.9793\n",
      "Epoch 74/100\n",
      "181/181 [==============================] - 5s 30ms/step - loss: 0.0755 - accuracy: 0.9761\n",
      "Epoch 75/100\n",
      "181/181 [==============================] - 5s 29ms/step - loss: 0.0408 - accuracy: 0.9853\n",
      "Epoch 76/100\n",
      "181/181 [==============================] - 5s 29ms/step - loss: 0.0629 - accuracy: 0.9797\n",
      "Epoch 77/100\n",
      "181/181 [==============================] - 5s 30ms/step - loss: 0.0653 - accuracy: 0.9742\n",
      "Epoch 78/100\n",
      "181/181 [==============================] - 5s 30ms/step - loss: 0.0467 - accuracy: 0.9862\n",
      "Epoch 79/100\n"
     ]
    },
    {
     "name": "stdout",
     "output_type": "stream",
     "text": [
      "181/181 [==============================] - 5s 30ms/step - loss: 0.0409 - accuracy: 0.9853\n",
      "Epoch 80/100\n",
      "181/181 [==============================] - 5s 30ms/step - loss: 0.0309 - accuracy: 0.9866\n",
      "Epoch 81/100\n",
      "181/181 [==============================] - 5s 30ms/step - loss: 0.0499 - accuracy: 0.9848\n",
      "Epoch 82/100\n",
      "181/181 [==============================] - 6s 32ms/step - loss: 0.0588 - accuracy: 0.9811 0s - los\n",
      "Epoch 83/100\n",
      "181/181 [==============================] - 6s 32ms/step - loss: 0.0813 - accuracy: 0.9742\n",
      "Epoch 84/100\n",
      "181/181 [==============================] - 6s 31ms/step - loss: 0.0478 - accuracy: 0.9862\n",
      "Epoch 85/100\n",
      "181/181 [==============================] - 5s 30ms/step - loss: 0.0548 - accuracy: 0.9825\n",
      "Epoch 86/100\n",
      "181/181 [==============================] - 5s 30ms/step - loss: 0.0277 - accuracy: 0.9894\n",
      "Epoch 87/100\n",
      "181/181 [==============================] - 6s 30ms/step - loss: 0.0475 - accuracy: 0.9811\n",
      "Epoch 88/100\n",
      "181/181 [==============================] - 5s 30ms/step - loss: 0.0832 - accuracy: 0.9724\n",
      "Epoch 89/100\n",
      "181/181 [==============================] - 6s 31ms/step - loss: 0.0394 - accuracy: 0.9894\n",
      "Epoch 90/100\n",
      "181/181 [==============================] - 5s 30ms/step - loss: 0.0208 - accuracy: 0.9945\n",
      "Epoch 91/100\n",
      "181/181 [==============================] - 5s 30ms/step - loss: 0.0650 - accuracy: 0.9765\n",
      "Epoch 92/100\n",
      "181/181 [==============================] - 5s 30ms/step - loss: 0.0526 - accuracy: 0.9774\n",
      "Epoch 93/100\n",
      "181/181 [==============================] - 6s 31ms/step - loss: 0.0287 - accuracy: 0.9913\n",
      "Epoch 94/100\n",
      "181/181 [==============================] - 5s 30ms/step - loss: 0.0182 - accuracy: 0.9949\n",
      "Epoch 95/100\n",
      "181/181 [==============================] - 5s 30ms/step - loss: 0.0373 - accuracy: 0.9880\n",
      "Epoch 96/100\n",
      "181/181 [==============================] - 5s 30ms/step - loss: 0.0538 - accuracy: 0.9825\n",
      "Epoch 97/100\n",
      "181/181 [==============================] - 5s 30ms/step - loss: 0.0312 - accuracy: 0.9899\n",
      "Epoch 98/100\n",
      "181/181 [==============================] - 5s 30ms/step - loss: 0.0343 - accuracy: 0.9890\n",
      "Epoch 99/100\n",
      "181/181 [==============================] - 6s 31ms/step - loss: 0.0371 - accuracy: 0.9885\n",
      "Epoch 100/100\n",
      "181/181 [==============================] - 5s 30ms/step - loss: 0.0309 - accuracy: 0.9894\n"
     ]
    },
    {
     "data": {
      "text/plain": [
       "<tensorflow.python.keras.callbacks.History at 0x2098bba2b70>"
      ]
     },
     "execution_count": 7,
     "metadata": {},
     "output_type": "execute_result"
    }
   ],
   "source": [
    "#Fit the model\n",
    "model.fit(X_train, Y_train, batch_size=12, epochs=100, verbose=1)\n"
   ]
  },
  {
   "cell_type": "code",
   "execution_count": 13,
   "metadata": {},
   "outputs": [
    {
     "name": "stdout",
     "output_type": "stream",
     "text": [
      "[nan, 0.7435622215270996]\n"
     ]
    }
   ],
   "source": [
    "#Evaluate model on test data\n",
    "score = model.evaluate(X_test, Y_test, verbose=0)\n",
    "print(score)\n"
   ]
  },
  {
   "cell_type": "code",
   "execution_count": 16,
   "metadata": {},
   "outputs": [
    {
     "ename": "AttributeError",
     "evalue": "'numpy.ndarray' object has no attribute 'type'",
     "output_type": "error",
     "traceback": [
      "\u001b[1;31m---------------------------------------------------------------------------\u001b[0m",
      "\u001b[1;31mAttributeError\u001b[0m                            Traceback (most recent call last)",
      "\u001b[1;32m<ipython-input-16-0480922123b8>\u001b[0m in \u001b[0;36m<module>\u001b[1;34m()\u001b[0m\n\u001b[1;32m----> 1\u001b[1;33m \u001b[0mY_test\u001b[0m\u001b[1;33m.\u001b[0m\u001b[0mtype\u001b[0m\u001b[1;33m(\u001b[0m\u001b[1;33m)\u001b[0m\u001b[1;33m\u001b[0m\u001b[0m\n\u001b[0m",
      "\u001b[1;31mAttributeError\u001b[0m: 'numpy.ndarray' object has no attribute 'type'"
     ]
    }
   ],
   "source": [
    "Y_test.type()"
   ]
  },
  {
   "cell_type": "code",
   "execution_count": 14,
   "metadata": {},
   "outputs": [
    {
     "ename": "ValueError",
     "evalue": "multiclass format is not supported",
     "output_type": "error",
     "traceback": [
      "\u001b[1;31m---------------------------------------------------------------------------\u001b[0m",
      "\u001b[1;31mValueError\u001b[0m                                Traceback (most recent call last)",
      "\u001b[1;32m<ipython-input-14-cbddc6ad0d44>\u001b[0m in \u001b[0;36m<module>\u001b[1;34m()\u001b[0m\n\u001b[0;32m      1\u001b[0m \u001b[0my_pred\u001b[0m \u001b[1;33m=\u001b[0m \u001b[0mmodel\u001b[0m\u001b[1;33m.\u001b[0m\u001b[0mpredict\u001b[0m\u001b[1;33m(\u001b[0m\u001b[0mX_test\u001b[0m\u001b[1;33m)\u001b[0m\u001b[1;33m\u001b[0m\u001b[0m\n\u001b[1;32m----> 2\u001b[1;33m \u001b[0mAUC\u001b[0m \u001b[1;33m=\u001b[0m \u001b[0mroc_auc_score\u001b[0m\u001b[1;33m(\u001b[0m\u001b[0mY_test\u001b[0m\u001b[1;33m,\u001b[0m \u001b[0my_pred\u001b[0m\u001b[1;33m)\u001b[0m\u001b[1;33m\u001b[0m\u001b[0m\n\u001b[0m\u001b[0;32m      3\u001b[0m \u001b[0mprint\u001b[0m\u001b[1;33m(\u001b[0m\u001b[0mAUC\u001b[0m\u001b[1;33m)\u001b[0m \u001b[1;31m#0.8119512885868027 on non-augmented dataset\u001b[0m\u001b[1;33m\u001b[0m\u001b[0m\n",
      "\u001b[1;32m~\\Anaconda3\\lib\\site-packages\\sklearn\\metrics\\ranking.py\u001b[0m in \u001b[0;36mroc_auc_score\u001b[1;34m(y_true, y_score, average, sample_weight)\u001b[0m\n\u001b[0;32m    275\u001b[0m     return _average_binary_score(\n\u001b[0;32m    276\u001b[0m         \u001b[0m_binary_roc_auc_score\u001b[0m\u001b[1;33m,\u001b[0m \u001b[0my_true\u001b[0m\u001b[1;33m,\u001b[0m \u001b[0my_score\u001b[0m\u001b[1;33m,\u001b[0m \u001b[0maverage\u001b[0m\u001b[1;33m,\u001b[0m\u001b[1;33m\u001b[0m\u001b[0m\n\u001b[1;32m--> 277\u001b[1;33m         sample_weight=sample_weight)\n\u001b[0m\u001b[0;32m    278\u001b[0m \u001b[1;33m\u001b[0m\u001b[0m\n\u001b[0;32m    279\u001b[0m \u001b[1;33m\u001b[0m\u001b[0m\n",
      "\u001b[1;32m~\\Anaconda3\\lib\\site-packages\\sklearn\\metrics\\base.py\u001b[0m in \u001b[0;36m_average_binary_score\u001b[1;34m(binary_metric, y_true, y_score, average, sample_weight)\u001b[0m\n\u001b[0;32m     70\u001b[0m     \u001b[0my_type\u001b[0m \u001b[1;33m=\u001b[0m \u001b[0mtype_of_target\u001b[0m\u001b[1;33m(\u001b[0m\u001b[0my_true\u001b[0m\u001b[1;33m)\u001b[0m\u001b[1;33m\u001b[0m\u001b[0m\n\u001b[0;32m     71\u001b[0m     \u001b[1;32mif\u001b[0m \u001b[0my_type\u001b[0m \u001b[1;32mnot\u001b[0m \u001b[1;32min\u001b[0m \u001b[1;33m(\u001b[0m\u001b[1;34m\"binary\"\u001b[0m\u001b[1;33m,\u001b[0m \u001b[1;34m\"multilabel-indicator\"\u001b[0m\u001b[1;33m)\u001b[0m\u001b[1;33m:\u001b[0m\u001b[1;33m\u001b[0m\u001b[0m\n\u001b[1;32m---> 72\u001b[1;33m         \u001b[1;32mraise\u001b[0m \u001b[0mValueError\u001b[0m\u001b[1;33m(\u001b[0m\u001b[1;34m\"{0} format is not supported\"\u001b[0m\u001b[1;33m.\u001b[0m\u001b[0mformat\u001b[0m\u001b[1;33m(\u001b[0m\u001b[0my_type\u001b[0m\u001b[1;33m)\u001b[0m\u001b[1;33m)\u001b[0m\u001b[1;33m\u001b[0m\u001b[0m\n\u001b[0m\u001b[0;32m     73\u001b[0m \u001b[1;33m\u001b[0m\u001b[0m\n\u001b[0;32m     74\u001b[0m     \u001b[1;32mif\u001b[0m \u001b[0my_type\u001b[0m \u001b[1;33m==\u001b[0m \u001b[1;34m\"binary\"\u001b[0m\u001b[1;33m:\u001b[0m\u001b[1;33m\u001b[0m\u001b[0m\n",
      "\u001b[1;31mValueError\u001b[0m: multiclass format is not supported"
     ]
    }
   ],
   "source": [
    "y_pred = model.predict(X_test)\n",
    "AUC = roc_auc_score(Y_test, y_pred)\n",
    "print(AUC) #0.8119512885868027 on non-augmented dataset\n"
   ]
  },
  {
   "cell_type": "code",
   "execution_count": null,
   "metadata": {},
   "outputs": [],
   "source": []
  }
 ],
 "metadata": {
  "kernelspec": {
   "display_name": "Python 3",
   "language": "python",
   "name": "python3"
  },
  "language_info": {
   "codemirror_mode": {
    "name": "ipython",
    "version": 3
   },
   "file_extension": ".py",
   "mimetype": "text/x-python",
   "name": "python",
   "nbconvert_exporter": "python",
   "pygments_lexer": "ipython3",
   "version": "3.6.5"
  }
 },
 "nbformat": 4,
 "nbformat_minor": 2
}
