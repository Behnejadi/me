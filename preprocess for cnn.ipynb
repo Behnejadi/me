{
 "cells": [
  {
   "cell_type": "markdown",
   "metadata": {},
   "source": [
    "# cropping.py"
   ]
  },
  {
   "cell_type": "code",
   "execution_count": 17,
   "metadata": {},
   "outputs": [],
   "source": [
    "import cv2\n",
    "import glob, os\n"
   ]
  },
  {
   "cell_type": "code",
   "execution_count": 18,
   "metadata": {},
   "outputs": [],
   "source": [
    "negDir = 'data.row/images_cropped/neg/'\n",
    "posDir = 'data.row/images_cropped/pos/'\n",
    "imgDim = 224  "
   ]
  },
  {
   "cell_type": "code",
   "execution_count": 23,
   "metadata": {},
   "outputs": [],
   "source": [
    "for imgFile in glob.iglob('data.row/image/**/**/*.png', recursive=True):\n",
    "    #print(imgFile)\n",
    "    imgID = os.path.basename(imgFile).split(\".png\")[0]\n",
    "    img = cv2.imread(imgFile)\n",
    "    grayImg = cv2.cvtColor(img, cv2.COLOR_BGR2GRAY)\n",
    "    \n",
    "    #Thresholding\n",
    "    th, threshed = cv2.threshold(grayImg, 0, 255, cv2.THRESH_BINARY)\n",
    "    #Find the max-area contour\n",
    "    contours, hierarchy = cv2.findContours(threshed, cv2.RETR_EXTERNAL, cv2.CHAIN_APPROX_SIMPLE)\n",
    "    cnt = sorted(contours, key=cv2.contourArea)[-1]\n",
    "    x, y, w, h = cv2.boundingRect(cnt)\n",
    "    imgCropped = img[y:y + h, x:x + w]#Cropped image\n",
    "    \n",
    "    imgCropped = cv2.resize(imgCropped, (imgDim, imgDim))#resize\n",
    "    \n",
    "    #Saving cropped image\n",
    "    if 'TS' in imgFile:\n",
    "        cv2.imwrite(posDir + imgID + '.png', imgCropped, [int(cv2.IMWRITE_JPEG_QUALITY), 100])\n",
    "    elif 'TC'in imgFile:\n",
    "        cv2.imwrite(negDir + imgID + '.png', imgCropped, [int(cv2.IMWRITE_JPEG_QUALITY), 100])\n"
   ]
  },
  {
   "cell_type": "code",
   "execution_count": null,
   "metadata": {},
   "outputs": [],
   "source": [
    " "
   ]
  },
  {
   "cell_type": "markdown",
   "metadata": {},
   "source": [
    "# imgsNPZ.py"
   ]
  },
  {
   "cell_type": "code",
   "execution_count": 40,
   "metadata": {},
   "outputs": [],
   "source": [
    "import numpy as np\n",
    "from keras.preprocessing.image import load_img\n",
    "from keras.preprocessing.image import img_to_array\n",
    "import glob"
   ]
  },
  {
   "cell_type": "code",
   "execution_count": 41,
   "metadata": {},
   "outputs": [],
   "source": [
    "imgDim = 256\n",
    "colorMode = \"grayscale\"\n",
    "colorChannels = 1"
   ]
  },
  {
   "cell_type": "code",
   "execution_count": 46,
   "metadata": {},
   "outputs": [],
   "source": [
    "imgDir = 'data.row/images_cropped/**/*.png'\n",
    "outputFile = 'data.row/ASD.npz'"
   ]
  },
  {
   "cell_type": "code",
   "execution_count": 47,
   "metadata": {},
   "outputs": [
    {
     "name": "stdout",
     "output_type": "stream",
     "text": [
      "Number of images: 3103\n"
     ]
    }
   ],
   "source": [
    "imgCount = 0\n",
    "for file in glob.iglob(imgDir, recursive=True):\n",
    "    imgCount = imgCount + 1\n",
    "print(\"Number of images:\", imgCount)"
   ]
  },
  {
   "cell_type": "code",
   "execution_count": 48,
   "metadata": {},
   "outputs": [],
   "source": [
    "X = np.zeros((imgCount, imgDim, imgDim, colorChannels), dtype=np.uint8)\n",
    "y = np.zeros((imgCount, 1), dtype=np.uint8)"
   ]
  },
  {
   "cell_type": "code",
   "execution_count": 49,
   "metadata": {},
   "outputs": [
    {
     "name": "stdout",
     "output_type": "stream",
     "text": [
      "X shape: (3103, 256, 256, 1)\n",
      "y shape: (3103, 1)\n"
     ]
    }
   ],
   "source": [
    "for i, imgFile in enumerate(glob.iglob(imgDir, recursive=True)):\n",
    "    #print(imgFile)\n",
    "    img = load_img(imgFile, color_mode=colorMode, target_size=(imgDim, imgDim))\n",
    "    img = img_to_array(img)\n",
    "    X[i] = img\n",
    "\n",
    "    label = None\n",
    "    if \"neg\" in imgFile:\n",
    "        label = 0\n",
    "    elif \"pos\" in imgFile:\n",
    "        label = 1\n",
    "\n",
    "    y[i] = label\n",
    "\n",
    "print(\"X shape:\", X.shape)\n",
    "print(\"y shape:\", y.shape)\n",
    "\n",
    "X = (X / 255.0) #Normalization\n",
    "\n",
    "#Saving all into compressed Numpy array\n",
    "np.savez_compressed(outputFile, X=X, y=y)"
   ]
  },
  {
   "cell_type": "code",
   "execution_count": null,
   "metadata": {},
   "outputs": [],
   "source": []
  }
 ],
 "metadata": {
  "kernelspec": {
   "display_name": "Python 3",
   "language": "python",
   "name": "python3"
  },
  "language_info": {
   "codemirror_mode": {
    "name": "ipython",
    "version": 3
   },
   "file_extension": ".py",
   "mimetype": "text/x-python",
   "name": "python",
   "nbconvert_exporter": "python",
   "pygments_lexer": "ipython3",
   "version": "3.6.5"
  }
 },
 "nbformat": 4,
 "nbformat_minor": 2
}
