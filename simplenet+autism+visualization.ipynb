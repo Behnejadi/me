{
  "nbformat": 4,
  "nbformat_minor": 0,
  "metadata": {
    "colab": {
      "name": "Copy of simplenet+autism",
      "provenance": [],
      "collapsed_sections": []
    },
    "kernelspec": {
      "display_name": "Python 3",
      "name": "python3"
    }
  },
  "cells": [
    {
      "cell_type": "code",
      "metadata": {
        "colab": {
          "base_uri": "https://localhost:8080/"
        },
        "id": "Dp25NfQYCh05",
        "outputId": "a25d7c9c-95b7-41cd-c602-e59032e65a2a"
      },
      "source": [
        "from google.colab import drive\r\n",
        "\r\n",
        "drive.mount('/content/drive')\r\n",
        "\r\n",
        "!ls 'drive/My Drive'"
      ],
      "execution_count": 2,
      "outputs": [
        {
          "output_type": "stream",
          "text": [
            "Drive already mounted at /content/drive; to attempt to forcibly remount, call drive.mount(\"/content/drive\", force_remount=True).\n",
            " bpm.behnejadi.rar\n",
            "'Colab Notebooks'\n",
            "'Copy of data.aug.rar'\n",
            " data.aug\n",
            " data.aug.rar\n",
            " data.mobilenet\n",
            " data.resnet50\n",
            " data.row\n",
            " data.row.battah\n",
            " dataset\n",
            " data.v\n",
            " data.vgg16\n",
            " data.xception\n",
            " IEEE_Iran_Section_Certificate_AIDLinAutoRobotics__Fateme_behnejadi__125598.pdf\n",
            " simplenet.accurac.aut.h5\n",
            " simplenet.date_time.h5\n",
            " simplenet.h5\n",
            " thesis\n"
          ],
          "name": "stdout"
        }
      ]
    },
    {
      "cell_type": "code",
      "metadata": {
        "id": "WdnJI1fpF36k"
      },
      "source": [
        "import numpy as np\r\n",
        "import matplotlib.pyplot as plt\r\n",
        "%matplotlib inline\r\n",
        "import keras\r\n",
        "from tensorflow.keras import layers\r\n",
        "from tensorflow.keras.optimizers import Adam,SGD\r\n",
        "from keras.datasets import cifar10\r\n",
        "from keras.models import Sequential\r\n",
        "from keras.models import Model, model_from_json\r\n",
        "from keras.layers import Dense, Activation, BatchNormalization\r\n",
        "from keras.layers import Conv2D, MaxPooling2D, Flatten ,Dropout\r\n",
        "import tensorflow as tf\r\n",
        "from keras.regularizers import l2\r\n",
        "from keras import regularizers, optimizers\r\n",
        "from keras.preprocessing.image import ImageDataGenerator\r\n",
        "from keras.initializers import glorot_normal, RandomNormal, Zeros\r\n",
        "from sklearn.model_selection import train_test_split\r\n",
        "from sklearn.metrics import roc_auc_score, roc_curve, auc ,accuracy_score,precision_score,recall_score,f1_score,accuracy_score\r\n",
        "import datetime, os"
      ],
      "execution_count": 3,
      "outputs": []
    },
    {
      "cell_type": "code",
      "metadata": {
        "colab": {
          "base_uri": "https://localhost:8080/"
        },
        "id": "cr0KFtNeH253",
        "outputId": "f8ed6117-0f88-4c92-ae08-663e25bb50ef"
      },
      "source": [
        "#loading data\r\n",
        "dataset = np.load('/content/drive/My Drive/data.row.battah/ASD_process.npz') #Dataset ready in numpy array (removing background, resizing, and transforming into grayscale)\r\n",
        "X = dataset['X']\r\n",
        "y = dataset['y']\r\n",
        "\r\n",
        "print(X.shape)\r\n",
        "print(y.shape)"
      ],
      "execution_count": 4,
      "outputs": [
        {
          "output_type": "stream",
          "text": [
            "(3103, 32, 32, 1)\n",
            "(3103, 1)\n"
          ],
          "name": "stdout"
        }
      ]
    },
    {
      "cell_type": "code",
      "metadata": {
        "id": "Ukl7qWftUCyK"
      },
      "source": [
        "X_train, X_test, Y_train, Y_test = train_test_split(X, y, test_size=0.30, random_state=42)"
      ],
      "execution_count": 5,
      "outputs": []
    },
    {
      "cell_type": "code",
      "metadata": {
        "id": "u2hHSIf9WuNk"
      },
      "source": [
        "mean = np.mean(X_train, axis=(0, 1, 2,3))\r\n",
        "std = np.std(X_train, axis=(0, 1, 2,3))\r\n",
        "X_train = (X_train - mean) / (std+1e-7)\r\n",
        "\r\n",
        "X_test =(X_test-mean) / (std+1e-7)"
      ],
      "execution_count": 6,
      "outputs": []
    },
    {
      "cell_type": "code",
      "metadata": {
        "id": "D2ecRPM9-vaG"
      },
      "source": [
        "X_test, X_validate, Y_test, Y_validate = train_test_split(X_test, Y_test, test_size=0.75,random_state=42)"
      ],
      "execution_count": 7,
      "outputs": []
    },
    {
      "cell_type": "code",
      "metadata": {
        "colab": {
          "base_uri": "https://localhost:8080/"
        },
        "id": "DxmEwQzJUlvo",
        "outputId": "dbdfb759-575a-41b9-dbd4-6bf5f6e40890"
      },
      "source": [
        "print(X_train.shape)\r\n",
        "print(Y_train.shape)\r\n",
        "print(X_test.shape)\r\n",
        "print(Y_test.shape)\r\n",
        "print(X_validate.shape)\r\n",
        "print(Y_validate.shape)"
      ],
      "execution_count": 8,
      "outputs": [
        {
          "output_type": "stream",
          "text": [
            "(2172, 32, 32, 1)\n",
            "(2172, 1)\n",
            "(232, 32, 32, 1)\n",
            "(232, 1)\n",
            "(699, 32, 32, 1)\n",
            "(699, 1)\n"
          ],
          "name": "stdout"
        }
      ]
    },
    {
      "cell_type": "code",
      "metadata": {
        "id": "_SHpw6KWe8Us"
      },
      "source": [
        "num_classes=1"
      ],
      "execution_count": 9,
      "outputs": []
    },
    {
      "cell_type": "code",
      "metadata": {
        "id": "cT7Y2UkmEHFg"
      },
      "source": [
        "def create_cnn():\r\n",
        "    model = Sequential()\r\n",
        "    # Conv Block 1\r\n",
        "    model.add(Conv2D(64, (3, 3), padding='same' , strides=(1, 1),kernel_regularizer=regularizers.l2(0.005), kernel_initializer=glorot_normal() , input_shape=X_train.shape[1:]))\r\n",
        "    model.add(BatchNormalization(momentum=0.05,trainable=True, epsilon=1e-05))# affine=True, track_running_stats=True\r\n",
        "    model.add(Activation(activation='relu'))#(inplace)\r\n",
        "\r\n",
        "    model.add(Conv2D(128, (3, 3), padding='same',strides=(1, 1),kernel_regularizer=regularizers.l2(0.005), kernel_initializer=glorot_normal()))\r\n",
        "    model.add(BatchNormalization(momentum=0.05, epsilon=1e-05))\r\n",
        "    model.add(Activation(activation='relu'))#(inplace)\r\n",
        "\r\n",
        "    model.add(Conv2D(128, (3, 3), padding='same',strides=(1, 1),kernel_regularizer=regularizers.l2(0.005), kernel_initializer=RandomNormal(stddev=0.01)))\r\n",
        "    model.add(BatchNormalization(momentum=0.05, epsilon=1e-05))\r\n",
        "    model.add(Activation(activation='relu'))#(inplace)\r\n",
        "     \r\n",
        "    model.add(Conv2D(128, (3, 3), padding='same',strides=(1, 1),kernel_regularizer=regularizers.l2(0.005), kernel_initializer=RandomNormal(stddev=0.01)))\r\n",
        "    model.add(BatchNormalization(momentum=0.05, epsilon=1e-05))\r\n",
        "    model.add(Activation(activation='relu'))#(inplace)\r\n",
        "     \r\n",
        "    model.add(MaxPooling2D(pool_size=(2, 2),strides=(2, 2)))# padding=0, dilation=(1, 1), ceil_mode=False)\r\n",
        "    model.add(Dropout(0.1))          \r\n",
        "\r\n",
        "\r\n",
        "    # Conv Block 2\r\n",
        "    model.add(Conv2D(128, (3, 3), padding='same',strides=(1, 1),kernel_regularizer=regularizers.l2(0.005), kernel_initializer=RandomNormal(stddev=0.01)))\r\n",
        "    model.add(BatchNormalization(momentum=0.05, epsilon=1e-05))\r\n",
        "    model.add(Activation(activation='relu'))#(inplace)\r\n",
        "\r\n",
        "    model.add(Conv2D(128, (3, 3), padding='same',strides=(1, 1),kernel_regularizer=regularizers.l2(0.005), kernel_initializer=glorot_normal()))\r\n",
        "    model.add(BatchNormalization(momentum=0.05, epsilon=1e-05))\r\n",
        "    model.add(Activation(activation='relu'))#(inplace)\r\n",
        "\r\n",
        "    model.add(Conv2D(256, (3, 3), padding='same',strides=(1, 1),kernel_regularizer=regularizers.l2(0.005), kernel_initializer=glorot_normal()))\r\n",
        "    model.add(BatchNormalization(momentum=0.05, epsilon=1e-05))\r\n",
        "    model.add(Activation(activation='relu'))#(inplace)\r\n",
        "     \r\n",
        "    model.add(MaxPooling2D(pool_size=(2, 2),strides=(2, 2)))# padding=0, dilation=(1, 1), ceil_mode=False)\r\n",
        "    model.add(Dropout(0.1))\r\n",
        "\r\n",
        "\r\n",
        "    # Conv Block 3\r\n",
        "    model.add(Conv2D(256, (3, 3), padding='same',strides=(1, 1),kernel_regularizer=regularizers.l2(0.005), kernel_initializer=glorot_normal()))\r\n",
        "    model.add(BatchNormalization(momentum=0.05, epsilon=1e-05))\r\n",
        "    model.add(Activation(activation='relu'))#(inplace)\r\n",
        "\r\n",
        "    model.add(Conv2D(256, (3, 3), padding='same',strides=(1, 1),kernel_regularizer=regularizers.l2(0.005), kernel_initializer=glorot_normal()))\r\n",
        "    model.add(BatchNormalization(momentum=0.05, epsilon=1e-05))\r\n",
        "    model.add(Activation(activation='relu'))#(inplace)\r\n",
        "     \r\n",
        "    model.add(MaxPooling2D(pool_size=(2, 2),strides=(2, 2)))# padding=0, dilation=(1, 1), ceil_mode=False)\r\n",
        "    model.add(Dropout(0.1))\r\n",
        "\r\n",
        "    # Conv Block 4\r\n",
        "    model.add(Conv2D(512, (3, 3), padding='same',strides=(1, 1),kernel_regularizer=regularizers.l2(0.005), kernel_initializer=glorot_normal()))\r\n",
        "    model.add(BatchNormalization(momentum=0.05, epsilon=1e-05))\r\n",
        "    model.add(Activation(activation='relu'))#(inplace)\r\n",
        "     \r\n",
        "    model.add(MaxPooling2D(pool_size=(2, 2),strides=(2, 2)))# padding=0, dilation=(1, 1), ceil_mode=False)\r\n",
        "    model.add(Dropout(0.1))\r\n",
        "\r\n",
        "    # Conv Block 5\r\n",
        "    model.add(Conv2D(2048, (1, 1), padding='same',strides=(1, 1),kernel_regularizer=regularizers.l2(0.005), kernel_initializer=glorot_normal()))\r\n",
        "    model.add(BatchNormalization(momentum=0.05, epsilon=1e-05))\r\n",
        "    model.add(Activation(activation='relu'))#(inplace)\r\n",
        "\r\n",
        "    model.add(Conv2D(256, (1, 1), padding='same',strides=(1, 1),kernel_regularizer=regularizers.l2(0.005), kernel_initializer=glorot_normal()))\r\n",
        "    model.add(BatchNormalization(momentum=0.05, epsilon=1e-05))\r\n",
        "    model.add(Activation(activation='relu'))#(inplace)\r\n",
        "     \r\n",
        "    model.add(MaxPooling2D(pool_size=(2, 2),strides=(2, 2)))# padding=0, dilation=(1, 1), ceil_mode=False)\r\n",
        "    model.add(Dropout(0.1))\r\n",
        "\r\n",
        "\r\n",
        "    # Conv Block 6\r\n",
        "    model.add(Conv2D(256, (3, 3), padding='same',strides=(1, 1),kernel_regularizer=regularizers.l2(0.005), kernel_initializer=glorot_normal()))\r\n",
        "    model.add(BatchNormalization(momentum=0.05, epsilon=1e-05))\r\n",
        "    model.add(Activation(activation='relu'))#(inplace)\r\n",
        "\r\n",
        "\r\n",
        "    # Classifier\r\n",
        "    model.add(Flatten())\r\n",
        "    model.add(Dense(num_classes, activation='sigmoid'))\r\n",
        "\r\n",
        "    return model\r\n",
        "\r\n",
        "model = create_cnn()\r\n",
        "#model.summary()"
      ],
      "execution_count": 10,
      "outputs": []
    },
    {
      "cell_type": "code",
      "metadata": {
        "id": "sgmtV3BUEGui"
      },
      "source": [
        "BATCH_SIZE =64\r\n",
        "STEPS_PER_EPOCH =len(X_train)//BATCH_SIZE \r\n",
        "\r\n",
        "step = tf.Variable(0, trainable=False)\r\n",
        "boundaries = [30*STEPS_PER_EPOCH,60*STEPS_PER_EPOCH,\r\n",
        "              80*STEPS_PER_EPOCH]\r\n",
        "values = [0.1, 0.01 , 0.001, 0.0001]\r\n",
        "learning_rate_fn = keras.optimizers.schedules.PiecewiseConstantDecay(\r\n",
        "    boundaries, values)"
      ],
      "execution_count": 11,
      "outputs": []
    },
    {
      "cell_type": "code",
      "metadata": {
        "id": "hEjpdahWfzVJ"
      },
      "source": [
        "opt = SGD(learning_rate=learning_rate_fn(step))#,momentum=0.9,decay=0.01,nesterov=False\r\n",
        "#opt = Adam(learning_rate=0.0001,beta_1=0.9,beta_2=0.99,epsilon=0.1,amsgrad=False,name=\"Adam\",)"
      ],
      "execution_count": 12,
      "outputs": []
    },
    {
      "cell_type": "code",
      "metadata": {
        "id": "uOQgbemB7Beq"
      },
      "source": [
        "model.compile(optimizer=opt, loss='binary_crossentropy', metrics=['accuracy'])"
      ],
      "execution_count": 13,
      "outputs": []
    },
    {
      "cell_type": "code",
      "metadata": {
        "id": "PCTm6BH1kB0r"
      },
      "source": [
        "logdir = os.path.join(\"logs\", datetime.datetime.now().strftime(\"%Y%m%d-%H%M%S\"))\r\n",
        "tensorboard_callback = tf.keras.callbacks.TensorBoard(logdir, histogram_freq=1)"
      ],
      "execution_count": 14,
      "outputs": []
    },
    {
      "cell_type": "code",
      "metadata": {
        "colab": {
          "base_uri": "https://localhost:8080/"
        },
        "id": "gnz1TliLEGdY",
        "outputId": "6124e3c2-f019-442e-b140-bbd1e846144f"
      },
      "source": [
        "history =model.fit(X_train,Y_train, batch_size=64,\r\n",
        "                   steps_per_epoch=len(X_train) //64,epochs=1,\r\n",
        "                   validation_data=(X_validate, Y_validate),\r\n",
        "              shuffle=True,callbacks=[tensorboard_callback])"
      ],
      "execution_count": 15,
      "outputs": [
        {
          "output_type": "stream",
          "text": [
            "33/33 [==============================] - 218s 7s/step - loss: 14.7760 - accuracy: 0.5821 - val_loss: 14.0360 - val_accuracy: 0.6237\n"
          ],
          "name": "stdout"
        }
      ]
    },
    {
      "cell_type": "code",
      "metadata": {
        "colab": {
          "base_uri": "https://localhost:8080/"
        },
        "id": "V-tN_01hCsg9",
        "outputId": "a5592d4c-02de-4fc7-a4a9-28245a43a926"
      },
      "source": [
        "model.evaluate(X_test, Y_test, batch_size=64)"
      ],
      "execution_count": 16,
      "outputs": [
        {
          "output_type": "stream",
          "text": [
            "4/4 [==============================] - 5s 1s/step - loss: 14.0044 - accuracy: 0.5991\n"
          ],
          "name": "stdout"
        },
        {
          "output_type": "execute_result",
          "data": {
            "text/plain": [
              "[14.004356384277344, 0.5991379022598267]"
            ]
          },
          "metadata": {
            "tags": []
          },
          "execution_count": 16
        }
      ]
    },
    {
      "cell_type": "code",
      "metadata": {
        "id": "_wm34F8FmekS"
      },
      "source": [
        "%load_ext tensorboard"
      ],
      "execution_count": null,
      "outputs": []
    },
    {
      "cell_type": "code",
      "metadata": {
        "id": "NhPznUtUmNxN"
      },
      "source": [
        "%tensorboard --logdir logs"
      ],
      "execution_count": null,
      "outputs": []
    },
    {
      "cell_type": "code",
      "metadata": {
        "colab": {
          "base_uri": "https://localhost:8080/"
        },
        "id": "nt_R6EdA_SEy",
        "outputId": "ef97fe41-1e20-4a44-90e4-5e42c90a578e"
      },
      "source": [
        "from datetime import datetime\r\n",
        "now = datetime.now() \r\n",
        "date_time = now.strftime(\"%m/%d/%Y, %H-%M-%S\")\r\n",
        "\r\n",
        "print(\"date and time:\",date_time)"
      ],
      "execution_count": 18,
      "outputs": [
        {
          "output_type": "stream",
          "text": [
            "date and time: 01/05/2021, 21-13-40\n"
          ],
          "name": "stdout"
        }
      ]
    },
    {
      "cell_type": "code",
      "metadata": {
        "id": "gcqZDAC1EGVm"
      },
      "source": [
        "model.save('/content/drive/My Drive/simplenet.date_time.h5')\r\n",
        "                 \r\n",
        "#model= keras.models.load_model('simplenet.accurac.aut.h5')"
      ],
      "execution_count": 19,
      "outputs": []
    },
    {
      "cell_type": "code",
      "metadata": {
        "id": "aa2VWWcbzEI5"
      },
      "source": [
        "import pickle \r\n",
        "  \r\n",
        "# Save the trained model as a pickle string. \r\n",
        "save_train = pickle.dumps(X_train) \r\n",
        "\r\n",
        "# Load the pickled model \r\n",
        "#model_from_pickle = pickle.loads(saved_model) \r\n",
        "  \r\n",
        "# Use the loaded pickled model to make predictions \r\n",
        "#model_from_pickle.predict(X_test) "
      ],
      "execution_count": 20,
      "outputs": []
    },
    {
      "cell_type": "code",
      "metadata": {
        "id": "prLsB78BYb_r"
      },
      "source": [
        "from scipy import interp\r\n",
        "tprs = []\r\n",
        "aucs = []\r\n",
        "\r\n",
        "recall =[]\r\n",
        "precision = []\r\n",
        "accuracy =[]\r\n",
        "mean_fpr = np.linspace(0, 1, 100)\r\n",
        "\r\n",
        "hists_CNN = []\r\n",
        "\r\n",
        "pred = model.predict(X_validate).ravel()\r\n",
        "\r\n",
        "#Calculating Recall and precision\r\n",
        "recall.append( recall_score(Y_validate, pred.round()) )\r\n",
        "precision.append( precision_score(Y_validate, pred.round()) )\r\n",
        "accuracy.append(accuracy_score(Y_validate, pred.round()))\r\n",
        "\r\n",
        "#ROC AUC\r\n",
        "fpr, tpr, thresholds = roc_curve(Y_validate, pred)\r\n",
        "tprs.append(interp(mean_fpr, fpr, tpr))\r\n",
        "tprs[-1][0] = 0.0\r\n",
        "roc_auc = auc(fpr, tpr)\r\n",
        "print(roc_auc)\r\n",
        "aucs.append(roc_auc)\r\n",
        "hists_CNN.append(history)\r\n",
        "\r\n",
        "print(\"Avg AUC:\", np.mean(aucs))\r\n",
        "print(\"Avg accuracy:\", np.mean(accuracy))\r\n",
        "print(\"Avg Recall:\", np.mean(recall))\r\n",
        "print(\"Avg Precision:\", np.mean(precision))"
      ],
      "execution_count": null,
      "outputs": []
    },
    {
      "cell_type": "code",
      "metadata": {
        "colab": {
          "base_uri": "https://localhost:8080/",
          "height": 242
        },
        "id": "NdSzwGe8SGwf",
        "outputId": "64047626-c664-43b0-f855-b114ffa4a872"
      },
      "source": [
        "def visualize(X_validate, labels, rows=20,cols=3):\r\n",
        "    # figure shekl kolie mast. anazash ham \r\n",
        "    # be sorate w,h has \r\n",
        "    fig = plt.figure(figsize=(cols , rows))\r\n",
        "    # baraye tanzim fasele beine subplotha. faalesh konid va natijaro bebind\r\n",
        "    fig.subplots_adjust(left=None, bottom=None, right=None, top=None, wspace=0.95, hspace=2.5)\r\n",
        "    imgs=X_validate\r\n",
        "    \r\n",
        "    for i in range(imgs.shape[0]):\r\n",
        "        preds = model.predict_classes(X_validate)\r\n",
        "        # baraye har tasvir ye subplot moshakhas mikonim, migim to ye\r\n",
        "        # jadval rowsxcols, to khone i+1 ye ja be man bede \r\n",
        "        ax = fig.add_subplot(rows, cols, i+1, xticks=[], yticks=[])\r\n",
        "        # hala migim inja in axo namayesh bede(bezar tosh!)\r\n",
        "        # on cmap ham shive namayesh ro moshakahs mikone, chon \r\n",
        "        # tasvir tak  kanale has, migim grayscale, ya siah sefid namyesh bede\r\n",
        "        # cmap ro hazf konid bebind chetor mishe shekles\r\n",
        "        # squeeze ham baraye ine ke tasvir be forme 32x32x1 has va\r\n",
        "        # matplotlib mige chon tak canale has, on yek akharesh niaz nist\r\n",
        "        # ba squeeze hazfesh mikonim ke mishe hamoon 32x32 masalan.\r\n",
        "        ax.imshow(imgs[i].squeeze(), cmap='gray')\r\n",
        "        # inam titlesh! chon string lazem darim az str() estefade kardim\r\n",
        "        #ax.set_title(f'l: {labels[i]}/p: {preds[i]}')\r\n",
        "        ax.set_xlabel('True: {}\\nPred: {}'.format(labels[i],preds[i] ), fontsize=12)\r\n",
        "        # hala balaee ro comment konid ziri ro uncomment konid va run begirid\r\n",
        "        # hala on fig.subplots_adjust ro faal konid khroji ro bebinid\r\n",
        "        ax.set_title('good' if labels[i]==preds[i] else 'bad')\r\n",
        "        #str_value = f'label : {labels[i]} / pred: {preds[i]}'  \r\n",
        "        \r\n",
        "    # in ham mitonid bardarid bebinid chi mishe!\r\n",
        "    plt.show()\r\n",
        "# inja ham goftam 30 ta tasvir ro neshon bede!\r\n",
        "# deghat konid, tedade rows x cols bayad mosavi ya bishtar az\r\n",
        "# dade shoma bashe ta khata nagirid. dalilesh ham moshakhase dige\r\n",
        "# doroste?\r\n",
        "visualize(X_validate[:30], Y_validate[:30], rows=2, cols=15)\r\n",
        "# hala in function ro darid , mitonid be tartid, hame aksa ro \r\n",
        "# namayesh bedid. \r\n",
        "# yekseri parameter dige ham hast mesle space, padding o... ke \r\n",
        "# baraye sadegi kar nazashtam. on bala khastid mitonid ono uncomment\r\n",
        "# koind va test konid "
      ],
      "execution_count": 27,
      "outputs": [
        {
          "output_type": "stream",
          "text": [
            "/usr/local/lib/python3.6/dist-packages/tensorflow/python/keras/engine/sequential.py:450: UserWarning: `model.predict_classes()` is deprecated and will be removed after 2021-01-01. Please use instead:* `np.argmax(model.predict(x), axis=-1)`,   if your model does multi-class classification   (e.g. if it uses a `softmax` last-layer activation).* `(model.predict(x) > 0.5).astype(\"int32\")`,   if your model does binary classification   (e.g. if it uses a `sigmoid` last-layer activation).\n",
            "  warnings.warn('`model.predict_classes()` is deprecated and '\n"
          ],
          "name": "stderr"
        },
        {
          "output_type": "display_data",
          "data": {
            "image/png": "[encoded data removed]",
            "text/plain": [
              "<Figure size 1080x144 with 30 Axes>"
            ]
          },
          "metadata": {
            "tags": []
          }
        }
      ]
    }
  ]
}